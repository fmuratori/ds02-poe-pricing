{
 "cells": [
  {
   "cell_type": "markdown",
   "metadata": {},
   "source": [
    "The goal of this notebook is to understand the original data structure and define basic operations.\n",
    "\n",
    "The source data explored here has been previously downloaded from Path of Exile stash tabs API to local .txt files. Each file contained in a specific folder represent a single API call to http://www.pathofexile.com/api/public-stash-tabs?id= with a proper **nextChangeId**: this id is iteratively applyed on the next API call."
   ]
  },
  {
   "cell_type": "markdown",
   "metadata": {},
   "source": [
    "# TODO\n",
    "\n",
    "1. add column to distinguish between unique and other items"
   ]
  },
  {
   "cell_type": "code",
   "execution_count": 1,
   "metadata": {},
   "outputs": [],
   "source": [
    "import os\n",
    "import re\n",
    "import json\n",
    "\n",
    "import pandas as pd"
   ]
  },
  {
   "cell_type": "code",
   "execution_count": 2,
   "metadata": {},
   "outputs": [],
   "source": [
    "pd.set_option('display.max_columns', 500)\n",
    "\n",
    "DATA_PATH = '../../data/temp/stashes/'\n",
    "stashes_path = os.listdir(DATA_PATH)\n",
    "\n",
    "LEAGUE = 'Metamorph'\n",
    "\n",
    "CURRENCY_KEY = ['alt', 'fuse', 'alch', 'chaos', 'gcp', 'exa', 'chrom', 'jew', 'chance', 'chisel', 'scour', 'blessed', 'regret', 'regal', 'divine', 'vaal', 'silver']\n",
    "CURRENCY_NAME = [\"Orb of Alteration\", \"Orb of Fusing\", \"Orb of Alchemy\", \"Chaos Orb\", \"Gemcutter's Prism\", \"Exalted Orb\", \"Chromatic Orb\", \"Jeweller's Orb\", \"Orb of Chance\", \"Cartographer's Chisel\", \"Orb of Scouring\", \"Blessed Orb\", \"Orb of Regret\", \"Regal Orb\", \"Divine Orb\", \"Vaal Orb\", \"Silver Coin\"]\n",
    "\n",
    "ITEMS_CATEGORIES = ['accessories', 'armour', 'jewels', 'weapons', 'currency']"
   ]
  },
  {
   "cell_type": "code",
   "execution_count": 3,
   "metadata": {},
   "outputs": [],
   "source": [
    "def get_stashes_dict(path):\n",
    "    with open(path, 'rb') as file:\n",
    "        return json.load(file)\n",
    "\n",
    "def get_stashes_items(verbose=False):\n",
    "    values = list()\n",
    "    \n",
    "    for v in stashes_path:\n",
    "        for stash in get_stashes_dict(DATA_PATH + v):\n",
    "            if len(stash['items']) > 0 and stash['public']:\n",
    "                # add stash related data to single items\n",
    "                for item in stash['items']:\n",
    "                    item['stash_note'] = stash['stash']\n",
    "                    item['league'] = stash['league']\n",
    "                values.extend(stash['items'])\n",
    "    return values\n",
    "\n",
    "def get_string_price(string):\n",
    "    if re.match('(~price|~b/o)\\s\\d+((\\.|/)\\d+)?\\s\\w+', string) is not None:\n",
    "        tokens = string.split(' ')\n",
    "        \n",
    "        currency, quantity = tokens[2], int(tokens[1])\n",
    "        \n",
    "        # check if currency and quantity are allowed values\n",
    "        if currency in CURRENCY_KEY:\n",
    "            return currency, quantity\n",
    "    raise ValueError()"
   ]
  },
  {
   "cell_type": "markdown",
   "metadata": {},
   "source": [
    "# Data exploration"
   ]
  },
  {
   "cell_type": "code",
   "execution_count": 4,
   "metadata": {},
   "outputs": [
    {
     "data": {
      "text/plain": [
       "(432781, 54)"
      ]
     },
     "execution_count": 4,
     "metadata": {},
     "output_type": "execute_result"
    }
   ],
   "source": [
    "items = get_stashes_items()\n",
    "\n",
    "items = pd.DataFrame(items)\n",
    "\n",
    "# alphabetically order dataframe columns\n",
    "items = items[sorted(items.columns)]\n",
    "\n",
    "items.shape"
   ]
  },
  {
   "cell_type": "code",
   "execution_count": 5,
   "metadata": {},
   "outputs": [],
   "source": [
    "# pandas built-in filling functionality\n",
    "items.corrupted.fillna(False, inplace=True)\n",
    "items['duplicated'].fillna(False, inplace=True)\n",
    "items.elder.fillna(False, inplace=True)\n",
    "items.fractured.fillna(False, inplace=True)\n",
    "items.isRelic.fillna(False, inplace=True)\n",
    "items.shaper.fillna(False, inplace=True)\n",
    "items.synthesised.fillna(False, inplace=True)\n",
    "items.note.fillna('', inplace=True)"
   ]
  },
  {
   "cell_type": "code",
   "execution_count": 6,
   "metadata": {},
   "outputs": [],
   "source": [
    "# fill missing values with empty list\n",
    "items['craftedMods'] = items.craftedMods.apply(lambda y: y if isinstance(y, list) else [])\n",
    "items['enchantMods'] = items.enchantMods.apply(lambda y: y if isinstance(y, list) else [])\n",
    "items['explicitMods'] = items.explicitMods.apply(lambda y: y if isinstance(y, list) else [])\n",
    "items['implicitMods'] = items.implicitMods.apply(lambda y: y if isinstance(y, list) else [])\n",
    "items['fracturedMods'] = items.fracturedMods.apply(lambda y: y if isinstance(y, list) else [])\n",
    "items['veiledMods'] = items.veiledMods.apply(lambda y: y if isinstance(y, list) else [])\n",
    "items['sockets'] = items.sockets.apply(lambda y: y if isinstance(y, list) else [])\n",
    "items['properties'] = items.properties.apply(lambda y: y if isinstance(y, list) else [])\n",
    "items['requirements'] = items.requirements.apply(lambda y: y if isinstance(y, list) else [])"
   ]
  },
  {
   "cell_type": "code",
   "execution_count": 7,
   "metadata": {},
   "outputs": [],
   "source": [
    "# split items category by adding subcategory\n",
    "items['subCategory'] = items.category.apply(lambda y: list(y.items())[0][1][0] if len(list(y.items())[0][1]) > 0 else None)\n",
    "items['category'] = items.category.apply(lambda y: list(y.items())[0][0])\n",
    "\n",
    "items.drop(index=items[~items.category.isin(ITEMS_CATEGORIES)].index, inplace=True)"
   ]
  },
  {
   "cell_type": "code",
   "execution_count": 8,
   "metadata": {},
   "outputs": [],
   "source": [
    "# extract items price and drop unpriced items\n",
    "price = []\n",
    "\n",
    "for k, v in items.iterrows():\n",
    "    try:\n",
    "        # item has a valid price\n",
    "        item_price = get_string_price(v.note)\n",
    "    except:\n",
    "        try:\n",
    "            # stash has a valid price\n",
    "            item_price = get_string_price(v.stash_note)\n",
    "        except:\n",
    "            # both item and stash have no valid price\n",
    "            item_price = (None, None)\n",
    "        \n",
    "    price.append(item_price)\n",
    "\n",
    "(items['priceCurrency'], items['priceQuantity']) = zip(*price)\n",
    "    \n",
    "# drop unpriced items\n",
    "items.drop(index = items[((items.priceCurrency.isna()) & (items.priceQuantity.isna())) | (items.priceQuantity == 0)].index, inplace=True)"
   ]
  },
  {
   "cell_type": "code",
   "execution_count": 9,
   "metadata": {},
   "outputs": [],
   "source": [
    "# delete useless data\n",
    "\n",
    "deletable = ['abyssJewel', 'additionalProperties', 'artFilename', 'cisRaceReward', 'cosmeticMods', 'delve', 'descrText', 'frameType', 'h', 'icon', 'id', 'inventoryId', 'maxStackSize', 'nextLevelRequirements', 'note', 'prophecyText', 'seaRaceReward', 'secDescrText', 'socketedItems', 'stash_note', 'support', 'thRaceReward', 'utilityMods', 'verified', 'w', 'x', 'y']\n",
    "missing = list()\n",
    "for v in deletable:\n",
    "    try:\n",
    "        del(items[v])\n",
    "    except:\n",
    "        missing.append(v)\n",
    "\n",
    "if len(missing) > 0:\n",
    "    print('Missing columns: {}'.format(missing))"
   ]
  },
  {
   "cell_type": "markdown",
   "metadata": {},
   "source": [
    "## Currencies"
   ]
  },
  {
   "cell_type": "code",
   "execution_count": 10,
   "metadata": {},
   "outputs": [],
   "source": [
    "currencies = items[items.category=='currency']"
   ]
  },
  {
   "cell_type": "code",
   "execution_count": 11,
   "metadata": {},
   "outputs": [],
   "source": [
    "currencies = currencies[currencies.typeLine.isin(CURRENCY_NAME)]\n",
    "\n",
    "currencies['sellCurrency'] = currencies.typeLine.apply(lambda y: CURRENCY_KEY[CURRENCY_NAME.index(y)])"
   ]
  },
  {
   "cell_type": "code",
   "execution_count": 12,
   "metadata": {},
   "outputs": [],
   "source": [
    "currencies.rename(columns={\"stackSize\": \"sellQuantity\"}, inplace=True)"
   ]
  },
  {
   "cell_type": "code",
   "execution_count": 13,
   "metadata": {},
   "outputs": [],
   "source": [
    "sellerCRate = []\n",
    "buyerCRate = []\n",
    "for k, v in currencies.iterrows():\n",
    "    sellerCRate.append(int(v.sellQuantity) / int(v.priceQuantity))\n",
    "    buyerCRate.append(int(v.priceQuantity) / int(v.sellQuantity))\n",
    "    \n",
    "currencies['sellerRate'] = sellerCRate\n",
    "currencies['buyerRate'] = buyerCRate"
   ]
  },
  {
   "cell_type": "code",
   "execution_count": 14,
   "metadata": {},
   "outputs": [],
   "source": [
    "# delete useless data\n",
    "\n",
    "deletable = ['category', 'corrupted', 'craftedMods', 'duplicated', 'elder', 'enchantMods', 'explicitMods', 'flavourText', 'fractured', 'fracturedMods', 'identified', 'ilvl', 'implicitMods', 'isRelic', 'name', 'properties', 'requirements', 'shaper', 'sockets' ,'synthesised', 'subCategory', 'talismanTier', 'typeLine', 'vaal', 'veiled', 'veiledMods']\n",
    "\n",
    "missing = list()\n",
    "for v in deletable:\n",
    "    try:\n",
    "        del(currencies[v])\n",
    "    except:\n",
    "        missing.append(v)\n",
    "\n",
    "if len(missing) > 0:\n",
    "    print('Missing columns: {}'.format(missing))"
   ]
  },
  {
   "cell_type": "code",
   "execution_count": 15,
   "metadata": {},
   "outputs": [
    {
     "data": {
      "text/html": [
       "<div>\n",
       "<style scoped>\n",
       "    .dataframe tbody tr th:only-of-type {\n",
       "        vertical-align: middle;\n",
       "    }\n",
       "\n",
       "    .dataframe tbody tr th {\n",
       "        vertical-align: top;\n",
       "    }\n",
       "\n",
       "    .dataframe thead th {\n",
       "        text-align: right;\n",
       "    }\n",
       "</style>\n",
       "<table border=\"1\" class=\"dataframe\">\n",
       "  <thead>\n",
       "    <tr style=\"text-align: right;\">\n",
       "      <th></th>\n",
       "      <th>league</th>\n",
       "      <th>sellQuantity</th>\n",
       "      <th>priceCurrency</th>\n",
       "      <th>priceQuantity</th>\n",
       "      <th>sellCurrency</th>\n",
       "      <th>sellerRate</th>\n",
       "      <th>buyerRate</th>\n",
       "    </tr>\n",
       "  </thead>\n",
       "  <tbody>\n",
       "    <tr>\n",
       "      <th>1927</th>\n",
       "      <td>Synthesis</td>\n",
       "      <td>27.0</td>\n",
       "      <td>chaos</td>\n",
       "      <td>1</td>\n",
       "      <td>silver</td>\n",
       "      <td>27.0</td>\n",
       "      <td>0.037037</td>\n",
       "    </tr>\n",
       "  </tbody>\n",
       "</table>\n",
       "</div>"
      ],
      "text/plain": [
       "         league  sellQuantity priceCurrency priceQuantity sellCurrency  \\\n",
       "1927  Synthesis          27.0         chaos             1       silver   \n",
       "\n",
       "      sellerRate  buyerRate  \n",
       "1927        27.0   0.037037  "
      ]
     },
     "execution_count": 15,
     "metadata": {},
     "output_type": "execute_result"
    }
   ],
   "source": [
    "currencies.sample()"
   ]
  },
  {
   "cell_type": "markdown",
   "metadata": {},
   "source": [
    "## Mod based items"
   ]
  },
  {
   "cell_type": "code",
   "execution_count": 25,
   "metadata": {},
   "outputs": [],
   "source": [
    "def items_mods_formatting(items, target_mod):\n",
    "\n",
    "    witems_mods_vocabulary = []\n",
    "    witems_mods = []\n",
    "\n",
    "    for k, v in items.iterrows():\n",
    "        for mod in v[target_mod]:\n",
    "            item_mod = dict()\n",
    "            item_mod['itemId'] = k\n",
    "\n",
    "            generic_mod = re.sub('\\d+', '##', mod)\n",
    "            try:\n",
    "                mod_index = witems_mods_vocabulary.index(generic_mod)\n",
    "            except:\n",
    "                witems_mods_vocabulary.append(generic_mod)\n",
    "                mod_index = len(witems_mods_vocabulary) - 1\n",
    "\n",
    "            item_mod['modId'] = mod_index\n",
    "\n",
    "            for i, v in enumerate(re.findall('\\d+', mod)):\n",
    "                item_mod['value{}'.format(i)] = v\n",
    "\n",
    "            witems_mods.append(item_mod)\n",
    "\n",
    "    witems_mods = pd.DataFrame(witems_mods)\n",
    "    witems_mods_vocabulary = pd.DataFrame(witems_mods_vocabulary, columns=['text'])\n",
    "    \n",
    "    return witems_mods, witems_mods_vocabulary"
   ]
  },
  {
   "cell_type": "markdown",
   "metadata": {},
   "source": [
    "### Items rarity"
   ]
  },
  {
   "cell_type": "markdown",
   "metadata": {},
   "source": [
    "### Categories based analysis"
   ]
  },
  {
   "cell_type": "code",
   "execution_count": 79,
   "metadata": {},
   "outputs": [],
   "source": [
    "mod_items = items[items.category.isin(['armour', 'accessories', 'weapons', 'jewels']) ]\n",
    "\n",
    "temp_mod_items = mod_items.copy()\n",
    "temp_mod_items['craftedMods'] = mod_items.craftedMods.apply(lambda y : [re.sub('\\d+(.\\d+)?', 'N', v) for v in y])\n",
    "temp_mod_items['enchantMods'] = mod_items.enchantMods.apply(lambda y : [re.sub('\\d+(.\\d+)?', 'N', v) for v in y])\n",
    "temp_mod_items['explicitMods'] = mod_items.explicitMods.apply(lambda y : [re.sub('\\d+(.\\d+)?', 'N', v) for v in y]).apply(lambda y: [v.split(':')[1].strip() if ':' in v else v for v in y])\n",
    "temp_mod_items['fracturedMods'] = mod_items.fracturedMods.apply(lambda y : [re.sub('\\d+(.\\d+)?', 'N', v) for v in y])\n",
    "temp_mod_items['implicitMods'] = mod_items.implicitMods.apply(lambda y : [re.sub('\\d+(.\\d+)?', 'N', v) for v in y])"
   ]
  },
  {
   "cell_type": "code",
   "execution_count": 80,
   "metadata": {},
   "outputs": [
    {
     "name": "stdout",
     "output_type": "stream",
     "text": [
      "183 489 2089 148 286\n",
      "1 139 77 86\n",
      "8 0 0\n",
      "148 221\n",
      "87\n"
     ]
    }
   ],
   "source": [
    "crafted_s = set([v for l in temp_mod_items.craftedMods.values for v in l])\n",
    "enchant_s = set([v for l in temp_mod_items.enchantMods.values for v in l])\n",
    "explicit_s = set([v for l in temp_mod_items.explicitMods.values for v in l])\n",
    "fractured_s = set([v for l in temp_mod_items.fracturedMods.values for v in l])\n",
    "implicit_s = set([v for l in temp_mod_items.implicitMods.values for v in l])\n",
    "print(len(crafted_s), len(enchant_s), len(explicit_s), len(fractured_s), len(implicit_s))\n",
    "\n",
    "# mods sets intersections\n",
    "print(len(crafted_s & enchant_s), len(crafted_s & explicit_s), len(crafted_s & fractured_s), len(crafted_s & implicit_s))\n",
    "print(len(enchant_s & explicit_s), len(enchant_s & fractured_s), len(enchant_s & implicit_s))\n",
    "print(len(explicit_s & fractured_s), len(explicit_s & implicit_s))\n",
    "print(len(fractured_s & implicit_s))"
   ]
  },
  {
   "cell_type": "code",
   "execution_count": 77,
   "metadata": {},
   "outputs": [],
   "source": [
    "armour = temp_mod_items[temp_mod_items.category=='armour']\n",
    "accessories = temp_mod_items[temp_mod_items.category=='accessories']\n",
    "jewels = temp_mod_items[temp_mod_items.category=='jewels']\n",
    "weapons = temp_mod_items[temp_mod_items.category=='weapons']"
   ]
  },
  {
   "cell_type": "code",
   "execution_count": 78,
   "metadata": {},
   "outputs": [
    {
     "name": "stdout",
     "output_type": "stream",
     "text": [
      "108 97 0 65\n",
      "43 0 20\n",
      "0 20\n",
      "0\n"
     ]
    }
   ],
   "source": [
    "armour_mods_s = set([v for l in armour.implicitMods.values for v in l])\n",
    "accessories_mods_s = set([v for l in accessories.implicitMods.values for v in l])\n",
    "jewels_mods_s = set([v for l in jewels.implicitMods.values for v in l])\n",
    "weapons_mods_s = set([v for l in weapons.implicitMods.values for v in l])\n",
    "print(len(armour_mods_s), len(accessories_mods_s), len(jewels_mods_s), len(weapons_mods_s))\n",
    "\n",
    "# intersection between mods sets\n",
    "print(len(armour_mods_s & accessories_mods_s), len(armour_mods_s & jewels_mods_s), len(armour_mods_s & weapons_mods_s))\n",
    "print(len(accessories_mods_s & jewels_mods_s), len(accessories_mods_s & weapons_mods_s))\n",
    "print(len(jewels_mods_s & weapons_mods_s))"
   ]
  },
  {
   "cell_type": "markdown",
   "metadata": {},
   "source": [
    "### Wearable items"
   ]
  },
  {
   "cell_type": "code",
   "execution_count": 16,
   "metadata": {},
   "outputs": [],
   "source": [
    "witems = items[items.category.isin(['armour', 'weapons', 'accessories'])].copy()"
   ]
  },
  {
   "cell_type": "code",
   "execution_count": 17,
   "metadata": {},
   "outputs": [],
   "source": [
    "# items rarity\n",
    "witems_rarity = list()\n",
    "    \n",
    "for k, witem in witems.iterrows():\n",
    "    if isinstance(witem.flavourText, list):\n",
    "        # only unique items have a flavour text defined\n",
    "        witems_rarity.append('unique')    \n",
    "    elif len(witem.explicitMods) == 0:\n",
    "        witems_rarity.append('normal')\n",
    "    elif 1 <= len(witem.explicitMods) <= 2: \n",
    "        witems_rarity.append('enchanted')\n",
    "    elif 3 <= len(witem.explicitMods): \n",
    "        witems_rarity.append('rare')\n",
    "    else:\n",
    "        witems_rarity.append('ERROR')\n",
    "        \n",
    "witems['rarity'] = witems_rarity"
   ]
  },
  {
   "cell_type": "code",
   "execution_count": 18,
   "metadata": {},
   "outputs": [],
   "source": [
    "# split veiledMods into a much intuitive data structure\n",
    "witems['veiledMods'] = witems.veiledMods.apply(lambda y: sum(['Prefix' in v or 'Suffix' in v for v in y]))"
   ]
  },
  {
   "cell_type": "code",
   "execution_count": 19,
   "metadata": {},
   "outputs": [],
   "source": [
    "witems_base_quality = list()\n",
    "for k, v in witems.iterrows():\n",
    "    witem_quality = 0\n",
    "    for i, prop in enumerate(v.properties):\n",
    "        if prop['name'] == 'Quality':            \n",
    "#             witem_quality = int(v.properties.pop(i)['values'][0][0][1:-1])\n",
    "            witem_quality = int(prop['values'][0][0][1:-1])\n",
    "            del(v.properties[i])\n",
    "            \n",
    "    for mod in v.craftedMods:\n",
    "        if re.match(r'^\\+\\d+%\\sto\\sQuality$', mod):\n",
    "            witem_quality -= int(mod.split(' ')[0][1:-1])\n",
    "    \n",
    "    witems_base_quality.append(witem_quality)\n",
    "    \n",
    "witems['baseQuality'] = witems_base_quality"
   ]
  },
  {
   "cell_type": "code",
   "execution_count": 20,
   "metadata": {},
   "outputs": [],
   "source": [
    "# remove items useless properties such as item name (all the properties which don't have a defined value)\n",
    "witems['properties'] = pd.Series([pname for iprop in witems.properties.apply(lambda y: [v['name'] for v in y]) for pname in iprop]).value_counts()"
   ]
  },
  {
   "cell_type": "code",
   "execution_count": 22,
   "metadata": {},
   "outputs": [],
   "source": [
    "# extract items requirements\n",
    "itemLvlRequirement, itemDexRequirement, itemStrRequirement, itemIntRequirement = [], [], [], []\n",
    "\n",
    "for k, v in witems.iterrows():\n",
    "    iLvlReq, iStrReq, iDexReq, iIntReq = 0, 0, 0, 0\n",
    "    for ireq in v['requirements']:\n",
    "        req_value = int(ireq['values'][0][0])\n",
    "        \n",
    "        if ireq['name'] == 'Level':\n",
    "            iLvlReq = req_value\n",
    "        elif ireq['name'] in ['Str', 'Strength']:\n",
    "            iStrReq = req_value\n",
    "        elif ireq['name'] in ['Dex', 'Dexterity']:\n",
    "            iDexReq = req_value\n",
    "        elif ireq['name'] in ['Int', 'Intelligence']:\n",
    "            iIntReq = req_value\n",
    "\n",
    "    itemLvlRequirement.append(iLvlReq)\n",
    "    itemDexRequirement.append(iStrReq)\n",
    "    itemStrRequirement.append(iDexReq)\n",
    "    itemIntRequirement.append(iIntReq)\n",
    "        \n",
    "witems['lvlRequirement'] = itemLvlRequirement\n",
    "witems['dexRequirement'] = itemDexRequirement\n",
    "witems['strRequirement'] = itemStrRequirement\n",
    "witems['intRequirement'] = itemIntRequirement"
   ]
  },
  {
   "cell_type": "code",
   "execution_count": 23,
   "metadata": {},
   "outputs": [],
   "source": [
    "# extract items sockets into a separate dataframe\n",
    "witems_sockets = list()\n",
    "for k, v in witems.iterrows():\n",
    "    for socket in v['sockets']:\n",
    "        witem_socket = dict()\n",
    "        witem_socket['itemId'] = k\n",
    "        witem_socket['group'] = socket['group']\n",
    "        witem_socket['socketColour'] = socket['sColour']\n",
    "        \n",
    "        witems_sockets.append(witem_socket)\n",
    "        \n",
    "witems_sockets = pd.DataFrame(witems_sockets)"
   ]
  },
  {
   "cell_type": "code",
   "execution_count": 26,
   "metadata": {},
   "outputs": [],
   "source": [
    "witems_crafted_mods, crafted_mods = items_mods_formatting(witems, 'craftedMods')\n",
    "witems_enchant_mods, enchant_mods = items_mods_formatting(witems, 'enchantMods')\n",
    "witems_explicit_mods, explicit_mods = items_mods_formatting(witems, 'explicitMods')\n",
    "witems_fractured_mods, fractured_mods = items_mods_formatting(witems, 'fracturedMods')\n",
    "witems_implicit_mods, implicit_mods = items_mods_formatting(witems, 'implicitMods')"
   ]
  },
  {
   "cell_type": "code",
   "execution_count": 29,
   "metadata": {},
   "outputs": [
    {
     "data": {
      "text/plain": [
       "((184, 1), (490, 1), (1747, 1), (98, 1), (271, 1))"
      ]
     },
     "execution_count": 29,
     "metadata": {},
     "output_type": "execute_result"
    }
   ],
   "source": [
    "crafted_mods.shape, enchant_mods.shape, explicit_mods.shape, fractured_mods.shape, implicit_mods.shape"
   ]
  },
  {
   "cell_type": "code",
   "execution_count": 30,
   "metadata": {},
   "outputs": [],
   "source": [
    "deletable = ['name', 'properties', 'requirements', 'sockets', 'stackSize', 'typeLine', 'vaal', 'craftedMods', 'enchantMods', 'explicitMods', 'flavourText', 'fracturedMods', 'implicitMods', 'veiled']\n",
    "\n",
    "missing = list()\n",
    "for v in deletable:\n",
    "    try:\n",
    "        del(witems[v])\n",
    "    except:\n",
    "        missing.append(v)\n",
    "\n",
    "if len(missing) > 0:\n",
    "    print('Missing columns: {}'.format(missing))"
   ]
  },
  {
   "cell_type": "code",
   "execution_count": 31,
   "metadata": {},
   "outputs": [
    {
     "data": {
      "text/html": [
       "<div>\n",
       "<style scoped>\n",
       "    .dataframe tbody tr th:only-of-type {\n",
       "        vertical-align: middle;\n",
       "    }\n",
       "\n",
       "    .dataframe tbody tr th {\n",
       "        vertical-align: top;\n",
       "    }\n",
       "\n",
       "    .dataframe thead th {\n",
       "        text-align: right;\n",
       "    }\n",
       "</style>\n",
       "<table border=\"1\" class=\"dataframe\">\n",
       "  <thead>\n",
       "    <tr style=\"text-align: right;\">\n",
       "      <th></th>\n",
       "      <th>category</th>\n",
       "      <th>corrupted</th>\n",
       "      <th>duplicated</th>\n",
       "      <th>elder</th>\n",
       "      <th>fractured</th>\n",
       "      <th>identified</th>\n",
       "      <th>ilvl</th>\n",
       "      <th>isRelic</th>\n",
       "      <th>league</th>\n",
       "      <th>shaper</th>\n",
       "      <th>synthesised</th>\n",
       "      <th>talismanTier</th>\n",
       "      <th>veiledMods</th>\n",
       "      <th>subCategory</th>\n",
       "      <th>priceCurrency</th>\n",
       "      <th>priceQuantity</th>\n",
       "      <th>rarity</th>\n",
       "      <th>baseQuality</th>\n",
       "      <th>lvlRequirement</th>\n",
       "      <th>dexRequirement</th>\n",
       "      <th>strRequirement</th>\n",
       "      <th>intRequirement</th>\n",
       "    </tr>\n",
       "  </thead>\n",
       "  <tbody>\n",
       "    <tr>\n",
       "      <th>261930</th>\n",
       "      <td>armour</td>\n",
       "      <td>False</td>\n",
       "      <td>False</td>\n",
       "      <td>False</td>\n",
       "      <td>False</td>\n",
       "      <td>True</td>\n",
       "      <td>6</td>\n",
       "      <td>False</td>\n",
       "      <td>Hardcore Synthesis</td>\n",
       "      <td>False</td>\n",
       "      <td>False</td>\n",
       "      <td>NaN</td>\n",
       "      <td>0</td>\n",
       "      <td>quiver</td>\n",
       "      <td>alch</td>\n",
       "      <td>1</td>\n",
       "      <td>enchanted</td>\n",
       "      <td>0</td>\n",
       "      <td>4</td>\n",
       "      <td>0</td>\n",
       "      <td>0</td>\n",
       "      <td>0</td>\n",
       "    </tr>\n",
       "  </tbody>\n",
       "</table>\n",
       "</div>"
      ],
      "text/plain": [
       "       category  corrupted  duplicated  elder  fractured  identified  ilvl  \\\n",
       "261930   armour      False       False  False      False        True     6   \n",
       "\n",
       "        isRelic              league  shaper  synthesised  talismanTier  \\\n",
       "261930    False  Hardcore Synthesis   False        False           NaN   \n",
       "\n",
       "        veiledMods subCategory priceCurrency priceQuantity     rarity  \\\n",
       "261930           0      quiver          alch             1  enchanted   \n",
       "\n",
       "        baseQuality  lvlRequirement  dexRequirement  strRequirement  \\\n",
       "261930            0               4               0               0   \n",
       "\n",
       "        intRequirement  \n",
       "261930               0  "
      ]
     },
     "execution_count": 31,
     "metadata": {},
     "output_type": "execute_result"
    }
   ],
   "source": [
    "witems.sample()"
   ]
  },
  {
   "cell_type": "markdown",
   "metadata": {},
   "source": [
    "### Jewels"
   ]
  },
  {
   "cell_type": "code",
   "execution_count": 34,
   "metadata": {},
   "outputs": [],
   "source": [
    "jewels = items[items.category.isin(['jewels'])].copy()"
   ]
  },
  {
   "cell_type": "code",
   "execution_count": 38,
   "metadata": {},
   "outputs": [
    {
     "data": {
      "text/plain": [
       "Series([], Name: veiledMods, dtype: object)"
      ]
     },
     "execution_count": 38,
     "metadata": {},
     "output_type": "execute_result"
    }
   ],
   "source": [
    "jewels[jewels.veiledMods.apply(lambda y: len(y) > 0)].veiledMods"
   ]
  },
  {
   "cell_type": "code",
   "execution_count": 82,
   "metadata": {},
   "outputs": [],
   "source": [
    "jewels_radius = list()\n",
    "\n",
    "for k, v in jewels['properties'].iteritems():\n",
    "    if not isinstance(v, list):\n",
    "        jewels_radius.append('None')\n",
    "        \n",
    "    else:\n",
    "        j_rad = None\n",
    "        for j_prop in v:\n",
    "            if j_prop['name'] == 'Radius':\n",
    "                j_rad = j_prop['values'][0][0]\n",
    "        \n",
    "        jewels_radius.append(j_rad if j_rad is not None else 'None')\n",
    "    \n",
    "jewels['radius'] = jewels_radius"
   ]
  },
  {
   "cell_type": "code",
   "execution_count": 98,
   "metadata": {},
   "outputs": [
    {
     "data": {
      "text/plain": [
       "array([list([{'name': 'Level', 'values': [['32', 0]], 'displayMode': 0}]),\n",
       "       list([{'name': 'Level', 'values': [['32', 0]], 'displayMode': 0}]),\n",
       "       list([{'name': 'Level', 'values': [['32', 0]], 'displayMode': 0}]),\n",
       "       ...,\n",
       "       list([{'name': 'Level', 'values': [['41', 0]], 'displayMode': 0}]),\n",
       "       list([{'name': 'Level', 'values': [['29', 0]], 'displayMode': 0}]),\n",
       "       list([{'name': 'Level', 'values': [['38', 0]], 'displayMode': 0}])],\n",
       "      dtype=object)"
      ]
     },
     "execution_count": 98,
     "metadata": {},
     "output_type": "execute_result"
    }
   ],
   "source": [
    "jewels[jewels['requirements'].apply(lambda y: len(y) > 0)]['requirements'].values"
   ]
  },
  {
   "cell_type": "code",
   "execution_count": 99,
   "metadata": {},
   "outputs": [],
   "source": [
    "jewels['lvlRequirement'] = jewels['requirements'].apply(lambda y: y[0]['values'][0][0] if len(y) > 0 else 0).value_counts()"
   ]
  },
  {
   "cell_type": "code",
   "execution_count": 71,
   "metadata": {},
   "outputs": [],
   "source": [
    "jewels['isAbyss'] = jewels['subCategory'].apply(lambda y: True if y == 'abyss' else False)"
   ]
  },
  {
   "cell_type": "code",
   "execution_count": 72,
   "metadata": {},
   "outputs": [
    {
     "name": "stdout",
     "output_type": "stream",
     "text": [
      "Missing columns: ['veiledPrefix', 'veiledSuffix']\n"
     ]
    }
   ],
   "source": [
    "deletable = ['category', 'craftedMods', 'elder', 'enchantMods', 'flavourText', 'name',\n",
    "        'properties', 'requirements', 'shaper', 'sockets', 'stackSize', 'subCategory', \n",
    "        'talismanTier', 'typeLine', 'vaal', 'veiledPrefix', 'veiledSuffix']\n",
    "\n",
    "missing = list()\n",
    "for v in deletable:\n",
    "    try:\n",
    "        del(jewels[v])\n",
    "    except:\n",
    "        missing.append(v)\n",
    "\n",
    "if len(missing) > 0:\n",
    "    print('Missing columns: {}'.format(missing))"
   ]
  },
  {
   "cell_type": "code",
   "execution_count": 74,
   "metadata": {},
   "outputs": [
    {
     "data": {
      "text/html": [
       "<div>\n",
       "<style scoped>\n",
       "    .dataframe tbody tr th:only-of-type {\n",
       "        vertical-align: middle;\n",
       "    }\n",
       "\n",
       "    .dataframe tbody tr th {\n",
       "        vertical-align: top;\n",
       "    }\n",
       "\n",
       "    .dataframe thead th {\n",
       "        text-align: right;\n",
       "    }\n",
       "</style>\n",
       "<table border=\"1\" class=\"dataframe\">\n",
       "  <thead>\n",
       "    <tr style=\"text-align: right;\">\n",
       "      <th></th>\n",
       "      <th>corrupted</th>\n",
       "      <th>duplicated</th>\n",
       "      <th>explicitMods</th>\n",
       "      <th>fractured</th>\n",
       "      <th>fracturedMods</th>\n",
       "      <th>identified</th>\n",
       "      <th>ilvl</th>\n",
       "      <th>implicitMods</th>\n",
       "      <th>isRelic</th>\n",
       "      <th>league</th>\n",
       "      <th>synthesised</th>\n",
       "      <th>veiled</th>\n",
       "      <th>veiledMods</th>\n",
       "      <th>priceCurrency</th>\n",
       "      <th>priceQuantity</th>\n",
       "      <th>radius</th>\n",
       "      <th>isAbyss</th>\n",
       "    </tr>\n",
       "  </thead>\n",
       "  <tbody>\n",
       "    <tr>\n",
       "      <th>387313</th>\n",
       "      <td>False</td>\n",
       "      <td>False</td>\n",
       "      <td>[16% increased Chaos Damage, 6% increased Atta...</td>\n",
       "      <td>False</td>\n",
       "      <td>[]</td>\n",
       "      <td>True</td>\n",
       "      <td>83</td>\n",
       "      <td>[]</td>\n",
       "      <td>False</td>\n",
       "      <td>Standard</td>\n",
       "      <td>False</td>\n",
       "      <td>NaN</td>\n",
       "      <td>[]</td>\n",
       "      <td>exa</td>\n",
       "      <td>5</td>\n",
       "      <td>None</td>\n",
       "      <td>False</td>\n",
       "    </tr>\n",
       "  </tbody>\n",
       "</table>\n",
       "</div>"
      ],
      "text/plain": [
       "        corrupted  duplicated  \\\n",
       "387313      False       False   \n",
       "\n",
       "                                             explicitMods  fractured  \\\n",
       "387313  [16% increased Chaos Damage, 6% increased Atta...      False   \n",
       "\n",
       "       fracturedMods  identified  ilvl implicitMods  isRelic    league  \\\n",
       "387313            []        True    83           []    False  Standard   \n",
       "\n",
       "        synthesised veiled veiledMods priceCurrency priceQuantity radius  \\\n",
       "387313        False    NaN         []           exa             5   None   \n",
       "\n",
       "        isAbyss  \n",
       "387313    False  "
      ]
     },
     "execution_count": 74,
     "metadata": {},
     "output_type": "execute_result"
    }
   ],
   "source": [
    "jewels.sample()"
   ]
  },
  {
   "cell_type": "code",
   "execution_count": 56,
   "metadata": {},
   "outputs": [
    {
     "data": {
      "text/plain": [
       "26"
      ]
     },
     "execution_count": 56,
     "metadata": {},
     "output_type": "execute_result"
    }
   ],
   "source": [
    "jewels_mods = set([mod for v in jewels[jewels.implicitMods.apply(lambda y: len(y) > 0)].implicitMods.apply(lambda y: [re.sub('\\d+(.\\d+)?', 'N', v) for v in y]).values for mod in v])\n",
    "len(jewels_mods)"
   ]
  },
  {
   "cell_type": "code",
   "execution_count": 57,
   "metadata": {},
   "outputs": [
    {
     "data": {
      "text/plain": [
       "529"
      ]
     },
     "execution_count": 57,
     "metadata": {},
     "output_type": "execute_result"
    }
   ],
   "source": [
    "jewels_mods = set([mod for v in jewels[jewels.explicitMods.apply(lambda y: len(y) > 0)].explicitMods.apply(lambda y: [re.sub('\\d+(.\\d+)?', 'N', v) for v in y]).values for mod in v])\n",
    "len(jewels_mods)"
   ]
  },
  {
   "cell_type": "code",
   "execution_count": 58,
   "metadata": {},
   "outputs": [
    {
     "data": {
      "text/plain": [
       "75"
      ]
     },
     "execution_count": 58,
     "metadata": {},
     "output_type": "execute_result"
    }
   ],
   "source": [
    "jewels_mods = set([mod for v in jewels[jewels.fracturedMods.apply(lambda y: len(y) > 0)].fracturedMods.apply(lambda y: [re.sub('\\d+(.\\d+)?', 'N', v) for v in y]).values for mod in v])\n",
    "len(jewels_mods)"
   ]
  }
 ],
 "metadata": {
  "kernelspec": {
   "display_name": "Python 3",
   "language": "python",
   "name": "python3"
  },
  "language_info": {
   "codemirror_mode": {
    "name": "ipython",
    "version": 3
   },
   "file_extension": ".py",
   "mimetype": "text/x-python",
   "name": "python",
   "nbconvert_exporter": "python",
   "pygments_lexer": "ipython3",
   "version": "3.7.5"
  }
 },
 "nbformat": 4,
 "nbformat_minor": 4
}
