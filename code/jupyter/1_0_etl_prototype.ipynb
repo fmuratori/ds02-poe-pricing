{
 "cells": [
  {
   "cell_type": "markdown",
   "metadata": {},
   "source": [
    "A first implementation of an ETL procedure is implemented and tested. This task is based and reuse code implemented in *0_data_first_exploration*"
   ]
  },
  {
   "cell_type": "code",
   "execution_count": 26,
   "metadata": {},
   "outputs": [],
   "source": [
    "import os\n",
    "import json\n",
    "\n",
    "import re\n",
    "\n",
    "import pandas as pd\n",
    "import numpy as np\n",
    "\n",
    "from smart_open import open"
   ]
  },
  {
   "cell_type": "code",
   "execution_count": 6,
   "metadata": {},
   "outputs": [],
   "source": [
    "pd.set_option('display.max_columns', 500)\n",
    "\n",
    "LEAGUE_NAME = None"
   ]
  },
  {
   "cell_type": "code",
   "execution_count": 7,
   "metadata": {},
   "outputs": [],
   "source": [
    "nci = pd.read_csv('../../data/next_change_id/next_change_id_cleaned.csv', index_col=0)"
   ]
  },
  {
   "cell_type": "code",
   "execution_count": 17,
   "metadata": {},
   "outputs": [],
   "source": [
    "STARTING_NCI = '606710732-624261706-592413894-672863464-640396486'\n",
    "\n",
    "BASE_URL = 'http://www.pathofexile.com/api/public-stash-tabs?id='\n",
    "\n",
    "LEAGUE_NAME = ['Metamorth']"
   ]
  },
  {
   "cell_type": "code",
   "execution_count": 18,
   "metadata": {},
   "outputs": [],
   "source": [
    "CURRENCY_KEY = ['alt', 'fuse', 'alch', 'chaos', 'gcp', 'exa', 'chrom', 'jew', 'chance', 'chisel', 'scour', 'blessed', 'regret', 'regal', 'divine', 'vaal', 'silver', 'coin']\n",
    "CURRENCY_NAME = [\"Orb of Alteration\", \"Orb of Fusing\", \"Orb of Alchemy\", \"Chaos Orb\", \"Gemcutter's Prism\", \"Exalted Orb\", \"Chromatic Orb\", \"Jeweller's Orb\", \"Orb of Chance\", \"Cartographer's Chisel\", \"Orb of Scouring\", \"Blessed Orb\", \"Orb of Regret\", \"Regal Orb\", \"Divine Orb\", \"Vaal Orb\", \"Silver Coin\"]\n",
    "\n",
    "ITEMS_CATEGORIES = ['accessories', 'armour', 'jewels', 'weapons', 'currency']"
   ]
  },
  {
   "cell_type": "code",
   "execution_count": 43,
   "metadata": {},
   "outputs": [],
   "source": [
    "def reached_new_nci(curr_nci, next_nci):\n",
    "    next_nci = next_nci.split('-')\n",
    "    curr_nci = curr_nci.split('-')\n",
    "    return np.mean([int(v1) - int(v2) for v1, v2 in zip(curr_nci, next_nci)]) > 0"
   ]
  },
  {
   "cell_type": "code",
   "execution_count": 20,
   "metadata": {},
   "outputs": [],
   "source": [
    "def get_stashes_dict(path):\n",
    "    with open(path, 'rb') as file:\n",
    "        return json.load(file)\n",
    "\n",
    "def get_stashes_items(stashes, verbose=False):\n",
    "    values = list()\n",
    "    \n",
    "    for stash in stashes['stashes']:\n",
    "        if len(stash['items']) > 0 and stash['public']:\n",
    "            # add stash related data to single items\n",
    "            for item in stash['items']:\n",
    "                item['stash_note'] = stash['stash']\n",
    "                item['league'] = stash['league']\n",
    "            values.extend(stash['items'])\n",
    "    return values"
   ]
  },
  {
   "cell_type": "code",
   "execution_count": 21,
   "metadata": {},
   "outputs": [],
   "source": [
    "def get_string_price(string):\n",
    "    if re.match('(~price|~b/o)\\s\\d+((\\.|/)\\d+)?\\s\\w+', string) is not None:\n",
    "        tokens = string.split(' ')       \n",
    "        currency, quantity = tokens[2], int(tokens[1])\n",
    "        # check if currency and quantity are allowed values\n",
    "        if currency in CURRENCY_KEY:\n",
    "            return currency, quantity\n",
    "    raise ValueError()\n",
    "    \n",
    "def fitler_items_price(items):\n",
    "    price = []\n",
    "    for k, v in items.iterrows():\n",
    "        try:\n",
    "            # item has a valid price\n",
    "            item_price = get_string_price(v.note)\n",
    "        except:\n",
    "            try:\n",
    "                # stash has a valid price\n",
    "                item_price = get_string_price(v.stash_note)\n",
    "            except:\n",
    "                # both item and stash have no valid price\n",
    "                item_price = (None, None)\n",
    "        price.append(item_price)\n",
    "    (items['priceCurrency'], items['priceQuantity']) = zip(*price)\n",
    "    items.drop(index = items[((items.priceCurrency.isna()) & (items.priceQuantity.isna())) | (items.priceQuantity == 0)].index, inplace=True)\n",
    "    return items\n",
    "\n",
    "def get_items_rarity(items):\n",
    "    items_rarity = list()\n",
    "    for k, item in items.iterrows():\n",
    "        if isinstance(item.flavourText, list):\n",
    "            # only unique items have a flavour text defined\n",
    "            items_rarity.append('unique')    \n",
    "        elif len(item.explicitMods) == 0:\n",
    "            items_rarity.append('normal')\n",
    "        elif 1 <= len(item.explicitMods) <= 2: \n",
    "            items_rarity.append('magic')\n",
    "        elif 3 <= len(item.explicitMods): \n",
    "            items_rarity.append('rare')\n",
    "    return items_rarity"
   ]
  },
  {
   "cell_type": "code",
   "execution_count": 61,
   "metadata": {},
   "outputs": [],
   "source": [
    "def transform_generic_items(stashes):\n",
    "    items = pd.DataFrame(get_stashes_items(stashes))\n",
    "    \n",
    "    # pandas built-in filling functionality\n",
    "    items.corrupted.fillna(False, inplace=True)\n",
    "    items['duplicated'].fillna(False, inplace=True)\n",
    "    items.elder.fillna(False, inplace=True)\n",
    "    items.fractured.fillna(False, inplace=True)\n",
    "    items.isRelic.fillna(False, inplace=True)\n",
    "    items.shaper.fillna(False, inplace=True)\n",
    "    items.synthesised.fillna(False, inplace=True)\n",
    "    items.note.fillna('', inplace=True)\n",
    "    \n",
    "    # fill missing values with empty list\n",
    "    items['craftedMods'] = items.craftedMods.apply(lambda y: y if isinstance(y, list) else [])\n",
    "    items['enchantMods'] = items.enchantMods.apply(lambda y: y if isinstance(y, list) else [])\n",
    "    items['explicitMods'] = items.explicitMods.apply(lambda y: y if isinstance(y, list) else [])\n",
    "    items['implicitMods'] = items.implicitMods.apply(lambda y: y if isinstance(y, list) else [])\n",
    "    items['fracturedMods'] = items.fracturedMods.apply(lambda y: y if isinstance(y, list) else [])\n",
    "    items['veiledMods'] = items.veiledMods.apply(lambda y: y if isinstance(y, list) else [])\n",
    "    items['sockets'] = items.sockets.apply(lambda y: y if isinstance(y, list) else [])\n",
    "    items['properties'] = items.properties.apply(lambda y: y if isinstance(y, list) else [])\n",
    "    items['requirements'] = items.requirements.apply(lambda y: y if isinstance(y, list) else [])\n",
    "    \n",
    "    items['subCategory'] = items.category.apply(lambda y: list(y.items())[0][1][0] if len(list(y.items())[0][1]) > 0 else None)\n",
    "    items['category'] = items.category.apply(lambda y: list(y.items())[0][0])\n",
    "    \n",
    "    items = fitler_items_price(items)\n",
    "    \n",
    "    for v in ['abyssJewel', 'additionalProperties', 'artFilename', 'cisRaceReward', 'cosmeticMods', 'delve', 'descrText', 'frameType', 'h', 'icon', 'id', 'inventoryId', 'maxStackSize', 'nextLevelRequirements', 'note', 'prophecyText', 'seaRaceReward', 'secDescrText', 'socketedItems', 'stash_note', 'support', 'thRaceReward', 'utilityMods', 'verified', 'w', 'x', 'y']:\n",
    "        del(items[v])\n",
    "    \n",
    "    return items\n",
    "\n",
    "def transform_currencies():\n",
    "    currencies = items[items.category=='currency']\n",
    "    \n",
    "    currencies = currencies[currencies.typeLine.isin(CURRENCY_NAME)]\n",
    "\n",
    "    currencies['sellCurrency'] = currencies.typeLine.apply(lambda y: CURRENCY_KEY[CURRENCY_NAME.index(y)])\n",
    "    \n",
    "    currencies.rename(columns={\"stackSize\": \"sellQuantity\"}, inplace=True)\n",
    "    \n",
    "    sellerCRate = []\n",
    "    buyerCRate = []\n",
    "    for k, v in currencies.iterrows():\n",
    "        sellerCRate.append(int(v.sellQuantity) / int(v.priceQuantity))\n",
    "        buyerCRate.append(int(v.priceQuantity) / int(v.sellQuantity))\n",
    "    currencies['sellerRate'] = sellerCRate\n",
    "    currencies['buyerRate'] = buyerCRate\n",
    "    \n",
    "    for v in ['category', 'corrupted', 'craftedMods', 'duplicated', 'elder', 'enchantMods', 'explicitMods', 'flavourText', 'fractured', 'fracturedMods', 'identified', 'ilvl', 'implicitMods', 'isRelic', 'name', 'properties', 'requirements', 'shaper', 'sockets' ,'synthesised', 'subCategory', 'talismanTier', 'typeLine', 'vaal', 'veiled', 'veiledMods']:\n",
    "        del(items[v])\n",
    "    \n",
    "def transform_jewels(items):\n",
    "    jewels = items[items.category=='jewels']\n",
    "    \n",
    "    jewels['rarity'] = get_items_rarity(jewels)\n",
    "    \n",
    "    jewels_radius = list()\n",
    "    for k, v in jewels['properties'].iteritems():\n",
    "        if not isinstance(v, list):\n",
    "            jewels_radius.append('None')\n",
    "        else:\n",
    "            j_rad = None\n",
    "            for j_prop in v:\n",
    "                if j_prop['name'] == 'Radius':\n",
    "                    j_rad = j_prop['values'][0][0]\n",
    "            jewels_radius.append(j_rad if j_rad is not None else 'None')\n",
    "            \n",
    "    jewels['radius'] = jewels_radius\n",
    "    jewels['lvlRequirement'] = jewels['requirements'].apply(lambda y: y[0]['values'][0][0] if len(y) > 0 else 0).value_counts()\n",
    "    jewels['isAbyss'] = jewels['subCategory'].apply(lambda y: True if y == 'abyss' else False)\n",
    "    \n",
    "    for v in ['category', 'craftedMods', 'elder', 'enchantMods', 'flavourText', 'name', 'properties', 'requirements', 'shaper', 'sockets', 'stackSize', 'subCategory', 'talismanTier', 'typeLine', 'vaal', 'veiledPrefix', 'veiledSuffix']:\n",
    "        del(jewels[v])\n",
    "    \n",
    "    return jewels\n",
    "\n",
    "def transform_wearable_items(items):    \n",
    "\n",
    "    items['rarity'] = get_items_rarity(items)\n",
    "    \n",
    "    # split veiledMods into a much intuitive data structure\n",
    "    items['veiledMods'] = items.veiledMods.apply(lambda y: sum(['Prefix' in v or 'Suffix' in v for v in y]))\n",
    "    \n",
    "    # extract items base quality\n",
    "    items_base_quality = list()\n",
    "    for k, v in items.iterrows():\n",
    "        item_quality = 0\n",
    "        for i, prop in enumerate(v.properties):\n",
    "            if prop['name'] == 'Quality':            \n",
    "                item_quality = int(prop['values'][0][0][1:-1])\n",
    "                del(v.properties[i])\n",
    "\n",
    "        for mod in v.craftedMods:\n",
    "            if re.match(r'^\\+\\d+%\\sto\\sQuality$', mod):\n",
    "                item_quality -= int(mod.split(' ')[0][1:-1])\n",
    "\n",
    "        items_base_quality.append(item_quality)\n",
    "\n",
    "    items['baseQuality'] = items_base_quality\n",
    "    \n",
    "    # remove items useless properties such as item name (all the properties which don't have a defined value)\n",
    "    items['properties'] = pd.Series([pname for iprop in items.properties.apply(lambda y: [v['name'] for v in y]) for pname in iprop]).value_counts()\n",
    "\n",
    "    # extract items requirements\n",
    "    itemLvlRequirement, itemDexRequirement, itemStrRequirement, itemIntRequirement = [], [], [], []\n",
    "    for k, v in items.iterrows():\n",
    "        iLvlReq, iStrReq, iDexReq, iIntReq = 0, 0, 0, 0\n",
    "        for ireq in v['requirements']:\n",
    "            req_value = int(ireq['values'][0][0])\n",
    "\n",
    "            if ireq['name'] == 'Level':\n",
    "                iLvlReq = req_value\n",
    "            elif ireq['name'] in ['Str', 'Strength']:\n",
    "                iStrReq = req_value\n",
    "            elif ireq['name'] in ['Dex', 'Dexterity']:\n",
    "                iDexReq = req_value\n",
    "            elif ireq['name'] in ['Int', 'Intelligence']:\n",
    "                iIntReq = req_value\n",
    "        itemLvlRequirement.append(iLvlReq)\n",
    "        itemDexRequirement.append(iStrReq)\n",
    "        itemStrRequirement.append(iDexReq)\n",
    "        itemIntRequirement.append(iIntReq)\n",
    "    items['lvlRequirement'] = itemLvlRequirement\n",
    "    items['dexRequirement'] = itemDexRequirement\n",
    "    items['strRequirement'] = itemStrRequirement\n",
    "    items['intRequirement'] = itemIntRequirement\n",
    "    \n",
    "    # extract items sockets into a separate dataframe\n",
    "    items_sockets = list()\n",
    "    for k, v in items.iterrows():\n",
    "        for socket in v['sockets']:\n",
    "            item_socket = dict()\n",
    "            item_socket['itemId'] = k\n",
    "            item_socket['group'] = socket['group']\n",
    "            item_socket['socketColour'] = socket['sColour']\n",
    "\n",
    "            items_sockets.append(item_socket)\n",
    "    items_sockets = pd.DataFrame(items_sockets)\n",
    "    \n",
    "    # items mods\n",
    "    items_crafted_mods, crafted_mods = items_mods_formatting(items, 'craftedMods')\n",
    "    items_enchant_mods, enchant_mods = items_mods_formatting(items, 'enchantMods')\n",
    "    items_explicit_mods, explicit_mods = items_mods_formatting(items, 'explicitMods')\n",
    "    items_fractured_mods, fractured_mods = items_mods_formatting(items, 'fracturedMods')\n",
    "    items_implicit_mods, implicit_mods = items_mods_formatting(items, 'implicitMods')\n",
    "    \n",
    "    # deletable data\n",
    "    deletable = ['name', 'properties', 'requirements', 'sockets', 'stackSize', 'typeLine', 'vaal', 'craftedMods', 'enchantMods', 'explicitMods', 'flavourText', 'fracturedMods', 'implicitMods', 'veiled']\n",
    "    missing = list()\n",
    "    for v in deletable:\n",
    "        try:\n",
    "            del(items[v])\n",
    "        except:\n",
    "            missing.append(v)\n",
    "\n",
    "    if len(missing) > 0:\n",
    "        print('Missing columns: {}'.format(missing))\n",
    "        \n",
    "    return items\n",
    "        \n",
    "def transform_weapons(items):\n",
    "    return transform_wearable_items(items[items.category=='weapons'])\n",
    "    \n",
    "def transform_armours(items):\n",
    "    return transform_wearable_items(items[items.category=='armour'])\n",
    "    \n",
    "def transform_accessories(items):\n",
    "    return transform_wearable_items(items[items.category=='accessories'])\n",
    "    "
   ]
  },
  {
   "cell_type": "code",
   "execution_count": 76,
   "metadata": {},
   "outputs": [
    {
     "data": {
      "text/plain": [
       "[607516433, 625061552, 593213253, 673731892, 641294247]"
      ]
     },
     "execution_count": 76,
     "metadata": {},
     "output_type": "execute_result"
    }
   ],
   "source": [
    "a = '607495852-625043701-593194195-673707096-641274798'\n",
    "b = '607537014-625079404-593232312-673756689-641313696'\n",
    "\n",
    "([int((int(v2) + int(v1)) / 2) for v1, v2 in zip(a.split('-'), b.split('-'))])"
   ]
  },
  {
   "cell_type": "code",
   "execution_count": 37,
   "metadata": {},
   "outputs": [
    {
     "ename": "TypeError",
     "evalue": "unsupported operand type(s) for -: 'list' and 'list'",
     "output_type": "error",
     "traceback": [
      "\u001b[0;31m---------------------------------------------------------------------------\u001b[0m",
      "\u001b[0;31mTypeError\u001b[0m                                 Traceback (most recent call last)",
      "\u001b[0;32m<timed exec>\u001b[0m in \u001b[0;36m<module>\u001b[0;34m\u001b[0m\n",
      "\u001b[0;32m<ipython-input-36-32c47c8a56d4>\u001b[0m in \u001b[0;36mreached_new_nci\u001b[0;34m(curr_nci, next_nci)\u001b[0m\n\u001b[1;32m      2\u001b[0m     \u001b[0mnext_nci\u001b[0m \u001b[0;34m=\u001b[0m \u001b[0mnext_nci\u001b[0m\u001b[0;34m.\u001b[0m\u001b[0msplit\u001b[0m\u001b[0;34m(\u001b[0m\u001b[0;34m'-'\u001b[0m\u001b[0;34m)\u001b[0m\u001b[0;34m\u001b[0m\u001b[0;34m\u001b[0m\u001b[0m\n\u001b[1;32m      3\u001b[0m     \u001b[0mcurr_nci\u001b[0m \u001b[0;34m=\u001b[0m \u001b[0mcurr_nci\u001b[0m\u001b[0;34m.\u001b[0m\u001b[0msplit\u001b[0m\u001b[0;34m(\u001b[0m\u001b[0;34m'-'\u001b[0m\u001b[0;34m)\u001b[0m\u001b[0;34m\u001b[0m\u001b[0;34m\u001b[0m\u001b[0m\n\u001b[0;32m----> 4\u001b[0;31m     \u001b[0mprint\u001b[0m\u001b[0;34m(\u001b[0m\u001b[0mnext_nci\u001b[0m\u001b[0;34m,\u001b[0m \u001b[0mcurr_nci\u001b[0m\u001b[0;34m,\u001b[0m \u001b[0mnp\u001b[0m\u001b[0;34m.\u001b[0m\u001b[0mmean\u001b[0m\u001b[0;34m(\u001b[0m\u001b[0;34m[\u001b[0m\u001b[0mint\u001b[0m\u001b[0;34m(\u001b[0m\u001b[0mv1\u001b[0m\u001b[0;34m)\u001b[0m \u001b[0;34m-\u001b[0m \u001b[0mint\u001b[0m\u001b[0;34m(\u001b[0m\u001b[0mv2\u001b[0m\u001b[0;34m)\u001b[0m \u001b[0;32mfor\u001b[0m \u001b[0mv1\u001b[0m\u001b[0;34m,\u001b[0m \u001b[0mv2\u001b[0m \u001b[0;32min\u001b[0m \u001b[0mzip\u001b[0m\u001b[0;34m(\u001b[0m\u001b[0mcurr_nci\u001b[0m \u001b[0;34m-\u001b[0m \u001b[0mnext_nci\u001b[0m\u001b[0;34m)\u001b[0m\u001b[0;34m]\u001b[0m\u001b[0;34m)\u001b[0m\u001b[0;34m)\u001b[0m\u001b[0;34m\u001b[0m\u001b[0;34m\u001b[0m\u001b[0m\n\u001b[0m\u001b[1;32m      5\u001b[0m     \u001b[0;32mreturn\u001b[0m \u001b[0mnp\u001b[0m\u001b[0;34m.\u001b[0m\u001b[0mmean\u001b[0m\u001b[0;34m(\u001b[0m\u001b[0;34m[\u001b[0m\u001b[0mint\u001b[0m\u001b[0;34m(\u001b[0m\u001b[0mv1\u001b[0m\u001b[0;34m)\u001b[0m \u001b[0;34m-\u001b[0m \u001b[0mint\u001b[0m\u001b[0;34m(\u001b[0m\u001b[0mv2\u001b[0m\u001b[0;34m)\u001b[0m \u001b[0;32mfor\u001b[0m \u001b[0mv1\u001b[0m\u001b[0;34m,\u001b[0m \u001b[0mv2\u001b[0m \u001b[0;32min\u001b[0m \u001b[0mzip\u001b[0m\u001b[0;34m(\u001b[0m\u001b[0mcurr_nci\u001b[0m \u001b[0;34m-\u001b[0m \u001b[0mnext_nci\u001b[0m\u001b[0;34m)\u001b[0m\u001b[0;34m]\u001b[0m\u001b[0;34m)\u001b[0m \u001b[0;34m>\u001b[0m \u001b[0;36m0\u001b[0m\u001b[0;34m\u001b[0m\u001b[0;34m\u001b[0m\u001b[0m\n",
      "\u001b[0;31mTypeError\u001b[0m: unsupported operand type(s) for -: 'list' and 'list'"
     ]
    }
   ],
   "source": [
    "%%time\n",
    "\n",
    "# EXTRACT: access poe stash tab api\n",
    "currenct_nci = '606710732-624261706-592413894-672863464-640396486'\n",
    "next_nci = '606725552-624277463-592429392-672877972-640415214'\n",
    "while not reached_new_nci(currenct_nci, next_nci):\n",
    "    with open(BASE_URL + currenct_nci, 'rb') as file:\n",
    "        stashes = json.load(file)\n",
    "    \n",
    "    currenct_nci = stashes['next_change_id']\n",
    "    \n",
    "#     # TRANSFORM: process data\n",
    "#     items = extract_generic_items(stashes)\n",
    "    \n",
    "#     currencies = transform_currencies(items)\n",
    "    \n",
    "#     jewels = transform_jewels(items)\n",
    "    \n",
    "#     armours = transform_armours(items)\n",
    "#     weapons = transform_weapons(items)\n",
    "#     accessories = transform_accessories(items)\n",
    "    \n",
    "#     # LOAD: load data into a datalake\n",
    "#     break"
   ]
  },
  {
   "cell_type": "code",
   "execution_count": 24,
   "metadata": {},
   "outputs": [
    {
     "ename": "NameError",
     "evalue": "name 'stashes' is not defined",
     "output_type": "error",
     "traceback": [
      "\u001b[0;31m---------------------------------------------------------------------------\u001b[0m",
      "\u001b[0;31mNameError\u001b[0m                                 Traceback (most recent call last)",
      "\u001b[0;32m<ipython-input-24-f222b3d861e6>\u001b[0m in \u001b[0;36m<module>\u001b[0;34m\u001b[0m\n\u001b[0;32m----> 1\u001b[0;31m \u001b[0;32mfor\u001b[0m \u001b[0mstash\u001b[0m \u001b[0;32min\u001b[0m \u001b[0mstashes\u001b[0m\u001b[0;34m[\u001b[0m\u001b[0;34m'stashes'\u001b[0m\u001b[0;34m]\u001b[0m\u001b[0;34m:\u001b[0m\u001b[0;34m\u001b[0m\u001b[0;34m\u001b[0m\u001b[0m\n\u001b[0m\u001b[1;32m      2\u001b[0m     \u001b[0;32mif\u001b[0m \u001b[0mstash\u001b[0m\u001b[0;34m[\u001b[0m\u001b[0;34m'league'\u001b[0m\u001b[0;34m]\u001b[0m \u001b[0;32mis\u001b[0m \u001b[0;32mnot\u001b[0m \u001b[0;32mNone\u001b[0m\u001b[0;34m:\u001b[0m\u001b[0;34m\u001b[0m\u001b[0;34m\u001b[0m\u001b[0m\n\u001b[1;32m      3\u001b[0m         \u001b[0mprint\u001b[0m\u001b[0;34m(\u001b[0m\u001b[0mstash\u001b[0m\u001b[0;34m[\u001b[0m\u001b[0;34m'league'\u001b[0m\u001b[0;34m]\u001b[0m\u001b[0;34m)\u001b[0m\u001b[0;34m\u001b[0m\u001b[0;34m\u001b[0m\u001b[0m\n",
      "\u001b[0;31mNameError\u001b[0m: name 'stashes' is not defined"
     ]
    }
   ],
   "source": [
    "for stash in stashes['stashes']:\n",
    "    if stash['league'] is not None:\n",
    "        print(stash['league'])"
   ]
  },
  {
   "cell_type": "code",
   "execution_count": 11,
   "metadata": {},
   "outputs": [
    {
     "data": {
      "text/plain": [
       "[]"
      ]
     },
     "execution_count": 11,
     "metadata": {},
     "output_type": "execute_result"
    }
   ],
   "source": [
    "stashes['stashes'][0]['items']"
   ]
  },
  {
   "cell_type": "code",
   "execution_count": null,
   "metadata": {},
   "outputs": [],
   "source": [
    "for stash in stashes['stashes']:\n",
    "    for item in stash['items']:\n",
    "        "
   ]
  },
  {
   "cell_type": "markdown",
   "metadata": {},
   "source": [
    "# Transform"
   ]
  },
  {
   "cell_type": "code",
   "execution_count": null,
   "metadata": {},
   "outputs": [],
   "source": []
  }
 ],
 "metadata": {
  "kernelspec": {
   "display_name": "Python 3",
   "language": "python",
   "name": "python3"
  },
  "language_info": {
   "codemirror_mode": {
    "name": "ipython",
    "version": 3
   },
   "file_extension": ".py",
   "mimetype": "text/x-python",
   "name": "python",
   "nbconvert_exporter": "python",
   "pygments_lexer": "ipython3",
   "version": "3.7.5"
  }
 },
 "nbformat": 4,
 "nbformat_minor": 4
}
