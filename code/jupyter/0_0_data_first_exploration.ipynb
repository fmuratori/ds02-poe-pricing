{
 "cells": [
  {
   "cell_type": "markdown",
   "metadata": {},
   "source": [
    "The goal of this notebook is to understand the original data structure and define basic operations.\n",
    "\n",
    "The source data explored here has been previously downloaded from Path of Exile stash tabs API to local .txt files. Each file contained in a specific folder represent a single API call to http://www.pathofexile.com/api/public-stash-tabs?id= with a proper **nextChangeId**: this id is iteratively applyed on the next API call."
   ]
  },
  {
   "cell_type": "markdown",
   "metadata": {},
   "source": [
    "# TODO"
   ]
  },
  {
   "cell_type": "code",
   "execution_count": 1,
   "metadata": {},
   "outputs": [],
   "source": [
    "import os\n",
    "import re\n",
    "import json\n",
    "import random\n",
    "\n",
    "import pandas as pd"
   ]
  },
  {
   "cell_type": "code",
   "execution_count": 2,
   "metadata": {},
   "outputs": [],
   "source": [
    "pd.set_option('display.max_columns', 500)\n",
    "\n",
    "DATA_PATH = '../../data/temp/stashes_delirium/'\n",
    "\n",
    "LEAGUE = 'Metamorph'\n",
    "\n",
    "CURRENCY_KEY = ['alt', 'fuse', 'alch', 'chaos', 'gcp', 'exa', 'chrom', 'jew', 'chance', 'chisel', 'scour', 'blessed', 'regret', 'regal', 'divine', 'vaal', 'silver']\n",
    "CURRENCY_NAME = [\"Orb of Alteration\", \"Orb of Fusing\", \"Orb of Alchemy\", \"Chaos Orb\", \"Gemcutter's Prism\", \"Exalted Orb\", \"Chromatic Orb\", \"Jeweller's Orb\", \"Orb of Chance\", \"Cartographer's Chisel\", \"Orb of Scouring\", \"Blessed Orb\", \"Orb of Regret\", \"Regal Orb\", \"Divine Orb\", \"Vaal Orb\", \"Silver Coin\"]\n",
    "\n",
    "ITEMS_CATEGORIES = ['accessories', 'armour', 'jewels', 'weapons', 'currency']"
   ]
  },
  {
   "cell_type": "code",
   "execution_count": 3,
   "metadata": {},
   "outputs": [],
   "source": [
    "def get_stashes_dict(path):\n",
    "    with open(path, 'rb') as file:\n",
    "        try:\n",
    "            return json.load(file)['stashes']\n",
    "        except:\n",
    "            print('ERROR: ', path)\n",
    "            return []\n",
    "        \n",
    "        \n",
    "def get_stashes_items(verbose=False):\n",
    "    values = list()\n",
    "    \n",
    "    # select a fixed number of files\n",
    "    for v in random.sample(os.listdir(DATA_PATH), 50):\n",
    "#     for v in os.listdir(DATA_PATH):\n",
    "        for stash in get_stashes_dict(DATA_PATH + v):\n",
    "            if len(stash['items']) > 0 and stash['public']:\n",
    "                # add stash related data to single items\n",
    "                for item in stash['items']:\n",
    "                    item['stash_note'] = stash['stash']\n",
    "                    item['league'] = stash['league']\n",
    "                values.extend(stash['items'])\n",
    "    return values\n",
    "\n",
    "def get_string_price(string):\n",
    "    if re.match('(~price|~b/o)\\s\\d+((\\.|/)\\d+)?\\s\\w+', string) is not None:\n",
    "        tokens = string.split(' ')\n",
    "        \n",
    "        currency, quantity = tokens[2], int(tokens[1])\n",
    "        \n",
    "        # check if currency and quantity are allowed values\n",
    "        if currency in CURRENCY_KEY:\n",
    "            return currency, quantity\n",
    "    raise ValueError()\n",
    "    \n",
    "def delete_df_columns(df, *col_name, verbose=False):\n",
    "    missing = list()\n",
    "    for v in col_name:\n",
    "        try:\n",
    "            del(df[v])\n",
    "        except:\n",
    "            missing.append(v)\n",
    "\n",
    "    if len(missing) > 0 and verbose:\n",
    "        print('Missing columns: {}'.format(missing))"
   ]
  },
  {
   "cell_type": "markdown",
   "metadata": {},
   "source": [
    "# Data exploration"
   ]
  },
  {
   "cell_type": "code",
   "execution_count": 4,
   "metadata": {},
   "outputs": [
    {
     "data": {
      "text/plain": [
       "(254858, 54)"
      ]
     },
     "execution_count": 4,
     "metadata": {},
     "output_type": "execute_result"
    }
   ],
   "source": [
    "items = pd.DataFrame(get_stashes_items())\n",
    "\n",
    "# alphabetically order dataframe columns\n",
    "items = items[sorted(items.columns)]\n",
    "\n",
    "items.shape"
   ]
  },
  {
   "cell_type": "code",
   "execution_count": 5,
   "metadata": {},
   "outputs": [],
   "source": [
    "# extract items category and subcategory\n",
    "items['subCategory'] = items.extended.apply(lambda y: ' '.join(y['subcategories']) if 'subcategories' in y else None)\n",
    "items['category'] = items.extended.apply(lambda y: y['category'])\n",
    "\n",
    "# drop unwanted categories\n",
    "items = items[items.category.isin(ITEMS_CATEGORIES)]"
   ]
  },
  {
   "cell_type": "code",
   "execution_count": 6,
   "metadata": {},
   "outputs": [],
   "source": [
    "# extract items price and drop unpriced items\n",
    "price = []\n",
    "for k, v in items.iterrows():\n",
    "    try:\n",
    "        # item has a valid price\n",
    "        item_price = get_string_price(v.note)\n",
    "    except:\n",
    "        try:\n",
    "            # stash has a valid price\n",
    "            item_price = get_string_price(v.stash_note)\n",
    "        except:\n",
    "            # both item and stash have no valid price\n",
    "            item_price = (None, None)\n",
    "    price.append(item_price)\n",
    "(items['priceCurrency'], items['priceQuantity']) = zip(*price)\n",
    "    \n",
    "# drop unpriced items\n",
    "items.drop(index = items[((items.priceCurrency.isna()) & (items.priceQuantity.isna())) | (items.priceQuantity == 0)].index, inplace=True)"
   ]
  },
  {
   "cell_type": "code",
   "execution_count": 47,
   "metadata": {},
   "outputs": [
    {
     "name": "stdout",
     "output_type": "stream",
     "text": [
      "108029\n"
     ]
    },
    {
     "data": {
      "text/plain": [
       "154732    {'category': 'accessories', 'subcategories': [...\n",
       "177201    {'category': 'jewels', 'baseType': 'Cobalt Jew...\n",
       "39306     {'category': 'accessories', 'subcategories': [...\n",
       "115083    {'category': 'armour', 'subcategories': ['boot...\n",
       "186165    {'category': 'armour', 'subcategories': ['shie...\n",
       "128166    {'category': 'jewels', 'subcategories': ['clus...\n",
       "14131     {'category': 'jewels', 'subcategories': ['clus...\n",
       "187981    {'category': 'armour', 'subcategories': ['boot...\n",
       "167093    {'category': 'jewels', 'prefixes': 1, 'suffixe...\n",
       "179941    {'category': 'accessories', 'subcategories': [...\n",
       "Name: extended, dtype: object"
      ]
     },
     "metadata": {},
     "output_type": "display_data"
    },
    {
     "name": "stdout",
     "output_type": "stream",
     "text": [
      "{'category': 'jewels', 'prefixes': 2, 'suffixes': 2, 'baseType': 'Crimson Jewel'}                                        1481\n",
      "{'category': 'jewels', 'subcategories': ['cluster'], 'prefixes': 2, 'suffixes': 2, 'baseType': 'Large Cluster Jewel'}    1470\n",
      "{'category': 'jewels', 'prefixes': 2, 'suffixes': 2, 'baseType': 'Cobalt Jewel'}                                         1455\n",
      "{'category': 'jewels', 'prefixes': 2, 'suffixes': 2, 'baseType': 'Viridian Jewel'}                                       1407\n",
      "{'category': 'jewels', 'subcategories': ['cluster'], 'prefixes': 2, 'suffixes': 1, 'baseType': 'Large Cluster Jewel'}    1276\n",
      "                                                                                                                         ... \n",
      "{'category': 'accessories', 'subcategories': ['belt'], 'prefixes': 1, 'suffixes': 1, 'baseType': 'Heavy Belt'}              1\n",
      "{'category': 'armour', 'subcategories': ['shield'], 'prefixes': 3, 'suffixes': 3, 'baseType': 'Crimson Round Shield'}       1\n",
      "{'category': 'weapons', 'subcategories': ['twomace'], 'prefixes': 1, 'suffixes': 1, 'baseType': 'Coronal Maul'}             1\n",
      "{'category': 'armour', 'subcategories': ['chest'], 'prefixes': 3, 'suffixes': 1, 'baseType': 'Colosseum Plate'}             1\n",
      "{'category': 'weapons', 'subcategories': ['claw'], 'prefixes': 2, 'suffixes': 2, 'baseType': 'Tiger's Paw'}                 1\n",
      "Name: extended, Length: 4708, dtype: int64\n",
      "jewels         33047\n",
      "accessories    31735\n",
      "armour         25228\n",
      "weapons        11914\n",
      "currency        6105\n",
      "Name: category, dtype: int64\n",
      "{'elder': True}                         2702\n",
      "{'shaper': True}                        2389\n",
      "{'hunter': True}                        1649\n",
      "{'crusader': True}                      1530\n",
      "{'warlord': True}                       1500\n",
      "{'redeemer': True}                      1392\n",
      "{'elder': True, 'hunter': True}            9\n",
      "{'elder': True, 'warlord': True}           6\n",
      "{'crusader': True, 'hunter': True}         3\n",
      "{'shaper': True, 'hunter': True}           2\n",
      "{'shaper': True, 'redeemer': True}         2\n",
      "{'shaper': True, 'warlord': True}          2\n",
      "{'hunter': True, 'warlord': True}          2\n",
      "{'shaper': True, 'crusader': True}         1\n",
      "{'shaper': True, 'elder': True}            1\n",
      "{'elder': True, 'crusader': True}          1\n",
      "{'redeemer': True, 'hunter': True}         1\n",
      "{'crusader': True, 'warlord': True}        1\n",
      "{'crusader': True, 'redeemer': True}       1\n",
      "Name: influences, dtype: int64\n"
     ]
    }
   ],
   "source": [
    "target = 'extended'\n",
    "\n",
    "print(len(items[items[target].notna()]))\n",
    "\n",
    "display(items[items[target].notna()][target].sample(10))\n",
    "print(items[items[target].notna()][target].value_counts())\n",
    "\n",
    "print(items[items[target].notna()].category.value_counts())\n",
    "\n",
    "print(items[items[target].notna()].influences.value_counts())"
   ]
  },
  {
   "cell_type": "code",
   "execution_count": 9,
   "metadata": {},
   "outputs": [],
   "source": [
    "# name is needed to distinguish between unique and other items\n",
    "items.drop(columns=['abyssJewel', 'additionalProperties', 'artFilename', 'cisRaceReward', 'cosmeticMods', 'delve', 'descrText', 'elder', 'flavourText', 'h', 'hybrid', 'icon', \n",
    "                  'id', 'inventoryId', 'maxStackSize', 'name', 'note', 'prophecyText', 'seaRaceReward', 'secDescrText', 'shaper', \n",
    "                    'socketedItems', 'stash_note', 'verified',\n",
    "                  'support', 'thRaceReward', 'utilityMods', 'w', 'x', 'y'], inplace=True, errors='ignore')"
   ]
  },
  {
   "cell_type": "code",
   "execution_count": 16,
   "metadata": {},
   "outputs": [
    {
     "data": {
      "text/plain": [
       "Index(['abyssJewel', 'additionalProperties', 'artFilename', 'corrupted',\n",
       "       'craftedMods', 'delve', 'descrText', 'duplicated', 'elder',\n",
       "       'enchantMods', 'explicitMods', 'extended', 'flavourText', 'frameType',\n",
       "       'h', 'hybrid', 'icon', 'id', 'identified', 'ilvl', 'implicitMods',\n",
       "       'incubatedItem', 'influences', 'inventoryId', 'itemLevel', 'league',\n",
       "       'maxStackSize', 'name', 'nextLevelRequirements', 'note', 'properties',\n",
       "       'prophecyText', 'requirements', 'secDescrText', 'shaper',\n",
       "       'socketedItems', 'sockets', 'stackSize', 'stash_note', 'support',\n",
       "       'synthesised', 'talismanTier', 'typeLine', 'utilityMods', 'veiled',\n",
       "       'veiledMods', 'verified', 'w', 'x', 'y', 'subCategory', 'category',\n",
       "       'priceCurrency', 'priceQuantity'],\n",
       "      dtype='object')"
      ]
     },
     "execution_count": 16,
     "metadata": {},
     "output_type": "execute_result"
    }
   ],
   "source": [
    "items.columns"
   ]
  },
  {
   "cell_type": "markdown",
   "metadata": {},
   "source": [
    "## Currencies"
   ]
  },
  {
   "cell_type": "code",
   "execution_count": 11,
   "metadata": {},
   "outputs": [],
   "source": [
    "currencies = items[items.category=='currency']"
   ]
  },
  {
   "cell_type": "code",
   "execution_count": 12,
   "metadata": {},
   "outputs": [],
   "source": [
    "currencies = currencies[currencies.typeLine.isin(CURRENCY_NAME)]\n",
    "\n",
    "currencies['sellCurrency'] = currencies.typeLine.apply(lambda y: CURRENCY_KEY[CURRENCY_NAME.index(y)])"
   ]
  },
  {
   "cell_type": "code",
   "execution_count": 13,
   "metadata": {},
   "outputs": [],
   "source": [
    "currencies.rename(columns={\"stackSize\": \"sellQuantity\"}, inplace=True)"
   ]
  },
  {
   "cell_type": "code",
   "execution_count": 14,
   "metadata": {},
   "outputs": [],
   "source": [
    "sellerCRate = []\n",
    "buyerCRate = []\n",
    "for k, v in currencies.iterrows():\n",
    "    buyerCRate.append(int(v.sellQuantity) / int(v.priceQuantity))\n",
    "    sellerCRate.append(int(v.priceQuantity) / int(v.sellQuantity))\n",
    "    \n",
    "currencies['sellRate'] = sellerCRate\n",
    "currencies['buyRate'] = buyerCRate"
   ]
  },
  {
   "cell_type": "code",
   "execution_count": 15,
   "metadata": {},
   "outputs": [],
   "source": [
    "# name is needed to distinguish between unique and other items\n",
    "currencies.drop(columns=['additionalProperties', 'corrupted', 'craftedMods', 'delve',\n",
    "       'duplicated', 'enchantMods', 'explicitMods', 'extended', 'fractured',\n",
    "       'fracturedMods', 'frameType', 'identified', 'ilvl', 'implicitMods', 'incubatedItem',\n",
    "       'influences', 'itemLevel', 'name',\n",
    "       'nextLevelRequirements', 'properties', 'requirements',\n",
    "       'sockets', 'stackSize', 'stash_note', 'synthesised', 'talismanTier',\n",
    "       'typeLine', 'veiled', 'veiledMods', 'subCategory', 'category'], inplace=True, errors='ignore')"
   ]
  },
  {
   "cell_type": "code",
   "execution_count": 16,
   "metadata": {},
   "outputs": [
    {
     "data": {
      "text/html": [
       "<div>\n",
       "<style scoped>\n",
       "    .dataframe tbody tr th:only-of-type {\n",
       "        vertical-align: middle;\n",
       "    }\n",
       "\n",
       "    .dataframe tbody tr th {\n",
       "        vertical-align: top;\n",
       "    }\n",
       "\n",
       "    .dataframe thead th {\n",
       "        text-align: right;\n",
       "    }\n",
       "</style>\n",
       "<table border=\"1\" class=\"dataframe\">\n",
       "  <thead>\n",
       "    <tr style=\"text-align: right;\">\n",
       "      <th></th>\n",
       "      <th>league</th>\n",
       "      <th>sellQuantity</th>\n",
       "      <th>priceCurrency</th>\n",
       "      <th>priceQuantity</th>\n",
       "      <th>sellCurrency</th>\n",
       "      <th>sellerRate</th>\n",
       "      <th>buyerRate</th>\n",
       "    </tr>\n",
       "  </thead>\n",
       "  <tbody>\n",
       "    <tr>\n",
       "      <th>114</th>\n",
       "      <td>Delirium</td>\n",
       "      <td>20.0</td>\n",
       "      <td>chaos</td>\n",
       "      <td>7</td>\n",
       "      <td>jew</td>\n",
       "      <td>0.35</td>\n",
       "      <td>2.857143</td>\n",
       "    </tr>\n",
       "  </tbody>\n",
       "</table>\n",
       "</div>"
      ],
      "text/plain": [
       "       league  sellQuantity priceCurrency priceQuantity sellCurrency  \\\n",
       "114  Delirium          20.0         chaos             7          jew   \n",
       "\n",
       "     sellerRate  buyerRate  \n",
       "114        0.35   2.857143  "
      ]
     },
     "execution_count": 16,
     "metadata": {},
     "output_type": "execute_result"
    }
   ],
   "source": [
    "currencies.sample()"
   ]
  },
  {
   "cell_type": "markdown",
   "metadata": {},
   "source": [
    "## Mod based items"
   ]
  },
  {
   "cell_type": "code",
   "execution_count": 15,
   "metadata": {},
   "outputs": [],
   "source": [
    "def items_mods_formatting(items, target_mod):\n",
    "    mitems_mods_vocabulary = []\n",
    "    mitems_mods = []\n",
    "    for k, v in items.iterrows():\n",
    "        if isinstance(v[target_mod], list):\n",
    "            for mod in v[target_mod]:\n",
    "                item_mod = dict()\n",
    "                item_mod['itemId'] = k\n",
    "                generic_mod = re.sub('\\d+', '#', mod)\n",
    "                try:\n",
    "                    mod_index = mitems_mods_vocabulary.index(generic_mod)\n",
    "                except:\n",
    "                    mitems_mods_vocabulary.append(generic_mod)\n",
    "                    mod_index = len(mitems_mods_vocabulary) - 1\n",
    "                item_mod['modId'] = mod_index\n",
    "                for i, v in enumerate(re.findall('\\d+', mod)):\n",
    "                    item_mod['value{}'.format(i)] = v\n",
    "                mitems_mods.append(item_mod)\n",
    "    mitems_mods = pd.DataFrame(mitems_mods)\n",
    "    mitems_mods_vocabulary = pd.DataFrame(mitems_mods_vocabulary, columns=['text'])\n",
    "    return mitems_mods, mitems_mods_vocabulary"
   ]
  },
  {
   "cell_type": "code",
   "execution_count": 16,
   "metadata": {},
   "outputs": [],
   "source": [
    "mitems = items[items.category.isin(['accessories', 'armour', 'jewels', 'weapons'])].copy()"
   ]
  },
  {
   "cell_type": "code",
   "execution_count": 17,
   "metadata": {},
   "outputs": [],
   "source": [
    "mitems['rarity'] = mitems.frameType.apply(lambda y: 'normal' if y == 0 else 'magic' if y == 1 else 'rare' if y == 2 else 'unique' if y == 3 else 'relic')\n",
    "mitems = mitems[~mitems.rarity.isin(['relic', 'unique'])]"
   ]
  },
  {
   "cell_type": "code",
   "execution_count": 18,
   "metadata": {},
   "outputs": [],
   "source": [
    "# pandas built-in filling functionality\n",
    "mitems.corrupted.fillna(False, inplace=True)\n",
    "mitems['duplicated'].fillna(False, inplace=True)\n",
    "mitems.fractured.fillna(False, inplace=True)\n",
    "mitems.synthesised.fillna(False, inplace=True)\n",
    "# items.note.fillna('', inplace=True)"
   ]
  },
  {
   "cell_type": "code",
   "execution_count": null,
   "metadata": {},
   "outputs": [],
   "source": [
    "mitems['nPrefixes'] = mitems.extended.apply(lambda y: y['prefixes'] if 'prefixes' in y else 0)\n",
    "mitems['nSuffixes'] = mitems.extended.apply(lambda y: y['suffixes'] if 'suffixes' in y else 0)\n",
    "mitems['nExplicitMods'] = mitems.nPrefixes + mitems.nSuffixes\n",
    "\n",
    "mitems['nImplicitMods'] = mitems.implicitMods.apply(lambda y: len(y) if isinstance(y, list) else 0)\n"
   ]
  },
  {
   "cell_type": "code",
   "execution_count": 20,
   "metadata": {},
   "outputs": [
    {
     "data": {
      "text/plain": [
       "((264, 1), (780, 1), (810, 1), (199, 1), (63, 1))"
      ]
     },
     "execution_count": 20,
     "metadata": {},
     "output_type": "execute_result"
    }
   ],
   "source": [
    "mitems_imp_mods, voc_imp_mods = items_mods_formatting(mitems, 'implicitMods')\n",
    "mitems_exp_mods, voc_exp_mods = items_mods_formatting(mitems, 'explicitMods')\n",
    "mitems_enc_mods, voc_enc_mods = items_mods_formatting(mitems, 'enchantMods')\n",
    "mitems_cra_mods, voc_cra_mods = items_mods_formatting(mitems, 'craftedMods')\n",
    "mitems_fra_mods, voc_fra_mods = items_mods_formatting(mitems, 'fracturedMods')\n",
    "\n",
    "voc_imp_mods.shape, voc_exp_mods.shape, voc_enc_mods.shape, voc_cra_mods.shape, voc_fra_mods.shape"
   ]
  },
  {
   "cell_type": "code",
   "execution_count": 21,
   "metadata": {},
   "outputs": [],
   "source": [
    "mitems.drop(columns=['typeLine', 'extended', 'frameType', 'implicitMods', 'explicitMods', 'enchantMods', 'craftedMods', 'fracturedMods'],\n",
    "            inplace=True, errors='ignore')"
   ]
  },
  {
   "cell_type": "markdown",
   "metadata": {},
   "source": [
    "### Jewels"
   ]
  },
  {
   "cell_type": "markdown",
   "metadata": {},
   "source": [
    "Defined mods: explicitMods, fracturedMods, implicitMods"
   ]
  },
  {
   "cell_type": "code",
   "execution_count": 22,
   "metadata": {},
   "outputs": [
    {
     "data": {
      "text/plain": [
       "(32330, 28)"
      ]
     },
     "execution_count": 22,
     "metadata": {},
     "output_type": "execute_result"
    }
   ],
   "source": [
    "jewels = mitems[mitems.category == 'jewels'].copy()\n",
    "jewels.shape"
   ]
  },
  {
   "cell_type": "code",
   "execution_count": 23,
   "metadata": {},
   "outputs": [],
   "source": [
    "jewels['lvlRequirement'] = jewels['requirements'].apply(lambda y: y[0]['values'][0][0] if pd.notna(y) else 0)"
   ]
  },
  {
   "cell_type": "code",
   "execution_count": 24,
   "metadata": {},
   "outputs": [],
   "source": [
    "jewels['isAbyss'] = jewels['subCategory'].apply(lambda y: True if y == 'abyss' else False)"
   ]
  },
  {
   "cell_type": "code",
   "execution_count": 25,
   "metadata": {},
   "outputs": [],
   "source": [
    "jewels.drop(columns=['additionalProperties', 'category', 'delve', 'incubatedItem', 'influences', \n",
    "                     'itemLevel', 'nextLevelRequirements', 'properties', 'requirements', 'sockets',\n",
    "                     'stackSize', 'subCategory', 'talismanTier', 'veiled', 'veiledMods'], \n",
    "            errors='ignore', inplace=True)"
   ]
  },
  {
   "cell_type": "code",
   "execution_count": 26,
   "metadata": {},
   "outputs": [
    {
     "data": {
      "text/html": [
       "<div>\n",
       "<style scoped>\n",
       "    .dataframe tbody tr th:only-of-type {\n",
       "        vertical-align: middle;\n",
       "    }\n",
       "\n",
       "    .dataframe tbody tr th {\n",
       "        vertical-align: top;\n",
       "    }\n",
       "\n",
       "    .dataframe thead th {\n",
       "        text-align: right;\n",
       "    }\n",
       "</style>\n",
       "<table border=\"1\" class=\"dataframe\">\n",
       "  <thead>\n",
       "    <tr style=\"text-align: right;\">\n",
       "      <th></th>\n",
       "      <th>corrupted</th>\n",
       "      <th>duplicated</th>\n",
       "      <th>fractured</th>\n",
       "      <th>identified</th>\n",
       "      <th>ilvl</th>\n",
       "      <th>league</th>\n",
       "      <th>synthesised</th>\n",
       "      <th>priceCurrency</th>\n",
       "      <th>priceQuantity</th>\n",
       "      <th>rarity</th>\n",
       "      <th>nPrefixes</th>\n",
       "      <th>nSuffixes</th>\n",
       "      <th>nAffixes</th>\n",
       "      <th>lvlRequirement</th>\n",
       "      <th>isAbyss</th>\n",
       "    </tr>\n",
       "  </thead>\n",
       "  <tbody>\n",
       "    <tr>\n",
       "      <th>29512</th>\n",
       "      <td>False</td>\n",
       "      <td>False</td>\n",
       "      <td>False</td>\n",
       "      <td>True</td>\n",
       "      <td>75</td>\n",
       "      <td>Standard</td>\n",
       "      <td>False</td>\n",
       "      <td>chaos</td>\n",
       "      <td>10</td>\n",
       "      <td>rare</td>\n",
       "      <td>1</td>\n",
       "      <td>2</td>\n",
       "      <td>3</td>\n",
       "      <td>0</td>\n",
       "      <td>False</td>\n",
       "    </tr>\n",
       "  </tbody>\n",
       "</table>\n",
       "</div>"
      ],
      "text/plain": [
       "       corrupted  duplicated  fractured  identified  ilvl    league  \\\n",
       "29512      False       False      False        True    75  Standard   \n",
       "\n",
       "       synthesised priceCurrency priceQuantity rarity  nPrefixes  nSuffixes  \\\n",
       "29512        False         chaos            10   rare          1          2   \n",
       "\n",
       "       nAffixes lvlRequirement  isAbyss  \n",
       "29512         3              0    False  "
      ]
     },
     "execution_count": 26,
     "metadata": {},
     "output_type": "execute_result"
    }
   ],
   "source": [
    "jewels.sample()"
   ]
  },
  {
   "cell_type": "markdown",
   "metadata": {},
   "source": [
    "### Wearable"
   ]
  },
  {
   "cell_type": "code",
   "execution_count": 27,
   "metadata": {},
   "outputs": [],
   "source": [
    "def items_prop_formatting(items, target_prop):\n",
    "    mitems_props_vocabulary = []\n",
    "    mitems_props = []\n",
    "    \n",
    "    t1 = []\n",
    "    for k, v in items.iterrows():\n",
    "        if isinstance(v[target_prop], list):\n",
    "            for prop in [p for p in v[target_prop] if len(p['values']) > 0]:\n",
    "                item_prop = dict()\n",
    "                item_prop['itemId'] = k\n",
    "                generic_prop = prop['name']\n",
    "                \n",
    "                try:\n",
    "                    prop_index = mitems_props_vocabulary.index(generic_prop)\n",
    "                except:\n",
    "                    mitems_props_vocabulary.append(generic_prop)\n",
    "                    prop_index = len(mitems_props_vocabulary) - 1\n",
    "                item_prop['propId'] = prop_index\n",
    "                for i, v in enumerate(prop['values'][0][0].split('-')):\n",
    "                    item_prop['value{}'.format(i)] = float(re.sub('(\\+|-|%)', '', v))\n",
    "                mitems_props.append(item_prop)\n",
    "    mitems_props = pd.DataFrame(mitems_props)\n",
    "    mitems_props_vocabulary = pd.DataFrame(mitems_props_vocabulary, columns=['text'])\n",
    "    return mitems_props, mitems_props_vocabulary"
   ]
  },
  {
   "cell_type": "code",
   "execution_count": 28,
   "metadata": {},
   "outputs": [
    {
     "data": {
      "text/plain": [
       "(43583, 28)"
      ]
     },
     "execution_count": 28,
     "metadata": {},
     "output_type": "execute_result"
    }
   ],
   "source": [
    "wearable = mitems[mitems.category.isin(['armours', 'weapons', 'accessories'])].copy()\n",
    "wearable.shape"
   ]
  },
  {
   "cell_type": "code",
   "execution_count": 29,
   "metadata": {},
   "outputs": [],
   "source": [
    "# split veiledMods into a much intuitive data structure\n",
    "wearable['veiledMods'] = wearable.veiledMods.apply(lambda y: sum(['Prefix' in v or 'Suffix' in v for v in y]) if isinstance(y, list) else 0)"
   ]
  },
  {
   "cell_type": "code",
   "execution_count": 30,
   "metadata": {},
   "outputs": [],
   "source": [
    "wearable_prop, voc_wearable_prop = items_prop_formatting(wearable, 'properties')"
   ]
  },
  {
   "cell_type": "code",
   "execution_count": 31,
   "metadata": {},
   "outputs": [],
   "source": [
    "# extract items requirements\n",
    "itemLvlRequirement, itemDexRequirement, itemStrRequirement, itemIntRequirement = [], [], [], []\n",
    "\n",
    "for k, v in wearable.iterrows():\n",
    "    iLvlReq, iStrReq, iDexReq, iIntReq = 0, 0, 0, 0\n",
    "    if isinstance(v['requirements'], list):\n",
    "        for ireq in v['requirements']:\n",
    "            req_value = int(ireq['values'][0][0])\n",
    "\n",
    "            if ireq['name'] == 'Level':\n",
    "                iLvlReq = req_value\n",
    "            elif ireq['name'] in ['Str', 'Strength']:\n",
    "                iStrReq = req_value\n",
    "            elif ireq['name'] in ['Dex', 'Dexterity']:\n",
    "                iDexReq = req_value\n",
    "            elif ireq['name'] in ['Int', 'Intelligence']:\n",
    "                iIntReq = req_value\n",
    "\n",
    "    itemLvlRequirement.append(iLvlReq)\n",
    "    itemDexRequirement.append(iStrReq)\n",
    "    itemStrRequirement.append(iDexReq)\n",
    "    itemIntRequirement.append(iIntReq)\n",
    "        \n",
    "wearable['lvlRequirement'] = itemLvlRequirement\n",
    "wearable['dexRequirement'] = itemDexRequirement\n",
    "wearable['strRequirement'] = itemStrRequirement\n",
    "wearable['intRequirement'] = itemIntRequirement"
   ]
  },
  {
   "cell_type": "code",
   "execution_count": 36,
   "metadata": {},
   "outputs": [],
   "source": [
    "wearable_infl_voc = list()\n",
    "wearable_infl = list()\n",
    "for k, influences in wearable.influences.iteritems():\n",
    "    if isinstance(influences, dict):\n",
    "        for name, _ in influences.items():\n",
    "            item_influence = {'itemID': k}\n",
    "            try:\n",
    "                item_influence['influenceID'] = wearable_infl_voc.index(name) \n",
    "            except ValueError:\n",
    "                wearable_infl_voc.append(name)\n",
    "                item_influence['influenceID'] = len(wearable_infl_voc) - 1\n",
    "            wearable_infl.append(item_influence)\n",
    "wearable_infl_voc = pd.DataFrame(wearable_infl_voc)\n",
    "wearable_infl = pd.DataFrame(wearable_infl)"
   ]
  },
  {
   "cell_type": "code",
   "execution_count": 85,
   "metadata": {},
   "outputs": [],
   "source": [
    "wearable_sockets = list()\n",
    "for k, v in wearable.sockets.iteritems():\n",
    "    if not isinstance(v, list):\n",
    "        continue\n",
    "    \n",
    "    temp = []\n",
    "    for socket in v:\n",
    "        if len(temp) <= socket['group']:\n",
    "            temp.append([])\n",
    "        temp[socket['group']].append(socket['sColour'])\n",
    "\n",
    "    temp_group = np.array([len(tv) for tv in temp]).argsort()[::-1]\n",
    "    for i, l in enumerate(temp_group):\n",
    "        for v in temp[l]:\n",
    "            wearable_sockets.append({'itemID':k , 'group':i, 'colour': v})\n",
    "wearable_sockets = pd.DataFrame(wearable_sockets)\n",
    "\n",
    "wearable['nSockets'] = wearable.sockets.apply(lambda y: sum([len(group) for group in y]) if isinstance(y, list) else 0)\n",
    "wearable['nLinks'] = wearable.sockets.apply(lambda y: max([len(group) for group in y]) if isinstance(y, list) else 0)"
   ]
  },
  {
   "cell_type": "code",
   "execution_count": 149,
   "metadata": {},
   "outputs": [
    {
     "data": {
      "text/plain": [
       "Index(['additionalProperties', 'corrupted', 'delve', 'duplicated', 'fractured',\n",
       "       'identified', 'ilvl', 'incubatedItem', 'influences', 'itemLevel',\n",
       "       'league', 'nextLevelRequirements', 'properties', 'requirements',\n",
       "       'sockets', 'stackSize', 'synthesised', 'talismanTier', 'veiled',\n",
       "       'veiledMods', 'subCategory', 'category', 'priceCurrency',\n",
       "       'priceQuantity', 'rarity', 'nPrefixes', 'nSuffixes', 'nAffixes',\n",
       "       'lvlRequirement', 'dexRequirement', 'strRequirement', 'intRequirement'],\n",
       "      dtype='object')"
      ]
     },
     "execution_count": 149,
     "metadata": {},
     "output_type": "execute_result"
    }
   ],
   "source": [
    "wearable.columns"
   ]
  },
  {
   "cell_type": "code",
   "execution_count": 136,
   "metadata": {},
   "outputs": [
    {
     "data": {
      "text/plain": [
       "currency    186\n",
       "Name: category, dtype: int64"
      ]
     },
     "execution_count": 136,
     "metadata": {},
     "output_type": "execute_result"
    }
   ],
   "source": [
    "items[items[w].notna()]['category'].value_counts()"
   ]
  },
  {
   "cell_type": "code",
   "execution_count": 138,
   "metadata": {},
   "outputs": [
    {
     "data": {
      "text/plain": [
       "False    43538\n",
       "True        45\n",
       "Name: fractured, dtype: int64"
      ]
     },
     "execution_count": 138,
     "metadata": {},
     "output_type": "execute_result"
    }
   ],
   "source": [
    "w = 'fractured'\n",
    "wearable[wearable[w].notna()][w].value_counts()"
   ]
  },
  {
   "cell_type": "code",
   "execution_count": null,
   "metadata": {},
   "outputs": [],
   "source": [
    "wea"
   ]
  },
  {
   "cell_type": "code",
   "execution_count": null,
   "metadata": {},
   "outputs": [],
   "source": [
    "'additionalProperties', 'delve',\n",
    "'identified', 'ilvl', 'incubatedItem', 'influences', 'itemLevel',\n",
    "'league', 'nextLevelRequirements', 'properties', 'requirements',\n",
    "'sockets', 'stackSize', 'synthesised', 'talismanTier', 'veiled',\n",
    "'veiledMods', 'subCategory', 'category', 'priceCurrency',\n",
    "'priceQuantity', 'rarity', 'nPrefixes', 'nSuffixes', 'nAffixes',\n",
    "'lvlRequirement', 'dexRequirement', 'strRequirement', 'intRequirement',\n",
    "'nSockets', 'nLinks'"
   ]
  }
 ],
 "metadata": {
  "kernelspec": {
   "display_name": "Python 3",
   "language": "python",
   "name": "python3"
  },
  "language_info": {
   "codemirror_mode": {
    "name": "ipython",
    "version": 3
   },
   "file_extension": ".py",
   "mimetype": "text/x-python",
   "name": "python",
   "nbconvert_exporter": "python",
   "pygments_lexer": "ipython3",
   "version": "3.7.5"
  }
 },
 "nbformat": 4,
 "nbformat_minor": 4
}
