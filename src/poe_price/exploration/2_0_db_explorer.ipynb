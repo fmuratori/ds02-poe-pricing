{
 "cells": [
  {
   "cell_type": "code",
   "execution_count": 1,
   "metadata": {},
   "outputs": [],
   "source": [
    "import numpy as np\n",
    "import pandas as pd\n",
    "import matplotlib.pyplot as plt\n",
    "\n",
    "\n",
    "from poe_price.data.session import PSQLSession\n",
    "\n"
   ]
  },
  {
   "cell_type": "code",
   "execution_count": 2,
   "metadata": {},
   "outputs": [],
   "source": [
    "session = PSQLSession('127.0.0.1', 'poe_price', 'fabio', 'password')"
   ]
  },
  {
   "cell_type": "markdown",
   "metadata": {},
   "source": [
    "# trade_currency"
   ]
  },
  {
   "cell_type": "code",
   "execution_count": 3,
   "metadata": {},
   "outputs": [],
   "source": [
    "with session:\n",
    "    currency = session.query('SELECT * FROM trade_currency;')"
   ]
  },
  {
   "cell_type": "code",
   "execution_count": 4,
   "metadata": {},
   "outputs": [
    {
     "output_type": "execute_result",
     "data": {
      "text/plain": "(16956, 8)"
     },
     "metadata": {},
     "execution_count": 4
    }
   ],
   "source": [
    "currency.shape"
   ]
  },
  {
   "cell_type": "code",
   "execution_count": 5,
   "metadata": {},
   "outputs": [
    {
     "output_type": "execute_result",
     "data": {
      "text/plain": "          id   league sell_currency price_currency  sell_quantity  \\\n13143  13152  Harvest        divine        exalted            9.0   \n\n       price_quantity  is_stash_price                        date  \n13143             1.0           False  2020-08-07 02:31:19.401552  ",
      "text/html": "<div>\n<style scoped>\n    .dataframe tbody tr th:only-of-type {\n        vertical-align: middle;\n    }\n\n    .dataframe tbody tr th {\n        vertical-align: top;\n    }\n\n    .dataframe thead th {\n        text-align: right;\n    }\n</style>\n<table border=\"1\" class=\"dataframe\">\n  <thead>\n    <tr style=\"text-align: right;\">\n      <th></th>\n      <th>id</th>\n      <th>league</th>\n      <th>sell_currency</th>\n      <th>price_currency</th>\n      <th>sell_quantity</th>\n      <th>price_quantity</th>\n      <th>is_stash_price</th>\n      <th>date</th>\n    </tr>\n  </thead>\n  <tbody>\n    <tr>\n      <th>13143</th>\n      <td>13152</td>\n      <td>Harvest</td>\n      <td>divine</td>\n      <td>exalted</td>\n      <td>9.0</td>\n      <td>1.0</td>\n      <td>False</td>\n      <td>2020-08-07 02:31:19.401552</td>\n    </tr>\n  </tbody>\n</table>\n</div>"
     },
     "metadata": {},
     "execution_count": 5
    }
   ],
   "source": [
    "currency.sample()"
   ]
  },
  {
   "cell_type": "markdown",
   "metadata": {},
   "source": [
    "# trade_item"
   ]
  },
  {
   "cell_type": "code",
   "execution_count": 7,
   "metadata": {},
   "outputs": [
    {
     "output_type": "execute_result",
     "data": {
      "text/plain": "(900239, 28)"
     },
     "metadata": {},
     "execution_count": 7
    }
   ],
   "source": [
    "with session:\n",
    "    armour = session.query('SELECT * FROM trade_item WHERE category = \\'armour\\';')\n",
    "armour.shape"
   ]
  },
  {
   "cell_type": "code",
   "execution_count": 9,
   "metadata": {
    "tags": []
   },
   "outputs": [
    {
     "output_type": "stream",
     "name": "stdout",
     "text": "talisman_tier\n"
    }
   ],
   "source": [
    "# dataframe empty columns\n",
    "for col in armour.columns:\n",
    "    if len(armour[col].value_counts()) == 0:\n",
    "        print(col)"
   ]
  },
  {
   "cell_type": "code",
   "execution_count": 8,
   "metadata": {},
   "outputs": [
    {
     "output_type": "execute_result",
     "data": {
      "text/plain": "                 id           ilvl   num_prefixes   num_suffixes  \\\ncount  9.002390e+05  900239.000000  868297.000000  868891.000000   \nmean   1.357736e+06      79.683556       2.286868       2.532750   \nstd    8.037566e+05       7.418145       0.754446       0.669579   \nmin    1.000000e+00       1.000000       1.000000       1.000000   \n25%    6.529040e+05      76.000000       2.000000       2.000000   \n50%    1.353423e+06      82.000000       2.000000       3.000000   \n75%    2.055012e+06      84.000000       3.000000       3.000000   \nmax    2.757782e+06     100.000000       3.000000       3.000000   \n\n       num_veiled_modifiers  price_quantity  requirement_dex  requirement_int  \\\ncount         826028.000000    9.002390e+05    328268.000000    463562.000000   \nmean               0.002272    1.024845e+03        82.613608        96.414769   \nstd                0.051287    2.639580e+05        36.835838        41.810021   \nmin                0.000000    0.000000e+00        15.000000        15.000000   \n25%                0.000000    4.000000e+00        56.000000        62.000000   \n50%                0.000000    1.000000e+01        73.000000        90.000000   \n75%                0.000000    2.500000e+01        97.000000       128.000000   \nmax                2.000000    1.000000e+08       197.000000       194.000000   \n\n       requirement_str  requirement_level  \ncount    392972.000000      888732.000000  \nmean         87.268136          62.229933  \nstd          40.039078           6.741679  \nmin          15.000000           2.000000  \n25%          59.000000          59.000000  \n50%          76.000000          64.000000  \n75%         109.000000          68.000000  \nmax         191.000000          82.000000  ",
      "text/html": "<div>\n<style scoped>\n    .dataframe tbody tr th:only-of-type {\n        vertical-align: middle;\n    }\n\n    .dataframe tbody tr th {\n        vertical-align: top;\n    }\n\n    .dataframe thead th {\n        text-align: right;\n    }\n</style>\n<table border=\"1\" class=\"dataframe\">\n  <thead>\n    <tr style=\"text-align: right;\">\n      <th></th>\n      <th>id</th>\n      <th>ilvl</th>\n      <th>num_prefixes</th>\n      <th>num_suffixes</th>\n      <th>num_veiled_modifiers</th>\n      <th>price_quantity</th>\n      <th>requirement_dex</th>\n      <th>requirement_int</th>\n      <th>requirement_str</th>\n      <th>requirement_level</th>\n    </tr>\n  </thead>\n  <tbody>\n    <tr>\n      <th>count</th>\n      <td>9.002390e+05</td>\n      <td>900239.000000</td>\n      <td>868297.000000</td>\n      <td>868891.000000</td>\n      <td>826028.000000</td>\n      <td>9.002390e+05</td>\n      <td>328268.000000</td>\n      <td>463562.000000</td>\n      <td>392972.000000</td>\n      <td>888732.000000</td>\n    </tr>\n    <tr>\n      <th>mean</th>\n      <td>1.357736e+06</td>\n      <td>79.683556</td>\n      <td>2.286868</td>\n      <td>2.532750</td>\n      <td>0.002272</td>\n      <td>1.024845e+03</td>\n      <td>82.613608</td>\n      <td>96.414769</td>\n      <td>87.268136</td>\n      <td>62.229933</td>\n    </tr>\n    <tr>\n      <th>std</th>\n      <td>8.037566e+05</td>\n      <td>7.418145</td>\n      <td>0.754446</td>\n      <td>0.669579</td>\n      <td>0.051287</td>\n      <td>2.639580e+05</td>\n      <td>36.835838</td>\n      <td>41.810021</td>\n      <td>40.039078</td>\n      <td>6.741679</td>\n    </tr>\n    <tr>\n      <th>min</th>\n      <td>1.000000e+00</td>\n      <td>1.000000</td>\n      <td>1.000000</td>\n      <td>1.000000</td>\n      <td>0.000000</td>\n      <td>0.000000e+00</td>\n      <td>15.000000</td>\n      <td>15.000000</td>\n      <td>15.000000</td>\n      <td>2.000000</td>\n    </tr>\n    <tr>\n      <th>25%</th>\n      <td>6.529040e+05</td>\n      <td>76.000000</td>\n      <td>2.000000</td>\n      <td>2.000000</td>\n      <td>0.000000</td>\n      <td>4.000000e+00</td>\n      <td>56.000000</td>\n      <td>62.000000</td>\n      <td>59.000000</td>\n      <td>59.000000</td>\n    </tr>\n    <tr>\n      <th>50%</th>\n      <td>1.353423e+06</td>\n      <td>82.000000</td>\n      <td>2.000000</td>\n      <td>3.000000</td>\n      <td>0.000000</td>\n      <td>1.000000e+01</td>\n      <td>73.000000</td>\n      <td>90.000000</td>\n      <td>76.000000</td>\n      <td>64.000000</td>\n    </tr>\n    <tr>\n      <th>75%</th>\n      <td>2.055012e+06</td>\n      <td>84.000000</td>\n      <td>3.000000</td>\n      <td>3.000000</td>\n      <td>0.000000</td>\n      <td>2.500000e+01</td>\n      <td>97.000000</td>\n      <td>128.000000</td>\n      <td>109.000000</td>\n      <td>68.000000</td>\n    </tr>\n    <tr>\n      <th>max</th>\n      <td>2.757782e+06</td>\n      <td>100.000000</td>\n      <td>3.000000</td>\n      <td>3.000000</td>\n      <td>2.000000</td>\n      <td>1.000000e+08</td>\n      <td>197.000000</td>\n      <td>194.000000</td>\n      <td>191.000000</td>\n      <td>82.000000</td>\n    </tr>\n  </tbody>\n</table>\n</div>"
     },
     "metadata": {},
     "execution_count": 8
    }
   ],
   "source": [
    "armour.describe()"
   ]
  },
  {
   "cell_type": "code",
   "execution_count": 10,
   "metadata": {},
   "outputs": [
    {
     "output_type": "error",
     "ename": "UndefinedTable",
     "evalue": "missing FROM-clause entry for table \"ti\"\nLINE 3:     WHERE ti.id = tim.item_id \n                  ^\n",
     "traceback": [
      "\u001b[0;31m---------------------------------------------------------------------------\u001b[0m",
      "\u001b[0;31mUndefinedTable\u001b[0m                            Traceback (most recent call last)",
      "\u001b[0;32m<ipython-input-10-4913141c3048>\u001b[0m in \u001b[0;36m<module>\u001b[0;34m\u001b[0m\n\u001b[1;32m     17\u001b[0m     \u001b[0mSELECT\u001b[0m \u001b[0;34m*\u001b[0m \u001b[0mFROM\u001b[0m \u001b[0mtrade_item\u001b[0m \u001b[0;32mas\u001b[0m \u001b[0mtis\u001b[0m\u001b[0;34m,\u001b[0m \u001b[0mtrade_item_modifier\u001b[0m \u001b[0;32mas\u001b[0m \u001b[0mtim\u001b[0m\u001b[0;34m\u001b[0m\u001b[0;34m\u001b[0m\u001b[0m\n\u001b[1;32m     18\u001b[0m     \u001b[0mWHERE\u001b[0m \u001b[0mti\u001b[0m\u001b[0;34m.\u001b[0m\u001b[0mid\u001b[0m \u001b[0;34m=\u001b[0m \u001b[0mtim\u001b[0m\u001b[0;34m.\u001b[0m\u001b[0mitem_id\u001b[0m\u001b[0;34m\u001b[0m\u001b[0;34m\u001b[0m\u001b[0m\n\u001b[0;32m---> 19\u001b[0;31m     AND ti.id = 193;''') \n\u001b[0m",
      "\u001b[0;32m~/Desktop/poe_price/src/poe_price/data/session.py\u001b[0m in \u001b[0;36mquery\u001b[0;34m(self, text)\u001b[0m\n\u001b[1;32m     26\u001b[0m \u001b[0;34m\u001b[0m\u001b[0m\n\u001b[1;32m     27\u001b[0m     \u001b[0;32mdef\u001b[0m \u001b[0mquery\u001b[0m\u001b[0;34m(\u001b[0m\u001b[0mself\u001b[0m\u001b[0;34m,\u001b[0m \u001b[0mtext\u001b[0m\u001b[0;34m)\u001b[0m\u001b[0;34m:\u001b[0m\u001b[0;34m\u001b[0m\u001b[0;34m\u001b[0m\u001b[0m\n\u001b[0;32m---> 28\u001b[0;31m         \u001b[0mself\u001b[0m\u001b[0;34m.\u001b[0m\u001b[0mcursor\u001b[0m\u001b[0;34m.\u001b[0m\u001b[0mexecute\u001b[0m\u001b[0;34m(\u001b[0m\u001b[0mtext\u001b[0m\u001b[0;34m)\u001b[0m\u001b[0;34m\u001b[0m\u001b[0;34m\u001b[0m\u001b[0m\n\u001b[0m\u001b[1;32m     29\u001b[0m         data = pd.DataFrame(self.cursor.fetchall(),\n\u001b[1;32m     30\u001b[0m                             columns=[desc[0]\n",
      "\u001b[0;31mUndefinedTable\u001b[0m: missing FROM-clause entry for table \"ti\"\nLINE 3:     WHERE ti.id = tim.item_id \n                  ^\n"
     ]
    }
   ],
   "source": [
    "with session:\n",
    "    item = session.query('''\n",
    "    SELECT * FROM trade_item as ti\n",
    "    WHERE ti.id = 193;''')\n",
    "\n",
    "    sockets =  session.query('''\n",
    "    SELECT * FROM trade_item as ti, trade_item_socket as tis\n",
    "    WHERE ti.id = tis.item_id \n",
    "    AND ti.id = 193;''')\n",
    "\n",
    "    props =  session.query('''\n",
    "    SELECT * FROM trade_item as ti, trade_item_property as tip\n",
    "    WHERE ti.id = tip.item_id \n",
    "    AND ti.id = 193;''')\n",
    "\n",
    "    mods =  session.query('''\n",
    "    SELECT * FROM trade_item as tis, trade_item_modifier as tim\n",
    "    WHERE ti.id = tim.item_id \n",
    "    AND ti.id = 193;''') "
   ]
  },
  {
   "cell_type": "code",
   "execution_count": 8,
   "metadata": {},
   "outputs": [
    {
     "output_type": "execute_result",
     "data": {
      "text/plain": "    id category corrupted duplicated  identified  ilvl influence_crusader  \\\n0  193   armour      None       None        True    83               None   \n\n  influence_elder influence_hunter influence_redeemer  ... is_stash_price  \\\n0            None             None               None  ...          False   \n\n  rarity requirement_dex  requirement_int  requirement_str  requirement_level  \\\n0   rare             138             None             None                 64   \n\n  sub_category  synthesised  talisman_tier        date  \n0       helmet         None           None  07/21/2020  \n\n[1 rows x 28 columns]",
      "text/html": "<div>\n<style scoped>\n    .dataframe tbody tr th:only-of-type {\n        vertical-align: middle;\n    }\n\n    .dataframe tbody tr th {\n        vertical-align: top;\n    }\n\n    .dataframe thead th {\n        text-align: right;\n    }\n</style>\n<table border=\"1\" class=\"dataframe\">\n  <thead>\n    <tr style=\"text-align: right;\">\n      <th></th>\n      <th>id</th>\n      <th>category</th>\n      <th>corrupted</th>\n      <th>duplicated</th>\n      <th>identified</th>\n      <th>ilvl</th>\n      <th>influence_crusader</th>\n      <th>influence_elder</th>\n      <th>influence_hunter</th>\n      <th>influence_redeemer</th>\n      <th>...</th>\n      <th>is_stash_price</th>\n      <th>rarity</th>\n      <th>requirement_dex</th>\n      <th>requirement_int</th>\n      <th>requirement_str</th>\n      <th>requirement_level</th>\n      <th>sub_category</th>\n      <th>synthesised</th>\n      <th>talisman_tier</th>\n      <th>date</th>\n    </tr>\n  </thead>\n  <tbody>\n    <tr>\n      <th>0</th>\n      <td>193</td>\n      <td>armour</td>\n      <td>None</td>\n      <td>None</td>\n      <td>True</td>\n      <td>83</td>\n      <td>None</td>\n      <td>None</td>\n      <td>None</td>\n      <td>None</td>\n      <td>...</td>\n      <td>False</td>\n      <td>rare</td>\n      <td>138</td>\n      <td>None</td>\n      <td>None</td>\n      <td>64</td>\n      <td>helmet</td>\n      <td>None</td>\n      <td>None</td>\n      <td>07/21/2020</td>\n    </tr>\n  </tbody>\n</table>\n<p>1 rows × 28 columns</p>\n</div>"
     },
     "metadata": {},
     "execution_count": 8
    }
   ],
   "source": [
    "item"
   ]
  },
  {
   "cell_type": "code",
   "execution_count": null,
   "metadata": {},
   "outputs": [],
   "source": [
    "sockets"
   ]
  },
  {
   "cell_type": "code",
   "execution_count": null,
   "metadata": {},
   "outputs": [],
   "source": [
    "props"
   ]
  },
  {
   "cell_type": "code",
   "execution_count": null,
   "metadata": {},
   "outputs": [],
   "source": [
    "mods"
   ]
  }
 ],
 "metadata": {
  "kernelspec": {
   "display_name": "Python 3.7.6 64-bit ('venv': venv)",
   "language": "python",
   "name": "python37664bitvenvvenv88b31a8caaaa482380b5daf302f7310e"
  },
  "language_info": {
   "codemirror_mode": {
    "name": "ipython",
    "version": 3
   },
   "file_extension": ".py",
   "mimetype": "text/x-python",
   "name": "python",
   "nbconvert_exporter": "python",
   "pygments_lexer": "ipython3",
   "version": "3.7.6-final"
  }
 },
 "nbformat": 4,
 "nbformat_minor": 4
}