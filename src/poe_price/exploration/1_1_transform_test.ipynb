{
 "cells": [
  {
   "cell_type": "code",
   "execution_count": 1,
   "metadata": {},
   "outputs": [],
   "source": [
    "import os\n",
    "import json\n",
    "import pandas as pd\n",
    "from datetime import datetime\n",
    "\n",
    "# transformer implementation\n",
    "from poe_price.data.etl import transformer as tr\n",
    "\n",
    "import importlib"
   ]
  },
  {
   "cell_type": "code",
   "execution_count": 22,
   "metadata": {},
   "outputs": [
    {
     "output_type": "execute_result",
     "data": {
      "text/plain": "<module 'poe_price.data.etl.transformer' from '/home/fabio/Desktop/poe_price/src/poe_price/data/etl/transformer.py'>"
     },
     "metadata": {},
     "execution_count": 22
    }
   ],
   "source": [
    "importlib.reload(tr)"
   ]
  },
  {
   "cell_type": "code",
   "execution_count": 23,
   "metadata": {},
   "outputs": [
    {
     "output_type": "execute_result",
     "data": {
      "text/plain": "(1389, 59)"
     },
     "metadata": {},
     "execution_count": 23
    }
   ],
   "source": [
    "# select test json file\n",
    "SOURCE_FOLDER = '/home/fabio/Desktop/poe_price/data/temp/test'\n",
    "items = []\n",
    "for f in os.listdir(SOURCE_FOLDER): \n",
    "    with open(os.path.join(SOURCE_FOLDER, f), 'r') as content:\n",
    "        content = json.load(content)\n",
    "        items.append(tr.extract_items(content))\n",
    "items = pd.concat(items)\n",
    "items.shape"
   ]
  },
  {
   "cell_type": "code",
   "execution_count": 29,
   "metadata": {},
   "outputs": [
    {
     "output_type": "execute_result",
     "data": {
      "text/plain": "array([[{'category': 'currency', 'baseType': 'Exalted Orb'}],\n       [{'category': 'currency', 'baseType': 'The Beautiful Guide'}],\n       [{'category': 'currency', 'baseType': \"The Servant's Heart\"}],\n       [{'category': 'currency', 'baseType': 'Divine Orb'}],\n       [{'category': 'currency', 'baseType': 'Simulacrum Splinter'}],\n       [{'category': 'currency', 'baseType': 'Timeless Vaal Splinter'}],\n       [{'category': 'currency', 'baseType': 'Stacked Deck'}],\n       [{'category': 'currency', 'baseType': 'Alchemy Shard'}],\n       [{'category': 'currency', 'baseType': 'Orb of Alteration'}],\n       [{'category': 'currency', 'baseType': \"The Jeweller's Touch\"}],\n       [{'category': 'currency', 'baseType': 'Alteration Shard'}],\n       [{'category': 'currency', 'baseType': 'Wailing Essence of Anger'}],\n       [{'category': 'currency', 'baseType': 'The Plaguemaw I'}],\n       [{'category': 'currency', 'baseType': 'A Regal Death'}],\n       [{'category': 'currency', 'baseType': 'An Unseen Peril'}],\n       [{'category': 'currency', 'baseType': \"Jeweller's Orb\"}]],\n      dtype=object)"
     },
     "metadata": {},
     "execution_count": 29
    }
   ],
   "source": [
    "items[(items.category=='currency') & (items.note.notna())][['extended']].values"
   ]
  },
  {
   "cell_type": "code",
   "execution_count": 28,
   "metadata": {
    "tags": []
   },
   "outputs": [
    {
     "output_type": "execute_result",
     "data": {
      "text/plain": "       league        date price_currency price_quantity sell_quantity  \\\n747   Harvest  07/21/2020          chaos            180             1   \n2499  Harvest  07/21/2020          chaos             18             1   \n2681  Harvest  07/21/2020          chaos             10             1   \n3443  Harvest  07/21/2020          chaos            0.4             1   \n\n     sell_currency  \n747        exalted  \n2499        divine  \n2681           alt  \n3443         jewel  ",
      "text/html": "<div>\n<style scoped>\n    .dataframe tbody tr th:only-of-type {\n        vertical-align: middle;\n    }\n\n    .dataframe tbody tr th {\n        vertical-align: top;\n    }\n\n    .dataframe thead th {\n        text-align: right;\n    }\n</style>\n<table border=\"1\" class=\"dataframe\">\n  <thead>\n    <tr style=\"text-align: right;\">\n      <th></th>\n      <th>league</th>\n      <th>date</th>\n      <th>price_currency</th>\n      <th>price_quantity</th>\n      <th>sell_quantity</th>\n      <th>sell_currency</th>\n    </tr>\n  </thead>\n  <tbody>\n    <tr>\n      <th>747</th>\n      <td>Harvest</td>\n      <td>07/21/2020</td>\n      <td>chaos</td>\n      <td>180</td>\n      <td>1</td>\n      <td>exalted</td>\n    </tr>\n    <tr>\n      <th>2499</th>\n      <td>Harvest</td>\n      <td>07/21/2020</td>\n      <td>chaos</td>\n      <td>18</td>\n      <td>1</td>\n      <td>divine</td>\n    </tr>\n    <tr>\n      <th>2681</th>\n      <td>Harvest</td>\n      <td>07/21/2020</td>\n      <td>chaos</td>\n      <td>10</td>\n      <td>1</td>\n      <td>alt</td>\n    </tr>\n    <tr>\n      <th>3443</th>\n      <td>Harvest</td>\n      <td>07/21/2020</td>\n      <td>chaos</td>\n      <td>0.4</td>\n      <td>1</td>\n      <td>jewel</td>\n    </tr>\n  </tbody>\n</table>\n</div>"
     },
     "metadata": {},
     "execution_count": 28
    }
   ],
   "source": [
    "currency = tr.extract_currencies(items)\n",
    "currency"
   ]
  },
  {
   "cell_type": "code",
   "execution_count": 8,
   "metadata": {
    "tags": []
   },
   "outputs": [],
   "source": [
    "mitems, mitems_sockets, mitems_prop, mitems_prop_voc, mitems_mods, mitems_mods_voc = tr.extract_mod_items(items)"
   ]
  },
  {
   "cell_type": "markdown",
   "metadata": {},
   "source": [
    "## Test mod based items conversion"
   ]
  },
  {
   "cell_type": "code",
   "execution_count": 27,
   "metadata": {},
   "outputs": [],
   "source": [
    "tid = mitems.sample(1).index.values[0]"
   ]
  },
  {
   "cell_type": "code",
   "execution_count": 22,
   "metadata": {},
   "outputs": [
    {
     "output_type": "execute_result",
     "data": {
      "text/plain": "       league  identified  ilvl corrupted duplicated synthesised        date  \\\n3527  Harvest        True    71       NaN        NaN         NaN  07/21/2020   \n\n     sub_category     category price_currency  ... influence_crusader  \\\n3527       amulet  accessories          chaos  ...                NaN   \n\n     influence_warlord  influence_shaper  influence_hunter influence_elder  \\\n3527               NaN               NaN               NaN             NaN   \n\n     requirement_level requirement_dex requirement_int requirement_str  \\\n3527              48.0             NaN             NaN             NaN   \n\n     talisman_tier  \n3527           NaN  \n\n[1 rows x 25 columns]",
      "text/html": "<div>\n<style scoped>\n    .dataframe tbody tr th:only-of-type {\n        vertical-align: middle;\n    }\n\n    .dataframe tbody tr th {\n        vertical-align: top;\n    }\n\n    .dataframe thead th {\n        text-align: right;\n    }\n</style>\n<table border=\"1\" class=\"dataframe\">\n  <thead>\n    <tr style=\"text-align: right;\">\n      <th></th>\n      <th>league</th>\n      <th>identified</th>\n      <th>ilvl</th>\n      <th>corrupted</th>\n      <th>duplicated</th>\n      <th>synthesised</th>\n      <th>date</th>\n      <th>sub_category</th>\n      <th>category</th>\n      <th>price_currency</th>\n      <th>...</th>\n      <th>influence_crusader</th>\n      <th>influence_warlord</th>\n      <th>influence_shaper</th>\n      <th>influence_hunter</th>\n      <th>influence_elder</th>\n      <th>requirement_level</th>\n      <th>requirement_dex</th>\n      <th>requirement_int</th>\n      <th>requirement_str</th>\n      <th>talisman_tier</th>\n    </tr>\n  </thead>\n  <tbody>\n    <tr>\n      <th>3527</th>\n      <td>Harvest</td>\n      <td>True</td>\n      <td>71</td>\n      <td>NaN</td>\n      <td>NaN</td>\n      <td>NaN</td>\n      <td>07/21/2020</td>\n      <td>amulet</td>\n      <td>accessories</td>\n      <td>chaos</td>\n      <td>...</td>\n      <td>NaN</td>\n      <td>NaN</td>\n      <td>NaN</td>\n      <td>NaN</td>\n      <td>NaN</td>\n      <td>48.0</td>\n      <td>NaN</td>\n      <td>NaN</td>\n      <td>NaN</td>\n      <td>NaN</td>\n    </tr>\n  </tbody>\n</table>\n<p>1 rows × 25 columns</p>\n</div>"
     },
     "metadata": {},
     "execution_count": 22
    }
   ],
   "source": [
    "mitems.loc[tid]"
   ]
  },
  {
   "cell_type": "code",
   "execution_count": 38,
   "metadata": {},
   "outputs": [
    {
     "output_type": "display_data",
     "data": {
      "text/plain": "                                          text          type  item_id  \\\n1917                   +#% to Chaos Resistance  explicitMods     2652   \n1915  +#% to Chaos Damage over Time Multiplier   craftedMods     2652   \n1916          +# to Level of Socketed Bow Gems  explicitMods     2652   \n1918      Bow Attacks fire an additional Arrow  explicitMods     2652   \n\n      modifier_id  value0  value1  \n1917           33    23.0     NaN  \n1915          316    33.0     NaN  \n1916          317     2.0     NaN  \n1918          318     NaN     NaN  ",
      "text/html": "<div>\n<style scoped>\n    .dataframe tbody tr th:only-of-type {\n        vertical-align: middle;\n    }\n\n    .dataframe tbody tr th {\n        vertical-align: top;\n    }\n\n    .dataframe thead th {\n        text-align: right;\n    }\n</style>\n<table border=\"1\" class=\"dataframe\">\n  <thead>\n    <tr style=\"text-align: right;\">\n      <th></th>\n      <th>text</th>\n      <th>type</th>\n      <th>item_id</th>\n      <th>modifier_id</th>\n      <th>value0</th>\n      <th>value1</th>\n    </tr>\n  </thead>\n  <tbody>\n    <tr>\n      <th>1917</th>\n      <td>+#% to Chaos Resistance</td>\n      <td>explicitMods</td>\n      <td>2652</td>\n      <td>33</td>\n      <td>23.0</td>\n      <td>NaN</td>\n    </tr>\n    <tr>\n      <th>1915</th>\n      <td>+#% to Chaos Damage over Time Multiplier</td>\n      <td>craftedMods</td>\n      <td>2652</td>\n      <td>316</td>\n      <td>33.0</td>\n      <td>NaN</td>\n    </tr>\n    <tr>\n      <th>1916</th>\n      <td>+# to Level of Socketed Bow Gems</td>\n      <td>explicitMods</td>\n      <td>2652</td>\n      <td>317</td>\n      <td>2.0</td>\n      <td>NaN</td>\n    </tr>\n    <tr>\n      <th>1918</th>\n      <td>Bow Attacks fire an additional Arrow</td>\n      <td>explicitMods</td>\n      <td>2652</td>\n      <td>318</td>\n      <td>NaN</td>\n      <td>NaN</td>\n    </tr>\n  </tbody>\n</table>\n</div>"
     },
     "metadata": {}
    },
    {
     "output_type": "display_data",
     "data": {
      "text/plain": "nan"
     },
     "metadata": {}
    },
    {
     "output_type": "display_data",
     "data": {
      "text/plain": "['+2 to Level of Socketed Bow Gems',\n '+23% to Chaos Resistance',\n 'Bow Attacks fire an additional Arrow']"
     },
     "metadata": {}
    },
    {
     "output_type": "display_data",
     "data": {
      "text/plain": "['+33% to Chaos Damage over Time Multiplier']"
     },
     "metadata": {}
    },
    {
     "output_type": "display_data",
     "data": {
      "text/plain": "nan"
     },
     "metadata": {}
    }
   ],
   "source": [
    "display(pd.merge(mitems_mods_voc, mitems_mods[mitems_mods.item_id==tid], left_index=True, right_on='modifier_id'))\n",
    "\n",
    "display(items.loc[tid].implicitMods)\n",
    "\n",
    "display(items.loc[tid].explicitMods)\n",
    "\n",
    "display(items.loc[tid].craftedMods)\n",
    "\n",
    "display(items.loc[tid].enchantMods)"
   ]
  },
  {
   "cell_type": "code",
   "execution_count": 44,
   "metadata": {},
   "outputs": [
    {
     "output_type": "display_data",
     "data": {
      "text/plain": "                       text  item_id  property_id  value0  value1\n456                 Quality     2652            0    20.0     NaN\n457         Physical Damage     2652            1    26.0    80.0\n458  Critical Strike Chance     2652            2     5.0     NaN\n459      Attacks per Second     2652            3     1.5     NaN",
      "text/html": "<div>\n<style scoped>\n    .dataframe tbody tr th:only-of-type {\n        vertical-align: middle;\n    }\n\n    .dataframe tbody tr th {\n        vertical-align: top;\n    }\n\n    .dataframe thead th {\n        text-align: right;\n    }\n</style>\n<table border=\"1\" class=\"dataframe\">\n  <thead>\n    <tr style=\"text-align: right;\">\n      <th></th>\n      <th>text</th>\n      <th>item_id</th>\n      <th>property_id</th>\n      <th>value0</th>\n      <th>value1</th>\n    </tr>\n  </thead>\n  <tbody>\n    <tr>\n      <th>456</th>\n      <td>Quality</td>\n      <td>2652</td>\n      <td>0</td>\n      <td>20.0</td>\n      <td>NaN</td>\n    </tr>\n    <tr>\n      <th>457</th>\n      <td>Physical Damage</td>\n      <td>2652</td>\n      <td>1</td>\n      <td>26.0</td>\n      <td>80.0</td>\n    </tr>\n    <tr>\n      <th>458</th>\n      <td>Critical Strike Chance</td>\n      <td>2652</td>\n      <td>2</td>\n      <td>5.0</td>\n      <td>NaN</td>\n    </tr>\n    <tr>\n      <th>459</th>\n      <td>Attacks per Second</td>\n      <td>2652</td>\n      <td>3</td>\n      <td>1.5</td>\n      <td>NaN</td>\n    </tr>\n  </tbody>\n</table>\n</div>"
     },
     "metadata": {}
    },
    {
     "output_type": "display_data",
     "data": {
      "text/plain": "[{'name': 'Bow', 'values': [], 'displayMode': 0},\n {'name': 'Quality', 'values': [['+20%', 1]], 'displayMode': 0, 'type': 6},\n {'name': 'Physical Damage',\n  'values': [['26-80', 1]],\n  'displayMode': 0,\n  'type': 9},\n {'name': 'Critical Strike Chance',\n  'values': [['5.00%', 0]],\n  'displayMode': 0,\n  'type': 12},\n {'name': 'Attacks per Second',\n  'values': [['1.50', 0]],\n  'displayMode': 0,\n  'type': 13}]"
     },
     "metadata": {}
    }
   ],
   "source": [
    "display(pd.merge(mitems_prop_voc, mitems_prop[mitems_prop.item_id==tid], left_index=True, right_on='property_id'))\n",
    "\n",
    "display(items.loc[tid].properties)"
   ]
  },
  {
   "cell_type": "code",
   "execution_count": 47,
   "metadata": {},
   "outputs": [
    {
     "output_type": "display_data",
     "data": {
      "text/plain": "     item_id colour  socket_group\n435     2652      G             0\n436     2652      G             0\n437     2652      G             0\n438     2652      G             0\n439     2652      B             0",
      "text/html": "<div>\n<style scoped>\n    .dataframe tbody tr th:only-of-type {\n        vertical-align: middle;\n    }\n\n    .dataframe tbody tr th {\n        vertical-align: top;\n    }\n\n    .dataframe thead th {\n        text-align: right;\n    }\n</style>\n<table border=\"1\" class=\"dataframe\">\n  <thead>\n    <tr style=\"text-align: right;\">\n      <th></th>\n      <th>item_id</th>\n      <th>colour</th>\n      <th>socket_group</th>\n    </tr>\n  </thead>\n  <tbody>\n    <tr>\n      <th>435</th>\n      <td>2652</td>\n      <td>G</td>\n      <td>0</td>\n    </tr>\n    <tr>\n      <th>436</th>\n      <td>2652</td>\n      <td>G</td>\n      <td>0</td>\n    </tr>\n    <tr>\n      <th>437</th>\n      <td>2652</td>\n      <td>G</td>\n      <td>0</td>\n    </tr>\n    <tr>\n      <th>438</th>\n      <td>2652</td>\n      <td>G</td>\n      <td>0</td>\n    </tr>\n    <tr>\n      <th>439</th>\n      <td>2652</td>\n      <td>B</td>\n      <td>0</td>\n    </tr>\n  </tbody>\n</table>\n</div>"
     },
     "metadata": {}
    },
    {
     "output_type": "execute_result",
     "data": {
      "text/plain": "[{'group': 0, 'attr': 'D', 'sColour': 'G', 'item_id': 2652},\n {'group': 0, 'attr': 'D', 'sColour': 'G', 'item_id': 2652},\n {'group': 0, 'attr': 'D', 'sColour': 'G', 'item_id': 2652},\n {'group': 0, 'attr': 'D', 'sColour': 'G', 'item_id': 2652},\n {'group': 0, 'attr': 'I', 'sColour': 'B', 'item_id': 2652}]"
     },
     "metadata": {},
     "execution_count": 47
    }
   ],
   "source": [
    "display(mitems_sockets[mitems_sockets.item_id==tid])\n",
    "\n",
    "items.loc[tid].sockets"
   ]
  }
 ],
 "metadata": {
  "kernelspec": {
   "display_name": "Python 3.7.6 64-bit ('venv': venv)",
   "language": "python",
   "name": "python37664bitvenvvenv73ccc0d40c0c4b90ae292fe7f67d3d14"
  },
  "language_info": {
   "codemirror_mode": {
    "name": "ipython",
    "version": 3
   },
   "file_extension": ".py",
   "mimetype": "text/x-python",
   "name": "python",
   "nbconvert_exporter": "python",
   "pygments_lexer": "ipython3",
   "version": "3.7.6-final"
  }
 },
 "nbformat": 4,
 "nbformat_minor": 4
}