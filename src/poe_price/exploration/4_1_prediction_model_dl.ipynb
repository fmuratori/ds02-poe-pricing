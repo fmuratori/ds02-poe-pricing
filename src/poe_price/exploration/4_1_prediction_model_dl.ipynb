{
 "cells": [
  {
   "cell_type": "code",
   "execution_count": 1,
   "metadata": {},
   "outputs": [],
   "source": [
    "import sys\n",
    "import time\n",
    "import pickle\n",
    "import numpy as np\n",
    "import pandas as pd\n",
    "import matplotlib.pyplot as plt\n",
    "from scipy.sparse import hstack\n",
    "\n",
    "import configparser\n",
    "\n",
    "sys.path.append('/home/fabio/Desktop/poe_price')\n",
    "from poe_price.learn import feature, preprocess\n",
    "from poe_price.data import select\n",
    "\n",
    "pd.set_option('display.max_columns', None)"
   ]
  },
  {
   "cell_type": "code",
   "execution_count": 2,
   "metadata": {},
   "outputs": [
    {
     "data": {
      "text/plain": [
       "['/home/fabio/Desktop/poe_price/data/database/connect.ini']"
      ]
     },
     "execution_count": 2,
     "metadata": {},
     "output_type": "execute_result"
    }
   ],
   "source": [
    "conn_config = configparser.ConfigParser()\n",
    "conn_config.read('/home/fabio/Desktop/poe_price/data/database/connect.ini')"
   ]
  },
  {
   "cell_type": "code",
   "execution_count": 3,
   "metadata": {},
   "outputs": [],
   "source": [
    "items = select.get_armours(conn_config['postgresql'], currency_types=['chaos', 'exalted'])\n",
    "\n",
    "currency = select.get_currency(conn_config['postgresql'])"
   ]
  },
  {
   "cell_type": "markdown",
   "metadata": {},
   "source": [
    "# Feature extraction"
   ]
  },
  {
   "cell_type": "code",
   "execution_count": 5,
   "metadata": {},
   "outputs": [],
   "source": [
    "X = []\n",
    "X.append(feature.corrupted(items))\n",
    "# X.append(feature.duplicated(items))\n",
    "# X.append(feature.identified(items))\n",
    "# X.append(feature.requirements(items))\n",
    "# X.append(feature.veiled(items, how='flag'))\n",
    "# X.append(feature.influences(items))\n",
    "X.append(feature.sockets(items))\n",
    "# X.append(feature.is_abyss_jewel(items))\n",
    "\n",
    "mods = feature.Modifiers(how='mean')\n",
    "X.append(mods.fit_transform(items))\n",
    "\n",
    "props = feature.Properties(how='mean')\n",
    "X.append(props.fit_transform(items))\n",
    "\n",
    "# categ = feature.Category()\n",
    "# X.append(categ.fit_transform(items))\n",
    "\n",
    "# subcateg = feature.SubCategories()\n",
    "# X.append(subcateg.fit_transform(items))\n",
    "\n",
    "rarity = feature.Rarity()\n",
    "X.append(rarity.fit_transform(items))"
   ]
  },
  {
   "cell_type": "code",
   "execution_count": 8,
   "metadata": {
    "collapsed": true,
    "jupyter": {
     "outputs_hidden": true
    }
   },
   "outputs": [
    {
     "ename": "TypeError",
     "evalue": "sparse matrix length is ambiguous; use getnnz() or shape[0]",
     "output_type": "error",
     "traceback": [
      "\u001b[0;31m---------------------------------------------------------------------------\u001b[0m",
      "\u001b[0;31mTypeError\u001b[0m                                 Traceback (most recent call last)",
      "\u001b[0;32m<ipython-input-8-abddd74139f9>\u001b[0m in \u001b[0;36m<module>\u001b[0;34m\u001b[0m\n\u001b[0;32m----> 1\u001b[0;31m \u001b[0mlen\u001b[0m\u001b[0;34m(\u001b[0m\u001b[0mX\u001b[0m\u001b[0;34m)\u001b[0m\u001b[0;34m,\u001b[0m \u001b[0;34m[\u001b[0m\u001b[0mv\u001b[0m\u001b[0;34m.\u001b[0m\u001b[0mshape\u001b[0m \u001b[0;32mfor\u001b[0m \u001b[0mv\u001b[0m \u001b[0;32min\u001b[0m \u001b[0mX\u001b[0m\u001b[0;34m]\u001b[0m\u001b[0;34m\u001b[0m\u001b[0;34m\u001b[0m\u001b[0m\n\u001b[0m",
      "\u001b[0;32m~/Desktop/poe_price/venv/lib/python3.7/site-packages/scipy/sparse/base.py\u001b[0m in \u001b[0;36m__len__\u001b[0;34m(self)\u001b[0m\n\u001b[1;32m    293\u001b[0m     \u001b[0;31m# non-zeros is more important.  For now, raise an exception!\u001b[0m\u001b[0;34m\u001b[0m\u001b[0;34m\u001b[0m\u001b[0;34m\u001b[0m\u001b[0m\n\u001b[1;32m    294\u001b[0m     \u001b[0;32mdef\u001b[0m \u001b[0m__len__\u001b[0m\u001b[0;34m(\u001b[0m\u001b[0mself\u001b[0m\u001b[0;34m)\u001b[0m\u001b[0;34m:\u001b[0m\u001b[0;34m\u001b[0m\u001b[0;34m\u001b[0m\u001b[0m\n\u001b[0;32m--> 295\u001b[0;31m         raise TypeError(\"sparse matrix length is ambiguous; use getnnz()\"\n\u001b[0m\u001b[1;32m    296\u001b[0m                         \" or shape[0]\")\n\u001b[1;32m    297\u001b[0m \u001b[0;34m\u001b[0m\u001b[0m\n",
      "\u001b[0;31mTypeError\u001b[0m: sparse matrix length is ambiguous; use getnnz() or shape[0]"
     ]
    }
   ],
   "source": [
    "len(X), [v.shape for v in X]"
   ]
  },
  {
   "cell_type": "code",
   "execution_count": 7,
   "metadata": {},
   "outputs": [
    {
     "data": {
      "text/plain": [
       "((151898, 1318), (151898, 28))"
      ]
     },
     "execution_count": 7,
     "metadata": {},
     "output_type": "execute_result"
    }
   ],
   "source": [
    "X = hstack(X)\n",
    "X.shape, items['trade_item'].shape"
   ]
  },
  {
   "cell_type": "code",
   "execution_count": 8,
   "metadata": {},
   "outputs": [],
   "source": [
    "price_transformer = feature.Price()\n",
    "\n",
    "y = price_transformer.fit_transform(items, currency)"
   ]
  },
  {
   "cell_type": "markdown",
   "metadata": {},
   "source": [
    "# Preprocessing"
   ]
  },
  {
   "cell_type": "code",
   "execution_count": 3,
   "metadata": {},
   "outputs": [],
   "source": [
    "with open('/home/fabio/Desktop/poe_price/data/temp/X.pkl', 'rb') as f:\n",
    "    X = pickle.load(f)\n",
    "\n",
    "with open('/home/fabio/Desktop/poe_price/data/temp/y.pkl', 'rb') as f:\n",
    "    y = pickle.load(f)"
   ]
  },
  {
   "cell_type": "code",
   "execution_count": 4,
   "metadata": {},
   "outputs": [
    {
     "data": {
      "text/plain": [
       "(151898, 1318)"
      ]
     },
     "execution_count": 4,
     "metadata": {},
     "output_type": "execute_result"
    }
   ],
   "source": [
    "X.shape"
   ]
  },
  {
   "cell_type": "code",
   "execution_count": 5,
   "metadata": {},
   "outputs": [
    {
     "data": {
      "text/plain": [
       "(151898, 1318)"
      ]
     },
     "execution_count": 5,
     "metadata": {},
     "output_type": "execute_result"
    }
   ],
   "source": [
    "# coo_matrix -> csr_matrix\n",
    "X = preprocess.remove_empty_features(X.tocsr())\n",
    "X.shape"
   ]
  },
  {
   "cell_type": "code",
   "execution_count": 6,
   "metadata": {},
   "outputs": [],
   "source": [
    "X = X.toarray()"
   ]
  },
  {
   "cell_type": "code",
   "execution_count": 7,
   "metadata": {},
   "outputs": [
    {
     "data": {
      "text/plain": [
       "(150384, 1318)"
      ]
     },
     "execution_count": 7,
     "metadata": {},
     "output_type": "execute_result"
    }
   ],
   "source": [
    "X, y = preprocess.price_bounds_row_removal(X, y, 0, 1000)\n",
    "X.shape"
   ]
  },
  {
   "cell_type": "code",
   "execution_count": 8,
   "metadata": {},
   "outputs": [],
   "source": [
    "from sklearn.preprocessing import MinMaxScaler\n",
    "\n",
    "sc_X = MinMaxScaler()\n",
    "sc_y = MinMaxScaler()\n",
    "\n",
    "X_scaled = sc_X.fit_transform(X)\n",
    "y_scaled = sc_y.fit_transform(y)"
   ]
  },
  {
   "cell_type": "code",
   "execution_count": 9,
   "metadata": {},
   "outputs": [],
   "source": [
    "from sklearn.decomposition import TruncatedSVD, PCA, KernelPCA\n",
    "\n",
    "tsvd = TruncatedSVD(10, n_iter=10, random_state=42)\n",
    "X_reduced = tsvd.fit_transform(X_scaled)\n",
    "\n",
    "# pca = PCA(10, random_state=42)\n",
    "# X_reduced = pca.fit_transform(X_scaled)\n",
    "\n",
    "# kpca = KernelPCA(10, kernel='poly', degree=3, random_state=42, n_jobs=2)\n",
    "# X_reduced = kpca.fit_transform(X_scaled)"
   ]
  },
  {
   "cell_type": "markdown",
   "metadata": {},
   "source": [
    "### backward elimination (r2 score + p value)"
   ]
  },
  {
   "cell_type": "code",
   "execution_count": 10,
   "metadata": {
    "collapsed": true,
    "jupyter": {
     "outputs_hidden": true
    }
   },
   "outputs": [
    {
     "data": {
      "text/html": [
       "<table class=\"simpletable\">\n",
       "<caption>OLS Regression Results</caption>\n",
       "<tr>\n",
       "  <th>Dep. Variable:</th>            <td>y</td>        <th>  R-squared (uncentered):</th>       <td>   0.179</td> \n",
       "</tr>\n",
       "<tr>\n",
       "  <th>Model:</th>                   <td>OLS</td>       <th>  Adj. R-squared (uncentered):</th>  <td>   0.179</td> \n",
       "</tr>\n",
       "<tr>\n",
       "  <th>Method:</th>             <td>Least Squares</td>  <th>  F-statistic:       </th>           <td>   3287.</td> \n",
       "</tr>\n",
       "<tr>\n",
       "  <th>Date:</th>             <td>Tue, 04 Aug 2020</td> <th>  Prob (F-statistic):</th>            <td>  0.00</td>  \n",
       "</tr>\n",
       "<tr>\n",
       "  <th>Time:</th>                 <td>11:20:41</td>     <th>  Log-Likelihood:    </th>          <td>1.2550e+05</td>\n",
       "</tr>\n",
       "<tr>\n",
       "  <th>No. Observations:</th>      <td>150384</td>      <th>  AIC:               </th>          <td>-2.510e+05</td>\n",
       "</tr>\n",
       "<tr>\n",
       "  <th>Df Residuals:</th>          <td>150374</td>      <th>  BIC:               </th>          <td>-2.509e+05</td>\n",
       "</tr>\n",
       "<tr>\n",
       "  <th>Df Model:</th>              <td>    10</td>      <th>                     </th>               <td> </td>    \n",
       "</tr>\n",
       "<tr>\n",
       "  <th>Covariance Type:</th>      <td>nonrobust</td>    <th>                     </th>               <td> </td>    \n",
       "</tr>\n",
       "</table>\n",
       "<table class=\"simpletable\">\n",
       "<tr>\n",
       "   <td></td>      <th>coef</th>     <th>std err</th>      <th>t</th>      <th>P>|t|</th>  <th>[0.025</th>    <th>0.975]</th>  \n",
       "</tr>\n",
       "<tr>\n",
       "  <th>x1</th>  <td>    0.0358</td> <td>    0.000</td> <td>  171.288</td> <td> 0.000</td> <td>    0.035</td> <td>    0.036</td>\n",
       "</tr>\n",
       "<tr>\n",
       "  <th>x2</th>  <td>   -0.0048</td> <td>    0.001</td> <td>   -6.134</td> <td> 0.000</td> <td>   -0.006</td> <td>   -0.003</td>\n",
       "</tr>\n",
       "<tr>\n",
       "  <th>x3</th>  <td>    0.0023</td> <td>    0.001</td> <td>    2.789</td> <td> 0.005</td> <td>    0.001</td> <td>    0.004</td>\n",
       "</tr>\n",
       "<tr>\n",
       "  <th>x4</th>  <td>    0.0076</td> <td>    0.001</td> <td>    9.185</td> <td> 0.000</td> <td>    0.006</td> <td>    0.009</td>\n",
       "</tr>\n",
       "<tr>\n",
       "  <th>x5</th>  <td>    0.0107</td> <td>    0.001</td> <td>   12.733</td> <td> 0.000</td> <td>    0.009</td> <td>    0.012</td>\n",
       "</tr>\n",
       "<tr>\n",
       "  <th>x6</th>  <td>    0.0311</td> <td>    0.001</td> <td>   33.325</td> <td> 0.000</td> <td>    0.029</td> <td>    0.033</td>\n",
       "</tr>\n",
       "<tr>\n",
       "  <th>x7</th>  <td>   -0.0115</td> <td>    0.001</td> <td>  -10.877</td> <td> 0.000</td> <td>   -0.014</td> <td>   -0.009</td>\n",
       "</tr>\n",
       "<tr>\n",
       "  <th>x8</th>  <td>   -0.0428</td> <td>    0.001</td> <td>  -38.036</td> <td> 0.000</td> <td>   -0.045</td> <td>   -0.041</td>\n",
       "</tr>\n",
       "<tr>\n",
       "  <th>x9</th>  <td>   -0.0183</td> <td>    0.001</td> <td>  -15.602</td> <td> 0.000</td> <td>   -0.021</td> <td>   -0.016</td>\n",
       "</tr>\n",
       "<tr>\n",
       "  <th>x10</th> <td>    0.0222</td> <td>    0.001</td> <td>   17.895</td> <td> 0.000</td> <td>    0.020</td> <td>    0.025</td>\n",
       "</tr>\n",
       "</table>\n",
       "<table class=\"simpletable\">\n",
       "<tr>\n",
       "  <th>Omnibus:</th>       <td>145037.516</td> <th>  Durbin-Watson:     </th>  <td>   1.831</td>  \n",
       "</tr>\n",
       "<tr>\n",
       "  <th>Prob(Omnibus):</th>   <td> 0.000</td>   <th>  Jarque-Bera (JB):  </th> <td>5897534.776</td>\n",
       "</tr>\n",
       "<tr>\n",
       "  <th>Skew:</th>            <td> 4.852</td>   <th>  Prob(JB):          </th>  <td>    0.00</td>  \n",
       "</tr>\n",
       "<tr>\n",
       "  <th>Kurtosis:</th>        <td>32.103</td>   <th>  Cond. No.          </th>  <td>    5.93</td>  \n",
       "</tr>\n",
       "</table><br/><br/>Warnings:<br/>[1] Standard Errors assume that the covariance matrix of the errors is correctly specified."
      ],
      "text/plain": [
       "<class 'statsmodels.iolib.summary.Summary'>\n",
       "\"\"\"\n",
       "                                 OLS Regression Results                                \n",
       "=======================================================================================\n",
       "Dep. Variable:                      y   R-squared (uncentered):                   0.179\n",
       "Model:                            OLS   Adj. R-squared (uncentered):              0.179\n",
       "Method:                 Least Squares   F-statistic:                              3287.\n",
       "Date:                Tue, 04 Aug 2020   Prob (F-statistic):                        0.00\n",
       "Time:                        11:20:41   Log-Likelihood:                      1.2550e+05\n",
       "No. Observations:              150384   AIC:                                 -2.510e+05\n",
       "Df Residuals:                  150374   BIC:                                 -2.509e+05\n",
       "Df Model:                          10                                                  \n",
       "Covariance Type:            nonrobust                                                  \n",
       "==============================================================================\n",
       "                 coef    std err          t      P>|t|      [0.025      0.975]\n",
       "------------------------------------------------------------------------------\n",
       "x1             0.0358      0.000    171.288      0.000       0.035       0.036\n",
       "x2            -0.0048      0.001     -6.134      0.000      -0.006      -0.003\n",
       "x3             0.0023      0.001      2.789      0.005       0.001       0.004\n",
       "x4             0.0076      0.001      9.185      0.000       0.006       0.009\n",
       "x5             0.0107      0.001     12.733      0.000       0.009       0.012\n",
       "x6             0.0311      0.001     33.325      0.000       0.029       0.033\n",
       "x7            -0.0115      0.001    -10.877      0.000      -0.014      -0.009\n",
       "x8            -0.0428      0.001    -38.036      0.000      -0.045      -0.041\n",
       "x9            -0.0183      0.001    -15.602      0.000      -0.021      -0.016\n",
       "x10            0.0222      0.001     17.895      0.000       0.020       0.025\n",
       "==============================================================================\n",
       "Omnibus:                   145037.516   Durbin-Watson:                   1.831\n",
       "Prob(Omnibus):                  0.000   Jarque-Bera (JB):          5897534.776\n",
       "Skew:                           4.852   Prob(JB):                         0.00\n",
       "Kurtosis:                      32.103   Cond. No.                         5.93\n",
       "==============================================================================\n",
       "\n",
       "Warnings:\n",
       "[1] Standard Errors assume that the covariance matrix of the errors is correctly specified.\n",
       "\"\"\""
      ]
     },
     "execution_count": 10,
     "metadata": {},
     "output_type": "execute_result"
    }
   ],
   "source": [
    "import statsmodels.api as sm\n",
    "regressor_OLS = sm.OLS(y_scaled, X_reduced).fit()\n",
    "# regressor_OLS.summary()"
   ]
  },
  {
   "cell_type": "code",
   "execution_count": 11,
   "metadata": {},
   "outputs": [
    {
     "name": "stdout",
     "output_type": "stream",
     "text": [
      "[0/10 (0.0%) computed in 0 seconds]: R2=0.17938, R2_norm=0.17933, Highets P_value:0.00529\n",
      "[1/10 (0.1%) computed in 0 seconds]: R2=0.17938, R2_norm=0.17933, Highets P_value:0.00529\n",
      "[2/10 (0.2%) computed in 0 seconds]: R2=0.17938, R2_norm=0.17933, Highets P_value:0.00529\n",
      "[3/10 (0.3%) computed in 0 seconds]: R2=0.17938, R2_norm=0.17933, Highets P_value:0.00529\n",
      "[4/10 (0.4%) computed in 0 seconds]: R2=0.17938, R2_norm=0.17933, Highets P_value:0.00529\n",
      "[5/10 (0.5%) computed in 0 seconds]: R2=0.17938, R2_norm=0.17933, Highets P_value:0.00529\n",
      "[6/10 (0.6%) computed in 0 seconds]: R2=0.17938, R2_norm=0.17933, Highets P_value:0.00529\n",
      "[7/10 (0.7%) computed in 0 seconds]: R2=0.17938, R2_norm=0.17933, Highets P_value:0.00529\n",
      "[8/10 (0.8%) computed in 0 seconds]: R2=0.17938, R2_norm=0.17933, Highets P_value:0.00529\n",
      "[9/10 (0.9%) computed in 0 seconds]: R2=0.17938, R2_norm=0.17933, Highets P_value:0.00529\n"
     ]
    },
    {
     "data": {
      "text/plain": [
       "(150384, 10)"
      ]
     },
     "execution_count": 11,
     "metadata": {},
     "output_type": "execute_result"
    }
   ],
   "source": [
    "def backwardElimination(x, sl):\n",
    "    stats = []\n",
    "    \n",
    "    numVars = len(x[0])\n",
    "    for i in range(0, numVars):\n",
    "        a = time.time()\n",
    "        \n",
    "        regressor_OLS = sm.OLS(y, x).fit()\n",
    "        maxVar = max(regressor_OLS.pvalues).astype(float)\n",
    "        if maxVar > sl:\n",
    "            for j in range(0, numVars - i):\n",
    "                if (regressor_OLS.pvalues[j].astype(float) == maxVar):\n",
    "                    x = np.delete(x, j, 1)\n",
    "                    \n",
    "        b = time.time()            \n",
    "        print('[{}/{} ({}%) computed in {} seconds]: R2={}, R2_norm={}, Highets P_value:{}'.format(i, numVars, \n",
    "            round(i/numVars, 3), int(b-a), round(regressor_OLS.rsquared, 5), round(regressor_OLS.rsquared_adj, 5), \n",
    "            round(maxVar, 5)))\n",
    "        stats.append((regressor_OLS.rsquared, regressor_OLS.rsquared_adj, maxVar))\n",
    "        \n",
    "    regressor_OLS.summary()\n",
    "    return x, stats\n",
    "\n",
    "SL = 0.05\n",
    "X_clean, stats = backwardElimination(X_reduced, SL)\n",
    "X_clean.shape"
   ]
  },
  {
   "cell_type": "code",
   "execution_count": 12,
   "metadata": {},
   "outputs": [],
   "source": [
    "from sklearn.model_selection import train_test_split\n",
    "X_train, X_test, y_train, y_test = train_test_split(X_clean, y_scaled, test_size = 0.1, random_state = 0)"
   ]
  },
  {
   "cell_type": "code",
   "execution_count": 13,
   "metadata": {},
   "outputs": [
    {
     "data": {
      "text/plain": [
       "((135345, 10), (15039, 10), (135345, 1), (15039, 1))"
      ]
     },
     "execution_count": 13,
     "metadata": {},
     "output_type": "execute_result"
    }
   ],
   "source": [
    "X_train.shape, X_test.shape, y_train.shape, y_test.shape"
   ]
  },
  {
   "cell_type": "markdown",
   "metadata": {},
   "source": [
    "# Regression Models"
   ]
  },
  {
   "cell_type": "code",
   "execution_count": 14,
   "metadata": {},
   "outputs": [],
   "source": [
    "from sklearn.metrics import r2_score, mean_absolute_error, mean_squared_error \n",
    "\n",
    "def get_metrics(y_train, y_test, y_train_pred, y_test_pred):\n",
    "    r2_train = r2_score(y_train, y_train_pred)\n",
    "    r2_test = r2_score(y_test, y_test_pred)\n",
    "\n",
    "    mae_train = mean_absolute_error(y_train, y_train_pred)\n",
    "    mae_test = mean_absolute_error(y_test, y_test_pred)\n",
    "\n",
    "    mse_train = mean_squared_error(y_train, y_train_pred)\n",
    "    mse_test = mean_squared_error(y_test, y_test_pred)\n",
    "\n",
    "    return r2_train, r2_test, mae_train, mae_test, mse_train, mse_test\n"
   ]
  },
  {
   "cell_type": "markdown",
   "metadata": {},
   "source": [
    "## Deep learning"
   ]
  },
  {
   "cell_type": "code",
   "execution_count": 24,
   "metadata": {},
   "outputs": [
    {
     "data": {
      "text/plain": [
       "(135345, 10)"
      ]
     },
     "execution_count": 24,
     "metadata": {},
     "output_type": "execute_result"
    }
   ],
   "source": [
    "X_train.shape"
   ]
  },
  {
   "cell_type": "code",
   "execution_count": 16,
   "metadata": {},
   "outputs": [],
   "source": [
    "from tensorflow import keras\n",
    "from tensorflow.keras import layers\n",
    "from tensorflow.keras.models import Sequential\n",
    "from tensorflow.keras.layers import Dense, Dropout"
   ]
  },
  {
   "cell_type": "code",
   "execution_count": 39,
   "metadata": {},
   "outputs": [],
   "source": [
    "from tensorflow.keras import backend as K\n",
    "\n",
    "def coeff_determination(y_true, y_pred):\n",
    "    SS_res =  K.sum(K.square( y_true-y_pred ))\n",
    "    SS_tot = K.sum(K.square( y_true - K.mean(y_true) ) )\n",
    "    return ( 1 - SS_res/(SS_tot + K.epsilon()) )"
   ]
  },
  {
   "cell_type": "code",
   "execution_count": 41,
   "metadata": {},
   "outputs": [
    {
     "name": "stdout",
     "output_type": "stream",
     "text": [
      "Model: \"sequential_6\"\n",
      "_________________________________________________________________\n",
      "Layer (type)                 Output Shape              Param #   \n",
      "=================================================================\n",
      "dense_24 (Dense)             (None, 1024)              11264     \n",
      "_________________________________________________________________\n",
      "dropout_12 (Dropout)         (None, 1024)              0         \n",
      "_________________________________________________________________\n",
      "dense_25 (Dense)             (None, 1024)              1049600   \n",
      "_________________________________________________________________\n",
      "dropout_13 (Dropout)         (None, 1024)              0         \n",
      "_________________________________________________________________\n",
      "dense_26 (Dense)             (None, 256)               262400    \n",
      "_________________________________________________________________\n",
      "dense_27 (Dense)             (None, 1)                 257       \n",
      "=================================================================\n",
      "Total params: 1,323,521\n",
      "Trainable params: 1,323,521\n",
      "Non-trainable params: 0\n",
      "_________________________________________________________________\n"
     ]
    }
   ],
   "source": [
    "model = Sequential()\n",
    "model.add(Dense(1024, input_dim=X_train.shape[1], kernel_initializer='normal', activation='relu'))\n",
    "model.add(Dropout(0.2))\n",
    "model.add(Dense(1024, activation='relu'))\n",
    "model.add(Dropout(0.2))\n",
    "model.add(Dense(256, activation='relu'))\n",
    "model.add(Dense(1, activation='linear'))\n",
    "model.compile(loss='mse', optimizer='adam', metrics=[coeff_determination])\n",
    "model.summary()"
   ]
  },
  {
   "cell_type": "code",
   "execution_count": 42,
   "metadata": {},
   "outputs": [
    {
     "name": "stdout",
     "output_type": "stream",
     "text": [
      "Epoch 1/100\n",
      "476/476 [==============================] - 15s 31ms/step - loss: 0.0116 - coeff_determination: -0.0192 - val_loss: 0.0103 - val_coeff_determination: 0.0762\n",
      "Epoch 2/100\n",
      "476/476 [==============================] - 15s 31ms/step - loss: 0.0102 - coeff_determination: 0.0961 - val_loss: 0.0101 - val_coeff_determination: 0.0976\n",
      "Epoch 3/100\n",
      "476/476 [==============================] - 15s 31ms/step - loss: 0.0101 - coeff_determination: 0.1091 - val_loss: 0.0100 - val_coeff_determination: 0.1014\n",
      "Epoch 4/100\n",
      "476/476 [==============================] - 16s 33ms/step - loss: 0.0100 - coeff_determination: 0.1126 - val_loss: 0.0102 - val_coeff_determination: 0.0964\n",
      "Epoch 5/100\n",
      "476/476 [==============================] - 16s 33ms/step - loss: 0.0099 - coeff_determination: 0.1168 - val_loss: 0.0100 - val_coeff_determination: 0.1022\n",
      "Epoch 6/100\n",
      "476/476 [==============================] - 16s 33ms/step - loss: 0.0099 - coeff_determination: 0.1235 - val_loss: 0.0100 - val_coeff_determination: 0.1073\n",
      "Epoch 7/100\n",
      "476/476 [==============================] - 16s 33ms/step - loss: 0.0099 - coeff_determination: 0.1253 - val_loss: 0.0099 - val_coeff_determination: 0.1139\n",
      "Epoch 8/100\n",
      "476/476 [==============================] - 16s 33ms/step - loss: 0.0098 - coeff_determination: 0.1307 - val_loss: 0.0099 - val_coeff_determination: 0.1128\n",
      "Epoch 9/100\n",
      "476/476 [==============================] - 16s 33ms/step - loss: 0.0098 - coeff_determination: 0.1253 - val_loss: 0.0100 - val_coeff_determination: 0.1041\n",
      "Epoch 10/100\n",
      "476/476 [==============================] - 17s 35ms/step - loss: 0.0097 - coeff_determination: 0.1347 - val_loss: 0.0098 - val_coeff_determination: 0.1117\n",
      "Epoch 11/100\n",
      "476/476 [==============================] - 15s 31ms/step - loss: 0.0097 - coeff_determination: 0.1363 - val_loss: 0.0098 - val_coeff_determination: 0.1201\n",
      "Epoch 12/100\n",
      "476/476 [==============================] - 13s 28ms/step - loss: 0.0097 - coeff_determination: 0.1391 - val_loss: 0.0100 - val_coeff_determination: 0.0949\n",
      "Epoch 13/100\n",
      "476/476 [==============================] - 13s 28ms/step - loss: 0.0097 - coeff_determination: 0.1392 - val_loss: 0.0098 - val_coeff_determination: 0.1219\n",
      "Epoch 14/100\n",
      "476/476 [==============================] - 13s 28ms/step - loss: 0.0097 - coeff_determination: 0.1396 - val_loss: 0.0098 - val_coeff_determination: 0.1245\n",
      "Epoch 15/100\n",
      "476/476 [==============================] - 14s 30ms/step - loss: 0.0096 - coeff_determination: 0.1471 - val_loss: 0.0097 - val_coeff_determination: 0.1322\n",
      "Epoch 16/100\n",
      "476/476 [==============================] - 14s 30ms/step - loss: 0.0096 - coeff_determination: 0.1467 - val_loss: 0.0097 - val_coeff_determination: 0.1314\n",
      "Epoch 17/100\n",
      "476/476 [==============================] - 13s 28ms/step - loss: 0.0096 - coeff_determination: 0.1473 - val_loss: 0.0099 - val_coeff_determination: 0.1132\n",
      "Epoch 18/100\n",
      "476/476 [==============================] - 13s 28ms/step - loss: 0.0095 - coeff_determination: 0.1490 - val_loss: 0.0099 - val_coeff_determination: 0.1050\n",
      "Epoch 19/100\n",
      "476/476 [==============================] - 13s 28ms/step - loss: 0.0096 - coeff_determination: 0.1493 - val_loss: 0.0097 - val_coeff_determination: 0.1227\n",
      "Epoch 20/100\n",
      "476/476 [==============================] - 13s 28ms/step - loss: 0.0095 - coeff_determination: 0.1581 - val_loss: 0.0097 - val_coeff_determination: 0.1274\n",
      "Epoch 21/100\n",
      "476/476 [==============================] - 13s 28ms/step - loss: 0.0095 - coeff_determination: 0.1551 - val_loss: 0.0096 - val_coeff_determination: 0.1328\n",
      "Epoch 22/100\n",
      "476/476 [==============================] - 14s 30ms/step - loss: 0.0094 - coeff_determination: 0.1598 - val_loss: 0.0097 - val_coeff_determination: 0.1275\n",
      "Epoch 23/100\n",
      "476/476 [==============================] - 15s 32ms/step - loss: 0.0095 - coeff_determination: 0.1558 - val_loss: 0.0097 - val_coeff_determination: 0.1266\n",
      "Epoch 24/100\n",
      "476/476 [==============================] - 14s 29ms/step - loss: 0.0094 - coeff_determination: 0.1623 - val_loss: 0.0096 - val_coeff_determination: 0.1387\n",
      "Epoch 25/100\n",
      "476/476 [==============================] - 16s 34ms/step - loss: 0.0094 - coeff_determination: 0.1652 - val_loss: 0.0097 - val_coeff_determination: 0.1309\n",
      "Epoch 26/100\n",
      "476/476 [==============================] - 16s 33ms/step - loss: 0.0094 - coeff_determination: 0.1650 - val_loss: 0.0096 - val_coeff_determination: 0.1328\n",
      "Epoch 27/100\n",
      "476/476 [==============================] - 13s 28ms/step - loss: 0.0094 - coeff_determination: 0.1665 - val_loss: 0.0096 - val_coeff_determination: 0.1392\n",
      "Epoch 28/100\n",
      "476/476 [==============================] - 13s 28ms/step - loss: 0.0093 - coeff_determination: 0.1676 - val_loss: 0.0095 - val_coeff_determination: 0.1435\n",
      "Epoch 29/100\n",
      "476/476 [==============================] - 13s 28ms/step - loss: 0.0093 - coeff_determination: 0.1713 - val_loss: 0.0096 - val_coeff_determination: 0.1352\n",
      "Epoch 30/100\n",
      "476/476 [==============================] - 13s 28ms/step - loss: 0.0093 - coeff_determination: 0.1683 - val_loss: 0.0095 - val_coeff_determination: 0.1400\n",
      "Epoch 31/100\n",
      "476/476 [==============================] - 13s 28ms/step - loss: 0.0093 - coeff_determination: 0.1699 - val_loss: 0.0096 - val_coeff_determination: 0.1385\n",
      "Epoch 32/100\n",
      "476/476 [==============================] - 13s 28ms/step - loss: 0.0093 - coeff_determination: 0.1771 - val_loss: 0.0096 - val_coeff_determination: 0.1355\n",
      "Epoch 33/100\n",
      "476/476 [==============================] - 14s 30ms/step - loss: 0.0092 - coeff_determination: 0.1773 - val_loss: 0.0098 - val_coeff_determination: 0.1101\n",
      "Epoch 34/100\n",
      "476/476 [==============================] - 14s 30ms/step - loss: 0.0092 - coeff_determination: 0.1761 - val_loss: 0.0095 - val_coeff_determination: 0.1412\n",
      "Epoch 35/100\n",
      "476/476 [==============================] - 13s 27ms/step - loss: 0.0092 - coeff_determination: 0.1735 - val_loss: 0.0096 - val_coeff_determination: 0.1388\n",
      "Epoch 36/100\n",
      "476/476 [==============================] - 13s 27ms/step - loss: 0.0092 - coeff_determination: 0.1794 - val_loss: 0.0096 - val_coeff_determination: 0.1392\n",
      "Epoch 37/100\n",
      "476/476 [==============================] - 13s 27ms/step - loss: 0.0092 - coeff_determination: 0.1809 - val_loss: 0.0095 - val_coeff_determination: 0.1395\n",
      "Epoch 38/100\n",
      "476/476 [==============================] - 13s 27ms/step - loss: 0.0092 - coeff_determination: 0.1824 - val_loss: 0.0096 - val_coeff_determination: 0.1342\n",
      "Epoch 39/100\n",
      "476/476 [==============================] - 13s 27ms/step - loss: 0.0092 - coeff_determination: 0.1818 - val_loss: 0.0099 - val_coeff_determination: 0.0983\n",
      "Epoch 40/100\n",
      "476/476 [==============================] - 13s 27ms/step - loss: 0.0091 - coeff_determination: 0.1827 - val_loss: 0.0096 - val_coeff_determination: 0.1410\n",
      "Epoch 41/100\n",
      "476/476 [==============================] - 13s 27ms/step - loss: 0.0092 - coeff_determination: 0.1864 - val_loss: 0.0095 - val_coeff_determination: 0.1387\n",
      "Epoch 42/100\n",
      "476/476 [==============================] - 13s 26ms/step - loss: 0.0091 - coeff_determination: 0.1929 - val_loss: 0.0096 - val_coeff_determination: 0.1359\n",
      "Epoch 43/100\n",
      "476/476 [==============================] - 13s 26ms/step - loss: 0.0091 - coeff_determination: 0.1865 - val_loss: 0.0096 - val_coeff_determination: 0.1317\n",
      "Epoch 44/100\n",
      "476/476 [==============================] - 13s 26ms/step - loss: 0.0091 - coeff_determination: 0.1883 - val_loss: 0.0096 - val_coeff_determination: 0.1341\n",
      "Epoch 45/100\n",
      "476/476 [==============================] - 13s 26ms/step - loss: 0.0090 - coeff_determination: 0.1916 - val_loss: 0.0095 - val_coeff_determination: 0.1405\n",
      "Epoch 46/100\n",
      "476/476 [==============================] - 13s 26ms/step - loss: 0.0090 - coeff_determination: 0.1900 - val_loss: 0.0096 - val_coeff_determination: 0.1402\n",
      "Epoch 47/100\n",
      "476/476 [==============================] - 13s 26ms/step - loss: 0.0090 - coeff_determination: 0.1904 - val_loss: 0.0096 - val_coeff_determination: 0.1305\n",
      "Epoch 48/100\n",
      "476/476 [==============================] - 13s 26ms/step - loss: 0.0090 - coeff_determination: 0.1977 - val_loss: 0.0097 - val_coeff_determination: 0.1251\n",
      "Epoch 49/100\n",
      "476/476 [==============================] - 13s 26ms/step - loss: 0.0090 - coeff_determination: 0.1936 - val_loss: 0.0096 - val_coeff_determination: 0.1312\n",
      "Epoch 50/100\n",
      "476/476 [==============================] - 13s 27ms/step - loss: 0.0090 - coeff_determination: 0.1972 - val_loss: 0.0097 - val_coeff_determination: 0.1278\n",
      "Epoch 51/100\n",
      "476/476 [==============================] - 13s 26ms/step - loss: 0.0090 - coeff_determination: 0.1962 - val_loss: 0.0097 - val_coeff_determination: 0.1307\n",
      "Epoch 52/100\n",
      "476/476 [==============================] - 13s 26ms/step - loss: 0.0089 - coeff_determination: 0.2078 - val_loss: 0.0096 - val_coeff_determination: 0.1320\n",
      "Epoch 53/100\n",
      "476/476 [==============================] - 13s 27ms/step - loss: 0.0090 - coeff_determination: 0.2010 - val_loss: 0.0096 - val_coeff_determination: 0.1351\n",
      "Epoch 54/100\n",
      "476/476 [==============================] - 14s 30ms/step - loss: 0.0089 - coeff_determination: 0.2021 - val_loss: 0.0097 - val_coeff_determination: 0.1169\n",
      "Epoch 55/100\n",
      "476/476 [==============================] - 19s 40ms/step - loss: 0.0090 - coeff_determination: 0.1958 - val_loss: 0.0096 - val_coeff_determination: 0.1287\n",
      "Epoch 56/100\n",
      "167/476 [=========>....................] - ETA: 10s - loss: 0.0086 - coeff_determination: 0.2054"
     ]
    },
    {
     "ename": "KeyboardInterrupt",
     "evalue": "",
     "output_type": "error",
     "traceback": [
      "\u001b[0;31m---------------------------------------------------------------------------\u001b[0m",
      "\u001b[0;31mKeyboardInterrupt\u001b[0m                         Traceback (most recent call last)",
      "\u001b[0;32m<ipython-input-42-fac5982c4d7b>\u001b[0m in \u001b[0;36m<module>\u001b[0;34m\u001b[0m\n\u001b[0;32m----> 1\u001b[0;31m \u001b[0mhistory\u001b[0m \u001b[0;34m=\u001b[0m \u001b[0mmodel\u001b[0m\u001b[0;34m.\u001b[0m\u001b[0mfit\u001b[0m\u001b[0;34m(\u001b[0m\u001b[0mX_train\u001b[0m\u001b[0;34m,\u001b[0m \u001b[0my_train\u001b[0m\u001b[0;34m,\u001b[0m \u001b[0mepochs\u001b[0m\u001b[0;34m=\u001b[0m\u001b[0;36m100\u001b[0m\u001b[0;34m,\u001b[0m \u001b[0mbatch_size\u001b[0m\u001b[0;34m=\u001b[0m\u001b[0;36m256\u001b[0m\u001b[0;34m,\u001b[0m  \u001b[0mverbose\u001b[0m\u001b[0;34m=\u001b[0m\u001b[0;36m1\u001b[0m\u001b[0;34m,\u001b[0m \u001b[0mvalidation_split\u001b[0m\u001b[0;34m=\u001b[0m\u001b[0;36m0.1\u001b[0m\u001b[0;34m)\u001b[0m\u001b[0;34m\u001b[0m\u001b[0;34m\u001b[0m\u001b[0m\n\u001b[0m",
      "\u001b[0;32m~/Desktop/poe_price/venv/lib/python3.7/site-packages/tensorflow/python/keras/engine/training.py\u001b[0m in \u001b[0;36m_method_wrapper\u001b[0;34m(self, *args, **kwargs)\u001b[0m\n\u001b[1;32m    106\u001b[0m   \u001b[0;32mdef\u001b[0m \u001b[0m_method_wrapper\u001b[0m\u001b[0;34m(\u001b[0m\u001b[0mself\u001b[0m\u001b[0;34m,\u001b[0m \u001b[0;34m*\u001b[0m\u001b[0margs\u001b[0m\u001b[0;34m,\u001b[0m \u001b[0;34m**\u001b[0m\u001b[0mkwargs\u001b[0m\u001b[0;34m)\u001b[0m\u001b[0;34m:\u001b[0m\u001b[0;34m\u001b[0m\u001b[0;34m\u001b[0m\u001b[0m\n\u001b[1;32m    107\u001b[0m     \u001b[0;32mif\u001b[0m \u001b[0;32mnot\u001b[0m \u001b[0mself\u001b[0m\u001b[0;34m.\u001b[0m\u001b[0m_in_multi_worker_mode\u001b[0m\u001b[0;34m(\u001b[0m\u001b[0;34m)\u001b[0m\u001b[0;34m:\u001b[0m  \u001b[0;31m# pylint: disable=protected-access\u001b[0m\u001b[0;34m\u001b[0m\u001b[0;34m\u001b[0m\u001b[0m\n\u001b[0;32m--> 108\u001b[0;31m       \u001b[0;32mreturn\u001b[0m \u001b[0mmethod\u001b[0m\u001b[0;34m(\u001b[0m\u001b[0mself\u001b[0m\u001b[0;34m,\u001b[0m \u001b[0;34m*\u001b[0m\u001b[0margs\u001b[0m\u001b[0;34m,\u001b[0m \u001b[0;34m**\u001b[0m\u001b[0mkwargs\u001b[0m\u001b[0;34m)\u001b[0m\u001b[0;34m\u001b[0m\u001b[0;34m\u001b[0m\u001b[0m\n\u001b[0m\u001b[1;32m    109\u001b[0m \u001b[0;34m\u001b[0m\u001b[0m\n\u001b[1;32m    110\u001b[0m     \u001b[0;31m# Running inside `run_distribute_coordinator` already.\u001b[0m\u001b[0;34m\u001b[0m\u001b[0;34m\u001b[0m\u001b[0;34m\u001b[0m\u001b[0m\n",
      "\u001b[0;32m~/Desktop/poe_price/venv/lib/python3.7/site-packages/tensorflow/python/keras/engine/training.py\u001b[0m in \u001b[0;36mfit\u001b[0;34m(self, x, y, batch_size, epochs, verbose, callbacks, validation_split, validation_data, shuffle, class_weight, sample_weight, initial_epoch, steps_per_epoch, validation_steps, validation_batch_size, validation_freq, max_queue_size, workers, use_multiprocessing)\u001b[0m\n\u001b[1;32m   1096\u001b[0m                 batch_size=batch_size):\n\u001b[1;32m   1097\u001b[0m               \u001b[0mcallbacks\u001b[0m\u001b[0;34m.\u001b[0m\u001b[0mon_train_batch_begin\u001b[0m\u001b[0;34m(\u001b[0m\u001b[0mstep\u001b[0m\u001b[0;34m)\u001b[0m\u001b[0;34m\u001b[0m\u001b[0;34m\u001b[0m\u001b[0m\n\u001b[0;32m-> 1098\u001b[0;31m               \u001b[0mtmp_logs\u001b[0m \u001b[0;34m=\u001b[0m \u001b[0mtrain_function\u001b[0m\u001b[0;34m(\u001b[0m\u001b[0miterator\u001b[0m\u001b[0;34m)\u001b[0m\u001b[0;34m\u001b[0m\u001b[0;34m\u001b[0m\u001b[0m\n\u001b[0m\u001b[1;32m   1099\u001b[0m               \u001b[0;32mif\u001b[0m \u001b[0mdata_handler\u001b[0m\u001b[0;34m.\u001b[0m\u001b[0mshould_sync\u001b[0m\u001b[0;34m:\u001b[0m\u001b[0;34m\u001b[0m\u001b[0;34m\u001b[0m\u001b[0m\n\u001b[1;32m   1100\u001b[0m                 \u001b[0mcontext\u001b[0m\u001b[0;34m.\u001b[0m\u001b[0masync_wait\u001b[0m\u001b[0;34m(\u001b[0m\u001b[0;34m)\u001b[0m\u001b[0;34m\u001b[0m\u001b[0;34m\u001b[0m\u001b[0m\n",
      "\u001b[0;32m~/Desktop/poe_price/venv/lib/python3.7/site-packages/tensorflow/python/eager/def_function.py\u001b[0m in \u001b[0;36m__call__\u001b[0;34m(self, *args, **kwds)\u001b[0m\n\u001b[1;32m    778\u001b[0m       \u001b[0;32melse\u001b[0m\u001b[0;34m:\u001b[0m\u001b[0;34m\u001b[0m\u001b[0;34m\u001b[0m\u001b[0m\n\u001b[1;32m    779\u001b[0m         \u001b[0mcompiler\u001b[0m \u001b[0;34m=\u001b[0m \u001b[0;34m\"nonXla\"\u001b[0m\u001b[0;34m\u001b[0m\u001b[0;34m\u001b[0m\u001b[0m\n\u001b[0;32m--> 780\u001b[0;31m         \u001b[0mresult\u001b[0m \u001b[0;34m=\u001b[0m \u001b[0mself\u001b[0m\u001b[0;34m.\u001b[0m\u001b[0m_call\u001b[0m\u001b[0;34m(\u001b[0m\u001b[0;34m*\u001b[0m\u001b[0margs\u001b[0m\u001b[0;34m,\u001b[0m \u001b[0;34m**\u001b[0m\u001b[0mkwds\u001b[0m\u001b[0;34m)\u001b[0m\u001b[0;34m\u001b[0m\u001b[0;34m\u001b[0m\u001b[0m\n\u001b[0m\u001b[1;32m    781\u001b[0m \u001b[0;34m\u001b[0m\u001b[0m\n\u001b[1;32m    782\u001b[0m       \u001b[0mnew_tracing_count\u001b[0m \u001b[0;34m=\u001b[0m \u001b[0mself\u001b[0m\u001b[0;34m.\u001b[0m\u001b[0m_get_tracing_count\u001b[0m\u001b[0;34m(\u001b[0m\u001b[0;34m)\u001b[0m\u001b[0;34m\u001b[0m\u001b[0;34m\u001b[0m\u001b[0m\n",
      "\u001b[0;32m~/Desktop/poe_price/venv/lib/python3.7/site-packages/tensorflow/python/eager/def_function.py\u001b[0m in \u001b[0;36m_call\u001b[0;34m(self, *args, **kwds)\u001b[0m\n\u001b[1;32m    805\u001b[0m       \u001b[0;31m# In this case we have created variables on the first call, so we run the\u001b[0m\u001b[0;34m\u001b[0m\u001b[0;34m\u001b[0m\u001b[0;34m\u001b[0m\u001b[0m\n\u001b[1;32m    806\u001b[0m       \u001b[0;31m# defunned version which is guaranteed to never create variables.\u001b[0m\u001b[0;34m\u001b[0m\u001b[0;34m\u001b[0m\u001b[0;34m\u001b[0m\u001b[0m\n\u001b[0;32m--> 807\u001b[0;31m       \u001b[0;32mreturn\u001b[0m \u001b[0mself\u001b[0m\u001b[0;34m.\u001b[0m\u001b[0m_stateless_fn\u001b[0m\u001b[0;34m(\u001b[0m\u001b[0;34m*\u001b[0m\u001b[0margs\u001b[0m\u001b[0;34m,\u001b[0m \u001b[0;34m**\u001b[0m\u001b[0mkwds\u001b[0m\u001b[0;34m)\u001b[0m  \u001b[0;31m# pylint: disable=not-callable\u001b[0m\u001b[0;34m\u001b[0m\u001b[0;34m\u001b[0m\u001b[0m\n\u001b[0m\u001b[1;32m    808\u001b[0m     \u001b[0;32melif\u001b[0m \u001b[0mself\u001b[0m\u001b[0;34m.\u001b[0m\u001b[0m_stateful_fn\u001b[0m \u001b[0;32mis\u001b[0m \u001b[0;32mnot\u001b[0m \u001b[0;32mNone\u001b[0m\u001b[0;34m:\u001b[0m\u001b[0;34m\u001b[0m\u001b[0;34m\u001b[0m\u001b[0m\n\u001b[1;32m    809\u001b[0m       \u001b[0;31m# Release the lock early so that multiple threads can perform the call\u001b[0m\u001b[0;34m\u001b[0m\u001b[0;34m\u001b[0m\u001b[0;34m\u001b[0m\u001b[0m\n",
      "\u001b[0;32m~/Desktop/poe_price/venv/lib/python3.7/site-packages/tensorflow/python/eager/function.py\u001b[0m in \u001b[0;36m__call__\u001b[0;34m(self, *args, **kwargs)\u001b[0m\n\u001b[1;32m   2827\u001b[0m     \u001b[0;32mwith\u001b[0m \u001b[0mself\u001b[0m\u001b[0;34m.\u001b[0m\u001b[0m_lock\u001b[0m\u001b[0;34m:\u001b[0m\u001b[0;34m\u001b[0m\u001b[0;34m\u001b[0m\u001b[0m\n\u001b[1;32m   2828\u001b[0m       \u001b[0mgraph_function\u001b[0m\u001b[0;34m,\u001b[0m \u001b[0margs\u001b[0m\u001b[0;34m,\u001b[0m \u001b[0mkwargs\u001b[0m \u001b[0;34m=\u001b[0m \u001b[0mself\u001b[0m\u001b[0;34m.\u001b[0m\u001b[0m_maybe_define_function\u001b[0m\u001b[0;34m(\u001b[0m\u001b[0margs\u001b[0m\u001b[0;34m,\u001b[0m \u001b[0mkwargs\u001b[0m\u001b[0;34m)\u001b[0m\u001b[0;34m\u001b[0m\u001b[0;34m\u001b[0m\u001b[0m\n\u001b[0;32m-> 2829\u001b[0;31m     \u001b[0;32mreturn\u001b[0m \u001b[0mgraph_function\u001b[0m\u001b[0;34m.\u001b[0m\u001b[0m_filtered_call\u001b[0m\u001b[0;34m(\u001b[0m\u001b[0margs\u001b[0m\u001b[0;34m,\u001b[0m \u001b[0mkwargs\u001b[0m\u001b[0;34m)\u001b[0m  \u001b[0;31m# pylint: disable=protected-access\u001b[0m\u001b[0;34m\u001b[0m\u001b[0;34m\u001b[0m\u001b[0m\n\u001b[0m\u001b[1;32m   2830\u001b[0m \u001b[0;34m\u001b[0m\u001b[0m\n\u001b[1;32m   2831\u001b[0m   \u001b[0;34m@\u001b[0m\u001b[0mproperty\u001b[0m\u001b[0;34m\u001b[0m\u001b[0;34m\u001b[0m\u001b[0m\n",
      "\u001b[0;32m~/Desktop/poe_price/venv/lib/python3.7/site-packages/tensorflow/python/eager/function.py\u001b[0m in \u001b[0;36m_filtered_call\u001b[0;34m(self, args, kwargs, cancellation_manager)\u001b[0m\n\u001b[1;32m   1846\u001b[0m                            resource_variable_ops.BaseResourceVariable))],\n\u001b[1;32m   1847\u001b[0m         \u001b[0mcaptured_inputs\u001b[0m\u001b[0;34m=\u001b[0m\u001b[0mself\u001b[0m\u001b[0;34m.\u001b[0m\u001b[0mcaptured_inputs\u001b[0m\u001b[0;34m,\u001b[0m\u001b[0;34m\u001b[0m\u001b[0;34m\u001b[0m\u001b[0m\n\u001b[0;32m-> 1848\u001b[0;31m         cancellation_manager=cancellation_manager)\n\u001b[0m\u001b[1;32m   1849\u001b[0m \u001b[0;34m\u001b[0m\u001b[0m\n\u001b[1;32m   1850\u001b[0m   \u001b[0;32mdef\u001b[0m \u001b[0m_call_flat\u001b[0m\u001b[0;34m(\u001b[0m\u001b[0mself\u001b[0m\u001b[0;34m,\u001b[0m \u001b[0margs\u001b[0m\u001b[0;34m,\u001b[0m \u001b[0mcaptured_inputs\u001b[0m\u001b[0;34m,\u001b[0m \u001b[0mcancellation_manager\u001b[0m\u001b[0;34m=\u001b[0m\u001b[0;32mNone\u001b[0m\u001b[0;34m)\u001b[0m\u001b[0;34m:\u001b[0m\u001b[0;34m\u001b[0m\u001b[0;34m\u001b[0m\u001b[0m\n",
      "\u001b[0;32m~/Desktop/poe_price/venv/lib/python3.7/site-packages/tensorflow/python/eager/function.py\u001b[0m in \u001b[0;36m_call_flat\u001b[0;34m(self, args, captured_inputs, cancellation_manager)\u001b[0m\n\u001b[1;32m   1922\u001b[0m       \u001b[0;31m# No tape is watching; skip to running the function.\u001b[0m\u001b[0;34m\u001b[0m\u001b[0;34m\u001b[0m\u001b[0;34m\u001b[0m\u001b[0m\n\u001b[1;32m   1923\u001b[0m       return self._build_call_outputs(self._inference_function.call(\n\u001b[0;32m-> 1924\u001b[0;31m           ctx, args, cancellation_manager=cancellation_manager))\n\u001b[0m\u001b[1;32m   1925\u001b[0m     forward_backward = self._select_forward_and_backward_functions(\n\u001b[1;32m   1926\u001b[0m         \u001b[0margs\u001b[0m\u001b[0;34m,\u001b[0m\u001b[0;34m\u001b[0m\u001b[0;34m\u001b[0m\u001b[0m\n",
      "\u001b[0;32m~/Desktop/poe_price/venv/lib/python3.7/site-packages/tensorflow/python/eager/function.py\u001b[0m in \u001b[0;36mcall\u001b[0;34m(self, ctx, args, cancellation_manager)\u001b[0m\n\u001b[1;32m    548\u001b[0m               \u001b[0minputs\u001b[0m\u001b[0;34m=\u001b[0m\u001b[0margs\u001b[0m\u001b[0;34m,\u001b[0m\u001b[0;34m\u001b[0m\u001b[0;34m\u001b[0m\u001b[0m\n\u001b[1;32m    549\u001b[0m               \u001b[0mattrs\u001b[0m\u001b[0;34m=\u001b[0m\u001b[0mattrs\u001b[0m\u001b[0;34m,\u001b[0m\u001b[0;34m\u001b[0m\u001b[0;34m\u001b[0m\u001b[0m\n\u001b[0;32m--> 550\u001b[0;31m               ctx=ctx)\n\u001b[0m\u001b[1;32m    551\u001b[0m         \u001b[0;32melse\u001b[0m\u001b[0;34m:\u001b[0m\u001b[0;34m\u001b[0m\u001b[0;34m\u001b[0m\u001b[0m\n\u001b[1;32m    552\u001b[0m           outputs = execute.execute_with_cancellation(\n",
      "\u001b[0;32m~/Desktop/poe_price/venv/lib/python3.7/site-packages/tensorflow/python/eager/execute.py\u001b[0m in \u001b[0;36mquick_execute\u001b[0;34m(op_name, num_outputs, inputs, attrs, ctx, name)\u001b[0m\n\u001b[1;32m     58\u001b[0m     \u001b[0mctx\u001b[0m\u001b[0;34m.\u001b[0m\u001b[0mensure_initialized\u001b[0m\u001b[0;34m(\u001b[0m\u001b[0;34m)\u001b[0m\u001b[0;34m\u001b[0m\u001b[0;34m\u001b[0m\u001b[0m\n\u001b[1;32m     59\u001b[0m     tensors = pywrap_tfe.TFE_Py_Execute(ctx._handle, device_name, op_name,\n\u001b[0;32m---> 60\u001b[0;31m                                         inputs, attrs, num_outputs)\n\u001b[0m\u001b[1;32m     61\u001b[0m   \u001b[0;32mexcept\u001b[0m \u001b[0mcore\u001b[0m\u001b[0;34m.\u001b[0m\u001b[0m_NotOkStatusException\u001b[0m \u001b[0;32mas\u001b[0m \u001b[0me\u001b[0m\u001b[0;34m:\u001b[0m\u001b[0;34m\u001b[0m\u001b[0;34m\u001b[0m\u001b[0m\n\u001b[1;32m     62\u001b[0m     \u001b[0;32mif\u001b[0m \u001b[0mname\u001b[0m \u001b[0;32mis\u001b[0m \u001b[0;32mnot\u001b[0m \u001b[0;32mNone\u001b[0m\u001b[0;34m:\u001b[0m\u001b[0;34m\u001b[0m\u001b[0;34m\u001b[0m\u001b[0m\n",
      "\u001b[0;31mKeyboardInterrupt\u001b[0m: "
     ]
    }
   ],
   "source": [
    "history = model.fit(X_train, y_train, epochs=100, batch_size=256,  verbose=1, validation_split=0.1)"
   ]
  },
  {
   "cell_type": "markdown",
   "metadata": {},
   "source": [
    "### Plotting metrics"
   ]
  },
  {
   "cell_type": "code",
   "execution_count": 43,
   "metadata": {},
   "outputs": [
    {
     "data": {
      "image/png": "[encoded data removed]",
      "text/plain": [
       "<Figure size 432x288 with 1 Axes>"
      ]
     },
     "metadata": {
      "needs_background": "light"
     },
     "output_type": "display_data"
    }
   ],
   "source": [
    "plt.plot(model.history.history['loss'])\n",
    "plt.plot(model.history.history['val_loss'])\n",
    "plt.title('model loss')\n",
    "plt.ylabel('loss')\n",
    "plt.xlabel('epoch')\n",
    "plt.legend(['train', 'validation'], loc='upper right')\n",
    "plt.show()"
   ]
  },
  {
   "cell_type": "code",
   "execution_count": 45,
   "metadata": {},
   "outputs": [
    {
     "data": {
      "image/png": "[encoded data removed]",
      "text/plain": [
       "<Figure size 432x288 with 1 Axes>"
      ]
     },
     "metadata": {
      "needs_background": "light"
     },
     "output_type": "display_data"
    }
   ],
   "source": [
    "plt.plot(model.history.history['coeff_determination'])\n",
    "plt.plot(model.history.history['val_coeff_determination'])\n",
    "plt.title('model r2 score')\n",
    "plt.ylabel('r2 score')\n",
    "plt.xlabel('epoch')\n",
    "plt.legend(['train', 'validation'], loc='upper right')\n",
    "plt.show()"
   ]
  },
  {
   "cell_type": "code",
   "execution_count": 46,
   "metadata": {},
   "outputs": [],
   "source": [
    "y_train_pred = model.predict(X_train)\n",
    "y_test_pred = model.predict(X_test)"
   ]
  },
  {
   "cell_type": "code",
   "execution_count": 47,
   "metadata": {},
   "outputs": [
    {
     "data": {
      "text/plain": [
       "(0.23752289664953663,\n",
       " 0.14855656258874117,\n",
       " 0.04159087923154546,\n",
       " 0.043054162459042984,\n",
       " 0.00870756768477903,\n",
       " 0.009777568724413833)"
      ]
     },
     "execution_count": 47,
     "metadata": {},
     "output_type": "execute_result"
    }
   ],
   "source": [
    "get_metrics(y_train, y_test, y_train_pred, y_test_pred)"
   ]
  },
  {
   "cell_type": "code",
   "execution_count": null,
   "metadata": {},
   "outputs": [],
   "source": []
  }
 ],
 "metadata": {
  "kernelspec": {
   "display_name": "Python 3.7.6 64-bit ('venv': venv)",
   "language": "python",
   "name": "python37664bitvenvvenv88b31a8caaaa482380b5daf302f7310e"
  },
  "language_info": {
   "codemirror_mode": {
    "name": "ipython",
    "version": 3
   },
   "file_extension": ".py",
   "mimetype": "text/x-python",
   "name": "python",
   "nbconvert_exporter": "python",
   "pygments_lexer": "ipython3",
   "version": "3.7.6"
  }
 },
 "nbformat": 4,
 "nbformat_minor": 4
}
