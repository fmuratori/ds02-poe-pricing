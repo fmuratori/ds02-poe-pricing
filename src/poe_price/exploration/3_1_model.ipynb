{
 "cells": [
  {
   "cell_type": "code",
   "execution_count": 1,
   "metadata": {},
   "outputs": [],
   "source": [
    "import numpy as np\n",
    "import matplotlib.pyplot as plt\n",
    "from scipy.sparse import hstack, issparse, csr_matrix\n",
    "from numpy import hstack as nhstack\n",
    "\n",
    "from sklearn.preprocessing import Normalizer, StandardScaler, RobustScaler, MinMaxScaler\n",
    "from sklearn.model_selection import train_test_split, KFold, GridSearchCV\n",
    "from sklearn.metrics import r2_score, accuracy_score, mean_absolute_error, mean_squared_error\n",
    "from sklearn.linear_model import LinearRegression\n",
    "from sklearn.ensemble import RandomForestRegressor\n",
    "from sklearn.svm import SVR, LinearSVR\n",
    "\n",
    "import sys\n",
    "sys.path.append('../../')\n",
    "from poe_price.data import select\n",
    "import poe_price.feature as feature\n",
    "import poe_price.preprocessing as prepro"
   ]
  },
  {
   "cell_type": "markdown",
   "metadata": {},
   "source": [
    "# Data"
   ]
  },
  {
   "cell_type": "code",
   "execution_count": 2,
   "metadata": {},
   "outputs": [],
   "source": [
    "currency = select.get_currency()\n",
    "items = select.get_jewels()"
   ]
  },
  {
   "cell_type": "code",
   "execution_count": 3,
   "metadata": {},
   "outputs": [
    {
     "data": {
      "text/plain": [
       "(4528, 156615)"
      ]
     },
     "execution_count": 3,
     "metadata": {},
     "output_type": "execute_result"
    }
   ],
   "source": [
    "currency.shape[0], len(items['items'])"
   ]
  },
  {
   "cell_type": "markdown",
   "metadata": {},
   "source": [
    "# Features"
   ]
  },
  {
   "cell_type": "code",
   "execution_count": 4,
   "metadata": {},
   "outputs": [],
   "source": [
    "X = []"
   ]
  },
  {
   "cell_type": "code",
   "execution_count": 5,
   "metadata": {},
   "outputs": [],
   "source": [
    "# FUNCTIONS\n",
    "X.append(feature.corrupted(items))\n",
    "X.append(feature.duplicated(items))\n",
    "X.append(feature.identified(items))\n",
    "X.append(feature.suffixes_subcount(items))\n",
    "# X.append(feature.requirements(items))\n",
    "# X.append(feature.veiled(items))\n",
    "# X.append(feature.influences(items))\n",
    "# features.append(feature.sockets(items))\n",
    "X.append(feature.is_abyss_jewel(items))\n",
    "\n",
    "# CLASSES\n",
    "X.append(feature.Modifiers(how='mean').fit_transform(items))\n",
    "X.append(feature.Rarity().fit_transform(items))\n",
    "# X.append(feature.Properties(how='mean').fit_transform(items))\n",
    "# X.append(feature.Category().fit_transform(items))\n",
    "# X.append(feature.SubCategories().fit_transform(items))"
   ]
  },
  {
   "cell_type": "code",
   "execution_count": 6,
   "metadata": {},
   "outputs": [],
   "source": [
    "for i, feat in enumerate(X):\n",
    "    if not issparse(feat):\n",
    "        X[i] = csr_matrix(feat)\n",
    "X = hstack(X).tocsr()"
   ]
  },
  {
   "cell_type": "code",
   "execution_count": 7,
   "metadata": {},
   "outputs": [],
   "source": [
    "y = feature.Price().fit_transform(items, currency)"
   ]
  },
  {
   "cell_type": "markdown",
   "metadata": {},
   "source": [
    "# Preprocessing"
   ]
  },
  {
   "cell_type": "code",
   "execution_count": 8,
   "metadata": {},
   "outputs": [
    {
     "name": "stdout",
     "output_type": "stream",
     "text": [
      "287\n",
      "287\n"
     ]
    }
   ],
   "source": [
    "X, y = prepro.price_bounds_row_removal(X, y, 1, 10000)\n",
    "\n",
    "print(X.shape[1])\n",
    "X = prepro.remove_empty_features(X)\n",
    "print(X.shape[1])\n"
   ]
  },
  {
   "cell_type": "code",
   "execution_count": 42,
   "metadata": {
    "collapsed": true,
    "jupyter": {
     "outputs_hidden": true
    }
   },
   "outputs": [
    {
     "ename": "TypeError",
     "evalue": "MinMaxScaler does not support sparse input. Consider using MaxAbsScaler instead.",
     "output_type": "error",
     "traceback": [
      "\u001b[0;31m---------------------------------------------------------------------------\u001b[0m",
      "\u001b[0;31mTypeError\u001b[0m                                 Traceback (most recent call last)",
      "\u001b[0;32m<ipython-input-42-f2afb5211d76>\u001b[0m in \u001b[0;36m<module>\u001b[0;34m\u001b[0m\n\u001b[1;32m      1\u001b[0m \u001b[0mX_scaler\u001b[0m \u001b[0;34m=\u001b[0m \u001b[0mMinMaxScaler\u001b[0m\u001b[0;34m(\u001b[0m\u001b[0;34m)\u001b[0m\u001b[0;34m\u001b[0m\u001b[0;34m\u001b[0m\u001b[0m\n\u001b[1;32m      2\u001b[0m \u001b[0my_scaler\u001b[0m \u001b[0;34m=\u001b[0m \u001b[0mMinMaxScaler\u001b[0m\u001b[0;34m(\u001b[0m\u001b[0;34m)\u001b[0m\u001b[0;34m\u001b[0m\u001b[0;34m\u001b[0m\u001b[0m\n\u001b[0;32m----> 3\u001b[0;31m \u001b[0mX_scaled\u001b[0m \u001b[0;34m=\u001b[0m \u001b[0mX_scaler\u001b[0m\u001b[0;34m.\u001b[0m\u001b[0mfit_transform\u001b[0m\u001b[0;34m(\u001b[0m\u001b[0mX\u001b[0m\u001b[0;34m)\u001b[0m\u001b[0;34m\u001b[0m\u001b[0;34m\u001b[0m\u001b[0m\n\u001b[0m\u001b[1;32m      4\u001b[0m \u001b[0my_scaled\u001b[0m \u001b[0;34m=\u001b[0m \u001b[0my_scaler\u001b[0m\u001b[0;34m.\u001b[0m\u001b[0mfit_transform\u001b[0m\u001b[0;34m(\u001b[0m\u001b[0my\u001b[0m\u001b[0;34m)\u001b[0m\u001b[0;34m\u001b[0m\u001b[0;34m\u001b[0m\u001b[0m\n",
      "\u001b[0;32m~/.conda/envs/ds_poe_price/lib/python3.7/site-packages/sklearn/base.py\u001b[0m in \u001b[0;36mfit_transform\u001b[0;34m(self, X, y, **fit_params)\u001b[0m\n\u001b[1;32m    569\u001b[0m         \u001b[0;32mif\u001b[0m \u001b[0my\u001b[0m \u001b[0;32mis\u001b[0m \u001b[0;32mNone\u001b[0m\u001b[0;34m:\u001b[0m\u001b[0;34m\u001b[0m\u001b[0;34m\u001b[0m\u001b[0m\n\u001b[1;32m    570\u001b[0m             \u001b[0;31m# fit method of arity 1 (unsupervised transformation)\u001b[0m\u001b[0;34m\u001b[0m\u001b[0;34m\u001b[0m\u001b[0;34m\u001b[0m\u001b[0m\n\u001b[0;32m--> 571\u001b[0;31m             \u001b[0;32mreturn\u001b[0m \u001b[0mself\u001b[0m\u001b[0;34m.\u001b[0m\u001b[0mfit\u001b[0m\u001b[0;34m(\u001b[0m\u001b[0mX\u001b[0m\u001b[0;34m,\u001b[0m \u001b[0;34m**\u001b[0m\u001b[0mfit_params\u001b[0m\u001b[0;34m)\u001b[0m\u001b[0;34m.\u001b[0m\u001b[0mtransform\u001b[0m\u001b[0;34m(\u001b[0m\u001b[0mX\u001b[0m\u001b[0;34m)\u001b[0m\u001b[0;34m\u001b[0m\u001b[0;34m\u001b[0m\u001b[0m\n\u001b[0m\u001b[1;32m    572\u001b[0m         \u001b[0;32melse\u001b[0m\u001b[0;34m:\u001b[0m\u001b[0;34m\u001b[0m\u001b[0;34m\u001b[0m\u001b[0m\n\u001b[1;32m    573\u001b[0m             \u001b[0;31m# fit method of arity 2 (supervised transformation)\u001b[0m\u001b[0;34m\u001b[0m\u001b[0;34m\u001b[0m\u001b[0;34m\u001b[0m\u001b[0m\n",
      "\u001b[0;32m~/.conda/envs/ds_poe_price/lib/python3.7/site-packages/sklearn/preprocessing/_data.py\u001b[0m in \u001b[0;36mfit\u001b[0;34m(self, X, y)\u001b[0m\n\u001b[1;32m    337\u001b[0m         \u001b[0;31m# Reset internal state before fitting\u001b[0m\u001b[0;34m\u001b[0m\u001b[0;34m\u001b[0m\u001b[0;34m\u001b[0m\u001b[0m\n\u001b[1;32m    338\u001b[0m         \u001b[0mself\u001b[0m\u001b[0;34m.\u001b[0m\u001b[0m_reset\u001b[0m\u001b[0;34m(\u001b[0m\u001b[0;34m)\u001b[0m\u001b[0;34m\u001b[0m\u001b[0;34m\u001b[0m\u001b[0m\n\u001b[0;32m--> 339\u001b[0;31m         \u001b[0;32mreturn\u001b[0m \u001b[0mself\u001b[0m\u001b[0;34m.\u001b[0m\u001b[0mpartial_fit\u001b[0m\u001b[0;34m(\u001b[0m\u001b[0mX\u001b[0m\u001b[0;34m,\u001b[0m \u001b[0my\u001b[0m\u001b[0;34m)\u001b[0m\u001b[0;34m\u001b[0m\u001b[0;34m\u001b[0m\u001b[0m\n\u001b[0m\u001b[1;32m    340\u001b[0m \u001b[0;34m\u001b[0m\u001b[0m\n\u001b[1;32m    341\u001b[0m     \u001b[0;32mdef\u001b[0m \u001b[0mpartial_fit\u001b[0m\u001b[0;34m(\u001b[0m\u001b[0mself\u001b[0m\u001b[0;34m,\u001b[0m \u001b[0mX\u001b[0m\u001b[0;34m,\u001b[0m \u001b[0my\u001b[0m\u001b[0;34m=\u001b[0m\u001b[0;32mNone\u001b[0m\u001b[0;34m)\u001b[0m\u001b[0;34m:\u001b[0m\u001b[0;34m\u001b[0m\u001b[0;34m\u001b[0m\u001b[0m\n",
      "\u001b[0;32m~/.conda/envs/ds_poe_price/lib/python3.7/site-packages/sklearn/preprocessing/_data.py\u001b[0m in \u001b[0;36mpartial_fit\u001b[0;34m(self, X, y)\u001b[0m\n\u001b[1;32m    366\u001b[0m \u001b[0;34m\u001b[0m\u001b[0m\n\u001b[1;32m    367\u001b[0m         \u001b[0;32mif\u001b[0m \u001b[0msparse\u001b[0m\u001b[0;34m.\u001b[0m\u001b[0missparse\u001b[0m\u001b[0;34m(\u001b[0m\u001b[0mX\u001b[0m\u001b[0;34m)\u001b[0m\u001b[0;34m:\u001b[0m\u001b[0;34m\u001b[0m\u001b[0;34m\u001b[0m\u001b[0m\n\u001b[0;32m--> 368\u001b[0;31m             raise TypeError(\"MinMaxScaler does not support sparse input. \"\n\u001b[0m\u001b[1;32m    369\u001b[0m                             \"Consider using MaxAbsScaler instead.\")\n\u001b[1;32m    370\u001b[0m \u001b[0;34m\u001b[0m\u001b[0m\n",
      "\u001b[0;31mTypeError\u001b[0m: MinMaxScaler does not support sparse input. Consider using MaxAbsScaler instead."
     ]
    }
   ],
   "source": [
    "X_scaler = MinMaxScaler()\n",
    "y_scaler = MinMaxScaler()\n",
    "X_scaled = X_scaler.fit_transform(X)\n",
    "y_scaled = y_scaler.fit_transform(y)"
   ]
  },
  {
   "cell_type": "code",
   "execution_count": 9,
   "metadata": {},
   "outputs": [],
   "source": [
    "X_scaler = RobustScaler(with_centering=False)\n",
    "y_scaler = RobustScaler(with_centering=False)\n",
    "X_scaled = X_scaler.fit_transform(X)\n",
    "y_scaled = y_scaler.fit_transform(y)"
   ]
  },
  {
   "cell_type": "code",
   "execution_count": 17,
   "metadata": {},
   "outputs": [],
   "source": [
    "X_scaler = StandardScaler(with_mean=False)\n",
    "y_scaler = StandardScaler(with_mean=False)\n",
    "X_scaled = X_scaler.fit_transform(X)\n",
    "y_scaled = y_scaler.fit_transform(y)"
   ]
  },
  {
   "cell_type": "code",
   "execution_count": 10,
   "metadata": {},
   "outputs": [],
   "source": [
    "X_train, X_test, y_train, y_test = train_test_split(X_scaled, y_scaled, test_size=0.25, random_state=0)"
   ]
  },
  {
   "cell_type": "markdown",
   "metadata": {},
   "source": [
    "# Regression Models"
   ]
  },
  {
   "cell_type": "code",
   "execution_count": 11,
   "metadata": {},
   "outputs": [],
   "source": [
    "def get_metrics(y_train, y_test, y_train_pred, y_test_pred):\n",
    "    r2_train = r2_score(y_train, y_train_pred)\n",
    "    r2_test = r2_score(y_test, y_test_pred)\n",
    "\n",
    "    mae_train = mean_absolute_error(y_train, y_train_pred)\n",
    "    mae_test = mean_absolute_error(y_test, y_test_pred)\n",
    "\n",
    "    mse_train = mean_squared_error(y_train, y_train_pred)\n",
    "    mse_test = mean_squared_error(y_test, y_test_pred)\n",
    "\n",
    "    return r2_train, r2_test, mae_train, mae_test, mse_train, mse_test\n"
   ]
  },
  {
   "cell_type": "code",
   "execution_count": 22,
   "metadata": {},
   "outputs": [],
   "source": [
    "regressor = LinearRegression()\n",
    "regressor.fit(X_train, y_train)\n",
    "\n",
    "y_train_pred = regressor.predict(X_train)\n",
    "y_test_pred = regressor.predict(X_test)\n",
    "\n",
    "get_metrics(y_train, y_test, y_train_pred, y_test_pred)"
   ]
  },
  {
   "cell_type": "code",
   "execution_count": 28,
   "metadata": {},
   "outputs": [
    {
     "data": {
      "text/plain": [
       "(-0.0011653053391398327,\n",
       " 0.0018209162209695817,\n",
       " 1.3390076362259582,\n",
       " 1.3215277407410986,\n",
       " 40.78367176094884,\n",
       " 21.769184400105264)"
      ]
     },
     "execution_count": 28,
     "metadata": {},
     "output_type": "execute_result"
    }
   ],
   "source": [
    "regressor = LinearSVR(random_state=0)\n",
    "regressor.fit(X_train, y_train)\n",
    "\n",
    "y_train_pred = regressor.predict(X_train)\n",
    "y_test_pred = regressor.predict(X_test)\n",
    "\n",
    "get_metrics(y_train, y_test, y_train_pred, y_test_pred)"
   ]
  },
  {
   "cell_type": "code",
   "execution_count": null,
   "metadata": {},
   "outputs": [],
   "source": [
    "regressor = SVR()\n",
    "regressor.fit(X_train, y_train)\n",
    "\n",
    "y_train_pred = regressor.predict(X_train)\n",
    "y_test_pred = regressor.predict(X_test)\n",
    "\n",
    "get_metrics(y_train, y_test, y_train_pred, y_test_pred)"
   ]
  },
  {
   "cell_type": "code",
   "execution_count": 16,
   "metadata": {},
   "outputs": [
    {
     "name": "stderr",
     "output_type": "stream",
     "text": [
      "/home/fabio/.conda/envs/ds_poe_price/lib/python3.7/site-packages/ipykernel_launcher.py:2: DataConversionWarning: A column-vector y was passed when a 1d array was expected. Please change the shape of y to (n_samples,), for example using ravel().\n",
      "  \n"
     ]
    },
    {
     "data": {
      "text/plain": [
       "(0.8448961714845441,\n",
       " 0.07710605356289602,\n",
       " 0.52185596773542,\n",
       " 1.3599368766456295,\n",
       " 2.898193280018801,\n",
       " 17.418853400164362)"
      ]
     },
     "execution_count": 16,
     "metadata": {},
     "output_type": "execute_result"
    }
   ],
   "source": [
    "regressor = RandomForestRegressor(n_estimators=10, random_state=0)\n",
    "regressor.fit(X_train, y_train)\n",
    "\n",
    "y_train_pred = regressor.predict(X_train)\n",
    "y_test_pred = regressor.predict(X_test)\n",
    "\n",
    "get_metrics(y_train, y_test, y_train_pred, y_test_pred)"
   ]
  },
  {
   "cell_type": "markdown",
   "metadata": {},
   "source": [
    "## Exploiting best model"
   ]
  },
  {
   "cell_type": "code",
   "execution_count": 11,
   "metadata": {
    "collapsed": true,
    "jupyter": {
     "outputs_hidden": true
    }
   },
   "outputs": [
    {
     "name": "stderr",
     "output_type": "stream",
     "text": [
      "/home/fabio/Desktop/poe_price/venv/lib/python3.7/site-packages/sklearn/model_selection/_split.py:296: FutureWarning: Setting a random_state has no effect since shuffle is False. This will raise an error in 0.24. You should leave random_state to its default (None), or set shuffle=True.\n",
      "  FutureWarning\n",
      "/home/fabio/Desktop/poe_price/venv/lib/python3.7/site-packages/ipykernel_launcher.py:7: DataConversionWarning: A column-vector y was passed when a 1d array was expected. Please change the shape of y to (n_samples,), for example using ravel().\n",
      "  import sys\n"
     ]
    },
    {
     "name": "stdout",
     "output_type": "stream",
     "text": [
      "(0.8283286394171786, 0.40836768054812156, 8.855283645033495, 19.589328112316405, 1503.1825703892785, 7907.040376855415)\n"
     ]
    },
    {
     "name": "stderr",
     "output_type": "stream",
     "text": [
      "/home/fabio/Desktop/poe_price/venv/lib/python3.7/site-packages/ipykernel_launcher.py:7: DataConversionWarning: A column-vector y was passed when a 1d array was expected. Please change the shape of y to (n_samples,), for example using ravel().\n",
      "  import sys\n"
     ]
    },
    {
     "name": "stdout",
     "output_type": "stream",
     "text": [
      "(0.8578265387844374, -0.24823393964145657, 8.649814430247073, 22.019856220463826, 1394.734167623298, 4843.375131438703)\n"
     ]
    },
    {
     "name": "stderr",
     "output_type": "stream",
     "text": [
      "/home/fabio/Desktop/poe_price/venv/lib/python3.7/site-packages/ipykernel_launcher.py:7: DataConversionWarning: A column-vector y was passed when a 1d array was expected. Please change the shape of y to (n_samples,), for example using ravel().\n",
      "  import sys\n"
     ]
    },
    {
     "name": "stdout",
     "output_type": "stream",
     "text": [
      "(0.8486204178813296, -0.23715598673295624, 8.628568714596506, 22.62871049553004, 1454.0510016939465, 7079.704102587204)\n"
     ]
    },
    {
     "name": "stderr",
     "output_type": "stream",
     "text": [
      "/home/fabio/Desktop/poe_price/venv/lib/python3.7/site-packages/ipykernel_launcher.py:7: DataConversionWarning: A column-vector y was passed when a 1d array was expected. Please change the shape of y to (n_samples,), for example using ravel().\n",
      "  import sys\n"
     ]
    },
    {
     "name": "stdout",
     "output_type": "stream",
     "text": [
      "(0.8505291589083936, -0.18745136598105416, 8.61354950141195, 23.07026377786637, 1434.3296800622452, 6895.191597588732)\n"
     ]
    },
    {
     "name": "stderr",
     "output_type": "stream",
     "text": [
      "/home/fabio/Desktop/poe_price/venv/lib/python3.7/site-packages/ipykernel_launcher.py:7: DataConversionWarning: A column-vector y was passed when a 1d array was expected. Please change the shape of y to (n_samples,), for example using ravel().\n",
      "  import sys\n"
     ]
    },
    {
     "name": "stdout",
     "output_type": "stream",
     "text": [
      "(0.8502076429795309, 0.036557140549003386, 8.585371847664923, 22.692736997062443, 1284.8077762139608, 14428.162060343158)\n"
     ]
    },
    {
     "name": "stderr",
     "output_type": "stream",
     "text": [
      "/home/fabio/Desktop/poe_price/venv/lib/python3.7/site-packages/ipykernel_launcher.py:7: DataConversionWarning: A column-vector y was passed when a 1d array was expected. Please change the shape of y to (n_samples,), for example using ravel().\n",
      "  import sys\n"
     ]
    },
    {
     "name": "stdout",
     "output_type": "stream",
     "text": [
      "(0.8403686980755035, -0.09782497896731068, 8.756168932929716, 22.069065427471287, 1555.986232937615, 4878.718794575504)\n"
     ]
    },
    {
     "name": "stderr",
     "output_type": "stream",
     "text": [
      "/home/fabio/Desktop/poe_price/venv/lib/python3.7/site-packages/ipykernel_launcher.py:7: DataConversionWarning: A column-vector y was passed when a 1d array was expected. Please change the shape of y to (n_samples,), for example using ravel().\n",
      "  import sys\n"
     ]
    },
    {
     "ename": "KeyboardInterrupt",
     "evalue": "",
     "output_type": "error",
     "traceback": [
      "\u001b[0;31m---------------------------------------------------------------------------\u001b[0m",
      "\u001b[0;31mKeyboardInterrupt\u001b[0m                         Traceback (most recent call last)",
      "\u001b[0;32m<ipython-input-11-6569ccaa6a0b>\u001b[0m in \u001b[0;36m<module>\u001b[0;34m\u001b[0m\n\u001b[1;32m      5\u001b[0m \u001b[0;34m\u001b[0m\u001b[0m\n\u001b[1;32m      6\u001b[0m     \u001b[0mregressor\u001b[0m \u001b[0;34m=\u001b[0m \u001b[0mRandomForestRegressor\u001b[0m\u001b[0;34m(\u001b[0m\u001b[0mn_estimators\u001b[0m\u001b[0;34m=\u001b[0m\u001b[0;36m10\u001b[0m\u001b[0;34m,\u001b[0m \u001b[0mrandom_state\u001b[0m\u001b[0;34m=\u001b[0m\u001b[0;36m0\u001b[0m\u001b[0;34m)\u001b[0m\u001b[0;34m\u001b[0m\u001b[0;34m\u001b[0m\u001b[0m\n\u001b[0;32m----> 7\u001b[0;31m     \u001b[0mregressor\u001b[0m\u001b[0;34m.\u001b[0m\u001b[0mfit\u001b[0m\u001b[0;34m(\u001b[0m\u001b[0mX_train\u001b[0m\u001b[0;34m,\u001b[0m \u001b[0my_train\u001b[0m\u001b[0;34m)\u001b[0m\u001b[0;34m\u001b[0m\u001b[0;34m\u001b[0m\u001b[0m\n\u001b[0m\u001b[1;32m      8\u001b[0m \u001b[0;34m\u001b[0m\u001b[0m\n\u001b[1;32m      9\u001b[0m     \u001b[0my_train_pred\u001b[0m \u001b[0;34m=\u001b[0m \u001b[0mregressor\u001b[0m\u001b[0;34m.\u001b[0m\u001b[0mpredict\u001b[0m\u001b[0;34m(\u001b[0m\u001b[0mX_train\u001b[0m\u001b[0;34m)\u001b[0m\u001b[0;34m\u001b[0m\u001b[0;34m\u001b[0m\u001b[0m\n",
      "\u001b[0;32m~/Desktop/poe_price/venv/lib/python3.7/site-packages/sklearn/ensemble/_forest.py\u001b[0m in \u001b[0;36mfit\u001b[0;34m(self, X, y, sample_weight)\u001b[0m\n\u001b[1;32m    381\u001b[0m                     \u001b[0mverbose\u001b[0m\u001b[0;34m=\u001b[0m\u001b[0mself\u001b[0m\u001b[0;34m.\u001b[0m\u001b[0mverbose\u001b[0m\u001b[0;34m,\u001b[0m \u001b[0mclass_weight\u001b[0m\u001b[0;34m=\u001b[0m\u001b[0mself\u001b[0m\u001b[0;34m.\u001b[0m\u001b[0mclass_weight\u001b[0m\u001b[0;34m,\u001b[0m\u001b[0;34m\u001b[0m\u001b[0;34m\u001b[0m\u001b[0m\n\u001b[1;32m    382\u001b[0m                     n_samples_bootstrap=n_samples_bootstrap)\n\u001b[0;32m--> 383\u001b[0;31m                 for i, t in enumerate(trees))\n\u001b[0m\u001b[1;32m    384\u001b[0m \u001b[0;34m\u001b[0m\u001b[0m\n\u001b[1;32m    385\u001b[0m             \u001b[0;31m# Collect newly grown trees\u001b[0m\u001b[0;34m\u001b[0m\u001b[0;34m\u001b[0m\u001b[0;34m\u001b[0m\u001b[0m\n",
      "\u001b[0;32m~/Desktop/poe_price/venv/lib/python3.7/site-packages/joblib/parallel.py\u001b[0m in \u001b[0;36m__call__\u001b[0;34m(self, iterable)\u001b[0m\n\u001b[1;32m   1005\u001b[0m                 \u001b[0mself\u001b[0m\u001b[0;34m.\u001b[0m\u001b[0m_iterating\u001b[0m \u001b[0;34m=\u001b[0m \u001b[0mself\u001b[0m\u001b[0;34m.\u001b[0m\u001b[0m_original_iterator\u001b[0m \u001b[0;32mis\u001b[0m \u001b[0;32mnot\u001b[0m \u001b[0;32mNone\u001b[0m\u001b[0;34m\u001b[0m\u001b[0;34m\u001b[0m\u001b[0m\n\u001b[1;32m   1006\u001b[0m \u001b[0;34m\u001b[0m\u001b[0m\n\u001b[0;32m-> 1007\u001b[0;31m             \u001b[0;32mwhile\u001b[0m \u001b[0mself\u001b[0m\u001b[0;34m.\u001b[0m\u001b[0mdispatch_one_batch\u001b[0m\u001b[0;34m(\u001b[0m\u001b[0miterator\u001b[0m\u001b[0;34m)\u001b[0m\u001b[0;34m:\u001b[0m\u001b[0;34m\u001b[0m\u001b[0;34m\u001b[0m\u001b[0m\n\u001b[0m\u001b[1;32m   1008\u001b[0m                 \u001b[0;32mpass\u001b[0m\u001b[0;34m\u001b[0m\u001b[0;34m\u001b[0m\u001b[0m\n\u001b[1;32m   1009\u001b[0m \u001b[0;34m\u001b[0m\u001b[0m\n",
      "\u001b[0;32m~/Desktop/poe_price/venv/lib/python3.7/site-packages/joblib/parallel.py\u001b[0m in \u001b[0;36mdispatch_one_batch\u001b[0;34m(self, iterator)\u001b[0m\n\u001b[1;32m    833\u001b[0m                 \u001b[0;32mreturn\u001b[0m \u001b[0;32mFalse\u001b[0m\u001b[0;34m\u001b[0m\u001b[0;34m\u001b[0m\u001b[0m\n\u001b[1;32m    834\u001b[0m             \u001b[0;32melse\u001b[0m\u001b[0;34m:\u001b[0m\u001b[0;34m\u001b[0m\u001b[0;34m\u001b[0m\u001b[0m\n\u001b[0;32m--> 835\u001b[0;31m                 \u001b[0mself\u001b[0m\u001b[0;34m.\u001b[0m\u001b[0m_dispatch\u001b[0m\u001b[0;34m(\u001b[0m\u001b[0mtasks\u001b[0m\u001b[0;34m)\u001b[0m\u001b[0;34m\u001b[0m\u001b[0;34m\u001b[0m\u001b[0m\n\u001b[0m\u001b[1;32m    836\u001b[0m                 \u001b[0;32mreturn\u001b[0m \u001b[0;32mTrue\u001b[0m\u001b[0;34m\u001b[0m\u001b[0;34m\u001b[0m\u001b[0m\n\u001b[1;32m    837\u001b[0m \u001b[0;34m\u001b[0m\u001b[0m\n",
      "\u001b[0;32m~/Desktop/poe_price/venv/lib/python3.7/site-packages/joblib/parallel.py\u001b[0m in \u001b[0;36m_dispatch\u001b[0;34m(self, batch)\u001b[0m\n\u001b[1;32m    752\u001b[0m         \u001b[0;32mwith\u001b[0m \u001b[0mself\u001b[0m\u001b[0;34m.\u001b[0m\u001b[0m_lock\u001b[0m\u001b[0;34m:\u001b[0m\u001b[0;34m\u001b[0m\u001b[0;34m\u001b[0m\u001b[0m\n\u001b[1;32m    753\u001b[0m             \u001b[0mjob_idx\u001b[0m \u001b[0;34m=\u001b[0m \u001b[0mlen\u001b[0m\u001b[0;34m(\u001b[0m\u001b[0mself\u001b[0m\u001b[0;34m.\u001b[0m\u001b[0m_jobs\u001b[0m\u001b[0;34m)\u001b[0m\u001b[0;34m\u001b[0m\u001b[0;34m\u001b[0m\u001b[0m\n\u001b[0;32m--> 754\u001b[0;31m             \u001b[0mjob\u001b[0m \u001b[0;34m=\u001b[0m \u001b[0mself\u001b[0m\u001b[0;34m.\u001b[0m\u001b[0m_backend\u001b[0m\u001b[0;34m.\u001b[0m\u001b[0mapply_async\u001b[0m\u001b[0;34m(\u001b[0m\u001b[0mbatch\u001b[0m\u001b[0;34m,\u001b[0m \u001b[0mcallback\u001b[0m\u001b[0;34m=\u001b[0m\u001b[0mcb\u001b[0m\u001b[0;34m)\u001b[0m\u001b[0;34m\u001b[0m\u001b[0;34m\u001b[0m\u001b[0m\n\u001b[0m\u001b[1;32m    755\u001b[0m             \u001b[0;31m# A job can complete so quickly than its callback is\u001b[0m\u001b[0;34m\u001b[0m\u001b[0;34m\u001b[0m\u001b[0;34m\u001b[0m\u001b[0m\n\u001b[1;32m    756\u001b[0m             \u001b[0;31m# called before we get here, causing self._jobs to\u001b[0m\u001b[0;34m\u001b[0m\u001b[0;34m\u001b[0m\u001b[0;34m\u001b[0m\u001b[0m\n",
      "\u001b[0;32m~/Desktop/poe_price/venv/lib/python3.7/site-packages/joblib/_parallel_backends.py\u001b[0m in \u001b[0;36mapply_async\u001b[0;34m(self, func, callback)\u001b[0m\n\u001b[1;32m    207\u001b[0m     \u001b[0;32mdef\u001b[0m \u001b[0mapply_async\u001b[0m\u001b[0;34m(\u001b[0m\u001b[0mself\u001b[0m\u001b[0;34m,\u001b[0m \u001b[0mfunc\u001b[0m\u001b[0;34m,\u001b[0m \u001b[0mcallback\u001b[0m\u001b[0;34m=\u001b[0m\u001b[0;32mNone\u001b[0m\u001b[0;34m)\u001b[0m\u001b[0;34m:\u001b[0m\u001b[0;34m\u001b[0m\u001b[0;34m\u001b[0m\u001b[0m\n\u001b[1;32m    208\u001b[0m         \u001b[0;34m\"\"\"Schedule a func to be run\"\"\"\u001b[0m\u001b[0;34m\u001b[0m\u001b[0;34m\u001b[0m\u001b[0m\n\u001b[0;32m--> 209\u001b[0;31m         \u001b[0mresult\u001b[0m \u001b[0;34m=\u001b[0m \u001b[0mImmediateResult\u001b[0m\u001b[0;34m(\u001b[0m\u001b[0mfunc\u001b[0m\u001b[0;34m)\u001b[0m\u001b[0;34m\u001b[0m\u001b[0;34m\u001b[0m\u001b[0m\n\u001b[0m\u001b[1;32m    210\u001b[0m         \u001b[0;32mif\u001b[0m \u001b[0mcallback\u001b[0m\u001b[0;34m:\u001b[0m\u001b[0;34m\u001b[0m\u001b[0;34m\u001b[0m\u001b[0m\n\u001b[1;32m    211\u001b[0m             \u001b[0mcallback\u001b[0m\u001b[0;34m(\u001b[0m\u001b[0mresult\u001b[0m\u001b[0;34m)\u001b[0m\u001b[0;34m\u001b[0m\u001b[0;34m\u001b[0m\u001b[0m\n",
      "\u001b[0;32m~/Desktop/poe_price/venv/lib/python3.7/site-packages/joblib/_parallel_backends.py\u001b[0m in \u001b[0;36m__init__\u001b[0;34m(self, batch)\u001b[0m\n\u001b[1;32m    588\u001b[0m         \u001b[0;31m# Don't delay the application, to avoid keeping the input\u001b[0m\u001b[0;34m\u001b[0m\u001b[0;34m\u001b[0m\u001b[0;34m\u001b[0m\u001b[0m\n\u001b[1;32m    589\u001b[0m         \u001b[0;31m# arguments in memory\u001b[0m\u001b[0;34m\u001b[0m\u001b[0;34m\u001b[0m\u001b[0;34m\u001b[0m\u001b[0m\n\u001b[0;32m--> 590\u001b[0;31m         \u001b[0mself\u001b[0m\u001b[0;34m.\u001b[0m\u001b[0mresults\u001b[0m \u001b[0;34m=\u001b[0m \u001b[0mbatch\u001b[0m\u001b[0;34m(\u001b[0m\u001b[0;34m)\u001b[0m\u001b[0;34m\u001b[0m\u001b[0;34m\u001b[0m\u001b[0m\n\u001b[0m\u001b[1;32m    591\u001b[0m \u001b[0;34m\u001b[0m\u001b[0m\n\u001b[1;32m    592\u001b[0m     \u001b[0;32mdef\u001b[0m \u001b[0mget\u001b[0m\u001b[0;34m(\u001b[0m\u001b[0mself\u001b[0m\u001b[0;34m)\u001b[0m\u001b[0;34m:\u001b[0m\u001b[0;34m\u001b[0m\u001b[0;34m\u001b[0m\u001b[0m\n",
      "\u001b[0;32m~/Desktop/poe_price/venv/lib/python3.7/site-packages/joblib/parallel.py\u001b[0m in \u001b[0;36m__call__\u001b[0;34m(self)\u001b[0m\n\u001b[1;32m    254\u001b[0m         \u001b[0;32mwith\u001b[0m \u001b[0mparallel_backend\u001b[0m\u001b[0;34m(\u001b[0m\u001b[0mself\u001b[0m\u001b[0;34m.\u001b[0m\u001b[0m_backend\u001b[0m\u001b[0;34m,\u001b[0m \u001b[0mn_jobs\u001b[0m\u001b[0;34m=\u001b[0m\u001b[0mself\u001b[0m\u001b[0;34m.\u001b[0m\u001b[0m_n_jobs\u001b[0m\u001b[0;34m)\u001b[0m\u001b[0;34m:\u001b[0m\u001b[0;34m\u001b[0m\u001b[0;34m\u001b[0m\u001b[0m\n\u001b[1;32m    255\u001b[0m             return [func(*args, **kwargs)\n\u001b[0;32m--> 256\u001b[0;31m                     for func, args, kwargs in self.items]\n\u001b[0m\u001b[1;32m    257\u001b[0m \u001b[0;34m\u001b[0m\u001b[0m\n\u001b[1;32m    258\u001b[0m     \u001b[0;32mdef\u001b[0m \u001b[0m__len__\u001b[0m\u001b[0;34m(\u001b[0m\u001b[0mself\u001b[0m\u001b[0;34m)\u001b[0m\u001b[0;34m:\u001b[0m\u001b[0;34m\u001b[0m\u001b[0;34m\u001b[0m\u001b[0m\n",
      "\u001b[0;32m~/Desktop/poe_price/venv/lib/python3.7/site-packages/joblib/parallel.py\u001b[0m in \u001b[0;36m<listcomp>\u001b[0;34m(.0)\u001b[0m\n\u001b[1;32m    254\u001b[0m         \u001b[0;32mwith\u001b[0m \u001b[0mparallel_backend\u001b[0m\u001b[0;34m(\u001b[0m\u001b[0mself\u001b[0m\u001b[0;34m.\u001b[0m\u001b[0m_backend\u001b[0m\u001b[0;34m,\u001b[0m \u001b[0mn_jobs\u001b[0m\u001b[0;34m=\u001b[0m\u001b[0mself\u001b[0m\u001b[0;34m.\u001b[0m\u001b[0m_n_jobs\u001b[0m\u001b[0;34m)\u001b[0m\u001b[0;34m:\u001b[0m\u001b[0;34m\u001b[0m\u001b[0;34m\u001b[0m\u001b[0m\n\u001b[1;32m    255\u001b[0m             return [func(*args, **kwargs)\n\u001b[0;32m--> 256\u001b[0;31m                     for func, args, kwargs in self.items]\n\u001b[0m\u001b[1;32m    257\u001b[0m \u001b[0;34m\u001b[0m\u001b[0m\n\u001b[1;32m    258\u001b[0m     \u001b[0;32mdef\u001b[0m \u001b[0m__len__\u001b[0m\u001b[0;34m(\u001b[0m\u001b[0mself\u001b[0m\u001b[0;34m)\u001b[0m\u001b[0;34m:\u001b[0m\u001b[0;34m\u001b[0m\u001b[0;34m\u001b[0m\u001b[0m\n",
      "\u001b[0;32m~/Desktop/poe_price/venv/lib/python3.7/site-packages/sklearn/ensemble/_forest.py\u001b[0m in \u001b[0;36m_parallel_build_trees\u001b[0;34m(tree, forest, X, y, sample_weight, tree_idx, n_trees, verbose, class_weight, n_samples_bootstrap)\u001b[0m\n\u001b[1;32m    163\u001b[0m             \u001b[0mcurr_sample_weight\u001b[0m \u001b[0;34m*=\u001b[0m \u001b[0mcompute_sample_weight\u001b[0m\u001b[0;34m(\u001b[0m\u001b[0;34m'balanced'\u001b[0m\u001b[0;34m,\u001b[0m \u001b[0my\u001b[0m\u001b[0;34m,\u001b[0m \u001b[0mindices\u001b[0m\u001b[0;34m)\u001b[0m\u001b[0;34m\u001b[0m\u001b[0;34m\u001b[0m\u001b[0m\n\u001b[1;32m    164\u001b[0m \u001b[0;34m\u001b[0m\u001b[0m\n\u001b[0;32m--> 165\u001b[0;31m         \u001b[0mtree\u001b[0m\u001b[0;34m.\u001b[0m\u001b[0mfit\u001b[0m\u001b[0;34m(\u001b[0m\u001b[0mX\u001b[0m\u001b[0;34m,\u001b[0m \u001b[0my\u001b[0m\u001b[0;34m,\u001b[0m \u001b[0msample_weight\u001b[0m\u001b[0;34m=\u001b[0m\u001b[0mcurr_sample_weight\u001b[0m\u001b[0;34m,\u001b[0m \u001b[0mcheck_input\u001b[0m\u001b[0;34m=\u001b[0m\u001b[0;32mFalse\u001b[0m\u001b[0;34m)\u001b[0m\u001b[0;34m\u001b[0m\u001b[0;34m\u001b[0m\u001b[0m\n\u001b[0m\u001b[1;32m    166\u001b[0m     \u001b[0;32melse\u001b[0m\u001b[0;34m:\u001b[0m\u001b[0;34m\u001b[0m\u001b[0;34m\u001b[0m\u001b[0m\n\u001b[1;32m    167\u001b[0m         \u001b[0mtree\u001b[0m\u001b[0;34m.\u001b[0m\u001b[0mfit\u001b[0m\u001b[0;34m(\u001b[0m\u001b[0mX\u001b[0m\u001b[0;34m,\u001b[0m \u001b[0my\u001b[0m\u001b[0;34m,\u001b[0m \u001b[0msample_weight\u001b[0m\u001b[0;34m=\u001b[0m\u001b[0msample_weight\u001b[0m\u001b[0;34m,\u001b[0m \u001b[0mcheck_input\u001b[0m\u001b[0;34m=\u001b[0m\u001b[0;32mFalse\u001b[0m\u001b[0;34m)\u001b[0m\u001b[0;34m\u001b[0m\u001b[0;34m\u001b[0m\u001b[0m\n",
      "\u001b[0;32m~/Desktop/poe_price/venv/lib/python3.7/site-packages/sklearn/tree/_classes.py\u001b[0m in \u001b[0;36mfit\u001b[0;34m(self, X, y, sample_weight, check_input, X_idx_sorted)\u001b[0m\n\u001b[1;32m   1223\u001b[0m             \u001b[0msample_weight\u001b[0m\u001b[0;34m=\u001b[0m\u001b[0msample_weight\u001b[0m\u001b[0;34m,\u001b[0m\u001b[0;34m\u001b[0m\u001b[0;34m\u001b[0m\u001b[0m\n\u001b[1;32m   1224\u001b[0m             \u001b[0mcheck_input\u001b[0m\u001b[0;34m=\u001b[0m\u001b[0mcheck_input\u001b[0m\u001b[0;34m,\u001b[0m\u001b[0;34m\u001b[0m\u001b[0;34m\u001b[0m\u001b[0m\n\u001b[0;32m-> 1225\u001b[0;31m             X_idx_sorted=X_idx_sorted)\n\u001b[0m\u001b[1;32m   1226\u001b[0m         \u001b[0;32mreturn\u001b[0m \u001b[0mself\u001b[0m\u001b[0;34m\u001b[0m\u001b[0;34m\u001b[0m\u001b[0m\n\u001b[1;32m   1227\u001b[0m \u001b[0;34m\u001b[0m\u001b[0m\n",
      "\u001b[0;32m~/Desktop/poe_price/venv/lib/python3.7/site-packages/sklearn/tree/_classes.py\u001b[0m in \u001b[0;36mfit\u001b[0;34m(self, X, y, sample_weight, check_input, X_idx_sorted)\u001b[0m\n\u001b[1;32m    365\u001b[0m                                            min_impurity_split)\n\u001b[1;32m    366\u001b[0m \u001b[0;34m\u001b[0m\u001b[0m\n\u001b[0;32m--> 367\u001b[0;31m         \u001b[0mbuilder\u001b[0m\u001b[0;34m.\u001b[0m\u001b[0mbuild\u001b[0m\u001b[0;34m(\u001b[0m\u001b[0mself\u001b[0m\u001b[0;34m.\u001b[0m\u001b[0mtree_\u001b[0m\u001b[0;34m,\u001b[0m \u001b[0mX\u001b[0m\u001b[0;34m,\u001b[0m \u001b[0my\u001b[0m\u001b[0;34m,\u001b[0m \u001b[0msample_weight\u001b[0m\u001b[0;34m,\u001b[0m \u001b[0mX_idx_sorted\u001b[0m\u001b[0;34m)\u001b[0m\u001b[0;34m\u001b[0m\u001b[0;34m\u001b[0m\u001b[0m\n\u001b[0m\u001b[1;32m    368\u001b[0m \u001b[0;34m\u001b[0m\u001b[0m\n\u001b[1;32m    369\u001b[0m         \u001b[0;32mif\u001b[0m \u001b[0mself\u001b[0m\u001b[0;34m.\u001b[0m\u001b[0mn_outputs_\u001b[0m \u001b[0;34m==\u001b[0m \u001b[0;36m1\u001b[0m \u001b[0;32mand\u001b[0m \u001b[0mis_classifier\u001b[0m\u001b[0;34m(\u001b[0m\u001b[0mself\u001b[0m\u001b[0;34m)\u001b[0m\u001b[0;34m:\u001b[0m\u001b[0;34m\u001b[0m\u001b[0;34m\u001b[0m\u001b[0m\n",
      "\u001b[0;31mKeyboardInterrupt\u001b[0m: "
     ]
    }
   ],
   "source": [
    "kf = KFold(n_splits=10, shuffle=False, random_state=0)\n",
    "for train_index, test_index in kf.split(X_scaled):\n",
    "    X_train, X_test = X[train_index], X[test_index]\n",
    "    y_train, y_test = y[train_index], y[test_index]\n",
    "\n",
    "    regressor = RandomForestRegressor(n_estimators=10, random_state=0)\n",
    "    regressor.fit(X_train, y_train)\n",
    "\n",
    "    y_train_pred = regressor.predict(X_train)\n",
    "    y_test_pred = regressor.predict(X_test)\n",
    "\n",
    "    print(get_metrics(y_train, y_test, y_train_pred, y_test_pred))"
   ]
  },
  {
   "cell_type": "code",
   "execution_count": null,
   "metadata": {},
   "outputs": [],
   "source": [
    "grid = {\n",
    "    \"n_estimators\": range(10, 100, 20),\n",
    "}\n",
    "\n",
    "gs = GridSearchCV(RandomForestRegressor, grid, n_jobs=2, verbose=True)"
   ]
  },
  {
   "cell_type": "markdown",
   "metadata": {},
   "source": [
    "## Deep learning"
   ]
  },
  {
   "cell_type": "code",
   "execution_count": 24,
   "metadata": {},
   "outputs": [],
   "source": [
    "from tensorflow import keras\n",
    "from tensorflow.keras import layers\n",
    "from keras.models import Sequential\n",
    "from keras.layers import Dense, Dropout"
   ]
  },
  {
   "cell_type": "code",
   "execution_count": 41,
   "metadata": {},
   "outputs": [
    {
     "name": "stdout",
     "output_type": "stream",
     "text": [
      "Model: \"sequential_8\"\n",
      "_________________________________________________________________\n",
      "Layer (type)                 Output Shape              Param #   \n",
      "=================================================================\n",
      "dense_31 (Dense)             (None, 200)               57600     \n",
      "_________________________________________________________________\n",
      "dropout_11 (Dropout)         (None, 200)               0         \n",
      "_________________________________________________________________\n",
      "dense_32 (Dense)             (None, 200)               40200     \n",
      "_________________________________________________________________\n",
      "dropout_12 (Dropout)         (None, 200)               0         \n",
      "_________________________________________________________________\n",
      "dense_33 (Dense)             (None, 400)               80400     \n",
      "_________________________________________________________________\n",
      "dense_34 (Dense)             (None, 1)                 401       \n",
      "=================================================================\n",
      "Total params: 178,601\n",
      "Trainable params: 178,601\n",
      "Non-trainable params: 0\n",
      "_________________________________________________________________\n"
     ]
    }
   ],
   "source": [
    "model = Sequential()\n",
    "model.add(Dense(200, input_dim=X.shape[1], kernel_initializer='normal', activation='relu'))\n",
    "model.add(Dropout(0.2))\n",
    "model.add(Dense(200, activation='relu'))\n",
    "model.add(Dropout(0.2))\n",
    "model.add(Dense(400, activation='relu'))\n",
    "model.add(Dense(1, activation='linear'))\n",
    "model.compile(loss='mse', optimizer='adam', metrics=['mae'])\n",
    "model.summary()"
   ]
  },
  {
   "cell_type": "code",
   "execution_count": 45,
   "metadata": {
    "collapsed": true,
    "jupyter": {
     "outputs_hidden": true
    }
   },
   "outputs": [
    {
     "name": "stdout",
     "output_type": "stream",
     "text": [
      "Train on 69735 samples, validate on 46491 samples\n",
      "Epoch 1/100\n",
      "69735/69735 [==============================] - 2s 27us/step - loss: 9.5719 - mae: 1.5112 - val_loss: 9.4267 - val_mae: 1.3314\n",
      "Epoch 2/100\n",
      "69735/69735 [==============================] - 2s 24us/step - loss: 8.8156 - mae: 1.4353 - val_loss: 9.0819 - val_mae: 1.2815\n",
      "Epoch 3/100\n",
      "69735/69735 [==============================] - 2s 23us/step - loss: 8.4502 - mae: 1.3915 - val_loss: 8.8134 - val_mae: 1.2467\n",
      "Epoch 4/100\n",
      "69735/69735 [==============================] - 2s 23us/step - loss: 8.0255 - mae: 1.3596 - val_loss: 8.7367 - val_mae: 1.2083\n",
      "Epoch 5/100\n",
      "69735/69735 [==============================] - 2s 23us/step - loss: 7.5931 - mae: 1.3267 - val_loss: 8.4246 - val_mae: 1.2340\n",
      "Epoch 6/100\n",
      "69735/69735 [==============================] - 2s 24us/step - loss: 7.2250 - mae: 1.2952 - val_loss: 8.4548 - val_mae: 1.1892\n",
      "Epoch 7/100\n",
      "69735/69735 [==============================] - 2s 24us/step - loss: 6.9164 - mae: 1.2766 - val_loss: 8.4275 - val_mae: 1.1801\n",
      "Epoch 8/100\n",
      "69735/69735 [==============================] - 2s 24us/step - loss: 6.5156 - mae: 1.2559 - val_loss: 8.2169 - val_mae: 1.2011\n",
      "Epoch 9/100\n",
      "69735/69735 [==============================] - 2s 24us/step - loss: 6.1586 - mae: 1.2342 - val_loss: 8.2195 - val_mae: 1.1961\n",
      "Epoch 10/100\n",
      "69735/69735 [==============================] - 2s 24us/step - loss: 5.9677 - mae: 1.2144 - val_loss: 8.5444 - val_mae: 1.1587\n",
      "Epoch 11/100\n",
      "69735/69735 [==============================] - 2s 26us/step - loss: 5.5873 - mae: 1.2034 - val_loss: 8.3638 - val_mae: 1.1761\n",
      "Epoch 12/100\n",
      "69735/69735 [==============================] - 2s 25us/step - loss: 5.4383 - mae: 1.1831 - val_loss: 8.5702 - val_mae: 1.1544\n",
      "Epoch 13/100\n",
      "69735/69735 [==============================] - 2s 25us/step - loss: 5.3874 - mae: 1.1786 - val_loss: 8.5050 - val_mae: 1.1738\n",
      "Epoch 14/100\n",
      "69735/69735 [==============================] - 2s 24us/step - loss: 5.1883 - mae: 1.1667 - val_loss: 8.4645 - val_mae: 1.1573\n",
      "Epoch 15/100\n",
      "69735/69735 [==============================] - 2s 24us/step - loss: 5.0588 - mae: 1.1517 - val_loss: 8.5272 - val_mae: 1.1636\n",
      "Epoch 16/100\n",
      "69735/69735 [==============================] - 2s 24us/step - loss: 4.8800 - mae: 1.1475 - val_loss: 8.4523 - val_mae: 1.1482\n",
      "Epoch 17/100\n",
      "69735/69735 [==============================] - 2s 24us/step - loss: 4.7270 - mae: 1.1312 - val_loss: 8.6307 - val_mae: 1.1499\n",
      "Epoch 18/100\n",
      "69735/69735 [==============================] - 2s 29us/step - loss: 4.6849 - mae: 1.1233 - val_loss: 8.3973 - val_mae: 1.1650\n",
      "Epoch 19/100\n",
      "69735/69735 [==============================] - 2s 26us/step - loss: 4.5799 - mae: 1.1161 - val_loss: 8.4816 - val_mae: 1.1533\n",
      "Epoch 20/100\n",
      "69735/69735 [==============================] - 2s 26us/step - loss: 4.6243 - mae: 1.1103 - val_loss: 8.5347 - val_mae: 1.1602\n",
      "Epoch 21/100\n",
      "69735/69735 [==============================] - 2s 24us/step - loss: 4.3658 - mae: 1.1039 - val_loss: 8.5830 - val_mae: 1.1353\n",
      "Epoch 22/100\n",
      "69735/69735 [==============================] - 2s 25us/step - loss: 4.3400 - mae: 1.0952 - val_loss: 8.5098 - val_mae: 1.1553\n",
      "Epoch 23/100\n",
      "69735/69735 [==============================] - 2s 23us/step - loss: 4.2954 - mae: 1.0822 - val_loss: 8.4412 - val_mae: 1.1609\n",
      "Epoch 24/100\n",
      "69735/69735 [==============================] - 2s 23us/step - loss: 4.1828 - mae: 1.0821 - val_loss: 8.2909 - val_mae: 1.1709\n",
      "Epoch 25/100\n",
      "69735/69735 [==============================] - 2s 23us/step - loss: 4.2438 - mae: 1.0813 - val_loss: 8.4004 - val_mae: 1.1615\n",
      "Epoch 26/100\n",
      "69735/69735 [==============================] - 2s 30us/step - loss: 4.1417 - mae: 1.0755 - val_loss: 8.5687 - val_mae: 1.1662\n",
      "Epoch 27/100\n",
      "69735/69735 [==============================] - 3s 38us/step - loss: 4.0155 - mae: 1.0657 - val_loss: 8.4697 - val_mae: 1.1517\n",
      "Epoch 28/100\n",
      "69735/69735 [==============================] - 2s 28us/step - loss: 4.0022 - mae: 1.0620 - val_loss: 8.4009 - val_mae: 1.1644\n",
      "Epoch 29/100\n",
      "69735/69735 [==============================] - 2s 23us/step - loss: 3.9472 - mae: 1.0588 - val_loss: 8.5079 - val_mae: 1.1477\n",
      "Epoch 30/100\n",
      "69735/69735 [==============================] - 2s 24us/step - loss: 3.8836 - mae: 1.0449 - val_loss: 8.4699 - val_mae: 1.1651\n",
      "Epoch 31/100\n",
      "69735/69735 [==============================] - 2s 22us/step - loss: 3.8387 - mae: 1.0471 - val_loss: 8.3025 - val_mae: 1.1984\n",
      "Epoch 32/100\n",
      "69735/69735 [==============================] - 1s 21us/step - loss: 3.7810 - mae: 1.0432 - val_loss: 8.5752 - val_mae: 1.1559\n",
      "Epoch 33/100\n",
      "69735/69735 [==============================] - 2s 23us/step - loss: 3.6051 - mae: 1.0293 - val_loss: 8.6234 - val_mae: 1.1510\n",
      "Epoch 34/100\n",
      "69735/69735 [==============================] - 1s 21us/step - loss: 3.6102 - mae: 1.0241 - val_loss: 8.5982 - val_mae: 1.1457\n",
      "Epoch 35/100\n",
      "69735/69735 [==============================] - 2s 26us/step - loss: 3.5895 - mae: 1.0231 - val_loss: 8.3604 - val_mae: 1.1613\n",
      "Epoch 36/100\n",
      "69735/69735 [==============================] - 2s 24us/step - loss: 3.5833 - mae: 1.0225 - val_loss: 8.4860 - val_mae: 1.1577\n",
      "Epoch 37/100\n",
      "69735/69735 [==============================] - 2s 27us/step - loss: 3.5366 - mae: 1.0171 - val_loss: 8.5673 - val_mae: 1.1550\n",
      "Epoch 38/100\n",
      "69735/69735 [==============================] - 1s 21us/step - loss: 3.5307 - mae: 1.0156 - val_loss: 8.2937 - val_mae: 1.1639\n",
      "Epoch 39/100\n",
      "69735/69735 [==============================] - 2s 29us/step - loss: 3.4313 - mae: 1.0062 - val_loss: 8.5029 - val_mae: 1.1488\n",
      "Epoch 40/100\n",
      "69735/69735 [==============================] - 4s 50us/step - loss: 3.4582 - mae: 1.0125 - val_loss: 8.4047 - val_mae: 1.1634\n",
      "Epoch 41/100\n",
      "69735/69735 [==============================] - 3s 40us/step - loss: 3.3916 - mae: 0.9997 - val_loss: 8.5471 - val_mae: 1.1458\n",
      "Epoch 42/100\n",
      "69735/69735 [==============================] - 2s 26us/step - loss: 3.3841 - mae: 1.0023 - val_loss: 8.5183 - val_mae: 1.1552\n",
      "Epoch 43/100\n",
      "69735/69735 [==============================] - 2s 26us/step - loss: 3.2534 - mae: 0.9882 - val_loss: 8.4118 - val_mae: 1.1650\n",
      "Epoch 44/100\n",
      "69735/69735 [==============================] - 2s 25us/step - loss: 3.2464 - mae: 0.9923 - val_loss: 8.6793 - val_mae: 1.1454\n",
      "Epoch 45/100\n",
      "69735/69735 [==============================] - 2s 25us/step - loss: 3.2246 - mae: 0.9849 - val_loss: 8.4871 - val_mae: 1.1585\n",
      "Epoch 46/100\n",
      "69735/69735 [==============================] - 2s 30us/step - loss: 3.2231 - mae: 0.9853 - val_loss: 8.3902 - val_mae: 1.1551\n",
      "Epoch 47/100\n",
      "69735/69735 [==============================] - 2s 28us/step - loss: 3.1239 - mae: 0.9715 - val_loss: 8.5943 - val_mae: 1.1472\n",
      "Epoch 48/100\n",
      "69735/69735 [==============================] - 2s 26us/step - loss: 3.1398 - mae: 0.9740 - val_loss: 8.5660 - val_mae: 1.1523\n",
      "Epoch 49/100\n",
      "69735/69735 [==============================] - 2s 26us/step - loss: 3.1283 - mae: 0.9755 - val_loss: 8.5280 - val_mae: 1.1609\n",
      "Epoch 50/100\n",
      "69735/69735 [==============================] - 2s 25us/step - loss: 3.1277 - mae: 0.9716 - val_loss: 8.5312 - val_mae: 1.1506\n",
      "Epoch 51/100\n",
      "69735/69735 [==============================] - 2s 25us/step - loss: 3.1065 - mae: 0.9704 - val_loss: 8.4454 - val_mae: 1.1602\n",
      "Epoch 52/100\n",
      "69735/69735 [==============================] - 2s 25us/step - loss: 3.1336 - mae: 0.9708 - val_loss: 8.4029 - val_mae: 1.1476\n",
      "Epoch 53/100\n",
      "69735/69735 [==============================] - 2s 25us/step - loss: 3.1145 - mae: 0.9668 - val_loss: 8.4949 - val_mae: 1.1514\n",
      "Epoch 54/100\n",
      "69735/69735 [==============================] - 2s 26us/step - loss: 3.0138 - mae: 0.9612 - val_loss: 8.4208 - val_mae: 1.1582\n",
      "Epoch 55/100\n",
      "69735/69735 [==============================] - 2s 25us/step - loss: 3.0366 - mae: 0.9571 - val_loss: 8.3947 - val_mae: 1.1624\n",
      "Epoch 56/100\n",
      "69735/69735 [==============================] - 2s 25us/step - loss: 2.9671 - mae: 0.9615 - val_loss: 8.6107 - val_mae: 1.1510\n",
      "Epoch 57/100\n",
      "69735/69735 [==============================] - 2s 25us/step - loss: 3.0094 - mae: 0.9587 - val_loss: 8.5167 - val_mae: 1.1466\n",
      "Epoch 58/100\n",
      "69735/69735 [==============================] - 2s 26us/step - loss: 2.9535 - mae: 0.9514 - val_loss: 8.4792 - val_mae: 1.1680\n",
      "Epoch 59/100\n",
      "69735/69735 [==============================] - 2s 26us/step - loss: 2.9005 - mae: 0.9478 - val_loss: 8.5245 - val_mae: 1.1543\n",
      "Epoch 60/100\n",
      "69735/69735 [==============================] - 2s 26us/step - loss: 2.9281 - mae: 0.9510 - val_loss: 8.5187 - val_mae: 1.1486\n",
      "Epoch 61/100\n",
      "69735/69735 [==============================] - 2s 26us/step - loss: 2.8697 - mae: 0.9423 - val_loss: 8.5926 - val_mae: 1.1429\n",
      "Epoch 62/100\n",
      "69735/69735 [==============================] - 2s 26us/step - loss: 2.9161 - mae: 0.9489 - val_loss: 8.4335 - val_mae: 1.1544\n",
      "Epoch 63/100\n",
      "69735/69735 [==============================] - 2s 27us/step - loss: 2.8081 - mae: 0.9335 - val_loss: 8.6172 - val_mae: 1.1478\n",
      "Epoch 64/100\n",
      "69735/69735 [==============================] - 2s 26us/step - loss: 2.8383 - mae: 0.9369 - val_loss: 8.4611 - val_mae: 1.1681\n",
      "Epoch 65/100\n",
      "69735/69735 [==============================] - 2s 26us/step - loss: 2.8110 - mae: 0.9371 - val_loss: 8.6354 - val_mae: 1.1510\n",
      "Epoch 66/100\n",
      "69735/69735 [==============================] - 2s 25us/step - loss: 2.7757 - mae: 0.9287 - val_loss: 8.3642 - val_mae: 1.1494\n",
      "Epoch 67/100\n",
      "69735/69735 [==============================] - 2s 26us/step - loss: 2.7776 - mae: 0.9284 - val_loss: 8.4905 - val_mae: 1.1534\n",
      "Epoch 68/100\n",
      "69735/69735 [==============================] - 2s 26us/step - loss: 2.8149 - mae: 0.9347 - val_loss: 8.5358 - val_mae: 1.1578\n",
      "Epoch 69/100\n",
      "69735/69735 [==============================] - 2s 26us/step - loss: 2.7246 - mae: 0.9216 - val_loss: 8.4512 - val_mae: 1.1787\n",
      "Epoch 70/100\n",
      "69735/69735 [==============================] - 2s 25us/step - loss: 2.6809 - mae: 0.9241 - val_loss: 8.6585 - val_mae: 1.1505\n",
      "Epoch 71/100\n",
      "69735/69735 [==============================] - 2s 25us/step - loss: 2.6572 - mae: 0.9182 - val_loss: 8.5230 - val_mae: 1.1703\n",
      "Epoch 72/100\n",
      "69735/69735 [==============================] - 2s 25us/step - loss: 2.6569 - mae: 0.9167 - val_loss: 8.4668 - val_mae: 1.1565\n",
      "Epoch 73/100\n",
      "69735/69735 [==============================] - 2s 25us/step - loss: 2.6966 - mae: 0.9172 - val_loss: 8.6261 - val_mae: 1.1524\n",
      "Epoch 74/100\n",
      "69735/69735 [==============================] - 2s 25us/step - loss: 2.6231 - mae: 0.9132 - val_loss: 8.5332 - val_mae: 1.1542\n",
      "Epoch 75/100\n",
      "69735/69735 [==============================] - 2s 25us/step - loss: 2.6682 - mae: 0.9139 - val_loss: 8.4664 - val_mae: 1.1499\n",
      "Epoch 76/100\n",
      "69735/69735 [==============================] - 2s 26us/step - loss: 2.6756 - mae: 0.9145 - val_loss: 8.5469 - val_mae: 1.1595\n",
      "Epoch 77/100\n",
      "69735/69735 [==============================] - 2s 25us/step - loss: 2.6279 - mae: 0.9116 - val_loss: 8.5640 - val_mae: 1.1540\n",
      "Epoch 78/100\n",
      "69735/69735 [==============================] - 2s 25us/step - loss: 2.6420 - mae: 0.9075 - val_loss: 8.3462 - val_mae: 1.1537\n",
      "Epoch 79/100\n",
      "69735/69735 [==============================] - 2s 26us/step - loss: 2.6519 - mae: 0.9133 - val_loss: 8.4756 - val_mae: 1.1618\n",
      "Epoch 80/100\n",
      "69735/69735 [==============================] - 2s 25us/step - loss: 2.5962 - mae: 0.9031 - val_loss: 8.5582 - val_mae: 1.1560\n",
      "Epoch 81/100\n",
      "69735/69735 [==============================] - 2s 25us/step - loss: 2.6370 - mae: 0.9038 - val_loss: 8.4702 - val_mae: 1.1532\n",
      "Epoch 82/100\n",
      "69735/69735 [==============================] - 2s 25us/step - loss: 2.6038 - mae: 0.9031 - val_loss: 8.4989 - val_mae: 1.1583\n",
      "Epoch 83/100\n",
      "69735/69735 [==============================] - 2s 26us/step - loss: 2.6316 - mae: 0.9069 - val_loss: 8.5491 - val_mae: 1.1540\n",
      "Epoch 84/100\n",
      "69735/69735 [==============================] - 2s 25us/step - loss: 2.5529 - mae: 0.9017 - val_loss: 8.3496 - val_mae: 1.1574\n",
      "Epoch 85/100\n",
      "69735/69735 [==============================] - 2s 25us/step - loss: 2.5107 - mae: 0.8931 - val_loss: 8.5797 - val_mae: 1.1538\n",
      "Epoch 86/100\n",
      "69735/69735 [==============================] - 2s 25us/step - loss: 2.5639 - mae: 0.8985 - val_loss: 8.5037 - val_mae: 1.1679\n",
      "Epoch 87/100\n",
      "69735/69735 [==============================] - 2s 26us/step - loss: 2.4656 - mae: 0.8902 - val_loss: 8.5872 - val_mae: 1.1498\n",
      "Epoch 88/100\n",
      "69735/69735 [==============================] - 2s 26us/step - loss: 2.4487 - mae: 0.8878 - val_loss: 8.4490 - val_mae: 1.1585\n",
      "Epoch 89/100\n",
      "69735/69735 [==============================] - 2s 25us/step - loss: 2.4736 - mae: 0.8887 - val_loss: 8.4864 - val_mae: 1.1376\n",
      "Epoch 90/100\n",
      "69735/69735 [==============================] - 2s 25us/step - loss: 2.4945 - mae: 0.8886 - val_loss: 8.4605 - val_mae: 1.1532\n",
      "Epoch 91/100\n",
      "69735/69735 [==============================] - 2s 26us/step - loss: 2.4459 - mae: 0.8838 - val_loss: 8.5941 - val_mae: 1.1450\n",
      "Epoch 92/100\n",
      "69735/69735 [==============================] - 2s 25us/step - loss: 2.4096 - mae: 0.8809 - val_loss: 8.6483 - val_mae: 1.1445\n",
      "Epoch 93/100\n",
      "69735/69735 [==============================] - 2s 25us/step - loss: 2.4429 - mae: 0.8849 - val_loss: 8.5075 - val_mae: 1.1611\n",
      "Epoch 94/100\n",
      "69735/69735 [==============================] - 2s 25us/step - loss: 2.4475 - mae: 0.8865 - val_loss: 8.4779 - val_mae: 1.1651\n",
      "Epoch 95/100\n",
      "69735/69735 [==============================] - 2s 25us/step - loss: 2.3980 - mae: 0.8774 - val_loss: 8.3802 - val_mae: 1.1492\n",
      "Epoch 96/100\n",
      "69735/69735 [==============================] - 2s 26us/step - loss: 2.3880 - mae: 0.8766 - val_loss: 8.5358 - val_mae: 1.1473\n",
      "Epoch 97/100\n",
      "69735/69735 [==============================] - 2s 27us/step - loss: 2.3574 - mae: 0.8716 - val_loss: 8.5744 - val_mae: 1.1397\n",
      "Epoch 98/100\n",
      "69735/69735 [==============================] - 2s 26us/step - loss: 2.4464 - mae: 0.8804 - val_loss: 8.5708 - val_mae: 1.1482\n",
      "Epoch 99/100\n",
      "69735/69735 [==============================] - 2s 26us/step - loss: 2.4032 - mae: 0.8792 - val_loss: 8.4396 - val_mae: 1.1454\n",
      "Epoch 100/100\n",
      "69735/69735 [==============================] - 2s 26us/step - loss: 2.4011 - mae: 0.8724 - val_loss: 8.5072 - val_mae: 1.1534\n"
     ]
    }
   ],
   "source": [
    "history = model.fit(X_train, y_train, epochs=100, batch_size=1000,  verbose=1, validation_split=0.4)"
   ]
  },
  {
   "cell_type": "markdown",
   "metadata": {},
   "source": [
    "### Plotting metrics"
   ]
  },
  {
   "cell_type": "code",
   "execution_count": 46,
   "metadata": {},
   "outputs": [
    {
     "name": "stdout",
     "output_type": "stream",
     "text": [
      "dict_keys(['val_loss', 'val_mae', 'loss', 'mae'])\n"
     ]
    },
    {
     "data": {
      "image/png": "[encoded data removed]",
      "text/plain": [
       "<Figure size 432x288 with 1 Axes>"
      ]
     },
     "metadata": {
      "needs_background": "light"
     },
     "output_type": "display_data"
    }
   ],
   "source": [
    "print(history.history.keys())\n",
    "\n",
    "plt.plot(history.history['loss'])\n",
    "plt.plot(history.history['val_loss'])\n",
    "plt.title('model loss')\n",
    "plt.ylabel('loss')\n",
    "plt.xlabel('epoch')\n",
    "plt.legend(['train', 'validation'], loc='upper left')\n",
    "plt.show()"
   ]
  }
 ],
 "metadata": {
  "kernelspec": {
   "display_name": "Python 3",
   "language": "python",
   "name": "python3"
  },
  "language_info": {
   "codemirror_mode": {
    "name": "ipython",
    "version": 3
   },
   "file_extension": ".py",
   "mimetype": "text/x-python",
   "name": "python",
   "nbconvert_exporter": "python",
   "pygments_lexer": "ipython3",
   "version": "3.7.6"
  }
 },
 "nbformat": 4,
 "nbformat_minor": 4
}
