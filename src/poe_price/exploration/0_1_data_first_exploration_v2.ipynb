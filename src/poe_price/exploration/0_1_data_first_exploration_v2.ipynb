{
 "cells": [
  {
   "cell_type": "markdown",
   "metadata": {},
   "source": [
    "The goal of this notebook is to understand the original data structure and define basic extraction operations.\n",
    "\n",
    "The source data explored here has been previously downloaded from Path of Exile stash tabs API to local .txt files. Each file contained in a specific folder represents a single API call to http://www.pathofexile.com/api/public-stash-tabs?id= with a custom **nextChangeId**: this id is iteratively applyed on the next API call and can be found inside the content of the previous loaded data."
   ]
  },
  {
   "cell_type": "markdown",
   "metadata": {},
   "source": [
    "# TODO"
   ]
  },
  {
   "cell_type": "code",
   "execution_count": 1,
   "metadata": {},
   "outputs": [],
   "source": [
    "import os\n",
    "import re\n",
    "import json\n",
    "import random\n",
    "\n",
    "import pandas as pd"
   ]
  },
  {
   "cell_type": "code",
   "execution_count": 7,
   "metadata": {},
   "outputs": [],
   "source": [
    "pd.set_option('display.max_columns', 500)\n",
    "\n",
    "DATA_PATH = '/home/fabio/Desktop/poe_price/data/temp/stashes_harvest/'\n",
    "\n",
    "LEAGUE = 'Harvest'\n",
    "\n",
    "CURRENCY_KEY = ['alt', 'fuse', 'alch', 'chaos', 'gcp', 'exa', 'chrom', 'jew', 'chance', 'chisel', 'scour', 'blessed', 'regret', 'regal', 'divine', 'vaal', 'silver']\n",
    "CURRENCY_NAME = [\"Orb of Alteration\", \"Orb of Fusing\", \"Orb of Alchemy\", \"Chaos Orb\", \"Gemcutter's Prism\", \"Exalted Orb\", \"Chromatic Orb\", \"Jeweller's Orb\", \"Orb of Chance\", \"Cartographer's Chisel\", \"Orb of Scouring\", \"Blessed Orb\", \"Orb of Regret\", \"Regal Orb\", \"Divine Orb\", \"Vaal Orb\", \"Silver Coin\"]\n",
    "FRAME_TYPES = {0: 'normal', 1: 'magic', 2:'rare', 3: 'unique', 4: 'gem', 5: 'currency', 6: 'divination card', 7: 'quest item', 8: 'prophecy', 9: 'relic'}\n",
    "\n",
    "\n",
    "ITEMS_CATEGORIES = ['accessories', 'armour', 'jewels', 'weapons', 'currency']\n",
    "\n"
   ]
  },
  {
   "cell_type": "code",
   "execution_count": 73,
   "metadata": {},
   "outputs": [],
   "source": [
    "def get_stashes_dict(path):\n",
    "    with open(path, 'rb') as file:\n",
    "        try:\n",
    "            return json.load(file)['stashes']\n",
    "        except:\n",
    "            print('ERROR: ', path)\n",
    "            return []\n",
    "        \n",
    "def get_stashes_items(verbose=False, target_category=None):\n",
    "    items = list()\n",
    "    N = 100\n",
    "    files = os.listdir(DATA_PATH)\n",
    "    \n",
    "    # select N random values if possible\n",
    "    files = random.sample(files, N if len(files) > N else len(files))       \n",
    "        \n",
    "    # select a fixed number of files\n",
    "    for v in files:\n",
    "        # for v in os.listdir(DATA_PATH):\n",
    "        for stash in get_stashes_dict(DATA_PATH + v):\n",
    "            if len(stash['items']) > 0 and stash['public']:\n",
    "                # add stash related data to single items\n",
    "                for item in stash['items']:\n",
    "                    item['stashNote'] = stash['stash']\n",
    "                    item['league'] = stash['league']\n",
    "                    \n",
    "                    if target_category is not None and item['extended']['category'] in target_category:\n",
    "                        items.append(item)\n",
    "                    elif target_category is None:\n",
    "                        items.append(item)\n",
    "                    else:\n",
    "                        pass\n",
    "    return items\n",
    "\n",
    "def get_string_price(string):\n",
    "    if re.match('(~price|~b/o)\\s\\d+(\\.\\d+)?(/\\d+(\\.\\d+)?)?\\s\\w+', string) is not None:\n",
    "        tokens = string.split(' ')\n",
    "\n",
    "        currency, quantity = tokens[2], tokens[1]\n",
    "        if re.match('\\d+((\\.|/)\\d+)?/\\d+((\\.|/)\\d+)?', quantity):\n",
    "            quantity, sellingStackSize = quantity.split('/')\n",
    "            quantity = round(float(quantity), 2)\n",
    "            sellingStackSize = round(float(sellingStackSize), 2)\n",
    "        else:\n",
    "            quantity = round(float(quantity), 2)\n",
    "            sellingStackSize = None\n",
    "\n",
    "        # check if currency and quantity are allowed values\n",
    "        if currency in CURRENCY_KEY:\n",
    "            return currency, quantity, 1 if sellingStackSize is None else sellingStackSize\n",
    "    raise ValueError()\n",
    "    \n",
    "def get_empty_columns(df):\n",
    "    return [col for col in df.columns if all(df[col].isna())]"
   ]
  },
  {
   "cell_type": "markdown",
   "metadata": {},
   "source": [
    "# Data visualization"
   ]
  },
  {
   "cell_type": "code",
   "execution_count": 71,
   "metadata": {},
   "outputs": [
    {
     "output_type": "execute_result",
     "data": {
      "text/plain": "(224052, 54)"
     },
     "metadata": {},
     "execution_count": 71
    }
   ],
   "source": [
    "items = pd.DataFrame(get_stashes_items())\n",
    "\n",
    "# alphabetically order dataframe columns\n",
    "items = items[sorted(items.columns)]\n",
    "\n",
    "items.shape"
   ]
  },
  {
   "cell_type": "code",
   "execution_count": 10,
   "metadata": {},
   "outputs": [
    {
     "output_type": "execute_result",
     "data": {
      "text/plain": "       abyssJewel                               additionalProperties  \\\n10110         NaN                                                NaN   \n45896         NaN                                                NaN   \n131148        NaN                                                NaN   \n9362          NaN                                                NaN   \n115538        NaN                                                NaN   \n208257        NaN  [{'name': 'Experience', 'values': [['1664/2604...   \n173343        NaN                                                NaN   \n63773         NaN                                                NaN   \n114964        NaN                                                NaN   \n195199        NaN                                                NaN   \n\n         artFilename corrupted cosmeticMods craftedMods delve  \\\n10110            NaN       NaN          NaN         NaN   NaN   \n45896            NaN       NaN          NaN         NaN   NaN   \n131148           NaN       NaN          NaN         NaN   NaN   \n9362             NaN       NaN          NaN         NaN   NaN   \n115538           NaN       NaN          NaN         NaN   NaN   \n208257           NaN       NaN          NaN         NaN   NaN   \n173343  TheGoldenEra       NaN          NaN         NaN   NaN   \n63773            NaN       NaN          NaN         NaN   NaN   \n114964           NaN       NaN          NaN         NaN   NaN   \n195199           NaN       NaN          NaN         NaN   NaN   \n\n                                                descrText duplicated elder  \\\n10110                                                 NaN        NaN   NaN   \n45896   A stack of 20 shards becomes an Orb of Alterat...        NaN   NaN   \n131148  Right click to drink. Can only hold charges wh...        NaN   NaN   \n9362                                                  NaN        NaN   NaN   \n115538                                                NaN        NaN   NaN   \n208257  This is a Support Gem. It does not grant a bon...        NaN   NaN   \n173343                                                NaN        NaN   NaN   \n63773                                                 NaN        NaN   NaN   \n114964                                                NaN        NaN   NaN   \n195199                                                NaN        NaN   NaN   \n\n       enchantMods                                       explicitMods  \\\n10110          NaN  [+18 to all Attributes, 124% increased Armour ...   \n45896          NaN                                                NaN   \n131148         NaN  [35% increased Charge Recovery, Immunity to Bl...   \n9362           NaN  [Regenerate 10.6 Life per second, +37 to maxim...   \n115538         NaN  [+32% to Lightning Resistance, Minions have 30...   \n208257         NaN  [Gain Arcane Surge after Spending a total of 2...   \n173343         NaN  [<magicitem>{Flaring Eclipse Staff}\\r\\n<defaul...   \n63773          NaN  [20% chance to Trigger Level 20 Summon Volatil...   \n114964         NaN  [+31 to Strength, Adds 4 to 10 Physical Damage...   \n195199         NaN  [Grants Level 12 Summon Stone Golem Skill, Add...   \n\n                                                 extended  \\\n10110   {'category': 'armour', 'subcategories': ['helm...   \n45896   {'category': 'currency', 'baseType': 'Alterati...   \n131148  {'category': 'flasks', 'prefixes': 1, 'suffixe...   \n9362    {'category': 'accessories', 'subcategories': [...   \n115538  {'category': 'weapons', 'subcategories': ['wan...   \n208257  {'category': 'gems', 'subcategories': ['suppor...   \n173343  {'category': 'cards', 'baseType': 'The Golden ...   \n63773   {'category': 'accessories', 'subcategories': [...   \n114964  {'category': 'accessories', 'subcategories': [...   \n195199  {'category': 'weapons', 'subcategories': ['one...   \n\n                                              flavourText fractured  \\\n10110   [\"To touch it is to be overwhelmed with the ne...       NaN   \n45896                                                 NaN       NaN   \n131148                                                NaN       NaN   \n9362                                                  NaN       NaN   \n115538                                                NaN       NaN   \n208257                                                NaN       NaN   \n173343  [Before gemlings, before thaumaturgy, a simple...       NaN   \n63773                         [Let madness take control.]       NaN   \n114964                                                NaN       NaN   \n195199  [There is nothing, flesh, spirit, or stone\\r, ...       NaN   \n\n       fracturedMods  frameType  h harvestRequirements hybrid  \\\n10110            NaN          3  2                 NaN    NaN   \n45896            NaN          5  1                 NaN    NaN   \n131148           NaN          1  2                 NaN    NaN   \n9362             NaN          2  1                 NaN    NaN   \n115538           NaN          2  3                 NaN    NaN   \n208257           NaN          4  1                 NaN    NaN   \n173343           NaN          6  1                 NaN    NaN   \n63773            NaN          3  1                 NaN    NaN   \n114964           NaN          2  1                 NaN    NaN   \n195199           NaN          3  3                 NaN    NaN   \n\n                                                     icon  \\\n10110   https://web.poecdn.com/image/Art/2DItems/Armou...   \n45896   https://web.poecdn.com/image/Art/2DItems/Curre...   \n131148  https://web.poecdn.com/gen/image/WzksMTQseyJmI...   \n9362    https://web.poecdn.com/image/Art/2DItems/Amule...   \n115538  https://web.poecdn.com/image/Art/2DItems/Weapo...   \n208257  https://web.poecdn.com/image/Art/2DItems/Gems/...   \n173343  https://web.poecdn.com/image/Art/2DItems/Divin...   \n63773   https://web.poecdn.com/image/Art/2DItems/Rings...   \n114964  https://web.poecdn.com/image/Art/2DItems/Amule...   \n195199  https://web.poecdn.com/image/Art/2DItems/Weapo...   \n\n                                                       id  identified  ilvl  \\\n10110   564a65a25b447aa00217f5f8b55b1ebb28c4def5a91574...        True    78   \n45896   4129987fdf55beea8649f77cfa0c77e0e535070ee3efc5...        True     0   \n131148  9f6ee0fdba5ebb9e4d22298502dd8b9065f80a3580f9b6...        True    70   \n9362    99db1414384a4066aed0242f10b69e8c316350bf2f1358...        True    84   \n115538  6d72ce6db82b0f95857b61c590fd0b6f82f064e6c0e3a5...        True    83   \n208257  83b84be2235b3191e92732840ab7ec9b0bffcd61e67b9f...        True     0   \n173343  b417d5cccbb24c784a5a164213e522568f3845385545b0...        True     0   \n63773   d39305b278be0d4e9599d259bcf675f68e9f677de54841...        True    86   \n114964  03ac7fbb75cdda2d82ad4d1bab679ca1ecb91484d8bab5...        True    56   \n195199  772f3e0c05818b4ff55b979d21d373ea40b155847d8edb...        True    72   \n\n                               implicitMods incubatedItem        influences  \\\n10110                                   NaN           NaN               NaN   \n45896                                   NaN           NaN               NaN   \n131148                                  NaN           NaN               NaN   \n9362    [+21 to Dexterity and Intelligence]           NaN               NaN   \n115538          [Can roll Minion Modifiers]           NaN               NaN   \n208257                                  NaN           NaN               NaN   \n173343                                  NaN           NaN               NaN   \n63773      [16% increased Elemental Damage]           NaN  {'shaper': True}   \n114964                   [+21 to Dexterity]           NaN               NaN   \n195199   [15% reduced Enemy Stun Threshold]           NaN               NaN   \n\n       inventoryId  itemLevel   league  maxStackSize                name  \\\n10110       Stash1        NaN  Harvest           NaN      Ahn's Contempt   \n45896      Stash12        NaN  Harvest          20.0                       \n131148     Stash10        NaN  Harvest           NaN                       \n9362       Stash38        NaN  Harvest           NaN         Hate Rosary   \n115538     Stash48        NaN  Harvest           NaN       Chimeric Barb   \n208257     Stash20        NaN  Harvest           NaN                       \n173343    Stash127        NaN  Harvest           7.0                       \n63773      Stash11        NaN  Harvest           NaN  Mark of the Shaper   \n114964     Stash94        NaN  Harvest           NaN     Hypnotic Collar   \n195199     Stash33        NaN  Harvest           NaN          Clayshaper   \n\n       nextLevelRequirements              note  \\\n10110                    NaN               NaN   \n45896                    NaN               NaN   \n131148                   NaN               NaN   \n9362                     NaN               NaN   \n115538                   NaN  ~price 1 exalted   \n208257                   NaN               NaN   \n173343                   NaN               NaN   \n63773                    NaN    ~b/o 200 chaos   \n114964                   NaN               NaN   \n195199                   NaN               NaN   \n\n                                               properties prophecyText  \\\n10110   [{'name': 'Armour', 'values': [['361', 1]], 'd...          NaN   \n45896   [{'name': 'Stack Size', 'values': [['14/20', 0...          NaN   \n131148  [{'name': 'Lasts %0 Seconds', 'values': [['4.0...          NaN   \n9362                                                  NaN          NaN   \n115538  [{'name': 'Wand', 'values': [], 'displayMode':...          NaN   \n208257  [{'name': 'Support, Spell, Duration', 'values'...          NaN   \n173343  [{'name': 'Stack Size', 'values': [['1/7', 0]]...          NaN   \n63773                                                 NaN          NaN   \n114964                                                NaN          NaN   \n195199  [{'name': 'One Handed Mace', 'values': [], 'di...          NaN   \n\n                                             requirements  \\\n10110   [{'name': 'Level', 'values': [['68', 0]], 'dis...   \n45896                                                 NaN   \n131148  [{'name': 'Level', 'values': [['6', 0]], 'disp...   \n9362    [{'name': 'Level', 'values': [['47', 0]], 'dis...   \n115538  [{'name': 'Level', 'values': [['72', 0]], 'dis...   \n208257  [{'name': 'Level', 'values': [['11', 0]], 'dis...   \n173343                                                NaN   \n63773   [{'name': 'Level', 'values': [['80', 0]], 'dis...   \n114964  [{'name': 'Level', 'values': [['35', 0]], 'dis...   \n195199  [{'name': 'Level', 'values': [['41', 0]], 'dis...   \n\n                                             secDescrText shaper  \\\n10110                                                 NaN    NaN   \n45896                                                 NaN    NaN   \n131148                                                NaN    NaN   \n9362                                                  NaN    NaN   \n115538                                                NaN    NaN   \n208257  Each supported spell will track how much mana ...    NaN   \n173343                                                NaN    NaN   \n63773                                                 NaN   True   \n114964                                                NaN    NaN   \n195199                                                NaN    NaN   \n\n       socketedItems                                            sockets  \\\n10110             []        [{'group': 0, 'attr': 'I', 'sColour': 'B'}]   \n45896            NaN                                                NaN   \n131148           NaN                                                NaN   \n9362             NaN                                                NaN   \n115538            []  [{'group': 0, 'attr': 'D', 'sColour': 'G'}, {'...   \n208257           NaN                                                NaN   \n173343           NaN                                                NaN   \n63773            NaN                                                NaN   \n114964           NaN                                                NaN   \n195199            []  [{'group': 0, 'attr': 'S', 'sColour': 'R'}, {'...   \n\n        stackSize        stashNote support synthesised  talismanTier  \\\n10110         NaN                U     NaN         NaN           NaN   \n45896        14.0            Trade     NaN         NaN           NaN   \n131148        NaN           Flasks     NaN         NaN           NaN   \n9362          NaN  ~price 45 chaos     NaN         NaN           NaN   \n115538        NaN             Sell     NaN         NaN           NaN   \n208257        NaN                3    True         NaN           NaN   \n173343        1.0             Card     NaN         NaN           NaN   \n63773         NaN                7     NaN         NaN           NaN   \n114964        NaN     ~b/o 7 chaos     NaN         NaN           NaN   \n195199        NaN     ~b/o 1 chaos     NaN         NaN           NaN   \n\n                                         typeLine  \\\n10110                               Praetor Crown   \n45896                            Alteration Shard   \n131148  Perpetual Quicksilver Flask of Staunching   \n9362                             Turquoise Amulet   \n115538                             Convoking Wand   \n208257                       Arcane Surge Support   \n173343                             The Golden Era   \n63773                                   Opal Ring   \n114964                                Jade Amulet   \n195199                               Rock Breaker   \n\n                           utilityMods veiled veiledMods  verified  w    x   y  \n10110                              NaN    NaN        NaN     False  2   92   0  \n45896                              NaN    NaN        NaN     False  1    0   8  \n131148  [40% increased Movement Speed]    NaN        NaN     False  1    0   6  \n9362                               NaN    NaN        NaN     False  1    6  11  \n115538                             NaN    NaN        NaN     False  1    4  20  \n208257                             NaN    NaN        NaN     False  1    0   6  \n173343                             NaN    NaN        NaN     False  1  245   0  \n63773                              NaN    NaN        NaN     False  1   11   2  \n114964                             NaN    NaN        NaN     False  1    1   6  \n195199                             NaN    NaN        NaN     False  2    4   5  ",
      "text/html": "<div>\n<style scoped>\n    .dataframe tbody tr th:only-of-type {\n        vertical-align: middle;\n    }\n\n    .dataframe tbody tr th {\n        vertical-align: top;\n    }\n\n    .dataframe thead th {\n        text-align: right;\n    }\n</style>\n<table border=\"1\" class=\"dataframe\">\n  <thead>\n    <tr style=\"text-align: right;\">\n      <th></th>\n      <th>abyssJewel</th>\n      <th>additionalProperties</th>\n      <th>artFilename</th>\n      <th>corrupted</th>\n      <th>cosmeticMods</th>\n      <th>craftedMods</th>\n      <th>delve</th>\n      <th>descrText</th>\n      <th>duplicated</th>\n      <th>elder</th>\n      <th>enchantMods</th>\n      <th>explicitMods</th>\n      <th>extended</th>\n      <th>flavourText</th>\n      <th>fractured</th>\n      <th>fracturedMods</th>\n      <th>frameType</th>\n      <th>h</th>\n      <th>harvestRequirements</th>\n      <th>hybrid</th>\n      <th>icon</th>\n      <th>id</th>\n      <th>identified</th>\n      <th>ilvl</th>\n      <th>implicitMods</th>\n      <th>incubatedItem</th>\n      <th>influences</th>\n      <th>inventoryId</th>\n      <th>itemLevel</th>\n      <th>league</th>\n      <th>maxStackSize</th>\n      <th>name</th>\n      <th>nextLevelRequirements</th>\n      <th>note</th>\n      <th>properties</th>\n      <th>prophecyText</th>\n      <th>requirements</th>\n      <th>secDescrText</th>\n      <th>shaper</th>\n      <th>socketedItems</th>\n      <th>sockets</th>\n      <th>stackSize</th>\n      <th>stashNote</th>\n      <th>support</th>\n      <th>synthesised</th>\n      <th>talismanTier</th>\n      <th>typeLine</th>\n      <th>utilityMods</th>\n      <th>veiled</th>\n      <th>veiledMods</th>\n      <th>verified</th>\n      <th>w</th>\n      <th>x</th>\n      <th>y</th>\n    </tr>\n  </thead>\n  <tbody>\n    <tr>\n      <th>10110</th>\n      <td>NaN</td>\n      <td>NaN</td>\n      <td>NaN</td>\n      <td>NaN</td>\n      <td>NaN</td>\n      <td>NaN</td>\n      <td>NaN</td>\n      <td>NaN</td>\n      <td>NaN</td>\n      <td>NaN</td>\n      <td>NaN</td>\n      <td>[+18 to all Attributes, 124% increased Armour ...</td>\n      <td>{'category': 'armour', 'subcategories': ['helm...</td>\n      <td>[\"To touch it is to be overwhelmed with the ne...</td>\n      <td>NaN</td>\n      <td>NaN</td>\n      <td>3</td>\n      <td>2</td>\n      <td>NaN</td>\n      <td>NaN</td>\n      <td>https://web.poecdn.com/image/Art/2DItems/Armou...</td>\n      <td>564a65a25b447aa00217f5f8b55b1ebb28c4def5a91574...</td>\n      <td>True</td>\n      <td>78</td>\n      <td>NaN</td>\n      <td>NaN</td>\n      <td>NaN</td>\n      <td>Stash1</td>\n      <td>NaN</td>\n      <td>Harvest</td>\n      <td>NaN</td>\n      <td>Ahn's Contempt</td>\n      <td>NaN</td>\n      <td>NaN</td>\n      <td>[{'name': 'Armour', 'values': [['361', 1]], 'd...</td>\n      <td>NaN</td>\n      <td>[{'name': 'Level', 'values': [['68', 0]], 'dis...</td>\n      <td>NaN</td>\n      <td>NaN</td>\n      <td>[]</td>\n      <td>[{'group': 0, 'attr': 'I', 'sColour': 'B'}]</td>\n      <td>NaN</td>\n      <td>U</td>\n      <td>NaN</td>\n      <td>NaN</td>\n      <td>NaN</td>\n      <td>Praetor Crown</td>\n      <td>NaN</td>\n      <td>NaN</td>\n      <td>NaN</td>\n      <td>False</td>\n      <td>2</td>\n      <td>92</td>\n      <td>0</td>\n    </tr>\n    <tr>\n      <th>45896</th>\n      <td>NaN</td>\n      <td>NaN</td>\n      <td>NaN</td>\n      <td>NaN</td>\n      <td>NaN</td>\n      <td>NaN</td>\n      <td>NaN</td>\n      <td>A stack of 20 shards becomes an Orb of Alterat...</td>\n      <td>NaN</td>\n      <td>NaN</td>\n      <td>NaN</td>\n      <td>NaN</td>\n      <td>{'category': 'currency', 'baseType': 'Alterati...</td>\n      <td>NaN</td>\n      <td>NaN</td>\n      <td>NaN</td>\n      <td>5</td>\n      <td>1</td>\n      <td>NaN</td>\n      <td>NaN</td>\n      <td>https://web.poecdn.com/image/Art/2DItems/Curre...</td>\n      <td>4129987fdf55beea8649f77cfa0c77e0e535070ee3efc5...</td>\n      <td>True</td>\n      <td>0</td>\n      <td>NaN</td>\n      <td>NaN</td>\n      <td>NaN</td>\n      <td>Stash12</td>\n      <td>NaN</td>\n      <td>Harvest</td>\n      <td>20.0</td>\n      <td></td>\n      <td>NaN</td>\n      <td>NaN</td>\n      <td>[{'name': 'Stack Size', 'values': [['14/20', 0...</td>\n      <td>NaN</td>\n      <td>NaN</td>\n      <td>NaN</td>\n      <td>NaN</td>\n      <td>NaN</td>\n      <td>NaN</td>\n      <td>14.0</td>\n      <td>Trade</td>\n      <td>NaN</td>\n      <td>NaN</td>\n      <td>NaN</td>\n      <td>Alteration Shard</td>\n      <td>NaN</td>\n      <td>NaN</td>\n      <td>NaN</td>\n      <td>False</td>\n      <td>1</td>\n      <td>0</td>\n      <td>8</td>\n    </tr>\n    <tr>\n      <th>131148</th>\n      <td>NaN</td>\n      <td>NaN</td>\n      <td>NaN</td>\n      <td>NaN</td>\n      <td>NaN</td>\n      <td>NaN</td>\n      <td>NaN</td>\n      <td>Right click to drink. Can only hold charges wh...</td>\n      <td>NaN</td>\n      <td>NaN</td>\n      <td>NaN</td>\n      <td>[35% increased Charge Recovery, Immunity to Bl...</td>\n      <td>{'category': 'flasks', 'prefixes': 1, 'suffixe...</td>\n      <td>NaN</td>\n      <td>NaN</td>\n      <td>NaN</td>\n      <td>1</td>\n      <td>2</td>\n      <td>NaN</td>\n      <td>NaN</td>\n      <td>https://web.poecdn.com/gen/image/WzksMTQseyJmI...</td>\n      <td>9f6ee0fdba5ebb9e4d22298502dd8b9065f80a3580f9b6...</td>\n      <td>True</td>\n      <td>70</td>\n      <td>NaN</td>\n      <td>NaN</td>\n      <td>NaN</td>\n      <td>Stash10</td>\n      <td>NaN</td>\n      <td>Harvest</td>\n      <td>NaN</td>\n      <td></td>\n      <td>NaN</td>\n      <td>NaN</td>\n      <td>[{'name': 'Lasts %0 Seconds', 'values': [['4.0...</td>\n      <td>NaN</td>\n      <td>[{'name': 'Level', 'values': [['6', 0]], 'disp...</td>\n      <td>NaN</td>\n      <td>NaN</td>\n      <td>NaN</td>\n      <td>NaN</td>\n      <td>NaN</td>\n      <td>Flasks</td>\n      <td>NaN</td>\n      <td>NaN</td>\n      <td>NaN</td>\n      <td>Perpetual Quicksilver Flask of Staunching</td>\n      <td>[40% increased Movement Speed]</td>\n      <td>NaN</td>\n      <td>NaN</td>\n      <td>False</td>\n      <td>1</td>\n      <td>0</td>\n      <td>6</td>\n    </tr>\n    <tr>\n      <th>9362</th>\n      <td>NaN</td>\n      <td>NaN</td>\n      <td>NaN</td>\n      <td>NaN</td>\n      <td>NaN</td>\n      <td>NaN</td>\n      <td>NaN</td>\n      <td>NaN</td>\n      <td>NaN</td>\n      <td>NaN</td>\n      <td>NaN</td>\n      <td>[Regenerate 10.6 Life per second, +37 to maxim...</td>\n      <td>{'category': 'accessories', 'subcategories': [...</td>\n      <td>NaN</td>\n      <td>NaN</td>\n      <td>NaN</td>\n      <td>2</td>\n      <td>1</td>\n      <td>NaN</td>\n      <td>NaN</td>\n      <td>https://web.poecdn.com/image/Art/2DItems/Amule...</td>\n      <td>99db1414384a4066aed0242f10b69e8c316350bf2f1358...</td>\n      <td>True</td>\n      <td>84</td>\n      <td>[+21 to Dexterity and Intelligence]</td>\n      <td>NaN</td>\n      <td>NaN</td>\n      <td>Stash38</td>\n      <td>NaN</td>\n      <td>Harvest</td>\n      <td>NaN</td>\n      <td>Hate Rosary</td>\n      <td>NaN</td>\n      <td>NaN</td>\n      <td>NaN</td>\n      <td>NaN</td>\n      <td>[{'name': 'Level', 'values': [['47', 0]], 'dis...</td>\n      <td>NaN</td>\n      <td>NaN</td>\n      <td>NaN</td>\n      <td>NaN</td>\n      <td>NaN</td>\n      <td>~price 45 chaos</td>\n      <td>NaN</td>\n      <td>NaN</td>\n      <td>NaN</td>\n      <td>Turquoise Amulet</td>\n      <td>NaN</td>\n      <td>NaN</td>\n      <td>NaN</td>\n      <td>False</td>\n      <td>1</td>\n      <td>6</td>\n      <td>11</td>\n    </tr>\n    <tr>\n      <th>115538</th>\n      <td>NaN</td>\n      <td>NaN</td>\n      <td>NaN</td>\n      <td>NaN</td>\n      <td>NaN</td>\n      <td>NaN</td>\n      <td>NaN</td>\n      <td>NaN</td>\n      <td>NaN</td>\n      <td>NaN</td>\n      <td>NaN</td>\n      <td>[+32% to Lightning Resistance, Minions have 30...</td>\n      <td>{'category': 'weapons', 'subcategories': ['wan...</td>\n      <td>NaN</td>\n      <td>NaN</td>\n      <td>NaN</td>\n      <td>2</td>\n      <td>3</td>\n      <td>NaN</td>\n      <td>NaN</td>\n      <td>https://web.poecdn.com/image/Art/2DItems/Weapo...</td>\n      <td>6d72ce6db82b0f95857b61c590fd0b6f82f064e6c0e3a5...</td>\n      <td>True</td>\n      <td>83</td>\n      <td>[Can roll Minion Modifiers]</td>\n      <td>NaN</td>\n      <td>NaN</td>\n      <td>Stash48</td>\n      <td>NaN</td>\n      <td>Harvest</td>\n      <td>NaN</td>\n      <td>Chimeric Barb</td>\n      <td>NaN</td>\n      <td>~price 1 exalted</td>\n      <td>[{'name': 'Wand', 'values': [], 'displayMode':...</td>\n      <td>NaN</td>\n      <td>[{'name': 'Level', 'values': [['72', 0]], 'dis...</td>\n      <td>NaN</td>\n      <td>NaN</td>\n      <td>[]</td>\n      <td>[{'group': 0, 'attr': 'D', 'sColour': 'G'}, {'...</td>\n      <td>NaN</td>\n      <td>Sell</td>\n      <td>NaN</td>\n      <td>NaN</td>\n      <td>NaN</td>\n      <td>Convoking Wand</td>\n      <td>NaN</td>\n      <td>NaN</td>\n      <td>NaN</td>\n      <td>False</td>\n      <td>1</td>\n      <td>4</td>\n      <td>20</td>\n    </tr>\n    <tr>\n      <th>208257</th>\n      <td>NaN</td>\n      <td>[{'name': 'Experience', 'values': [['1664/2604...</td>\n      <td>NaN</td>\n      <td>NaN</td>\n      <td>NaN</td>\n      <td>NaN</td>\n      <td>NaN</td>\n      <td>This is a Support Gem. It does not grant a bon...</td>\n      <td>NaN</td>\n      <td>NaN</td>\n      <td>NaN</td>\n      <td>[Gain Arcane Surge after Spending a total of 2...</td>\n      <td>{'category': 'gems', 'subcategories': ['suppor...</td>\n      <td>NaN</td>\n      <td>NaN</td>\n      <td>NaN</td>\n      <td>4</td>\n      <td>1</td>\n      <td>NaN</td>\n      <td>NaN</td>\n      <td>https://web.poecdn.com/image/Art/2DItems/Gems/...</td>\n      <td>83b84be2235b3191e92732840ab7ec9b0bffcd61e67b9f...</td>\n      <td>True</td>\n      <td>0</td>\n      <td>NaN</td>\n      <td>NaN</td>\n      <td>NaN</td>\n      <td>Stash20</td>\n      <td>NaN</td>\n      <td>Harvest</td>\n      <td>NaN</td>\n      <td></td>\n      <td>NaN</td>\n      <td>NaN</td>\n      <td>[{'name': 'Support, Spell, Duration', 'values'...</td>\n      <td>NaN</td>\n      <td>[{'name': 'Level', 'values': [['11', 0]], 'dis...</td>\n      <td>Each supported spell will track how much mana ...</td>\n      <td>NaN</td>\n      <td>NaN</td>\n      <td>NaN</td>\n      <td>NaN</td>\n      <td>3</td>\n      <td>True</td>\n      <td>NaN</td>\n      <td>NaN</td>\n      <td>Arcane Surge Support</td>\n      <td>NaN</td>\n      <td>NaN</td>\n      <td>NaN</td>\n      <td>False</td>\n      <td>1</td>\n      <td>0</td>\n      <td>6</td>\n    </tr>\n    <tr>\n      <th>173343</th>\n      <td>NaN</td>\n      <td>NaN</td>\n      <td>TheGoldenEra</td>\n      <td>NaN</td>\n      <td>NaN</td>\n      <td>NaN</td>\n      <td>NaN</td>\n      <td>NaN</td>\n      <td>NaN</td>\n      <td>NaN</td>\n      <td>NaN</td>\n      <td>[&lt;magicitem&gt;{Flaring Eclipse Staff}\\r\\n&lt;defaul...</td>\n      <td>{'category': 'cards', 'baseType': 'The Golden ...</td>\n      <td>[Before gemlings, before thaumaturgy, a simple...</td>\n      <td>NaN</td>\n      <td>NaN</td>\n      <td>6</td>\n      <td>1</td>\n      <td>NaN</td>\n      <td>NaN</td>\n      <td>https://web.poecdn.com/image/Art/2DItems/Divin...</td>\n      <td>b417d5cccbb24c784a5a164213e522568f3845385545b0...</td>\n      <td>True</td>\n      <td>0</td>\n      <td>NaN</td>\n      <td>NaN</td>\n      <td>NaN</td>\n      <td>Stash127</td>\n      <td>NaN</td>\n      <td>Harvest</td>\n      <td>7.0</td>\n      <td></td>\n      <td>NaN</td>\n      <td>NaN</td>\n      <td>[{'name': 'Stack Size', 'values': [['1/7', 0]]...</td>\n      <td>NaN</td>\n      <td>NaN</td>\n      <td>NaN</td>\n      <td>NaN</td>\n      <td>NaN</td>\n      <td>NaN</td>\n      <td>1.0</td>\n      <td>Card</td>\n      <td>NaN</td>\n      <td>NaN</td>\n      <td>NaN</td>\n      <td>The Golden Era</td>\n      <td>NaN</td>\n      <td>NaN</td>\n      <td>NaN</td>\n      <td>False</td>\n      <td>1</td>\n      <td>245</td>\n      <td>0</td>\n    </tr>\n    <tr>\n      <th>63773</th>\n      <td>NaN</td>\n      <td>NaN</td>\n      <td>NaN</td>\n      <td>NaN</td>\n      <td>NaN</td>\n      <td>NaN</td>\n      <td>NaN</td>\n      <td>NaN</td>\n      <td>NaN</td>\n      <td>NaN</td>\n      <td>NaN</td>\n      <td>[20% chance to Trigger Level 20 Summon Volatil...</td>\n      <td>{'category': 'accessories', 'subcategories': [...</td>\n      <td>[Let madness take control.]</td>\n      <td>NaN</td>\n      <td>NaN</td>\n      <td>3</td>\n      <td>1</td>\n      <td>NaN</td>\n      <td>NaN</td>\n      <td>https://web.poecdn.com/image/Art/2DItems/Rings...</td>\n      <td>d39305b278be0d4e9599d259bcf675f68e9f677de54841...</td>\n      <td>True</td>\n      <td>86</td>\n      <td>[16% increased Elemental Damage]</td>\n      <td>NaN</td>\n      <td>{'shaper': True}</td>\n      <td>Stash11</td>\n      <td>NaN</td>\n      <td>Harvest</td>\n      <td>NaN</td>\n      <td>Mark of the Shaper</td>\n      <td>NaN</td>\n      <td>~b/o 200 chaos</td>\n      <td>NaN</td>\n      <td>NaN</td>\n      <td>[{'name': 'Level', 'values': [['80', 0]], 'dis...</td>\n      <td>NaN</td>\n      <td>True</td>\n      <td>NaN</td>\n      <td>NaN</td>\n      <td>NaN</td>\n      <td>7</td>\n      <td>NaN</td>\n      <td>NaN</td>\n      <td>NaN</td>\n      <td>Opal Ring</td>\n      <td>NaN</td>\n      <td>NaN</td>\n      <td>NaN</td>\n      <td>False</td>\n      <td>1</td>\n      <td>11</td>\n      <td>2</td>\n    </tr>\n    <tr>\n      <th>114964</th>\n      <td>NaN</td>\n      <td>NaN</td>\n      <td>NaN</td>\n      <td>NaN</td>\n      <td>NaN</td>\n      <td>NaN</td>\n      <td>NaN</td>\n      <td>NaN</td>\n      <td>NaN</td>\n      <td>NaN</td>\n      <td>NaN</td>\n      <td>[+31 to Strength, Adds 4 to 10 Physical Damage...</td>\n      <td>{'category': 'accessories', 'subcategories': [...</td>\n      <td>NaN</td>\n      <td>NaN</td>\n      <td>NaN</td>\n      <td>2</td>\n      <td>1</td>\n      <td>NaN</td>\n      <td>NaN</td>\n      <td>https://web.poecdn.com/image/Art/2DItems/Amule...</td>\n      <td>03ac7fbb75cdda2d82ad4d1bab679ca1ecb91484d8bab5...</td>\n      <td>True</td>\n      <td>56</td>\n      <td>[+21 to Dexterity]</td>\n      <td>NaN</td>\n      <td>NaN</td>\n      <td>Stash94</td>\n      <td>NaN</td>\n      <td>Harvest</td>\n      <td>NaN</td>\n      <td>Hypnotic Collar</td>\n      <td>NaN</td>\n      <td>NaN</td>\n      <td>NaN</td>\n      <td>NaN</td>\n      <td>[{'name': 'Level', 'values': [['35', 0]], 'dis...</td>\n      <td>NaN</td>\n      <td>NaN</td>\n      <td>NaN</td>\n      <td>NaN</td>\n      <td>NaN</td>\n      <td>~b/o 7 chaos</td>\n      <td>NaN</td>\n      <td>NaN</td>\n      <td>NaN</td>\n      <td>Jade Amulet</td>\n      <td>NaN</td>\n      <td>NaN</td>\n      <td>NaN</td>\n      <td>False</td>\n      <td>1</td>\n      <td>1</td>\n      <td>6</td>\n    </tr>\n    <tr>\n      <th>195199</th>\n      <td>NaN</td>\n      <td>NaN</td>\n      <td>NaN</td>\n      <td>NaN</td>\n      <td>NaN</td>\n      <td>NaN</td>\n      <td>NaN</td>\n      <td>NaN</td>\n      <td>NaN</td>\n      <td>NaN</td>\n      <td>NaN</td>\n      <td>[Grants Level 12 Summon Stone Golem Skill, Add...</td>\n      <td>{'category': 'weapons', 'subcategories': ['one...</td>\n      <td>[There is nothing, flesh, spirit, or stone\\r, ...</td>\n      <td>NaN</td>\n      <td>NaN</td>\n      <td>3</td>\n      <td>3</td>\n      <td>NaN</td>\n      <td>NaN</td>\n      <td>https://web.poecdn.com/image/Art/2DItems/Weapo...</td>\n      <td>772f3e0c05818b4ff55b979d21d373ea40b155847d8edb...</td>\n      <td>True</td>\n      <td>72</td>\n      <td>[15% reduced Enemy Stun Threshold]</td>\n      <td>NaN</td>\n      <td>NaN</td>\n      <td>Stash33</td>\n      <td>NaN</td>\n      <td>Harvest</td>\n      <td>NaN</td>\n      <td>Clayshaper</td>\n      <td>NaN</td>\n      <td>NaN</td>\n      <td>[{'name': 'One Handed Mace', 'values': [], 'di...</td>\n      <td>NaN</td>\n      <td>[{'name': 'Level', 'values': [['41', 0]], 'dis...</td>\n      <td>NaN</td>\n      <td>NaN</td>\n      <td>[]</td>\n      <td>[{'group': 0, 'attr': 'S', 'sColour': 'R'}, {'...</td>\n      <td>NaN</td>\n      <td>~b/o 1 chaos</td>\n      <td>NaN</td>\n      <td>NaN</td>\n      <td>NaN</td>\n      <td>Rock Breaker</td>\n      <td>NaN</td>\n      <td>NaN</td>\n      <td>NaN</td>\n      <td>False</td>\n      <td>2</td>\n      <td>4</td>\n      <td>5</td>\n    </tr>\n  </tbody>\n</table>\n</div>"
     },
     "metadata": {},
     "execution_count": 10
    }
   ],
   "source": [
    "items.sample(10)"
   ]
  },
  {
   "cell_type": "markdown",
   "metadata": {},
   "source": [
    "# Data processing"
   ]
  },
  {
   "cell_type": "markdown",
   "metadata": {},
   "source": [
    "## Initial manipulation and filtering"
   ]
  },
  {
   "cell_type": "code",
   "execution_count": 11,
   "metadata": {},
   "outputs": [
    {
     "output_type": "execute_result",
     "data": {
      "text/plain": "(146594, 56)"
     },
     "metadata": {},
     "execution_count": 11
    }
   ],
   "source": [
    "# extract items category and subcategory\n",
    "items['subCategory'] = items.extended.apply(lambda y: ' '.join(y['subcategories']) \n",
    "                                            if 'subcategories' in y else None)\n",
    "items['category'] = items.extended.apply(lambda y: y['category'])\n",
    "\n",
    "# drop unwanted categories\n",
    "items = items[items.category.isin(ITEMS_CATEGORIES)]\n",
    "\n",
    "# filter out unwanted subcategories\n",
    "items.drop(index=items[(items.subCategory=='cluster') & (items.category=='jewels') ].index, \n",
    "           inplace=True)\n",
    "\n",
    "items.shape"
   ]
  },
  {
   "cell_type": "code",
   "execution_count": 74,
   "metadata": {
    "tags": [
     "outputPrepend"
    ]
   },
   "outputs": [
    {
     "output_type": "stream",
     "name": "stdout",
     "text": "'chaos', 35.0, 1)\n~price 35 chaos ('chaos', 35.0, 1)\n~price 6 chaos ('chaos', 6.0, 1)\n~price 5 chaos ('chaos', 5.0, 1)\n~price 7 chaos ('chaos', 7.0, 1)\n~price 50 chaos ('chaos', 50.0, 1)\n~price 80 chaos ('chaos', 80.0, 1)\n~price 4 chaos ('chaos', 4.0, 1)\n~b/o 2.5 chaos ('chaos', 2.5, 1)\n~price 1 chaos ('chaos', 1.0, 1)\n~price 70 chaos ('chaos', 70.0, 1)\n~price 5 chaos ('chaos', 5.0, 1)\n~price 20 chaos ('chaos', 20.0, 1)\n~price 100 chaos ('chaos', 100.0, 1)\n~price 12 chaos ('chaos', 12.0, 1)\n~price 10 chaos ('chaos', 10.0, 1)\n~price 14 chaos ('chaos', 14.0, 1)\n~price 10 chaos ('chaos', 10.0, 1)\n~price 10 chaos ('chaos', 10.0, 1)\n~price 15 chaos ('chaos', 15.0, 1)\n~price 15 chaos ('chaos', 15.0, 1)\n~price 70 chaos ('chaos', 70.0, 1)\n~price 10 chaos ('chaos', 10.0, 1)\n~price 50 chaos ('chaos', 50.0, 1)\n~price 10 chaos ('chaos', 10.0, 1)\n~price 20 chaos ('chaos', 20.0, 1)\n~price 20 chaos ('chaos', 20.0, 1)\n~price 10 chaos ('chaos', 10.0, 1)\n~price 10 chaos ('chaos', 10.0, 1)\n~price 10 chaos ('chaos', 10.0, 1)\n~price 33 chaos ('chaos', 33.0, 1)\n~price 19 chaos ('chaos', 19.0, 1)\n~price 20 chaos ('chaos', 20.0, 1)\n~price 20 chaos ('chaos', 20.0, 1)\n~price 150 chaos ('chaos', 150.0, 1)\n~price 21 chaos ('chaos', 21.0, 1)\n~price 15 chaos ('chaos', 15.0, 1)\n~price 2 chaos ('chaos', 2.0, 1)\n~price 9 chaos ('chaos', 9.0, 1)\n~price 2 chaos ('chaos', 2.0, 1)\n~price 13 chaos ('chaos', 13.0, 1)\n~price 1 chaos ('chaos', 1.0, 1)\n~price 3 chaos ('chaos', 3.0, 1)\n~price 15 chaos ('chaos', 15.0, 1)\n~price 5 chaos ('chaos', 5.0, 1)\n~price 4 chaos ('chaos', 4.0, 1)\n~price 12 chaos ('chaos', 12.0, 1)\n~price 1 chaos ('chaos', 1.0, 1)\n~price 4 chaos ('chaos', 4.0, 1)\n~price 6 chaos ('chaos', 6.0, 1)\n~price 30 chaos ('chaos', 30.0, 1)\n~price 6 chaos ('chaos', 6.0, 1)\n~price 5 chaos ('chaos', 5.0, 1)\n~price 2 chaos ('chaos', 2.0, 1)\n~price 5 chaos ('chaos', 5.0, 1)\n~price 3 chaos ('chaos', 3.0, 1)\n~price 1 chaos ('chaos', 1.0, 1)\n~price 3 chaos ('chaos', 3.0, 1)\n~price 7 chaos ('chaos', 7.0, 1)\n~price 4 chaos ('chaos', 4.0, 1)\n~price 39 chaos ('chaos', 39.0, 1)\n~price 40 chaos ('chaos', 40.0, 1)\n~price 1 chaos ('chaos', 1.0, 1)\n~price 15 chaos ('chaos', 15.0, 1)\n~price 8 chaos ('chaos', 8.0, 1)\n~price 70 chaos ('chaos', 70.0, 1)\n~price 16 chaos ('chaos', 16.0, 1)\n~price 80 chaos ('chaos', 80.0, 1)\n~price 5 chaos ('chaos', 5.0, 1)\n~price 5 chaos ('chaos', 5.0, 1)\n~price 20 chaos ('chaos', 20.0, 1)\n~price 20 chaos ('chaos', 20.0, 1)\n~price 20 chaos ('chaos', 20.0, 1)\n~price 10 chaos ('chaos', 10.0, 1)\n~price 10 chaos ('chaos', 10.0, 1)\n~price 30 chaos ('chaos', 30.0, 1)\n~price 7 chaos ('chaos', 7.0, 1)\n~price 3 chaos ('chaos', 3.0, 1)\n~price 3 chaos ('chaos', 3.0, 1)\n~price 3 chaos ('chaos', 3.0, 1)\n~price 2 chaos ('chaos', 2.0, 1)\n~price 5 alch ('alch', 5.0, 1)\n~price 3 chaos ('chaos', 3.0, 1)\n~price 3 chaos ('chaos', 3.0, 1)\n~price 20 chaos ('chaos', 20.0, 1)\n~price 80 chaos ('chaos', 80.0, 1)\n~price 2/1 chaos ('chaos', 2.0, 1.0)\n~price 25 chaos ('chaos', 25.0, 1)\n~price 100 chaos ('chaos', 100.0, 1)\n~price 30 chaos ('chaos', 30.0, 1)\n~price 20 chaos ('chaos', 20.0, 1)\n~price 50 chaos ('chaos', 50.0, 1)\n~price 10 chaos ('chaos', 10.0, 1)\n~price 40 chaos ('chaos', 40.0, 1)\n~price 10 chaos ('chaos', 10.0, 1)\n~price 80 chaos ('chaos', 80.0, 1)\n~price 34 chaos ('chaos', 34.0, 1)\n~b/o 18 chaos ('chaos', 18.0, 1)\n~b/o 50/30 chisel ('chisel', 50.0, 30.0)\n~b/o 18 chaos ('chaos', 18.0, 1)\n~b/o 50 chaos ('chaos', 50.0, 1)\n~b/o 20 chaos ('chaos', 20.0, 1)\n~b/o 50 chaos ('chaos', 50.0, 1)\n~b/o 15 chaos ('chaos', 15.0, 1)\n~b/o 30 chaos ('chaos', 30.0, 1)\n~b/o 35 chaos ('chaos', 35.0, 1)\n~b/o 13 chaos ('chaos', 13.0, 1)\n~b/o 20 chaos ('chaos', 20.0, 1)\n~price 15 chaos ('chaos', 15.0, 1)\n~b/o 15 chaos ('chaos', 15.0, 1)\n~b/o 50 chaos ('chaos', 50.0, 1)\n~b/o 40 chaos ('chaos', 40.0, 1)\n~b/o 50 chaos ('chaos', 50.0, 1)\n~b/o 40/57 chaos ('chaos', 40.0, 57.0)\n~price 30 chaos ('chaos', 30.0, 1)\n~b/o 30 chaos ('chaos', 30.0, 1)\n~b/o 25 chaos ('chaos', 25.0, 1)\n~b/o 40 chaos ('chaos', 40.0, 1)\n~price 12 chaos ('chaos', 12.0, 1)\n~price 75 chaos ('chaos', 75.0, 1)\n~price 5 chaos ('chaos', 5.0, 1)\n~price 11 chaos ('chaos', 11.0, 1)\n~price 1 chaos ('chaos', 1.0, 1)\n~price 14 chaos ('chaos', 14.0, 1)\n~price 39 chaos ('chaos', 39.0, 1)\n~price 14 chaos ('chaos', 14.0, 1)\n~b/o 4 chaos ('chaos', 4.0, 1)\n~price 63 chaos ('chaos', 63.0, 1)\n~price 5 chaos ('chaos', 5.0, 1)\n~price 1 chaos ('chaos', 1.0, 1)\n~price 1 chaos ('chaos', 1.0, 1)\n~price 1 chaos ('chaos', 1.0, 1)\n~price 1 chaos ('chaos', 1.0, 1)\n~price 5 chaos ('chaos', 5.0, 1)\n~price 2 chaos ('chaos', 2.0, 1)\n~price 20 chaos ('chaos', 20.0, 1)\n~price 20 chaos ('chaos', 20.0, 1)\n~price 1 alch ('alch', 1.0, 1)\n~price 1 alch ('alch', 1.0, 1)\n~price 100 chaos ('chaos', 100.0, 1)\n~price 1 chaos ('chaos', 1.0, 1)\n~price 120 chaos ('chaos', 120.0, 1)\n~price 10 chaos ('chaos', 10.0, 1)\n~price 15 chaos ('chaos', 15.0, 1)\n~price 1 alch ('alch', 1.0, 1)\n~price 10 chaos ('chaos', 10.0, 1)\n~price 5 chaos ('chaos', 5.0, 1)\n~price 7 chaos ('chaos', 7.0, 1)\n~price 10 chaos ('chaos', 10.0, 1)\n~price 1 chaos ('chaos', 1.0, 1)\n~price 1 alch ('alch', 1.0, 1)\n~price 1 chaos ('chaos', 1.0, 1)\n~price 1 chaos ('chaos', 1.0, 1)\n~price 1 alch ('alch', 1.0, 1)\n~price 3 chaos ('chaos', 3.0, 1)\n~price 1 chaos ('chaos', 1.0, 1)\n~price 7 chaos ('chaos', 7.0, 1)\n~price 30 chaos ('chaos', 30.0, 1)\n~price 1 alch ('alch', 1.0, 1)\n~price 3 chaos ('chaos', 3.0, 1)\n~price 4 chaos ('chaos', 4.0, 1)\n~price 2 chaos ('chaos', 2.0, 1)\n~price 10 chaos ('chaos', 10.0, 1)\n~price 2 chaos ('chaos', 2.0, 1)\n~price 2 chaos ('chaos', 2.0, 1)\n~price 1 chaos ('chaos', 1.0, 1)\n~price 10 chaos ('chaos', 10.0, 1)\n~price 1 chaos ('chaos', 1.0, 1)\n~price 20 chaos ('chaos', 20.0, 1)\n~price 5 chaos ('chaos', 5.0, 1)\n~price 1 chaos ('chaos', 1.0, 1)\n~price 1 chaos ('chaos', 1.0, 1)\n~price 1 alch ('alch', 1.0, 1)\n~price 1 alch ('alch', 1.0, 1)\n~price 10 chaos ('chaos', 10.0, 1)\n~price 1 chaos ('chaos', 1.0, 1)\n~b/o 5 chaos ('chaos', 5.0, 1)\n~b/o 20 chaos ('chaos', 20.0, 1)\n~b/o 10 chaos ('chaos', 10.0, 1)\n~price 20 chaos ('chaos', 20.0, 1)\n~price 2 chaos ('chaos', 2.0, 1)\n~price 95 chaos ('chaos', 95.0, 1)\n~price 120 chaos ('chaos', 120.0, 1)\n~price 1 chaos ('chaos', 1.0, 1)\n~price 29 chaos ('chaos', 29.0, 1)\n~price 2 chaos ('chaos', 2.0, 1)\n~price 20 chaos ('chaos', 20.0, 1)\n~price 1 chaos ('chaos', 1.0, 1)\n~price 1 chaos ('chaos', 1.0, 1)\n~price 1 chaos ('chaos', 1.0, 1)\n~price 100 chaos ('chaos', 100.0, 1)\n~price 120 chaos ('chaos', 120.0, 1)\n~price 1 chaos ('chaos', 1.0, 1)\n~price 13 chaos ('chaos', 13.0, 1)\n~price 1 chaos ('chaos', 1.0, 1)\n~price 20 chaos ('chaos', 20.0, 1)\n~price 4 chaos ('chaos', 4.0, 1)\n~price 1 chaos ('chaos', 1.0, 1)\n~price 15 chaos ('chaos', 15.0, 1)\n~price 8 chaos ('chaos', 8.0, 1)\n~price 2 chaos ('chaos', 2.0, 1)\n~price 1 chaos ('chaos', 1.0, 1)\n~price 1 chaos ('chaos', 1.0, 1)\n~price 1 chaos ('chaos', 1.0, 1)\n~price 1 chaos ('chaos', 1.0, 1)\n~price 1 chaos ('chaos', 1.0, 1)\n~price 1 chaos ('chaos', 1.0, 1)\n~price 1 chaos ('chaos', 1.0, 1)\n~price 25 chaos ('chaos', 25.0, 1)\n~price 1 chaos ('chaos', 1.0, 1)\n~price 1 chaos ('chaos', 1.0, 1)\n~price 1 chaos ('chaos', 1.0, 1)\n~price 1 chaos ('chaos', 1.0, 1)\n~price 1 chaos ('chaos', 1.0, 1)\n~price 1 chaos ('chaos', 1.0, 1)\n~price 7 chaos ('chaos', 7.0, 1)\n~price 1 chaos ('chaos', 1.0, 1)\n~price 1 chaos ('chaos', 1.0, 1)\n~price 1 chaos ('chaos', 1.0, 1)\n~price 1 chaos ('chaos', 1.0, 1)\n~price 3 chaos ('chaos', 3.0, 1)\n~price 10 chaos ('chaos', 10.0, 1)\n~price 5 chaos ('chaos', 5.0, 1)\n~price 10 chaos ('chaos', 10.0, 1)\n~price 5 chaos ('chaos', 5.0, 1)\n~price 15 chaos ('chaos', 15.0, 1)\n~price 15 chaos ('chaos', 15.0, 1)\n~price 10 chaos ('chaos', 10.0, 1)\n~price 25 chaos ('chaos', 25.0, 1)\n~price 20 chaos ('chaos', 20.0, 1)\n~price 10 chaos ('chaos', 10.0, 1)\n~price 50 chaos ('chaos', 50.0, 1)\n~price 10 chaos ('chaos', 10.0, 1)\n~price 90 chaos ('chaos', 90.0, 1)\n~price 50 chaos ('chaos', 50.0, 1)\n~price 10 chaos ('chaos', 10.0, 1)\n~price 10 chaos ('chaos', 10.0, 1)\n~price 7 alch ('alch', 7.0, 1)\n~price 30 chaos ('chaos', 30.0, 1)\n~price 5 chaos ('chaos', 5.0, 1)\n~price 5 chaos ('chaos', 5.0, 1)\n~price 25 chaos ('chaos', 25.0, 1)\n~price 15 chaos ('chaos', 15.0, 1)\n~price 10 chaos ('chaos', 10.0, 1)\n~price 25 chaos ('chaos', 25.0, 1)\n~price 15 alch ('alch', 15.0, 1)\n~price 5 chaos ('chaos', 5.0, 1)\n~price 5 chaos ('chaos', 5.0, 1)\n~price 10 chaos ('chaos', 10.0, 1)\n~price 25 chaos ('chaos', 25.0, 1)\n~price 150 chaos ('chaos', 150.0, 1)\n~price 3 chaos ('chaos', 3.0, 1)\n~price 20 chaos ('chaos', 20.0, 1)\n~price 5 chaos ('chaos', 5.0, 1)\n~price 5 chaos ('chaos', 5.0, 1)\n~price 100 chaos ('chaos', 100.0, 1)\n~price 25 chaos ('chaos', 25.0, 1)\n~price 5 chaos ('chaos', 5.0, 1)\n~price 15 chaos ('chaos', 15.0, 1)\n~price 15 chaos ('chaos', 15.0, 1)\n~price 5 chaos ('chaos', 5.0, 1)\n~price 5 alch ('alch', 5.0, 1)\n~price 5 chaos ('chaos', 5.0, 1)\n~price 10 chaos ('chaos', 10.0, 1)\n~price 3 alch ('alch', 3.0, 1)\n~price 65 chaos ('chaos', 65.0, 1)\n~price 65 chaos ('chaos', 65.0, 1)\n~price 25 chaos ('chaos', 25.0, 1)\n~price 10 chaos ('chaos', 10.0, 1)\n~b/o 20 chaos ('chaos', 20.0, 1)\n~price 110 chaos ('chaos', 110.0, 1)\n~price 80 chaos ('chaos', 80.0, 1)\n~price 10 chaos ('chaos', 10.0, 1)\n~price 10 chaos ('chaos', 10.0, 1)\n~price 20 chaos ('chaos', 20.0, 1)\n~price 33 chaos ('chaos', 33.0, 1)\n~price 50 chaos ('chaos', 50.0, 1)\n~price 1 chaos ('chaos', 1.0, 1)\n~price 1 chaos ('chaos', 1.0, 1)\n~price 25 chaos ('chaos', 25.0, 1)\n~price 10 chaos ('chaos', 10.0, 1)\n~price 25 chaos ('chaos', 25.0, 1)\n~price 15 chaos ('chaos', 15.0, 1)\n~price 10 chaos ('chaos', 10.0, 1)\n~price 2 chaos ('chaos', 2.0, 1)\n~price 10 chaos ('chaos', 10.0, 1)\n~b/o 4 chaos ('chaos', 4.0, 1)\n~b/o 3 chaos ('chaos', 3.0, 1)\n~b/o 4 chaos ('chaos', 4.0, 1)\n~b/o 1 chaos ('chaos', 1.0, 1)\n~b/o 3 chaos ('chaos', 3.0, 1)\n~b/o 17 chaos ('chaos', 17.0, 1)\n~b/o 2 chaos ('chaos', 2.0, 1)\n~b/o 12 chaos ('chaos', 12.0, 1)\n~b/o 2 chaos ('chaos', 2.0, 1)\n~b/o 8 chaos ('chaos', 8.0, 1)\n~b/o 8 chaos ('chaos', 8.0, 1)\n~b/o 9 chaos ('chaos', 9.0, 1)\n~price 2.5 chaos ('chaos', 2.5, 1)\n~price 25 chaos ('chaos', 25.0, 1)\n~price 2.5 chaos ('chaos', 2.5, 1)\n~price 2 chaos ('chaos', 2.0, 1)\n~price 13 chaos ('chaos', 13.0, 1)\n~price 4 chaos ('chaos', 4.0, 1)\n~b/o 70 chaos ('chaos', 70.0, 1)\n~b/o 15 chaos ('chaos', 15.0, 1)\n~b/o 10 chaos ('chaos', 10.0, 1)\n~b/o 10 chaos ('chaos', 10.0, 1)\n~b/o 20 chaos ('chaos', 20.0, 1)\n~b/o 10 chaos ('chaos', 10.0, 1)\n~b/o 10 chaos ('chaos', 10.0, 1)\n~b/o 50 chaos ('chaos', 50.0, 1)\n~b/o 10 chaos ('chaos', 10.0, 1)\n~b/o 50 chaos ('chaos', 50.0, 1)\n~b/o 30 chaos ('chaos', 30.0, 1)\n~b/o 20 chaos ('chaos', 20.0, 1)\n~b/o 30 chaos ('chaos', 30.0, 1)\n~b/o 50 chaos ('chaos', 50.0, 1)\n~b/o 20 chaos ('chaos', 20.0, 1)\n~b/o 12 chaos ('chaos', 12.0, 1)\n~b/o 50 chaos ('chaos', 50.0, 1)\n~b/o 5 chaos ('chaos', 5.0, 1)\n~b/o 250 chaos ('chaos', 250.0, 1)\n~b/o 150 chaos ('chaos', 150.0, 1)\n~b/o 100 chaos ('chaos', 100.0, 1)\n~b/o 5 chaos ('chaos', 5.0, 1)\n~b/o 15 chaos ('chaos', 15.0, 1)\n~b/o 8 chaos ('chaos', 8.0, 1)\n~b/o 125 chaos ('chaos', 125.0, 1)\n~b/o 14 chaos ('chaos', 14.0, 1)\n~b/o 75 chaos ('chaos', 75.0, 1)\n~b/o 7 chaos ('chaos', 7.0, 1)\n~b/o 8 chaos ('chaos', 8.0, 1)\n~price 60 chaos ('chaos', 60.0, 1)\n~price 140 chaos ('chaos', 140.0, 1)\n~price 100 chaos ('chaos', 100.0, 1)\n~price 50 chaos ('chaos', 50.0, 1)\n~price 40 chaos ('chaos', 40.0, 1)\n~price 10 chaos ('chaos', 10.0, 1)\n~price 35 chaos ('chaos', 35.0, 1)\n~price 10 chaos ('chaos', 10.0, 1)\n~price 2 chaos ('chaos', 2.0, 1)\n~price 10 chaos ('chaos', 10.0, 1)\n~price 4 chaos ('chaos', 4.0, 1)\n~b/o 40 chaos ('chaos', 40.0, 1)\n~price 10 chaos ('chaos', 10.0, 1)\n~price 35 chaos ('chaos', 35.0, 1)\n~price 40 chaos ('chaos', 40.0, 1)\n~price 10 chaos ('chaos', 10.0, 1)\n~price 20 chaos ('chaos', 20.0, 1)\n~price 10 chaos ('chaos', 10.0, 1)\n~price 30 chaos ('chaos', 30.0, 1)\n~b/o 50 chaos ('chaos', 50.0, 1)\n~price 150 chaos ('chaos', 150.0, 1)\n~price 6 chaos ('chaos', 6.0, 1)\n~price 10 chaos ('chaos', 10.0, 1)\n~price 20 chaos ('chaos', 20.0, 1)\n~price 10 chaos ('chaos', 10.0, 1)\n~price 30 chaos ('chaos', 30.0, 1)\n~price 8 chaos ('chaos', 8.0, 1)\n~price 11 chaos ('chaos', 11.0, 1)\n~price 16 chaos ('chaos', 16.0, 1)\n~price 12 chaos ('chaos', 12.0, 1)\n~price 22 chaos ('chaos', 22.0, 1)\n~price 8 chaos ('chaos', 8.0, 1)\n~price 20 chaos ('chaos', 20.0, 1)\n~price 20 chaos ('chaos', 20.0, 1)\n~price 20 chaos ('chaos', 20.0, 1)\n~price 23 chaos ('chaos', 23.0, 1)\n~b/o 16 chaos ('chaos', 16.0, 1)\n~price 10 chaos ('chaos', 10.0, 1)\n~price 20 chaos ('chaos', 20.0, 1)\n~price 8 chaos ('chaos', 8.0, 1)\n~price 5 chaos ('chaos', 5.0, 1)\n~price 8 chaos ('chaos', 8.0, 1)\n~price 8 chaos ('chaos', 8.0, 1)\n~price 10 chaos ('chaos', 10.0, 1)\n~price 10 chaos ('chaos', 10.0, 1)\n~price 7 chaos ('chaos', 7.0, 1)\n~price 140 chaos ('chaos', 140.0, 1)\n~price 3 chaos ('chaos', 3.0, 1)\n~price 8 chaos ('chaos', 8.0, 1)\n~price 5 chaos ('chaos', 5.0, 1)\n~price 38 chaos ('chaos', 38.0, 1)\n~price 5 chaos ('chaos', 5.0, 1)\n~price 15 chaos ('chaos', 15.0, 1)\n~price 2 chaos ('chaos', 2.0, 1)\n~price 10 chaos ('chaos', 10.0, 1)\n~price 10 chaos ('chaos', 10.0, 1)\n~price 3 chaos ('chaos', 3.0, 1)\n~price 10 chaos ('chaos', 10.0, 1)\n~price 20 chaos ('chaos', 20.0, 1)\n~price 25 chaos ('chaos', 25.0, 1)\n~price 1 chaos ('chaos', 1.0, 1)\n~price 40 chaos ('chaos', 40.0, 1)\n~price 20 chaos ('chaos', 20.0, 1)\n~price 100 chaos ('chaos', 100.0, 1)\n~price 10 chaos ('chaos', 10.0, 1)\n~price 10 chaos ('chaos', 10.0, 1)\n~price 1 chaos ('chaos', 1.0, 1)\n~price 9 chaos ('chaos', 9.0, 1)\n~price 74 chaos ('chaos', 74.0, 1)\n~price 50 chaos ('chaos', 50.0, 1)\n~price 18 chaos ('chaos', 18.0, 1)\n~price 50 chaos ('chaos', 50.0, 1)\n~price 25 chaos ('chaos', 25.0, 1)\n~price 80 chaos ('chaos', 80.0, 1)\n~price 240 chaos ('chaos', 240.0, 1)\n~price 1 chaos ('chaos', 1.0, 1)\n~price 5 chaos ('chaos', 5.0, 1)\n~price 1 chaos ('chaos', 1.0, 1)\n~price 5 chaos ('chaos', 5.0, 1)\n~price 1 chaos ('chaos', 1.0, 1)\n~price 6 chaos ('chaos', 6.0, 1)\n~price 70 chaos ('chaos', 70.0, 1)\n~price 90 chaos ('chaos', 90.0, 1)\n~price 20 chaos ('chaos', 20.0, 1)\n~price 12 chaos ('chaos', 12.0, 1)\n~price 5 chaos ('chaos', 5.0, 1)\n~price 2 chaos ('chaos', 2.0, 1)\n~price 5 chaos ('chaos', 5.0, 1)\n~b/o 5 chaos ('chaos', 5.0, 1)\n~price 15 chaos ('chaos', 15.0, 1)\n~price 5 chaos ('chaos', 5.0, 1)\n~price 2 chaos ('chaos', 2.0, 1)\n~price 50 chaos ('chaos', 50.0, 1)\n~price 6 chaos ('chaos', 6.0, 1)\n~price 20 chaos ('chaos', 20.0, 1)\n~price 50 chaos ('chaos', 50.0, 1)\n~price 5 chaos ('chaos', 5.0, 1)\n~price 40 chaos ('chaos', 40.0, 1)\n~price 5 chaos ('chaos', 5.0, 1)\n~price 5 chaos ('chaos', 5.0, 1)\n~price 5 chaos ('chaos', 5.0, 1)\n~price 100 chaos ('chaos', 100.0, 1)\n~price 25 chaos ('chaos', 25.0, 1)\n~price 115 chaos ('chaos', 115.0, 1)\n~price 15 chaos ('chaos', 15.0, 1)\n~price 50 chaos ('chaos', 50.0, 1)\n~price 80 chaos ('chaos', 80.0, 1)\n~price 25 chaos ('chaos', 25.0, 1)\n~price 25 chaos ('chaos', 25.0, 1)\n~price 25 chaos ('chaos', 25.0, 1)\n~price 25 chaos ('chaos', 25.0, 1)\n~price 30 chaos ('chaos', 30.0, 1)\n~price 45 chaos ('chaos', 45.0, 1)\n~price 20 chaos ('chaos', 20.0, 1)\n~price 25 chaos ('chaos', 25.0, 1)\n~price 11 chaos ('chaos', 11.0, 1)\n~price 10 chaos ('chaos', 10.0, 1)\n~price 2 chaos ('chaos', 2.0, 1)\n~price 5 chaos ('chaos', 5.0, 1)\n~b/o 5 chaos ('chaos', 5.0, 1)\n~price 10 chaos ('chaos', 10.0, 1)\n~price 5 chaos ('chaos', 5.0, 1)\n~price 5 chaos ('chaos', 5.0, 1)\n~price 10 chaos ('chaos', 10.0, 1)\n~price 10 chaos ('chaos', 10.0, 1)\n~price 2 chaos ('chaos', 2.0, 1)\n~price 5 chaos ('chaos', 5.0, 1)\n~price 25 chaos ('chaos', 25.0, 1)\n~price 40 chaos ('chaos', 40.0, 1)\n~price 8 chaos ('chaos', 8.0, 1)\n~price 5 chaos ('chaos', 5.0, 1)\n~price 7 chaos ('chaos', 7.0, 1)\n~price 7 chaos ('chaos', 7.0, 1)\n~b/o 9 chaos ('chaos', 9.0, 1)\n~b/o 8 chaos ('chaos', 8.0, 1)\n~b/o 40 chaos ('chaos', 40.0, 1)\n~b/o 5 chaos ('chaos', 5.0, 1)\n~b/o 20 chaos ('chaos', 20.0, 1)\n~b/o 20 chaos ('chaos', 20.0, 1)\n~b/o 70 chaos ('chaos', 70.0, 1)\n~b/o 50 chaos ('chaos', 50.0, 1)\n~b/o 25 chaos ('chaos', 25.0, 1)\n~b/o 15 chaos ('chaos', 15.0, 1)\n~b/o 5 chaos ('chaos', 5.0, 1)\n~b/o 15 chaos ('chaos', 15.0, 1)\n~b/o 10 chaos ('chaos', 10.0, 1)\n~b/o 10 chaos ('chaos', 10.0, 1)\n~b/o 30 chaos ('chaos', 30.0, 1)\n~b/o 10 chaos ('chaos', 10.0, 1)\n~b/o 40 chaos ('chaos', 40.0, 1)\n~b/o 50 chaos ('chaos', 50.0, 1)\n~b/o 5 chaos ('chaos', 5.0, 1)\n~b/o 10 chaos ('chaos', 10.0, 1)\n~b/o 10 chaos ('chaos', 10.0, 1)\n~b/o 4 chaos ('chaos', 4.0, 1)\n~b/o 7 chaos ('chaos', 7.0, 1)\n~b/o 10 chaos ('chaos', 10.0, 1)\n~b/o 35 chaos ('chaos', 35.0, 1)\n~b/o 7 chaos ('chaos', 7.0, 1)\n~b/o 40 chaos ('chaos', 40.0, 1)\n~b/o 5 chaos ('chaos', 5.0, 1)\n~b/o 40 chaos ('chaos', 40.0, 1)\n~b/o 7 chaos ('chaos', 7.0, 1)\n~b/o 10 chaos ('chaos', 10.0, 1)\n~b/o 100 chaos ('chaos', 100.0, 1)\n~b/o 6 chaos ('chaos', 6.0, 1)\n~b/o 9 chaos ('chaos', 9.0, 1)\n~b/o 10 chaos ('chaos', 10.0, 1)\n~b/o 100 chaos ('chaos', 100.0, 1)\n~b/o 8 chaos ('chaos', 8.0, 1)\n~b/o 9 chaos ('chaos', 9.0, 1)\n~b/o 9 chaos ('chaos', 9.0, 1)\n~b/o 5 chaos ('chaos', 5.0, 1)\n~b/o 4 chaos ('chaos', 4.0, 1)\n~b/o 5 chaos ('chaos', 5.0, 1)\n~b/o 5 chaos ('chaos', 5.0, 1)\n~b/o 5 chaos ('chaos', 5.0, 1)\n~b/o 25 chaos ('chaos', 25.0, 1)\n~b/o 10 chaos ('chaos', 10.0, 1)\n~b/o 9 chaos ('chaos', 9.0, 1)\n~b/o 6 chaos ('chaos', 6.0, 1)\n~b/o 5 chaos ('chaos', 5.0, 1)\n~b/o 10 chaos ('chaos', 10.0, 1)\n~b/o 8 chaos ('chaos', 8.0, 1)\n~b/o 3 chaos ('chaos', 3.0, 1)\n~b/o 60 chaos ('chaos', 60.0, 1)\n~b/o 6 chaos ('chaos', 6.0, 1)\n~b/o 8 chaos ('chaos', 8.0, 1)\n~b/o 30 chaos ('chaos', 30.0, 1)\n~b/o 5 chaos ('chaos', 5.0, 1)\n~b/o 25 chaos ('chaos', 25.0, 1)\n~b/o 5 chaos ('chaos', 5.0, 1)\n~b/o 20 chaos ('chaos', 20.0, 1)\n~b/o 25 chaos ('chaos', 25.0, 1)\n~b/o 25 chaos ('chaos', 25.0, 1)\n~b/o 10 chaos ('chaos', 10.0, 1)\n~b/o 10 chaos ('chaos', 10.0, 1)\n~b/o 5 chaos ('chaos', 5.0, 1)\n~b/o 40 chaos ('chaos', 40.0, 1)\n~b/o 100 chaos ('chaos', 100.0, 1)\n~price 1 chaos ('chaos', 1.0, 1)\n~price 1 chaos ('chaos', 1.0, 1)\n~price 2 chaos ('chaos', 2.0, 1)\n~price 1 chaos ('chaos', 1.0, 1)\n~price 65 chaos ('chaos', 65.0, 1)\n~price 1 chaos ('chaos', 1.0, 1)\n~price 1 chaos ('chaos', 1.0, 1)\n~price 1 chaos ('chaos', 1.0, 1)\n~price 1 chaos ('chaos', 1.0, 1)\n~price 1 chaos ('chaos', 1.0, 1)\n~price 1 chaos ('chaos', 1.0, 1)\n~price 1 chaos ('chaos', 1.0, 1)\n~price 1 chaos ('chaos', 1.0, 1)\n~price 5 chaos ('chaos', 5.0, 1)\n~price 1 chaos ('chaos', 1.0, 1)\n~price 1 chaos ('chaos', 1.0, 1)\n~price 1 chaos ('chaos', 1.0, 1)\n~price 1 chaos ('chaos', 1.0, 1)\n~price 3 chaos ('chaos', 3.0, 1)\n~price 1 chaos ('chaos', 1.0, 1)\n~price 1 chaos ('chaos', 1.0, 1)\n~price 10 chaos ('chaos', 10.0, 1)\n~price 1 chaos ('chaos', 1.0, 1)\n~price 1 chaos ('chaos', 1.0, 1)\n~price 1 chaos ('chaos', 1.0, 1)\n~price 1 chaos ('chaos', 1.0, 1)\n~price 1 chaos ('chaos', 1.0, 1)\n~price 1 chaos ('chaos', 1.0, 1)\n~price 1 chaos ('chaos', 1.0, 1)\n~price 14 chaos ('chaos', 14.0, 1)\n~price 60 chaos ('chaos', 60.0, 1)\n~price 120 chaos ('chaos', 120.0, 1)\n~price 60 chaos ('chaos', 60.0, 1)\n~price 45 chaos ('chaos', 45.0, 1)\n~price 30 chaos ('chaos', 30.0, 1)\n~price 0.5 chaos ('chaos', 0.5, 1)\n~price 1.5 chaos ('chaos', 1.5, 1)\n~price 1.5 chaos ('chaos', 1.5, 1)\n~price 1.5 chaos ('chaos', 1.5, 1)\n~price 1.5 chaos ('chaos', 1.5, 1)\n~price 1.5 chaos ('chaos', 1.5, 1)\n~price 1.5 chaos ('chaos', 1.5, 1)\n~price 1.5 chaos ('chaos', 1.5, 1)\n~price 1.5 chaos ('chaos', 1.5, 1)\n~price 0.5 chaos ('chaos', 0.5, 1)\n~price 3 chaos ('chaos', 3.0, 1)\n~price 1 chaos ('chaos', 1.0, 1)\n~price 0.5 chaos ('chaos', 0.5, 1)\n~price 0.5 chaos ('chaos', 0.5, 1)\n~price 1 chaos ('chaos', 1.0, 1)\n~price 0.5 chaos ('chaos', 0.5, 1)\n~price 0.5 chaos ('chaos', 0.5, 1)\n~price 1 chaos ('chaos', 1.0, 1)\n~price 0.5 chaos ('chaos', 0.5, 1)\n~price 25 chaos ('chaos', 25.0, 1)\n~price 0.5 chaos ('chaos', 0.5, 1)\n~price 0.5 chaos ('chaos', 0.5, 1)\n~price 1 chaos ('chaos', 1.0, 1)\n~price 7 chaos ('chaos', 7.0, 1)\n~price 1 chaos ('chaos', 1.0, 1)\n"
    },
    {
     "output_type": "execute_result",
     "data": {
      "text/plain": "(47873, 57)"
     },
     "metadata": {},
     "execution_count": 74
    }
   ],
   "source": [
    "# extract items price and drop unpriced items\n",
    "price = []\n",
    "for k, v in items.iterrows():\n",
    "    try:\n",
    "        # item has a valid price\n",
    "        item_price = get_string_price(v.note)\n",
    "    except:\n",
    "        try:\n",
    "            # stash has a valid price\n",
    "            item_price = get_string_price(v.stashNote)\n",
    "        except:\n",
    "            # both item and stash have no valid price\n",
    "            item_price = (None, None, None)\n",
    "    price.append(item_price)\n",
    "(items['priceCurrency'], items['priceQuantity'], items['sellingQuantity']) = zip(*price)\n",
    "\n",
    "# filter out unwanted selling currencies\n",
    "items = items[(items.priceCurrency.isin(CURRENCY_KEY)) & (items.priceQuantity != 0)]\n",
    "\n",
    "items.shape"
   ]
  },
  {
   "cell_type": "markdown",
   "metadata": {},
   "source": [
    "## Mod based items processing"
   ]
  },
  {
   "cell_type": "code",
   "execution_count": 13,
   "metadata": {},
   "outputs": [
    {
     "output_type": "execute_result",
     "data": {
      "text/plain": "(35261, 59)"
     },
     "metadata": {},
     "execution_count": 13
    }
   ],
   "source": [
    "mitems = items[items.category.isin(['jewels', 'armour', 'weapons', 'accessories'])].copy()\n",
    "mitems.shape"
   ]
  },
  {
   "cell_type": "code",
   "execution_count": 14,
   "metadata": {},
   "outputs": [
    {
     "output_type": "execute_result",
     "data": {
      "text/plain": "(28030, 60)"
     },
     "metadata": {},
     "execution_count": 14
    }
   ],
   "source": [
    "mitems['rarity'] = mitems.frameType.apply(lambda y: FRAME_TYPES[y])\n",
    "mitems = mitems[(mitems.rarity.isin(['normal', 'magic', 'rare'])) | (mitems.category=='currency')]\n",
    "mitems.shape"
   ]
  },
  {
   "cell_type": "code",
   "execution_count": 15,
   "metadata": {},
   "outputs": [],
   "source": [
    "mitems['nPrefixes'] = mitems.extended.apply(lambda y: y['prefixes'] if 'prefixes' in y else None)\n",
    "mitems['nSuffixes'] = mitems.extended.apply(lambda y: y['suffixes'] if 'suffixes' in y else None)"
   ]
  },
  {
   "cell_type": "code",
   "execution_count": 16,
   "metadata": {},
   "outputs": [
    {
     "output_type": "execute_result",
     "data": {
      "text/plain": "(28030, 68)"
     },
     "metadata": {},
     "execution_count": 16
    }
   ],
   "source": [
    "# explode \"influences\" column into distinct dataframe columns\n",
    "mitems_influences = mitems['influences'].apply(lambda y: y if isinstance(y, dict) else {})\n",
    "mitems_influences = pd.DataFrame(mitems_influences.to_list(), index=mitems_influences.index)\n",
    "mitems_influences.columns = ['influence{}'.format(v.capitalize()) for v in mitems_influences.columns]\n",
    "mitems = pd.merge(mitems, mitems_influences, left_index=True, right_index=True, how='left')\n",
    "mitems.shape"
   ]
  },
  {
   "cell_type": "code",
   "execution_count": 17,
   "metadata": {},
   "outputs": [],
   "source": [
    "def mitems_prop_formatting(mitems, target_props):\n",
    "    mitems_props_vocabulary = []\n",
    "    mitems_props = []\n",
    "    \n",
    "    t1 = []\n",
    "    for k, v in mitems.iterrows():\n",
    "        for target_prop in target_props:\n",
    "            if isinstance(v[target_prop], list):\n",
    "                for prop in [p for p in v[target_prop] if len(p['values']) > 0]:\n",
    "                    item_prop = dict()\n",
    "                    item_prop['itemId'] = k\n",
    "                    generic_prop = prop['name']\n",
    "                    try:\n",
    "                        prop_index = mitems_props_vocabulary.index(generic_prop)\n",
    "                    except:\n",
    "                        mitems_props_vocabulary.append(generic_prop)\n",
    "                        prop_index = len(mitems_props_vocabulary) - 1\n",
    "                    item_prop['propId'] = prop_index\n",
    "                    for i, v in enumerate(prop['values'][0][0].split('-')):\n",
    "                        try:\n",
    "                            item_prop['value{}'.format(i)] = float(re.sub('(\\+|-|%)', '', v))\n",
    "                        except:\n",
    "                            break\n",
    "                    mitems_props.append(item_prop)\n",
    "    mitems_props = pd.DataFrame(mitems_props)\n",
    "    mitems_props_vocabulary = pd.DataFrame(mitems_props_vocabulary, columns=['text'])\n",
    "    return mitems_props, mitems_props_vocabulary\n",
    "\n",
    "def mitems_mod_formatting(mitems, mod_types):\n",
    "    mitems_mods_vocabulary = []\n",
    "    mitems_mods = []\n",
    "    for k, item in mitems.iterrows():\n",
    "        for mod_type in mod_types:\n",
    "            if isinstance(item[mod_type], list):\n",
    "                for mod in item[mod_type]:\n",
    "                    item_mod = dict()\n",
    "                    item_mod['itemId'] = k\n",
    "                    generic_mod = re.sub('\\d+', '#', mod)\n",
    "                    try:\n",
    "                        mod_index = mitems_mods_vocabulary.index((generic_mod, mod_type))\n",
    "                    except:\n",
    "                        mitems_mods_vocabulary.append((generic_mod, mod_type))\n",
    "                        mod_index = len(mitems_mods_vocabulary) - 1\n",
    "                    item_mod['modId'] = mod_index\n",
    "                    for i, v in enumerate(re.findall('\\d+', mod)):\n",
    "                        item_mod['value{}'.format(i)] = int(v)\n",
    "                    mitems_mods.append(item_mod)\n",
    "    mitems_mods = pd.DataFrame(mitems_mods)\n",
    "    mitems_mods_vocabulary = pd.DataFrame(mitems_mods_vocabulary, columns=['text', 'modType'])\n",
    "    return mitems_mods, mitems_mods_vocabulary\n",
    "\n",
    "mitems_prop, mitems_prop_voc = mitems_prop_formatting(mitems[mitems.category!='currency'], ['properties'])\n",
    "mitems_mods, mitems_mods_voc = mitems_mod_formatting(mitems[mitems.category!='currency'], ['craftedMods', 'enchantMods', 'explicitMods', 'implicitMods'])\n",
    "\n",
    "# jewels only\n",
    "# mitems_mods, mitems_mods_voc = mitems_mod_formatting(mitems[mitems.category!='currency'], ['explicitMods', 'implicitMods'])"
   ]
  },
  {
   "cell_type": "code",
   "execution_count": 18,
   "metadata": {},
   "outputs": [
    {
     "output_type": "execute_result",
     "data": {
      "text/plain": "(28030, 72)"
     },
     "metadata": {},
     "execution_count": 18
    }
   ],
   "source": [
    "mitems_req = mitems['requirements'].apply(lambda y: {req['name']: int(req['values'][0][0]) for req in y} if isinstance(y, list) else {})\n",
    "mitems_req = pd.DataFrame(mitems_req.to_list(), index=mitems_req.index)\n",
    "mitems_req.columns = ['requirement{}'.format(col_name.capitalize()) for col_name in mitems_req.columns]\n",
    "\n",
    "if 'requirementStrength' in mitems_req:\n",
    "    mitems_req.loc[mitems_req.requirementStrength.notna(), 'requirementStr'] = mitems_req[mitems_req.requirementStrength.notna()].requirementStrength.values\n",
    "\n",
    "if 'requirementDexterity' in mitems_req:\n",
    "    mitems_req.loc[mitems_req.requirementDexterity.notna(), 'requirementDex'] = mitems_req[mitems_req.requirementDexterity.notna()].requirementDexterity.values\n",
    "\n",
    "if 'requirementIntelligence' in mitems_req:    \n",
    "    mitems_req.loc[mitems_req.requirementIntelligence.notna(), 'requirementInt'] = mitems_req[mitems_req.requirementIntelligence.notna()].requirementIntelligence.values\n",
    "\n",
    "mitems_req.drop(columns=['requirementStrength', 'requirementDexterity', 'requirementIntelligence'], inplace=True, errors='ignore')\n",
    "\n",
    "mitems = pd.merge(mitems, mitems_req, left_index=True, right_index=True, how='left')\n",
    "\n",
    "mitems.shape"
   ]
  },
  {
   "cell_type": "code",
   "execution_count": 19,
   "metadata": {},
   "outputs": [],
   "source": [
    "# split mitems socket column into separate dataframe\n",
    "for k, v in mitems.iterrows():\n",
    "    item_sockets = v['sockets']\n",
    "    if isinstance(item_sockets, list):\n",
    "        for socket in item_sockets:\n",
    "            socket['itemId'] = k\n",
    "mitems_sockets = pd.DataFrame([socket for sockets in mitems[mitems.sockets.notna()].sockets.to_list() for socket in sockets])\n",
    "mitems_sockets.drop(columns=['attr'], inplace=True)"
   ]
  },
  {
   "cell_type": "code",
   "execution_count": 20,
   "metadata": {},
   "outputs": [],
   "source": [
    "mitems['nVeiledMods'] = mitems.veiledMods.apply(lambda y: len(y) if isinstance(y, list) else 0)"
   ]
  },
  {
   "cell_type": "code",
   "execution_count": 21,
   "metadata": {},
   "outputs": [],
   "source": [
    "# useless variables\n",
    "mitems.drop(columns=[\n",
    "    'abyssJewel', 'additionalProperties', 'artFilename', 'cosmeticMods', 'craftedMods', \n",
    "    'delve', 'descrText', 'elder', 'enchantMods', 'explicitMods', 'extended', 'flavourText', 'fractured', \n",
    "    'fracturedMods', 'frameType', 'h', 'harvestRequirements', 'hybrid', 'icon', 'id', 'implicitMods', 'incubatedItem', 'influences',\n",
    "    'inventoryId', 'isRelic', 'maxStackSize', 'name', 'nextLevelRequirements',\n",
    "    'note', 'properties', 'prophecyText', 'requirements', 'secDescrText', 'shaper',\n",
    "    'socketedItems', 'sockets', 'stackSize', 'stashNote', 'support', 'typeLine', 'utilityMods',\n",
    "    'veiledMods', 'veiled', 'verified', 'w', 'x', 'y', 'itemLevel', 'sellingStackSize'\n",
    "    ], inplace=True, errors='ignore')"
   ]
  },
  {
   "cell_type": "code",
   "execution_count": 22,
   "metadata": {},
   "outputs": [
    {
     "output_type": "execute_result",
     "data": {
      "text/plain": "           category corrupted duplicated harvestRequirements  identified  \\\n191570  accessories       NaN        NaN                 NaN        True   \n122490       armour       NaN        NaN                 NaN        True   \n136472  accessories       NaN        NaN                 NaN        True   \n569     accessories       NaN        NaN                 NaN        True   \n35005   accessories       NaN        NaN                 NaN        True   \n\n        ilvl influenceCrusader influenceElder influenceHunter  \\\n191570    73               NaN            NaN             NaN   \n122490    83               NaN            NaN             NaN   \n136472    72               NaN            NaN             NaN   \n569       80               NaN            NaN             NaN   \n35005     83              True            NaN             NaN   \n\n       influenceRedeemer influenceShaper influenceWarlord   league  nPrefixes  \\\n191570               NaN             NaN              NaN  Harvest        2.0   \n122490               NaN            True              NaN  Harvest        3.0   \n136472               NaN             NaN              NaN  Harvest        2.0   \n569                  NaN             NaN              NaN  Harvest        3.0   \n35005                NaN             NaN              NaN  Harvest        2.0   \n\n        nSuffixes  nVeiledMods priceCurrency priceQuantity rarity  \\\n191570        3.0            0         chaos            22   rare   \n122490        1.0            0         chaos            14   rare   \n136472        2.0            0         chaos             8   rare   \n569           3.0            0         chaos            10   rare   \n35005         3.0            0         chaos            10   rare   \n\n        requirementDex  requirementInt  requirementLevel  requirementStr  \\\n191570             NaN             NaN              64.0             NaN   \n122490           136.0             NaN              64.0             NaN   \n136472             NaN             NaN              57.0             NaN   \n569                NaN             NaN              48.0             NaN   \n35005              NaN             NaN              64.0             NaN   \n\n       sellingQuantity subCategory synthesised  talismanTier  \n191570            None        ring         NaN           NaN  \n122490            None      shield         NaN           NaN  \n136472            None        ring         NaN           NaN  \n569               None        belt         NaN           NaN  \n35005             None        ring         NaN           NaN  ",
      "text/html": "<div>\n<style scoped>\n    .dataframe tbody tr th:only-of-type {\n        vertical-align: middle;\n    }\n\n    .dataframe tbody tr th {\n        vertical-align: top;\n    }\n\n    .dataframe thead th {\n        text-align: right;\n    }\n</style>\n<table border=\"1\" class=\"dataframe\">\n  <thead>\n    <tr style=\"text-align: right;\">\n      <th></th>\n      <th>category</th>\n      <th>corrupted</th>\n      <th>duplicated</th>\n      <th>harvestRequirements</th>\n      <th>identified</th>\n      <th>ilvl</th>\n      <th>influenceCrusader</th>\n      <th>influenceElder</th>\n      <th>influenceHunter</th>\n      <th>influenceRedeemer</th>\n      <th>influenceShaper</th>\n      <th>influenceWarlord</th>\n      <th>league</th>\n      <th>nPrefixes</th>\n      <th>nSuffixes</th>\n      <th>nVeiledMods</th>\n      <th>priceCurrency</th>\n      <th>priceQuantity</th>\n      <th>rarity</th>\n      <th>requirementDex</th>\n      <th>requirementInt</th>\n      <th>requirementLevel</th>\n      <th>requirementStr</th>\n      <th>sellingQuantity</th>\n      <th>subCategory</th>\n      <th>synthesised</th>\n      <th>talismanTier</th>\n    </tr>\n  </thead>\n  <tbody>\n    <tr>\n      <th>191570</th>\n      <td>accessories</td>\n      <td>NaN</td>\n      <td>NaN</td>\n      <td>NaN</td>\n      <td>True</td>\n      <td>73</td>\n      <td>NaN</td>\n      <td>NaN</td>\n      <td>NaN</td>\n      <td>NaN</td>\n      <td>NaN</td>\n      <td>NaN</td>\n      <td>Harvest</td>\n      <td>2.0</td>\n      <td>3.0</td>\n      <td>0</td>\n      <td>chaos</td>\n      <td>22</td>\n      <td>rare</td>\n      <td>NaN</td>\n      <td>NaN</td>\n      <td>64.0</td>\n      <td>NaN</td>\n      <td>None</td>\n      <td>ring</td>\n      <td>NaN</td>\n      <td>NaN</td>\n    </tr>\n    <tr>\n      <th>122490</th>\n      <td>armour</td>\n      <td>NaN</td>\n      <td>NaN</td>\n      <td>NaN</td>\n      <td>True</td>\n      <td>83</td>\n      <td>NaN</td>\n      <td>NaN</td>\n      <td>NaN</td>\n      <td>NaN</td>\n      <td>True</td>\n      <td>NaN</td>\n      <td>Harvest</td>\n      <td>3.0</td>\n      <td>1.0</td>\n      <td>0</td>\n      <td>chaos</td>\n      <td>14</td>\n      <td>rare</td>\n      <td>136.0</td>\n      <td>NaN</td>\n      <td>64.0</td>\n      <td>NaN</td>\n      <td>None</td>\n      <td>shield</td>\n      <td>NaN</td>\n      <td>NaN</td>\n    </tr>\n    <tr>\n      <th>136472</th>\n      <td>accessories</td>\n      <td>NaN</td>\n      <td>NaN</td>\n      <td>NaN</td>\n      <td>True</td>\n      <td>72</td>\n      <td>NaN</td>\n      <td>NaN</td>\n      <td>NaN</td>\n      <td>NaN</td>\n      <td>NaN</td>\n      <td>NaN</td>\n      <td>Harvest</td>\n      <td>2.0</td>\n      <td>2.0</td>\n      <td>0</td>\n      <td>chaos</td>\n      <td>8</td>\n      <td>rare</td>\n      <td>NaN</td>\n      <td>NaN</td>\n      <td>57.0</td>\n      <td>NaN</td>\n      <td>None</td>\n      <td>ring</td>\n      <td>NaN</td>\n      <td>NaN</td>\n    </tr>\n    <tr>\n      <th>569</th>\n      <td>accessories</td>\n      <td>NaN</td>\n      <td>NaN</td>\n      <td>NaN</td>\n      <td>True</td>\n      <td>80</td>\n      <td>NaN</td>\n      <td>NaN</td>\n      <td>NaN</td>\n      <td>NaN</td>\n      <td>NaN</td>\n      <td>NaN</td>\n      <td>Harvest</td>\n      <td>3.0</td>\n      <td>3.0</td>\n      <td>0</td>\n      <td>chaos</td>\n      <td>10</td>\n      <td>rare</td>\n      <td>NaN</td>\n      <td>NaN</td>\n      <td>48.0</td>\n      <td>NaN</td>\n      <td>None</td>\n      <td>belt</td>\n      <td>NaN</td>\n      <td>NaN</td>\n    </tr>\n    <tr>\n      <th>35005</th>\n      <td>accessories</td>\n      <td>NaN</td>\n      <td>NaN</td>\n      <td>NaN</td>\n      <td>True</td>\n      <td>83</td>\n      <td>True</td>\n      <td>NaN</td>\n      <td>NaN</td>\n      <td>NaN</td>\n      <td>NaN</td>\n      <td>NaN</td>\n      <td>Harvest</td>\n      <td>2.0</td>\n      <td>3.0</td>\n      <td>0</td>\n      <td>chaos</td>\n      <td>10</td>\n      <td>rare</td>\n      <td>NaN</td>\n      <td>NaN</td>\n      <td>64.0</td>\n      <td>NaN</td>\n      <td>None</td>\n      <td>ring</td>\n      <td>NaN</td>\n      <td>NaN</td>\n    </tr>\n  </tbody>\n</table>\n</div>"
     },
     "metadata": {},
     "execution_count": 22
    }
   ],
   "source": [
    "mitems = mitems[sorted(mitems.columns)]\n",
    "mitems.sample(5)"
   ]
  },
  {
   "cell_type": "code",
   "execution_count": 23,
   "metadata": {},
   "outputs": [
    {
     "output_type": "execute_result",
     "data": {
      "text/plain": "       group sColour  itemId\n15909      0       B  109754\n6959       1       G   49247\n30202      0       A  202856\n6326       0       G   44669\n31312      0       R  210053",
      "text/html": "<div>\n<style scoped>\n    .dataframe tbody tr th:only-of-type {\n        vertical-align: middle;\n    }\n\n    .dataframe tbody tr th {\n        vertical-align: top;\n    }\n\n    .dataframe thead th {\n        text-align: right;\n    }\n</style>\n<table border=\"1\" class=\"dataframe\">\n  <thead>\n    <tr style=\"text-align: right;\">\n      <th></th>\n      <th>group</th>\n      <th>sColour</th>\n      <th>itemId</th>\n    </tr>\n  </thead>\n  <tbody>\n    <tr>\n      <th>15909</th>\n      <td>0</td>\n      <td>B</td>\n      <td>109754</td>\n    </tr>\n    <tr>\n      <th>6959</th>\n      <td>1</td>\n      <td>G</td>\n      <td>49247</td>\n    </tr>\n    <tr>\n      <th>30202</th>\n      <td>0</td>\n      <td>A</td>\n      <td>202856</td>\n    </tr>\n    <tr>\n      <th>6326</th>\n      <td>0</td>\n      <td>G</td>\n      <td>44669</td>\n    </tr>\n    <tr>\n      <th>31312</th>\n      <td>0</td>\n      <td>R</td>\n      <td>210053</td>\n    </tr>\n  </tbody>\n</table>\n</div>"
     },
     "metadata": {},
     "execution_count": 23
    }
   ],
   "source": [
    "mitems_sockets.sample(5)"
   ]
  },
  {
   "cell_type": "code",
   "execution_count": 24,
   "metadata": {},
   "outputs": [
    {
     "output_type": "execute_result",
     "data": {
      "text/plain": "                                                   text       modType\n1013  Socketed Gems are supported by Level # Additio...  explicitMods\n279                       +# Mana gained when you Block  explicitMods\n1381      #% increased Ethereal Knives Projectile Speed   enchantMods\n506            #% chance to Avoid Cold Damage from Hits  explicitMods\n1015     Warcry Skills have #% increased Area of Effect  explicitMods",
      "text/html": "<div>\n<style scoped>\n    .dataframe tbody tr th:only-of-type {\n        vertical-align: middle;\n    }\n\n    .dataframe tbody tr th {\n        vertical-align: top;\n    }\n\n    .dataframe thead th {\n        text-align: right;\n    }\n</style>\n<table border=\"1\" class=\"dataframe\">\n  <thead>\n    <tr style=\"text-align: right;\">\n      <th></th>\n      <th>text</th>\n      <th>modType</th>\n    </tr>\n  </thead>\n  <tbody>\n    <tr>\n      <th>1013</th>\n      <td>Socketed Gems are supported by Level # Additio...</td>\n      <td>explicitMods</td>\n    </tr>\n    <tr>\n      <th>279</th>\n      <td>+# Mana gained when you Block</td>\n      <td>explicitMods</td>\n    </tr>\n    <tr>\n      <th>1381</th>\n      <td>#% increased Ethereal Knives Projectile Speed</td>\n      <td>enchantMods</td>\n    </tr>\n    <tr>\n      <th>506</th>\n      <td>#% chance to Avoid Cold Damage from Hits</td>\n      <td>explicitMods</td>\n    </tr>\n    <tr>\n      <th>1015</th>\n      <td>Warcry Skills have #% increased Area of Effect</td>\n      <td>explicitMods</td>\n    </tr>\n  </tbody>\n</table>\n</div>"
     },
     "metadata": {},
     "execution_count": 24
    }
   ],
   "source": [
    "mitems_mods_voc.sample(5)"
   ]
  },
  {
   "cell_type": "code",
   "execution_count": 25,
   "metadata": {},
   "outputs": [
    {
     "output_type": "execute_result",
     "data": {
      "text/plain": "        itemId  modId  value0  value1  value2\n25520    42893      6     6.0     NaN     NaN\n19832    30819     19    60.0     NaN     NaN\n58986    94281     30    32.0     NaN     NaN\n124235  197277     29    11.0     NaN     NaN\n112236  178911     29    16.0     NaN     NaN",
      "text/html": "<div>\n<style scoped>\n    .dataframe tbody tr th:only-of-type {\n        vertical-align: middle;\n    }\n\n    .dataframe tbody tr th {\n        vertical-align: top;\n    }\n\n    .dataframe thead th {\n        text-align: right;\n    }\n</style>\n<table border=\"1\" class=\"dataframe\">\n  <thead>\n    <tr style=\"text-align: right;\">\n      <th></th>\n      <th>itemId</th>\n      <th>modId</th>\n      <th>value0</th>\n      <th>value1</th>\n      <th>value2</th>\n    </tr>\n  </thead>\n  <tbody>\n    <tr>\n      <th>25520</th>\n      <td>42893</td>\n      <td>6</td>\n      <td>6.0</td>\n      <td>NaN</td>\n      <td>NaN</td>\n    </tr>\n    <tr>\n      <th>19832</th>\n      <td>30819</td>\n      <td>19</td>\n      <td>60.0</td>\n      <td>NaN</td>\n      <td>NaN</td>\n    </tr>\n    <tr>\n      <th>58986</th>\n      <td>94281</td>\n      <td>30</td>\n      <td>32.0</td>\n      <td>NaN</td>\n      <td>NaN</td>\n    </tr>\n    <tr>\n      <th>124235</th>\n      <td>197277</td>\n      <td>29</td>\n      <td>11.0</td>\n      <td>NaN</td>\n      <td>NaN</td>\n    </tr>\n    <tr>\n      <th>112236</th>\n      <td>178911</td>\n      <td>29</td>\n      <td>16.0</td>\n      <td>NaN</td>\n      <td>NaN</td>\n    </tr>\n  </tbody>\n</table>\n</div>"
     },
     "metadata": {},
     "execution_count": 25
    }
   ],
   "source": [
    "mitems_mods.sample(5)"
   ]
  },
  {
   "cell_type": "code",
   "execution_count": 26,
   "metadata": {},
   "outputs": [
    {
     "output_type": "display_data",
     "data": {
      "text/plain": "       itemId  propId  value0  value1\n9607    79191       0   261.0     NaN\n1250     9053       2    94.0   175.0\n8941    73407       4     6.0     NaN\n17042  133797       9    24.0     NaN\n17758  141127       0   114.0     NaN",
      "text/html": "<div>\n<style scoped>\n    .dataframe tbody tr th:only-of-type {\n        vertical-align: middle;\n    }\n\n    .dataframe tbody tr th {\n        vertical-align: top;\n    }\n\n    .dataframe thead th {\n        text-align: right;\n    }\n</style>\n<table border=\"1\" class=\"dataframe\">\n  <thead>\n    <tr style=\"text-align: right;\">\n      <th></th>\n      <th>itemId</th>\n      <th>propId</th>\n      <th>value0</th>\n      <th>value1</th>\n    </tr>\n  </thead>\n  <tbody>\n    <tr>\n      <th>9607</th>\n      <td>79191</td>\n      <td>0</td>\n      <td>261.0</td>\n      <td>NaN</td>\n    </tr>\n    <tr>\n      <th>1250</th>\n      <td>9053</td>\n      <td>2</td>\n      <td>94.0</td>\n      <td>175.0</td>\n    </tr>\n    <tr>\n      <th>8941</th>\n      <td>73407</td>\n      <td>4</td>\n      <td>6.0</td>\n      <td>NaN</td>\n    </tr>\n    <tr>\n      <th>17042</th>\n      <td>133797</td>\n      <td>9</td>\n      <td>24.0</td>\n      <td>NaN</td>\n    </tr>\n    <tr>\n      <th>17758</th>\n      <td>141127</td>\n      <td>0</td>\n      <td>114.0</td>\n      <td>NaN</td>\n    </tr>\n  </tbody>\n</table>\n</div>"
     },
     "metadata": {}
    },
    {
     "output_type": "display_data",
     "data": {
      "text/plain": "                          text\n0               Evasion Rating\n11  Quality (Attack Modifiers)\n5           Attacks per Second\n8                      Quality\n6                 Weapon Range",
      "text/html": "<div>\n<style scoped>\n    .dataframe tbody tr th:only-of-type {\n        vertical-align: middle;\n    }\n\n    .dataframe tbody tr th {\n        vertical-align: top;\n    }\n\n    .dataframe thead th {\n        text-align: right;\n    }\n</style>\n<table border=\"1\" class=\"dataframe\">\n  <thead>\n    <tr style=\"text-align: right;\">\n      <th></th>\n      <th>text</th>\n    </tr>\n  </thead>\n  <tbody>\n    <tr>\n      <th>0</th>\n      <td>Evasion Rating</td>\n    </tr>\n    <tr>\n      <th>11</th>\n      <td>Quality (Attack Modifiers)</td>\n    </tr>\n    <tr>\n      <th>5</th>\n      <td>Attacks per Second</td>\n    </tr>\n    <tr>\n      <th>8</th>\n      <td>Quality</td>\n    </tr>\n    <tr>\n      <th>6</th>\n      <td>Weapon Range</td>\n    </tr>\n  </tbody>\n</table>\n</div>"
     },
     "metadata": {}
    }
   ],
   "source": [
    "display(mitems_prop.sample(5))\n",
    "display(mitems_prop_voc.sample(5))"
   ]
  },
  {
   "cell_type": "markdown",
   "metadata": {},
   "source": [
    "### Jewels"
   ]
  },
  {
   "cell_type": "code",
   "execution_count": 29,
   "metadata": {},
   "outputs": [
    {
     "output_type": "execute_result",
     "data": {
      "text/plain": "(7470, 27)"
     },
     "metadata": {},
     "execution_count": 29
    }
   ],
   "source": [
    "jewel = mitems[mitems.category=='jewels'].copy()\n",
    "jewel.shape"
   ]
  },
  {
   "cell_type": "code",
   "execution_count": 30,
   "metadata": {},
   "outputs": [],
   "source": [
    "jewel['isAbyss'] = jewel.subCategory.apply(lambda y: y == 'abyss')"
   ]
  },
  {
   "cell_type": "code",
   "execution_count": 31,
   "metadata": {},
   "outputs": [],
   "source": [
    "jewel.drop(columns=['category', 'influenceCrusader', 'influenceElder', 'influenceHunter', 'influenceRedeemer', \n",
    "                    'influenceShaper', 'influenceWarlord', 'itemLevel', 'nVeiledMods', 'requirementDex', \n",
    "                    'requirementInt', 'requirementStr', 'subCategory', 'synthesised',\n",
    "                    'talismanTier', 'veiled'],\n",
    "          inplace=True, errors='ignore')"
   ]
  },
  {
   "cell_type": "code",
   "execution_count": 32,
   "metadata": {},
   "outputs": [
    {
     "output_type": "execute_result",
     "data": {
      "text/plain": "       corrupted duplicated harvestRequirements  identified  ilvl   league  \\\n202866       NaN        NaN                 NaN        True    82  Harvest   \n\n        nPrefixes  nSuffixes priceCurrency priceQuantity rarity  \\\n202866        1.0        2.0         chaos             5   rare   \n\n        requirementLevel sellingQuantity  isAbyss  \n202866               NaN            None    False  ",
      "text/html": "<div>\n<style scoped>\n    .dataframe tbody tr th:only-of-type {\n        vertical-align: middle;\n    }\n\n    .dataframe tbody tr th {\n        vertical-align: top;\n    }\n\n    .dataframe thead th {\n        text-align: right;\n    }\n</style>\n<table border=\"1\" class=\"dataframe\">\n  <thead>\n    <tr style=\"text-align: right;\">\n      <th></th>\n      <th>corrupted</th>\n      <th>duplicated</th>\n      <th>harvestRequirements</th>\n      <th>identified</th>\n      <th>ilvl</th>\n      <th>league</th>\n      <th>nPrefixes</th>\n      <th>nSuffixes</th>\n      <th>priceCurrency</th>\n      <th>priceQuantity</th>\n      <th>rarity</th>\n      <th>requirementLevel</th>\n      <th>sellingQuantity</th>\n      <th>isAbyss</th>\n    </tr>\n  </thead>\n  <tbody>\n    <tr>\n      <th>202866</th>\n      <td>NaN</td>\n      <td>NaN</td>\n      <td>NaN</td>\n      <td>True</td>\n      <td>82</td>\n      <td>Harvest</td>\n      <td>1.0</td>\n      <td>2.0</td>\n      <td>chaos</td>\n      <td>5</td>\n      <td>rare</td>\n      <td>NaN</td>\n      <td>None</td>\n      <td>False</td>\n    </tr>\n  </tbody>\n</table>\n</div>"
     },
     "metadata": {},
     "execution_count": 32
    }
   ],
   "source": [
    "jewel.sample()"
   ]
  },
  {
   "cell_type": "markdown",
   "metadata": {},
   "source": [
    "### Accessories"
   ]
  },
  {
   "cell_type": "code",
   "execution_count": 118,
   "metadata": {},
   "outputs": [
    {
     "data": {
      "text/plain": [
       "(9689, 26)"
      ]
     },
     "execution_count": 118,
     "metadata": {},
     "output_type": "execute_result"
    }
   ],
   "source": [
    "accessory = mitems[mitems.category=='accessories'].copy()\n",
    "accessory.shape"
   ]
  },
  {
   "cell_type": "code",
   "execution_count": 119,
   "metadata": {},
   "outputs": [],
   "source": [
    "accessory.drop(columns=['category', 'itemLevel', 'requirementDex', 'requirementInt', \n",
    "                        'requirementStr'],\n",
    "              inplace=True, errors='ignore')"
   ]
  },
  {
   "cell_type": "code",
   "execution_count": 120,
   "metadata": {},
   "outputs": [
    {
     "data": {
      "text/plain": [
       "Index(['corrupted', 'duplicated', 'identified', 'ilvl', 'influenceCrusader',\n",
       "       'influenceElder', 'influenceHunter', 'influenceRedeemer',\n",
       "       'influenceShaper', 'influenceWarlord', 'league', 'nPrefixes',\n",
       "       'nSuffixes', 'nVeiledMods', 'priceCurrency', 'priceQuantity', 'rarity',\n",
       "       'requirementLevel', 'subCategory', 'synthesised', 'talismanTier',\n",
       "       'veiled'],\n",
       "      dtype='object')"
      ]
     },
     "execution_count": 120,
     "metadata": {},
     "output_type": "execute_result"
    }
   ],
   "source": [
    "accessory.columns"
   ]
  },
  {
   "cell_type": "markdown",
   "metadata": {},
   "source": [
    "### Weapons"
   ]
  },
  {
   "cell_type": "code",
   "execution_count": 144,
   "metadata": {},
   "outputs": [
    {
     "data": {
      "text/plain": [
       "(3725, 25)"
      ]
     },
     "execution_count": 144,
     "metadata": {},
     "output_type": "execute_result"
    }
   ],
   "source": [
    "weapon = mitems[mitems.category=='weapons'].copy()\n",
    "weapon.shape"
   ]
  },
  {
   "cell_type": "code",
   "execution_count": 145,
   "metadata": {},
   "outputs": [],
   "source": [
    "weapon.drop(columns=['talismanTier'],\n",
    "              inplace=True, errors='ignore')"
   ]
  },
  {
   "cell_type": "code",
   "execution_count": 146,
   "metadata": {},
   "outputs": [
    {
     "data": {
      "text/plain": [
       "Index(['category', 'corrupted', 'duplicated', 'identified', 'ilvl',\n",
       "       'influenceCrusader', 'influenceElder', 'influenceHunter',\n",
       "       'influenceRedeemer', 'influenceShaper', 'influenceWarlord', 'league',\n",
       "       'nPrefixes', 'nSuffixes', 'nVeiledMods', 'priceCurrency',\n",
       "       'priceQuantity', 'rarity', 'requirementDex', 'requirementInt',\n",
       "       'requirementLevel', 'requirementStr', 'subCategory', 'synthesised',\n",
       "       'veiled'],\n",
       "      dtype='object')"
      ]
     },
     "execution_count": 146,
     "metadata": {},
     "output_type": "execute_result"
    }
   ],
   "source": [
    "weapon.columns"
   ]
  },
  {
   "cell_type": "markdown",
   "metadata": {},
   "source": [
    "### Armour"
   ]
  },
  {
   "cell_type": "code",
   "execution_count": 163,
   "metadata": {},
   "outputs": [
    {
     "data": {
      "text/plain": [
       "(9548, 25)"
      ]
     },
     "execution_count": 163,
     "metadata": {},
     "output_type": "execute_result"
    }
   ],
   "source": [
    "armour = mitems[mitems.category=='armour'].copy()\n",
    "armour.shape"
   ]
  },
  {
   "cell_type": "code",
   "execution_count": 164,
   "metadata": {},
   "outputs": [],
   "source": [
    "armour.drop(columns=['talismanTier'],\n",
    "              inplace=True, errors='ignore')"
   ]
  },
  {
   "cell_type": "code",
   "execution_count": 165,
   "metadata": {},
   "outputs": [
    {
     "data": {
      "text/plain": [
       "Index(['category', 'corrupted', 'duplicated', 'identified', 'ilvl',\n",
       "       'influenceCrusader', 'influenceElder', 'influenceHunter',\n",
       "       'influenceRedeemer', 'influenceShaper', 'influenceWarlord', 'league',\n",
       "       'nPrefixes', 'nSuffixes', 'nVeiledMods', 'priceCurrency',\n",
       "       'priceQuantity', 'rarity', 'requirementDex', 'requirementInt',\n",
       "       'requirementLevel', 'requirementStr', 'subCategory', 'synthesised',\n",
       "       'veiled'],\n",
       "      dtype='object')"
      ]
     },
     "execution_count": 165,
     "metadata": {},
     "output_type": "execute_result"
    }
   ],
   "source": [
    "armour.columns"
   ]
  },
  {
   "cell_type": "markdown",
   "metadata": {},
   "source": [
    "## Currencies"
   ]
  },
  {
   "cell_type": "code",
   "execution_count": 67,
   "metadata": {},
   "outputs": [
    {
     "output_type": "execute_result",
     "data": {
      "text/plain": "(2691, 59)"
     },
     "metadata": {},
     "execution_count": 67
    }
   ],
   "source": [
    "currency = items[items.category=='currency'].copy()\n",
    "currency.shape"
   ]
  },
  {
   "cell_type": "code",
   "execution_count": 68,
   "metadata": {},
   "outputs": [
    {
     "output_type": "execute_result",
     "data": {
      "text/plain": "(359, 60)"
     },
     "metadata": {},
     "execution_count": 68
    }
   ],
   "source": [
    "currency = currency[currency.extended.apply(lambda y: y['baseType'] in CURRENCY_NAME)]\n",
    "currency['sell_currency'] = currency.extended.apply(lambda y: CURRENCY_KEY[CURRENCY_NAME.index(y['baseType'])])\n",
    "currency.shape"
   ]
  },
  {
   "cell_type": "code",
   "execution_count": 61,
   "metadata": {
    "tags": []
   },
   "outputs": [
    {
     "output_type": "stream",
     "name": "stdout",
     "text": "85\n"
    }
   ],
   "source": [
    "print(sum(currency.sellingQuantity.isna()))\n",
    "currency.sellingQuantity.fillna(1, inplace=True)"
   ]
  },
  {
   "cell_type": "code",
   "execution_count": 69,
   "metadata": {},
   "outputs": [],
   "source": [
    "currency.drop(columns=['abyssJewel', 'additionalProperties', 'artFilename', 'corrupted', 'cosmeticMods', \n",
    "    'craftedMods', 'delve', 'descrText', 'duplicated', 'elder', 'enchantMods', 'explicitMods',\n",
    "     'flavourText', 'fractured', 'fracturedMods', 'frameType', 'h', 'harvestRequirements', 'hybrid', \n",
    "    'icon', 'id', 'identified', 'ilvl', 'implicitMods', 'incubatedItem', 'influences',\n",
    "    'inventoryId', 'isRelic', 'itemLevel', 'name', 'nextLevelRequirements', 'note', \n",
    "    'properties', 'prophecyText', 'requirements', 'secDescrText', 'shaper', 'socketedItems', 'sockets',\n",
    "    'stashNote', 'support', 'synthesised', 'talismanTier', 'typeLine', 'utilityMods', 'veiled', \n",
    "    'verified', 'veiledMods',  'w', 'x', 'y', 'subCategory', 'category', 'maxStackSize', 'stackSize'],\n",
    "    inplace=True, errors='ignore')"
   ]
  },
  {
   "cell_type": "code",
   "execution_count": 63,
   "metadata": {},
   "outputs": [
    {
     "output_type": "execute_result",
     "data": {
      "text/plain": "array([[{'category': 'currency', 'baseType': 'Orb of Alchemy'}]],\n      dtype=object)"
     },
     "metadata": {},
     "execution_count": 63
    }
   ],
   "source": [
    "currency.sample()[['extended']].values"
   ]
  },
  {
   "cell_type": "code",
   "execution_count": 70,
   "metadata": {},
   "outputs": [
    {
     "output_type": "execute_result",
     "data": {
      "text/plain": "                                                 extended   league  \\\n2151    {'category': 'currency', 'baseType': 'Orb of A...  Harvest   \n2157    {'category': 'currency', 'baseType': 'Orb of A...  Harvest   \n3007    {'category': 'currency', 'baseType': 'Exalted ...  Harvest   \n13521   {'category': 'currency', 'baseType': 'Exalted ...  Harvest   \n13970   {'category': 'currency', 'baseType': 'Regal Orb'}  Harvest   \n...                                                   ...      ...   \n184598  {'category': 'currency', 'baseType': 'Orb of A...  Harvest   \n207620  {'category': 'currency', 'baseType': 'Exalted ...  Harvest   \n209329  {'category': 'currency', 'baseType': 'Orb of C...  Harvest   \n209585  {'category': 'currency', 'baseType': 'Exalted ...  Harvest   \n220878  {'category': 'currency', 'baseType': 'Gemcutte...  Harvest   \n\n       priceCurrency priceQuantity sellingQuantity sell_currency  \n2151           chaos            60            None           alt  \n2157           chaos            20            None           alt  \n3007           chaos           200            None           exa  \n13521          chaos           155            None           exa  \n13970          chaos             1            None         regal  \n...              ...           ...             ...           ...  \n184598         chaos            10            None          alch  \n207620         chaos           150            None           exa  \n209329         chaos            25            None        chance  \n209585           alt          1200            None           exa  \n220878         chaos             4            None           gcp  \n\n[85 rows x 6 columns]",
      "text/html": "<div>\n<style scoped>\n    .dataframe tbody tr th:only-of-type {\n        vertical-align: middle;\n    }\n\n    .dataframe tbody tr th {\n        vertical-align: top;\n    }\n\n    .dataframe thead th {\n        text-align: right;\n    }\n</style>\n<table border=\"1\" class=\"dataframe\">\n  <thead>\n    <tr style=\"text-align: right;\">\n      <th></th>\n      <th>extended</th>\n      <th>league</th>\n      <th>priceCurrency</th>\n      <th>priceQuantity</th>\n      <th>sellingQuantity</th>\n      <th>sell_currency</th>\n    </tr>\n  </thead>\n  <tbody>\n    <tr>\n      <th>2151</th>\n      <td>{'category': 'currency', 'baseType': 'Orb of A...</td>\n      <td>Harvest</td>\n      <td>chaos</td>\n      <td>60</td>\n      <td>None</td>\n      <td>alt</td>\n    </tr>\n    <tr>\n      <th>2157</th>\n      <td>{'category': 'currency', 'baseType': 'Orb of A...</td>\n      <td>Harvest</td>\n      <td>chaos</td>\n      <td>20</td>\n      <td>None</td>\n      <td>alt</td>\n    </tr>\n    <tr>\n      <th>3007</th>\n      <td>{'category': 'currency', 'baseType': 'Exalted ...</td>\n      <td>Harvest</td>\n      <td>chaos</td>\n      <td>200</td>\n      <td>None</td>\n      <td>exa</td>\n    </tr>\n    <tr>\n      <th>13521</th>\n      <td>{'category': 'currency', 'baseType': 'Exalted ...</td>\n      <td>Harvest</td>\n      <td>chaos</td>\n      <td>155</td>\n      <td>None</td>\n      <td>exa</td>\n    </tr>\n    <tr>\n      <th>13970</th>\n      <td>{'category': 'currency', 'baseType': 'Regal Orb'}</td>\n      <td>Harvest</td>\n      <td>chaos</td>\n      <td>1</td>\n      <td>None</td>\n      <td>regal</td>\n    </tr>\n    <tr>\n      <th>...</th>\n      <td>...</td>\n      <td>...</td>\n      <td>...</td>\n      <td>...</td>\n      <td>...</td>\n      <td>...</td>\n    </tr>\n    <tr>\n      <th>184598</th>\n      <td>{'category': 'currency', 'baseType': 'Orb of A...</td>\n      <td>Harvest</td>\n      <td>chaos</td>\n      <td>10</td>\n      <td>None</td>\n      <td>alch</td>\n    </tr>\n    <tr>\n      <th>207620</th>\n      <td>{'category': 'currency', 'baseType': 'Exalted ...</td>\n      <td>Harvest</td>\n      <td>chaos</td>\n      <td>150</td>\n      <td>None</td>\n      <td>exa</td>\n    </tr>\n    <tr>\n      <th>209329</th>\n      <td>{'category': 'currency', 'baseType': 'Orb of C...</td>\n      <td>Harvest</td>\n      <td>chaos</td>\n      <td>25</td>\n      <td>None</td>\n      <td>chance</td>\n    </tr>\n    <tr>\n      <th>209585</th>\n      <td>{'category': 'currency', 'baseType': 'Exalted ...</td>\n      <td>Harvest</td>\n      <td>alt</td>\n      <td>1200</td>\n      <td>None</td>\n      <td>exa</td>\n    </tr>\n    <tr>\n      <th>220878</th>\n      <td>{'category': 'currency', 'baseType': 'Gemcutte...</td>\n      <td>Harvest</td>\n      <td>chaos</td>\n      <td>4</td>\n      <td>None</td>\n      <td>gcp</td>\n    </tr>\n  </tbody>\n</table>\n<p>85 rows × 6 columns</p>\n</div>"
     },
     "metadata": {},
     "execution_count": 70
    }
   ],
   "source": [
    "currency[currency.sellingQuantity.isna()]"
   ]
  },
  {
   "cell_type": "code",
   "execution_count": null,
   "metadata": {},
   "outputs": [],
   "source": []
  }
 ],
 "metadata": {
  "kernelspec": {
   "display_name": "Python 3",
   "language": "python",
   "name": "python3"
  },
  "language_info": {
   "codemirror_mode": {
    "name": "ipython",
    "version": 3
   },
   "file_extension": ".py",
   "mimetype": "text/x-python",
   "name": "python",
   "nbconvert_exporter": "python",
   "pygments_lexer": "ipython3",
   "version": "3.7.6-final"
  }
 },
 "nbformat": 4,
 "nbformat_minor": 4
}