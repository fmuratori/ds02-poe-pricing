{
 "cells": [
  {
   "cell_type": "markdown",
   "metadata": {},
   "source": [
    "The goal of this notebook is to understand the original data structure and define basic operations.\n",
    "\n",
    "The source data explored here has been previously downloaded from Path of Exile stash tabs API to local .txt files. Each file contained in a specific folder represent a single API call to http://www.pathofexile.com/api/public-stash-tabs?id= with a proper **nextChangeId**: this id is iteratively applyed on the next API call."
   ]
  },
  {
   "cell_type": "markdown",
   "metadata": {},
   "source": [
    "# TODO"
   ]
  },
  {
   "cell_type": "code",
   "execution_count": 1,
   "metadata": {},
   "outputs": [],
   "source": [
    "import os\n",
    "import re\n",
    "import json\n",
    "import random\n",
    "\n",
    "import pandas as pd"
   ]
  },
  {
   "cell_type": "code",
   "execution_count": 2,
   "metadata": {},
   "outputs": [],
   "source": [
    "pd.set_option('display.max_columns', 500)\n",
    "\n",
    "DATA_PATH = '../../data/temp/stashes_delirium/'\n",
    "\n",
    "LEAGUE = 'Delirium'\n",
    "\n",
    "CURRENCY_KEY = ['alt', 'fuse', 'alch', 'chaos', 'gcp', 'exa', 'chrom', 'jew', 'chance', 'chisel', 'scour', 'blessed', 'regret', 'regal', 'divine', 'vaal', 'silver']\n",
    "CURRENCY_NAME = [\"Orb of Alteration\", \"Orb of Fusing\", \"Orb of Alchemy\", \"Chaos Orb\", \"Gemcutter's Prism\", \"Exalted Orb\", \"Chromatic Orb\", \"Jeweller's Orb\", \"Orb of Chance\", \"Cartographer's Chisel\", \"Orb of Scouring\", \"Blessed Orb\", \"Orb of Regret\", \"Regal Orb\", \"Divine Orb\", \"Vaal Orb\", \"Silver Coin\"]\n",
    "FRAME_TYPES = {0: 'normal', 1: 'magic', 2:'rare', 3: 'unique', 4: 'gem', 5: 'currency', 6: 'divination card', 7: 'quest item', 8: 'prophecy', 9: 'relic'}\n",
    "\n",
    "\n",
    "ITEMS_CATEGORIES = ['accessories', 'armour', 'jewels', 'weapons', 'currency']\n",
    "\n"
   ]
  },
  {
   "cell_type": "code",
   "execution_count": 31,
   "metadata": {},
   "outputs": [],
   "source": [
    "def get_stashes_dict(path):\n",
    "    with open(path, 'rb') as file:\n",
    "        try:\n",
    "            return json.load(file)['stashes']\n",
    "        except:\n",
    "            print('ERROR: ', path)\n",
    "            return []\n",
    "        \n",
    "def get_stashes_items(verbose=False, target_category=None):\n",
    "    items = list()\n",
    "    N = 100\n",
    "    files = os.listdir(DATA_PATH)\n",
    "\n",
    "#     if jewels_ony:\n",
    "#         pass\n",
    "#     else:\n",
    "    \n",
    "    # select N random values if possible\n",
    "    files = random.sample(files, N if len(files) > N else len(files))       \n",
    "        \n",
    "    # select a fixed number of files\n",
    "    for v in files:\n",
    "        # for v in os.listdir(DATA_PATH):\n",
    "        for stash in get_stashes_dict(DATA_PATH + v):\n",
    "            if len(stash['items']) > 0 and stash['public']:\n",
    "                # add stash related data to single items\n",
    "                for item in stash['items']:\n",
    "                    item['stashNote'] = stash['stash']\n",
    "                    item['league'] = stash['league']\n",
    "                    \n",
    "                    if target_category is not None and item['extended']['category'] in target_category:\n",
    "                        items.append(item)\n",
    "                    elif target_category is None:\n",
    "                        items.append(item)\n",
    "                    else:\n",
    "                        pass\n",
    "    return items\n",
    "\n",
    "def get_string_price(string):\n",
    "    if re.match('(~price|~b/o)\\s\\d+(\\.\\d+)?(/\\d+(\\.\\d+)?)?\\s\\w+', string) is not None:\n",
    "        tokens = string.split(' ')\n",
    "\n",
    "        currency, quantity = tokens[2], tokens[1]\n",
    "        if re.match('\\d+((\\.|/)\\d+)?/\\d+((\\.|/)\\d+)?', quantity):\n",
    "            quantity, sellingStackSize = quantity.split('/')\n",
    "            quantity = round(float(quantity), 2)\n",
    "            sellingStackSize = round(float(sellingStackSize), 2)\n",
    "        else:\n",
    "            quantity = round(float(quantity), 2)\n",
    "            sellingStackSize = None\n",
    "\n",
    "        # check if currency and quantity are allowed values\n",
    "        if currency in CURRENCY_KEY:\n",
    "            return currency, quantity, sellingStackSize\n",
    "    raise ValueError()\n",
    "    \n",
    "def get_empty_columns(df):\n",
    "    return [col for col in df.columns if all(df[col].isna())]"
   ]
  },
  {
   "cell_type": "markdown",
   "metadata": {},
   "source": [
    "# Data processing"
   ]
  },
  {
   "cell_type": "markdown",
   "metadata": {},
   "source": [
    "## Initial manipulation and filtering"
   ]
  },
  {
   "cell_type": "code",
   "execution_count": 43,
   "metadata": {},
   "outputs": [
    {
     "data": {
      "text/plain": [
       "(264623, 54)"
      ]
     },
     "execution_count": 43,
     "metadata": {},
     "output_type": "execute_result"
    }
   ],
   "source": [
    "items = pd.DataFrame(get_stashes_items())\n",
    "\n",
    "# alphabetically order dataframe columns\n",
    "items = items[sorted(items.columns)]\n",
    "\n",
    "items.shape"
   ]
  },
  {
   "cell_type": "code",
   "execution_count": 44,
   "metadata": {},
   "outputs": [
    {
     "data": {
      "text/plain": [
       "(166742, 56)"
      ]
     },
     "execution_count": 44,
     "metadata": {},
     "output_type": "execute_result"
    }
   ],
   "source": [
    "# extract items category and subcategory\n",
    "items['subCategory'] = items.extended.apply(lambda y: ' '.join(y['subcategories']) \n",
    "                                            if 'subcategories' in y else None)\n",
    "items['category'] = items.extended.apply(lambda y: y['category'])\n",
    "\n",
    "# drop unwanted categories\n",
    "items = items[items.category.isin(ITEMS_CATEGORIES)]\n",
    "\n",
    "# filter out unwanted subcategories\n",
    "items.drop(index=items[(items.subCategory=='cluster') & (items.category=='jewels') ].index, \n",
    "           inplace=True)\n",
    "\n",
    "items.shape"
   ]
  },
  {
   "cell_type": "code",
   "execution_count": 45,
   "metadata": {},
   "outputs": [
    {
     "data": {
      "text/plain": [
       "(42656, 59)"
      ]
     },
     "execution_count": 45,
     "metadata": {},
     "output_type": "execute_result"
    }
   ],
   "source": [
    "# extract items price and drop unpriced items\n",
    "price = []\n",
    "for k, v in items.iterrows():\n",
    "    try:\n",
    "        # item has a valid price\n",
    "        item_price = get_string_price(v.note)\n",
    "    except:\n",
    "        # try:\n",
    "            # stash has a valid price\n",
    "            # item_price = get_string_price(v.stashNote)\n",
    "        # except:\n",
    "        # both item and stash have no valid price\n",
    "        item_price = (None, None, None)\n",
    "    price.append(item_price)\n",
    "(items['priceCurrency'], items['priceQuantity'], items['sellingQuantity']) = zip(*price)\n",
    "\n",
    "# filter out unwanted selling currencies\n",
    "items = items[(items.priceCurrency.isin(CURRENCY_KEY)) & (items.priceQuantity != 0)]\n",
    "\n",
    "items.shape"
   ]
  },
  {
   "cell_type": "markdown",
   "metadata": {},
   "source": [
    "## Mod based items processing"
   ]
  },
  {
   "cell_type": "code",
   "execution_count": 76,
   "metadata": {},
   "outputs": [
    {
     "data": {
      "text/plain": [
       "(40218, 59)"
      ]
     },
     "execution_count": 76,
     "metadata": {},
     "output_type": "execute_result"
    }
   ],
   "source": [
    "mitems = items[items.category.isin(['jewels', 'armour', 'weapons', 'accessories'])].copy()\n",
    "mitems.shape"
   ]
  },
  {
   "cell_type": "code",
   "execution_count": 77,
   "metadata": {},
   "outputs": [
    {
     "data": {
      "text/plain": [
       "(30863, 60)"
      ]
     },
     "execution_count": 77,
     "metadata": {},
     "output_type": "execute_result"
    }
   ],
   "source": [
    "mitems['rarity'] = mitems.frameType.apply(lambda y: FRAME_TYPES[y])\n",
    "mitems = mitems[(mitems.rarity.isin(['normal', 'magic', 'rare'])) | (mitems.category=='currency')]\n",
    "mitems.shape"
   ]
  },
  {
   "cell_type": "code",
   "execution_count": 78,
   "metadata": {},
   "outputs": [],
   "source": [
    "mitems['nPrefixes'] = mitems.extended.apply(lambda y: y['prefixes'] if 'prefixes' in y else None)\n",
    "mitems['nSuffixes'] = mitems.extended.apply(lambda y: y['suffixes'] if 'suffixes' in y else None)"
   ]
  },
  {
   "cell_type": "code",
   "execution_count": 79,
   "metadata": {},
   "outputs": [
    {
     "data": {
      "text/plain": [
       "(30863, 68)"
      ]
     },
     "execution_count": 79,
     "metadata": {},
     "output_type": "execute_result"
    }
   ],
   "source": [
    "# explode \"influences\" column into distinct dataframe columns\n",
    "mitems_influences = mitems['influences'].apply(lambda y: y if isinstance(y, dict) else {})\n",
    "mitems_influences = pd.DataFrame(mitems_influences.to_list(), index=mitems_influences.index)\n",
    "mitems_influences.columns = ['influence{}'.format(v.capitalize()) for v in mitems_influences.columns]\n",
    "mitems = pd.merge(mitems, mitems_influences, left_index=True, right_index=True, how='left')\n",
    "mitems.shape"
   ]
  },
  {
   "cell_type": "code",
   "execution_count": 80,
   "metadata": {},
   "outputs": [],
   "source": [
    "def mitems_prop_formatting(mitems, target_props):\n",
    "    mitems_props_vocabulary = []\n",
    "    mitems_props = []\n",
    "    \n",
    "    t1 = []\n",
    "    for k, v in mitems.iterrows():\n",
    "        for target_prop in target_props:\n",
    "            if isinstance(v[target_prop], list):\n",
    "                for prop in [p for p in v[target_prop] if len(p['values']) > 0]:\n",
    "                    item_prop = dict()\n",
    "                    item_prop['itemId'] = k\n",
    "                    generic_prop = prop['name']\n",
    "                    try:\n",
    "                        prop_index = mitems_props_vocabulary.index(generic_prop)\n",
    "                    except:\n",
    "                        mitems_props_vocabulary.append(generic_prop)\n",
    "                        prop_index = len(mitems_props_vocabulary) - 1\n",
    "                    item_prop['propId'] = prop_index\n",
    "                    for i, v in enumerate(prop['values'][0][0].split('-')):\n",
    "                        try:\n",
    "                            item_prop['value{}'.format(i)] = float(re.sub('(\\+|-|%)', '', v))\n",
    "                        except:\n",
    "                            break\n",
    "                    mitems_props.append(item_prop)\n",
    "    mitems_props = pd.DataFrame(mitems_props)\n",
    "    mitems_props_vocabulary = pd.DataFrame(mitems_props_vocabulary, columns=['text'])\n",
    "    return mitems_props, mitems_props_vocabulary\n",
    "\n",
    "def mitems_mod_formatting(mitems, mod_types):\n",
    "    mitems_mods_vocabulary = []\n",
    "    mitems_mods = []\n",
    "    for k, item in mitems.iterrows():\n",
    "        for mod_type in mod_types:\n",
    "            if isinstance(item[mod_type], list):\n",
    "                for mod in item[mod_type]:\n",
    "                    item_mod = dict()\n",
    "                    item_mod['itemId'] = k\n",
    "                    generic_mod = re.sub('\\d+', '#', mod)\n",
    "                    try:\n",
    "                        mod_index = mitems_mods_vocabulary.index((generic_mod, mod_type))\n",
    "                    except:\n",
    "                        mitems_mods_vocabulary.append((generic_mod, mod_type))\n",
    "                        mod_index = len(mitems_mods_vocabulary) - 1\n",
    "                    item_mod['modId'] = mod_index\n",
    "                    for i, v in enumerate(re.findall('\\d+', mod)):\n",
    "                        item_mod['value{}'.format(i)] = int(v)\n",
    "                    mitems_mods.append(item_mod)\n",
    "    mitems_mods = pd.DataFrame(mitems_mods)\n",
    "    mitems_mods_vocabulary = pd.DataFrame(mitems_mods_vocabulary, columns=['text', 'modType'])\n",
    "    return mitems_mods, mitems_mods_vocabulary\n",
    "\n",
    "mitems_prop, mitems_prop_voc = mitems_prop_formatting(mitems[mitems.category!='currency'], ['properties'])\n",
    "mitems_mods, mitems_mods_voc = mitems_mod_formatting(mitems[mitems.category!='currency'], ['craftedMods', 'enchantMods', 'explicitMods', 'implicitMods'])\n",
    "\n",
    "# jewels only\n",
    "# mitems_mods, mitems_mods_voc = mitems_mod_formatting(mitems[mitems.category!='currency'], ['explicitMods', 'implicitMods'])"
   ]
  },
  {
   "cell_type": "code",
   "execution_count": 81,
   "metadata": {},
   "outputs": [
    {
     "data": {
      "text/plain": [
       "(30863, 72)"
      ]
     },
     "execution_count": 81,
     "metadata": {},
     "output_type": "execute_result"
    }
   ],
   "source": [
    "mitems_req = mitems['requirements'].apply(lambda y: {req['name']: int(req['values'][0][0]) for req in y} if isinstance(y, list) else {})\n",
    "mitems_req = pd.DataFrame(mitems_req.to_list(), index=mitems_req.index)\n",
    "mitems_req.columns = ['requirement{}'.format(col_name.capitalize()) for col_name in mitems_req.columns]\n",
    "\n",
    "if 'requirementStrength' in mitems_req:\n",
    "    mitems_req.loc[mitems_req.requirementStrength.notna(), 'requirementStr'] = mitems_req[mitems_req.requirementStrength.notna()].requirementStrength.values\n",
    "\n",
    "if 'requirementDexterity' in mitems_req:\n",
    "    mitems_req.loc[mitems_req.requirementDexterity.notna(), 'requirementDex'] = mitems_req[mitems_req.requirementDexterity.notna()].requirementDexterity.values\n",
    "\n",
    "if 'requirementIntelligence' in mitems_req:    \n",
    "    mitems_req.loc[mitems_req.requirementIntelligence.notna(), 'requirementInt'] = mitems_req[mitems_req.requirementIntelligence.notna()].requirementIntelligence.values\n",
    "\n",
    "mitems_req.drop(columns=['requirementStrength', 'requirementDexterity', 'requirementIntelligence'], inplace=True, errors='ignore')\n",
    "\n",
    "mitems = pd.merge(mitems, mitems_req, left_index=True, right_index=True, how='left')\n",
    "\n",
    "mitems.shape"
   ]
  },
  {
   "cell_type": "code",
   "execution_count": 82,
   "metadata": {},
   "outputs": [],
   "source": [
    "# split mitems socket column into separate dataframe\n",
    "for k, v in mitems.iterrows():\n",
    "    item_sockets = v['sockets']\n",
    "    if isinstance(item_sockets, list):\n",
    "        for socket in item_sockets:\n",
    "            socket['itemId'] = k\n",
    "mitems_sockets = pd.DataFrame([socket for sockets in mitems[mitems.sockets.notna()].sockets.to_list() for socket in sockets])\n",
    "mitems_sockets.drop(columns=['attr'], inplace=True)"
   ]
  },
  {
   "cell_type": "code",
   "execution_count": 83,
   "metadata": {},
   "outputs": [],
   "source": [
    "mitems['nVeiledMods'] = mitems.veiledMods.apply(lambda y: len(y) if isinstance(y, list) else 0)"
   ]
  },
  {
   "cell_type": "code",
   "execution_count": 84,
   "metadata": {},
   "outputs": [],
   "source": [
    "# useless variables\n",
    "mitems.drop(columns=[\n",
    "    'abyssJewel', 'additionalProperties', 'artFilename', 'cosmeticMods', 'craftedMods', \n",
    "    'delve', 'descrText', 'elder', 'enchantMods', 'explicitMods', 'extended', 'flavourText', 'fractured', \n",
    "    'fracturedMods', 'frameType', 'h', 'hybrid', 'icon', 'id', 'implicitMods', 'incubatedItem', 'influences',\n",
    "    'inventoryId', 'isRelic', 'maxStackSize', 'name', 'nextLevelRequirements',\n",
    "    'note', 'properties', 'prophecyText', 'requirements', 'secDescrText', 'shaper',\n",
    "    'socketedItems', 'sockets', 'stackSize', 'stashNote', 'support', 'typeLine', 'utilityMods',\n",
    "    'veiledMods', 'veiled', 'verified', 'w', 'x', 'y', 'itemLevel', 'sellingStackSize'\n",
    "    ], inplace=True, errors='ignore')"
   ]
  },
  {
   "cell_type": "code",
   "execution_count": 85,
   "metadata": {},
   "outputs": [
    {
     "data": {
      "text/html": [
       "<div>\n",
       "<style scoped>\n",
       "    .dataframe tbody tr th:only-of-type {\n",
       "        vertical-align: middle;\n",
       "    }\n",
       "\n",
       "    .dataframe tbody tr th {\n",
       "        vertical-align: top;\n",
       "    }\n",
       "\n",
       "    .dataframe thead th {\n",
       "        text-align: right;\n",
       "    }\n",
       "</style>\n",
       "<table border=\"1\" class=\"dataframe\">\n",
       "  <thead>\n",
       "    <tr style=\"text-align: right;\">\n",
       "      <th></th>\n",
       "      <th>category</th>\n",
       "      <th>corrupted</th>\n",
       "      <th>duplicated</th>\n",
       "      <th>identified</th>\n",
       "      <th>ilvl</th>\n",
       "      <th>influenceCrusader</th>\n",
       "      <th>influenceElder</th>\n",
       "      <th>influenceHunter</th>\n",
       "      <th>influenceRedeemer</th>\n",
       "      <th>influenceShaper</th>\n",
       "      <th>influenceWarlord</th>\n",
       "      <th>league</th>\n",
       "      <th>nPrefixes</th>\n",
       "      <th>nSuffixes</th>\n",
       "      <th>nVeiledMods</th>\n",
       "      <th>priceCurrency</th>\n",
       "      <th>priceQuantity</th>\n",
       "      <th>rarity</th>\n",
       "      <th>requirementDex</th>\n",
       "      <th>requirementInt</th>\n",
       "      <th>requirementLevel</th>\n",
       "      <th>requirementStr</th>\n",
       "      <th>sellingQuantity</th>\n",
       "      <th>subCategory</th>\n",
       "      <th>synthesised</th>\n",
       "      <th>talismanTier</th>\n",
       "    </tr>\n",
       "  </thead>\n",
       "  <tbody>\n",
       "    <tr>\n",
       "      <th>182800</th>\n",
       "      <td>weapons</td>\n",
       "      <td>True</td>\n",
       "      <td>NaN</td>\n",
       "      <td>True</td>\n",
       "      <td>70</td>\n",
       "      <td>True</td>\n",
       "      <td>NaN</td>\n",
       "      <td>NaN</td>\n",
       "      <td>NaN</td>\n",
       "      <td>NaN</td>\n",
       "      <td>NaN</td>\n",
       "      <td>Delirium</td>\n",
       "      <td>3.0</td>\n",
       "      <td>1.0</td>\n",
       "      <td>0</td>\n",
       "      <td>chaos</td>\n",
       "      <td>10</td>\n",
       "      <td>rare</td>\n",
       "      <td>58.0</td>\n",
       "      <td>123.0</td>\n",
       "      <td>53.0</td>\n",
       "      <td>NaN</td>\n",
       "      <td>None</td>\n",
       "      <td>runedagger dagger</td>\n",
       "      <td>NaN</td>\n",
       "      <td>NaN</td>\n",
       "    </tr>\n",
       "    <tr>\n",
       "      <th>210456</th>\n",
       "      <td>jewels</td>\n",
       "      <td>NaN</td>\n",
       "      <td>NaN</td>\n",
       "      <td>True</td>\n",
       "      <td>61</td>\n",
       "      <td>NaN</td>\n",
       "      <td>NaN</td>\n",
       "      <td>NaN</td>\n",
       "      <td>NaN</td>\n",
       "      <td>NaN</td>\n",
       "      <td>NaN</td>\n",
       "      <td>Delirium</td>\n",
       "      <td>2.0</td>\n",
       "      <td>1.0</td>\n",
       "      <td>0</td>\n",
       "      <td>chaos</td>\n",
       "      <td>20</td>\n",
       "      <td>rare</td>\n",
       "      <td>NaN</td>\n",
       "      <td>NaN</td>\n",
       "      <td>NaN</td>\n",
       "      <td>NaN</td>\n",
       "      <td>None</td>\n",
       "      <td>None</td>\n",
       "      <td>NaN</td>\n",
       "      <td>NaN</td>\n",
       "    </tr>\n",
       "    <tr>\n",
       "      <th>227380</th>\n",
       "      <td>jewels</td>\n",
       "      <td>NaN</td>\n",
       "      <td>NaN</td>\n",
       "      <td>True</td>\n",
       "      <td>74</td>\n",
       "      <td>NaN</td>\n",
       "      <td>NaN</td>\n",
       "      <td>NaN</td>\n",
       "      <td>NaN</td>\n",
       "      <td>NaN</td>\n",
       "      <td>NaN</td>\n",
       "      <td>Delirium</td>\n",
       "      <td>2.0</td>\n",
       "      <td>2.0</td>\n",
       "      <td>0</td>\n",
       "      <td>chaos</td>\n",
       "      <td>2</td>\n",
       "      <td>rare</td>\n",
       "      <td>NaN</td>\n",
       "      <td>NaN</td>\n",
       "      <td>NaN</td>\n",
       "      <td>NaN</td>\n",
       "      <td>None</td>\n",
       "      <td>None</td>\n",
       "      <td>NaN</td>\n",
       "      <td>NaN</td>\n",
       "    </tr>\n",
       "    <tr>\n",
       "      <th>141806</th>\n",
       "      <td>accessories</td>\n",
       "      <td>NaN</td>\n",
       "      <td>NaN</td>\n",
       "      <td>True</td>\n",
       "      <td>47</td>\n",
       "      <td>NaN</td>\n",
       "      <td>NaN</td>\n",
       "      <td>NaN</td>\n",
       "      <td>NaN</td>\n",
       "      <td>NaN</td>\n",
       "      <td>NaN</td>\n",
       "      <td>Delirium</td>\n",
       "      <td>1.0</td>\n",
       "      <td>3.0</td>\n",
       "      <td>0</td>\n",
       "      <td>vaal</td>\n",
       "      <td>1</td>\n",
       "      <td>rare</td>\n",
       "      <td>NaN</td>\n",
       "      <td>NaN</td>\n",
       "      <td>29.0</td>\n",
       "      <td>NaN</td>\n",
       "      <td>None</td>\n",
       "      <td>ring</td>\n",
       "      <td>NaN</td>\n",
       "      <td>NaN</td>\n",
       "    </tr>\n",
       "    <tr>\n",
       "      <th>110874</th>\n",
       "      <td>armour</td>\n",
       "      <td>NaN</td>\n",
       "      <td>NaN</td>\n",
       "      <td>True</td>\n",
       "      <td>72</td>\n",
       "      <td>NaN</td>\n",
       "      <td>NaN</td>\n",
       "      <td>NaN</td>\n",
       "      <td>NaN</td>\n",
       "      <td>NaN</td>\n",
       "      <td>NaN</td>\n",
       "      <td>Delirium</td>\n",
       "      <td>2.0</td>\n",
       "      <td>3.0</td>\n",
       "      <td>0</td>\n",
       "      <td>chaos</td>\n",
       "      <td>5</td>\n",
       "      <td>rare</td>\n",
       "      <td>48.0</td>\n",
       "      <td>NaN</td>\n",
       "      <td>51.0</td>\n",
       "      <td>48.0</td>\n",
       "      <td>None</td>\n",
       "      <td>boots</td>\n",
       "      <td>NaN</td>\n",
       "      <td>NaN</td>\n",
       "    </tr>\n",
       "  </tbody>\n",
       "</table>\n",
       "</div>"
      ],
      "text/plain": [
       "           category corrupted duplicated  identified  ilvl influenceCrusader  \\\n",
       "182800      weapons      True        NaN        True    70              True   \n",
       "210456       jewels       NaN        NaN        True    61               NaN   \n",
       "227380       jewels       NaN        NaN        True    74               NaN   \n",
       "141806  accessories       NaN        NaN        True    47               NaN   \n",
       "110874       armour       NaN        NaN        True    72               NaN   \n",
       "\n",
       "       influenceElder influenceHunter influenceRedeemer influenceShaper  \\\n",
       "182800            NaN             NaN               NaN             NaN   \n",
       "210456            NaN             NaN               NaN             NaN   \n",
       "227380            NaN             NaN               NaN             NaN   \n",
       "141806            NaN             NaN               NaN             NaN   \n",
       "110874            NaN             NaN               NaN             NaN   \n",
       "\n",
       "       influenceWarlord    league  nPrefixes  nSuffixes  nVeiledMods  \\\n",
       "182800              NaN  Delirium        3.0        1.0            0   \n",
       "210456              NaN  Delirium        2.0        1.0            0   \n",
       "227380              NaN  Delirium        2.0        2.0            0   \n",
       "141806              NaN  Delirium        1.0        3.0            0   \n",
       "110874              NaN  Delirium        2.0        3.0            0   \n",
       "\n",
       "       priceCurrency priceQuantity rarity  requirementDex  requirementInt  \\\n",
       "182800         chaos            10   rare            58.0           123.0   \n",
       "210456         chaos            20   rare             NaN             NaN   \n",
       "227380         chaos             2   rare             NaN             NaN   \n",
       "141806          vaal             1   rare             NaN             NaN   \n",
       "110874         chaos             5   rare            48.0             NaN   \n",
       "\n",
       "        requirementLevel  requirementStr sellingQuantity        subCategory  \\\n",
       "182800              53.0             NaN            None  runedagger dagger   \n",
       "210456               NaN             NaN            None               None   \n",
       "227380               NaN             NaN            None               None   \n",
       "141806              29.0             NaN            None               ring   \n",
       "110874              51.0            48.0            None              boots   \n",
       "\n",
       "       synthesised  talismanTier  \n",
       "182800         NaN           NaN  \n",
       "210456         NaN           NaN  \n",
       "227380         NaN           NaN  \n",
       "141806         NaN           NaN  \n",
       "110874         NaN           NaN  "
      ]
     },
     "execution_count": 85,
     "metadata": {},
     "output_type": "execute_result"
    }
   ],
   "source": [
    "mitems = mitems[sorted(mitems.columns)]\n",
    "mitems.sample(5)"
   ]
  },
  {
   "cell_type": "code",
   "execution_count": 86,
   "metadata": {},
   "outputs": [
    {
     "data": {
      "text/html": [
       "<div>\n",
       "<style scoped>\n",
       "    .dataframe tbody tr th:only-of-type {\n",
       "        vertical-align: middle;\n",
       "    }\n",
       "\n",
       "    .dataframe tbody tr th {\n",
       "        vertical-align: top;\n",
       "    }\n",
       "\n",
       "    .dataframe thead th {\n",
       "        text-align: right;\n",
       "    }\n",
       "</style>\n",
       "<table border=\"1\" class=\"dataframe\">\n",
       "  <thead>\n",
       "    <tr style=\"text-align: right;\">\n",
       "      <th></th>\n",
       "      <th>group</th>\n",
       "      <th>sColour</th>\n",
       "      <th>itemId</th>\n",
       "    </tr>\n",
       "  </thead>\n",
       "  <tbody>\n",
       "    <tr>\n",
       "      <th>11053</th>\n",
       "      <td>1</td>\n",
       "      <td>B</td>\n",
       "      <td>89487</td>\n",
       "    </tr>\n",
       "    <tr>\n",
       "      <th>18718</th>\n",
       "      <td>0</td>\n",
       "      <td>G</td>\n",
       "      <td>144850</td>\n",
       "    </tr>\n",
       "    <tr>\n",
       "      <th>33091</th>\n",
       "      <td>0</td>\n",
       "      <td>B</td>\n",
       "      <td>242871</td>\n",
       "    </tr>\n",
       "    <tr>\n",
       "      <th>28648</th>\n",
       "      <td>0</td>\n",
       "      <td>B</td>\n",
       "      <td>213005</td>\n",
       "    </tr>\n",
       "    <tr>\n",
       "      <th>5819</th>\n",
       "      <td>0</td>\n",
       "      <td>R</td>\n",
       "      <td>46759</td>\n",
       "    </tr>\n",
       "  </tbody>\n",
       "</table>\n",
       "</div>"
      ],
      "text/plain": [
       "       group sColour  itemId\n",
       "11053      1       B   89487\n",
       "18718      0       G  144850\n",
       "33091      0       B  242871\n",
       "28648      0       B  213005\n",
       "5819       0       R   46759"
      ]
     },
     "execution_count": 86,
     "metadata": {},
     "output_type": "execute_result"
    }
   ],
   "source": [
    "mitems_sockets.sample(5)"
   ]
  },
  {
   "cell_type": "code",
   "execution_count": 87,
   "metadata": {},
   "outputs": [
    {
     "data": {
      "text/html": [
       "<div>\n",
       "<style scoped>\n",
       "    .dataframe tbody tr th:only-of-type {\n",
       "        vertical-align: middle;\n",
       "    }\n",
       "\n",
       "    .dataframe tbody tr th {\n",
       "        vertical-align: top;\n",
       "    }\n",
       "\n",
       "    .dataframe thead th {\n",
       "        text-align: right;\n",
       "    }\n",
       "</style>\n",
       "<table border=\"1\" class=\"dataframe\">\n",
       "  <thead>\n",
       "    <tr style=\"text-align: right;\">\n",
       "      <th></th>\n",
       "      <th>text</th>\n",
       "      <th>modType</th>\n",
       "    </tr>\n",
       "  </thead>\n",
       "  <tbody>\n",
       "    <tr>\n",
       "      <th>1166</th>\n",
       "      <td>#% increased Kinetic Blast Area of Effect</td>\n",
       "      <td>enchantMods</td>\n",
       "    </tr>\n",
       "    <tr>\n",
       "      <th>345</th>\n",
       "      <td>#% chance to Dodge Attack Hits if you have Blo...</td>\n",
       "      <td>explicitMods</td>\n",
       "    </tr>\n",
       "    <tr>\n",
       "      <th>1179</th>\n",
       "      <td>Skills Cost no Mana while Focussed</td>\n",
       "      <td>craftedMods</td>\n",
       "    </tr>\n",
       "    <tr>\n",
       "      <th>940</th>\n",
       "      <td>Socketed Gems are Supported by Level # Spell C...</td>\n",
       "      <td>explicitMods</td>\n",
       "    </tr>\n",
       "    <tr>\n",
       "      <th>426</th>\n",
       "      <td>Kinetic Blast has a #% chance for an additiona...</td>\n",
       "      <td>enchantMods</td>\n",
       "    </tr>\n",
       "  </tbody>\n",
       "</table>\n",
       "</div>"
      ],
      "text/plain": [
       "                                                   text       modType\n",
       "1166          #% increased Kinetic Blast Area of Effect   enchantMods\n",
       "345   #% chance to Dodge Attack Hits if you have Blo...  explicitMods\n",
       "1179                 Skills Cost no Mana while Focussed   craftedMods\n",
       "940   Socketed Gems are Supported by Level # Spell C...  explicitMods\n",
       "426   Kinetic Blast has a #% chance for an additiona...   enchantMods"
      ]
     },
     "execution_count": 87,
     "metadata": {},
     "output_type": "execute_result"
    }
   ],
   "source": [
    "mitems_mods_voc.sample(5)"
   ]
  },
  {
   "cell_type": "code",
   "execution_count": 88,
   "metadata": {},
   "outputs": [
    {
     "data": {
      "text/html": [
       "<div>\n",
       "<style scoped>\n",
       "    .dataframe tbody tr th:only-of-type {\n",
       "        vertical-align: middle;\n",
       "    }\n",
       "\n",
       "    .dataframe tbody tr th {\n",
       "        vertical-align: top;\n",
       "    }\n",
       "\n",
       "    .dataframe thead th {\n",
       "        text-align: right;\n",
       "    }\n",
       "</style>\n",
       "<table border=\"1\" class=\"dataframe\">\n",
       "  <thead>\n",
       "    <tr style=\"text-align: right;\">\n",
       "      <th></th>\n",
       "      <th>itemId</th>\n",
       "      <th>modId</th>\n",
       "      <th>value0</th>\n",
       "      <th>value1</th>\n",
       "      <th>value2</th>\n",
       "    </tr>\n",
       "  </thead>\n",
       "  <tbody>\n",
       "    <tr>\n",
       "      <th>33053</th>\n",
       "      <td>58026</td>\n",
       "      <td>49</td>\n",
       "      <td>2.0</td>\n",
       "      <td>4.0</td>\n",
       "      <td>NaN</td>\n",
       "    </tr>\n",
       "    <tr>\n",
       "      <th>100386</th>\n",
       "      <td>167038</td>\n",
       "      <td>156</td>\n",
       "      <td>37.0</td>\n",
       "      <td>NaN</td>\n",
       "      <td>NaN</td>\n",
       "    </tr>\n",
       "    <tr>\n",
       "      <th>116453</th>\n",
       "      <td>191767</td>\n",
       "      <td>33</td>\n",
       "      <td>31.0</td>\n",
       "      <td>NaN</td>\n",
       "      <td>NaN</td>\n",
       "    </tr>\n",
       "    <tr>\n",
       "      <th>150530</th>\n",
       "      <td>242833</td>\n",
       "      <td>179</td>\n",
       "      <td>3.0</td>\n",
       "      <td>33.0</td>\n",
       "      <td>NaN</td>\n",
       "    </tr>\n",
       "    <tr>\n",
       "      <th>162781</th>\n",
       "      <td>263020</td>\n",
       "      <td>1</td>\n",
       "      <td>108.0</td>\n",
       "      <td>NaN</td>\n",
       "      <td>NaN</td>\n",
       "    </tr>\n",
       "  </tbody>\n",
       "</table>\n",
       "</div>"
      ],
      "text/plain": [
       "        itemId  modId  value0  value1  value2\n",
       "33053    58026     49     2.0     4.0     NaN\n",
       "100386  167038    156    37.0     NaN     NaN\n",
       "116453  191767     33    31.0     NaN     NaN\n",
       "150530  242833    179     3.0    33.0     NaN\n",
       "162781  263020      1   108.0     NaN     NaN"
      ]
     },
     "execution_count": 88,
     "metadata": {},
     "output_type": "execute_result"
    }
   ],
   "source": [
    "mitems_mods.sample(5)"
   ]
  },
  {
   "cell_type": "code",
   "execution_count": 93,
   "metadata": {},
   "outputs": [
    {
     "data": {
      "text/html": [
       "<div>\n",
       "<style scoped>\n",
       "    .dataframe tbody tr th:only-of-type {\n",
       "        vertical-align: middle;\n",
       "    }\n",
       "\n",
       "    .dataframe tbody tr th {\n",
       "        vertical-align: top;\n",
       "    }\n",
       "\n",
       "    .dataframe thead th {\n",
       "        text-align: right;\n",
       "    }\n",
       "</style>\n",
       "<table border=\"1\" class=\"dataframe\">\n",
       "  <thead>\n",
       "    <tr style=\"text-align: right;\">\n",
       "      <th></th>\n",
       "      <th>itemId</th>\n",
       "      <th>propId</th>\n",
       "      <th>value0</th>\n",
       "      <th>value1</th>\n",
       "    </tr>\n",
       "  </thead>\n",
       "  <tbody>\n",
       "    <tr>\n",
       "      <th>10415</th>\n",
       "      <td>95195</td>\n",
       "      <td>9</td>\n",
       "      <td>22.0</td>\n",
       "      <td>NaN</td>\n",
       "    </tr>\n",
       "    <tr>\n",
       "      <th>29622</th>\n",
       "      <td>244622</td>\n",
       "      <td>1</td>\n",
       "      <td>396.0</td>\n",
       "      <td>NaN</td>\n",
       "    </tr>\n",
       "    <tr>\n",
       "      <th>28368</th>\n",
       "      <td>233757</td>\n",
       "      <td>13</td>\n",
       "      <td>14.0</td>\n",
       "      <td>29.0</td>\n",
       "    </tr>\n",
       "    <tr>\n",
       "      <th>13157</th>\n",
       "      <td>118207</td>\n",
       "      <td>1</td>\n",
       "      <td>106.0</td>\n",
       "      <td>NaN</td>\n",
       "    </tr>\n",
       "    <tr>\n",
       "      <th>2361</th>\n",
       "      <td>19111</td>\n",
       "      <td>8</td>\n",
       "      <td>19.0</td>\n",
       "      <td>NaN</td>\n",
       "    </tr>\n",
       "  </tbody>\n",
       "</table>\n",
       "</div>"
      ],
      "text/plain": [
       "       itemId  propId  value0  value1\n",
       "10415   95195       9    22.0     NaN\n",
       "29622  244622       1   396.0     NaN\n",
       "28368  233757      13    14.0    29.0\n",
       "13157  118207       1   106.0     NaN\n",
       "2361    19111       8    19.0     NaN"
      ]
     },
     "metadata": {},
     "output_type": "display_data"
    },
    {
     "data": {
      "text/html": [
       "<div>\n",
       "<style scoped>\n",
       "    .dataframe tbody tr th:only-of-type {\n",
       "        vertical-align: middle;\n",
       "    }\n",
       "\n",
       "    .dataframe tbody tr th {\n",
       "        vertical-align: top;\n",
       "    }\n",
       "\n",
       "    .dataframe thead th {\n",
       "        text-align: right;\n",
       "    }\n",
       "</style>\n",
       "<table border=\"1\" class=\"dataframe\">\n",
       "  <thead>\n",
       "    <tr style=\"text-align: right;\">\n",
       "      <th></th>\n",
       "      <th>text</th>\n",
       "    </tr>\n",
       "  </thead>\n",
       "  <tbody>\n",
       "    <tr>\n",
       "      <th>14</th>\n",
       "      <td>Quality (Life and Mana Modifiers)</td>\n",
       "    </tr>\n",
       "    <tr>\n",
       "      <th>6</th>\n",
       "      <td>Weapon Range</td>\n",
       "    </tr>\n",
       "    <tr>\n",
       "      <th>15</th>\n",
       "      <td>Quality (Defence Modifiers)</td>\n",
       "    </tr>\n",
       "    <tr>\n",
       "      <th>7</th>\n",
       "      <td>Armour</td>\n",
       "    </tr>\n",
       "    <tr>\n",
       "      <th>12</th>\n",
       "      <td>Quality (Attribute Modifiers)</td>\n",
       "    </tr>\n",
       "  </tbody>\n",
       "</table>\n",
       "</div>"
      ],
      "text/plain": [
       "                                 text\n",
       "14  Quality (Life and Mana Modifiers)\n",
       "6                        Weapon Range\n",
       "15        Quality (Defence Modifiers)\n",
       "7                              Armour\n",
       "12      Quality (Attribute Modifiers)"
      ]
     },
     "metadata": {},
     "output_type": "display_data"
    }
   ],
   "source": [
    "display(mitems_prop.sample(5))\n",
    "display(mitems_prop_voc.sample(5))"
   ]
  },
  {
   "cell_type": "code",
   "execution_count": 72,
   "metadata": {},
   "outputs": [],
   "source": [
    "temp = mitems.sample(1)"
   ]
  },
  {
   "cell_type": "code",
   "execution_count": 74,
   "metadata": {},
   "outputs": [
    {
     "data": {
      "text/plain": [
       "{'category': 'armour',\n",
       " 'corrupted': nan,\n",
       " 'duplicated': nan,\n",
       " 'identified': True,\n",
       " 'ilvl': 86,\n",
       " 'influenceCrusader': nan,\n",
       " 'influenceElder': nan,\n",
       " 'influenceHunter': nan,\n",
       " 'influenceRedeemer': True,\n",
       " 'influenceShaper': nan,\n",
       " 'influenceWarlord': nan,\n",
       " 'league': 'Delirium',\n",
       " 'nPrefixes': 1.0,\n",
       " 'nSuffixes': 3.0,\n",
       " 'nVeiledMods': 0,\n",
       " 'priceCurrency': 'chaos',\n",
       " 'priceQuantity': 10.0,\n",
       " 'rarity': 'rare',\n",
       " 'requirementDex': nan,\n",
       " 'requirementInt': nan,\n",
       " 'requirementLevel': 60.0,\n",
       " 'requirementStr': 101.0,\n",
       " 'sellingQuantity': None,\n",
       " 'subCategory': 'helmet',\n",
       " 'synthesised': nan,\n",
       " 'talismanTier': nan}"
      ]
     },
     "execution_count": 74,
     "metadata": {},
     "output_type": "execute_result"
    }
   ],
   "source": [
    "temp.T.to_dict()[168286]"
   ]
  },
  {
   "cell_type": "markdown",
   "metadata": {},
   "source": [
    "### Jewels"
   ]
  },
  {
   "cell_type": "code",
   "execution_count": 60,
   "metadata": {},
   "outputs": [
    {
     "data": {
      "text/plain": [
       "(7361, 26)"
      ]
     },
     "execution_count": 60,
     "metadata": {},
     "output_type": "execute_result"
    }
   ],
   "source": [
    "jewel = mitems[mitems.category=='jewels'].copy()\n",
    "jewel.shape"
   ]
  },
  {
   "cell_type": "code",
   "execution_count": 74,
   "metadata": {},
   "outputs": [],
   "source": [
    "jewel['isAbyss'] = jewel.subCategory.apply(lambda y: y == 'abyss')"
   ]
  },
  {
   "cell_type": "code",
   "execution_count": 78,
   "metadata": {},
   "outputs": [],
   "source": [
    "jewel.drop(columns=['category', 'influenceCrusader', 'influenceElder', 'influenceHunter', 'influenceRedeemer', \n",
    "                    'influenceShaper', 'influenceWarlord', 'itemLevel', 'nVeiledMods', 'requirementDex', \n",
    "                    'requirementInt', 'requirementStr', 'subCategory', 'synthesised',\n",
    "                    'talismanTier', 'veiled'],\n",
    "          inplace=True, errors='ignore')"
   ]
  },
  {
   "cell_type": "code",
   "execution_count": 80,
   "metadata": {},
   "outputs": [
    {
     "data": {
      "text/html": [
       "<div>\n",
       "<style scoped>\n",
       "    .dataframe tbody tr th:only-of-type {\n",
       "        vertical-align: middle;\n",
       "    }\n",
       "\n",
       "    .dataframe tbody tr th {\n",
       "        vertical-align: top;\n",
       "    }\n",
       "\n",
       "    .dataframe thead th {\n",
       "        text-align: right;\n",
       "    }\n",
       "</style>\n",
       "<table border=\"1\" class=\"dataframe\">\n",
       "  <thead>\n",
       "    <tr style=\"text-align: right;\">\n",
       "      <th></th>\n",
       "      <th>corrupted</th>\n",
       "      <th>duplicated</th>\n",
       "      <th>identified</th>\n",
       "      <th>ilvl</th>\n",
       "      <th>league</th>\n",
       "      <th>nPrefixes</th>\n",
       "      <th>nSuffixes</th>\n",
       "      <th>priceCurrency</th>\n",
       "      <th>priceQuantity</th>\n",
       "      <th>rarity</th>\n",
       "      <th>requirementLevel</th>\n",
       "      <th>isAbyss</th>\n",
       "    </tr>\n",
       "  </thead>\n",
       "  <tbody>\n",
       "    <tr>\n",
       "      <th>160356</th>\n",
       "      <td>NaN</td>\n",
       "      <td>NaN</td>\n",
       "      <td>True</td>\n",
       "      <td>74</td>\n",
       "      <td>Delirium</td>\n",
       "      <td>2.0</td>\n",
       "      <td>2.0</td>\n",
       "      <td>chaos</td>\n",
       "      <td>5</td>\n",
       "      <td>rare</td>\n",
       "      <td>49.0</td>\n",
       "      <td>True</td>\n",
       "    </tr>\n",
       "  </tbody>\n",
       "</table>\n",
       "</div>"
      ],
      "text/plain": [
       "       corrupted duplicated  identified  ilvl    league  nPrefixes  nSuffixes  \\\n",
       "160356       NaN        NaN        True    74  Delirium        2.0        2.0   \n",
       "\n",
       "       priceCurrency priceQuantity rarity  requirementLevel  isAbyss  \n",
       "160356         chaos             5   rare              49.0     True  "
      ]
     },
     "execution_count": 80,
     "metadata": {},
     "output_type": "execute_result"
    }
   ],
   "source": [
    "jewel.sample()"
   ]
  },
  {
   "cell_type": "code",
   "execution_count": null,
   "metadata": {},
   "outputs": [],
   "source": [
    "{'rarity', 'n_suffixes', 'league', 'ilvl', 'identified', 'corrupted',\n",
    "'sub_category', 'price_currency', 'duplicated', 'price_quantity',\n",
    "'requirement_level', 'n_prefixes', 'category'}"
   ]
  },
  {
   "cell_type": "markdown",
   "metadata": {},
   "source": [
    "### Accessories"
   ]
  },
  {
   "cell_type": "code",
   "execution_count": 118,
   "metadata": {},
   "outputs": [
    {
     "data": {
      "text/plain": [
       "(9689, 26)"
      ]
     },
     "execution_count": 118,
     "metadata": {},
     "output_type": "execute_result"
    }
   ],
   "source": [
    "accessory = mitems[mitems.category=='accessories'].copy()\n",
    "accessory.shape"
   ]
  },
  {
   "cell_type": "code",
   "execution_count": 119,
   "metadata": {},
   "outputs": [],
   "source": [
    "accessory.drop(columns=['category', 'itemLevel', 'requirementDex', 'requirementInt', \n",
    "                        'requirementStr'],\n",
    "              inplace=True, errors='ignore')"
   ]
  },
  {
   "cell_type": "code",
   "execution_count": 120,
   "metadata": {},
   "outputs": [
    {
     "data": {
      "text/plain": [
       "Index(['corrupted', 'duplicated', 'identified', 'ilvl', 'influenceCrusader',\n",
       "       'influenceElder', 'influenceHunter', 'influenceRedeemer',\n",
       "       'influenceShaper', 'influenceWarlord', 'league', 'nPrefixes',\n",
       "       'nSuffixes', 'nVeiledMods', 'priceCurrency', 'priceQuantity', 'rarity',\n",
       "       'requirementLevel', 'subCategory', 'synthesised', 'talismanTier',\n",
       "       'veiled'],\n",
       "      dtype='object')"
      ]
     },
     "execution_count": 120,
     "metadata": {},
     "output_type": "execute_result"
    }
   ],
   "source": [
    "accessory.columns"
   ]
  },
  {
   "cell_type": "markdown",
   "metadata": {},
   "source": [
    "### Weapons"
   ]
  },
  {
   "cell_type": "code",
   "execution_count": 144,
   "metadata": {},
   "outputs": [
    {
     "data": {
      "text/plain": [
       "(3725, 25)"
      ]
     },
     "execution_count": 144,
     "metadata": {},
     "output_type": "execute_result"
    }
   ],
   "source": [
    "weapon = mitems[mitems.category=='weapons'].copy()\n",
    "weapon.shape"
   ]
  },
  {
   "cell_type": "code",
   "execution_count": 145,
   "metadata": {},
   "outputs": [],
   "source": [
    "weapon.drop(columns=['talismanTier'],\n",
    "              inplace=True, errors='ignore')"
   ]
  },
  {
   "cell_type": "code",
   "execution_count": 146,
   "metadata": {},
   "outputs": [
    {
     "data": {
      "text/plain": [
       "Index(['category', 'corrupted', 'duplicated', 'identified', 'ilvl',\n",
       "       'influenceCrusader', 'influenceElder', 'influenceHunter',\n",
       "       'influenceRedeemer', 'influenceShaper', 'influenceWarlord', 'league',\n",
       "       'nPrefixes', 'nSuffixes', 'nVeiledMods', 'priceCurrency',\n",
       "       'priceQuantity', 'rarity', 'requirementDex', 'requirementInt',\n",
       "       'requirementLevel', 'requirementStr', 'subCategory', 'synthesised',\n",
       "       'veiled'],\n",
       "      dtype='object')"
      ]
     },
     "execution_count": 146,
     "metadata": {},
     "output_type": "execute_result"
    }
   ],
   "source": [
    "weapon.columns"
   ]
  },
  {
   "cell_type": "markdown",
   "metadata": {},
   "source": [
    "### Armour"
   ]
  },
  {
   "cell_type": "code",
   "execution_count": 163,
   "metadata": {},
   "outputs": [
    {
     "data": {
      "text/plain": [
       "(9548, 25)"
      ]
     },
     "execution_count": 163,
     "metadata": {},
     "output_type": "execute_result"
    }
   ],
   "source": [
    "armour = mitems[mitems.category=='armour'].copy()\n",
    "armour.shape"
   ]
  },
  {
   "cell_type": "code",
   "execution_count": 164,
   "metadata": {},
   "outputs": [],
   "source": [
    "armour.drop(columns=['talismanTier'],\n",
    "              inplace=True, errors='ignore')"
   ]
  },
  {
   "cell_type": "code",
   "execution_count": 165,
   "metadata": {},
   "outputs": [
    {
     "data": {
      "text/plain": [
       "Index(['category', 'corrupted', 'duplicated', 'identified', 'ilvl',\n",
       "       'influenceCrusader', 'influenceElder', 'influenceHunter',\n",
       "       'influenceRedeemer', 'influenceShaper', 'influenceWarlord', 'league',\n",
       "       'nPrefixes', 'nSuffixes', 'nVeiledMods', 'priceCurrency',\n",
       "       'priceQuantity', 'rarity', 'requirementDex', 'requirementInt',\n",
       "       'requirementLevel', 'requirementStr', 'subCategory', 'synthesised',\n",
       "       'veiled'],\n",
       "      dtype='object')"
      ]
     },
     "execution_count": 165,
     "metadata": {},
     "output_type": "execute_result"
    }
   ],
   "source": [
    "armour.columns"
   ]
  },
  {
   "cell_type": "markdown",
   "metadata": {},
   "source": [
    "## Currencies"
   ]
  },
  {
   "cell_type": "code",
   "execution_count": 12,
   "metadata": {},
   "outputs": [
    {
     "data": {
      "text/plain": [
       "(390, 33)"
      ]
     },
     "execution_count": 12,
     "metadata": {},
     "output_type": "execute_result"
    }
   ],
   "source": [
    "currency = items[items.category=='currency'].copy()\n",
    "currency.shape"
   ]
  },
  {
   "cell_type": "code",
   "execution_count": 13,
   "metadata": {},
   "outputs": [
    {
     "data": {
      "text/plain": [
       "(44, 34)"
      ]
     },
     "execution_count": 13,
     "metadata": {},
     "output_type": "execute_result"
    }
   ],
   "source": [
    "currency = currency[currency.extended.apply(lambda y: y['baseType'] in CURRENCY_NAME)]\n",
    "currency['sell_currency'] = currency.extended.apply(lambda y: CURRENCY_KEY[CURRENCY_NAME.index(y['baseType'])])\n",
    "currency.shape"
   ]
  },
  {
   "cell_type": "code",
   "execution_count": 14,
   "metadata": {},
   "outputs": [],
   "source": [
    "currency.sellingQuantity.fillna(1, inplace=True)"
   ]
  },
  {
   "cell_type": "code",
   "execution_count": 15,
   "metadata": {},
   "outputs": [],
   "source": [
    "currency.drop(columns=['abyssJewel', 'additionalProperties', 'artFilename', 'corrupted', 'cosmeticMods', \n",
    "    'craftedMods', 'delve', 'descrText', 'duplicated', 'elder', 'enchantMods', 'explicitMods',\n",
    "    'extended', 'flavourText', 'fractured', 'fracturedMods', 'frameType', 'h', 'hybrid', \n",
    "    'icon', 'id', 'identified', 'ilvl', 'implicitMods', 'incubatedItem', 'influences',\n",
    "    'inventoryId', 'isRelic', 'itemLevel', 'name', 'nextLevelRequirements', 'note', \n",
    "    'properties', 'prophecyText', 'requirements', 'secDescrText', 'shaper', 'socketedItems', 'sockets',\n",
    "    'stashNote', 'support', 'synthesised', 'talismanTier', 'typeLine', 'utilityMods', 'veiled', \n",
    "    'verified', 'veiledMods',  'w', 'x', 'y', 'subCategory', 'category', 'maxStackSize', 'stackSize'],\n",
    "    inplace=True, errors='ignore')"
   ]
  }
 ],
 "metadata": {
  "kernelspec": {
   "display_name": "Python 3",
   "language": "python",
   "name": "python3"
  },
  "language_info": {
   "codemirror_mode": {
    "name": "ipython",
    "version": 3
   },
   "file_extension": ".py",
   "mimetype": "text/x-python",
   "name": "python",
   "nbconvert_exporter": "python",
   "pygments_lexer": "ipython3",
   "version": "3.7.5"
  }
 },
 "nbformat": 4,
 "nbformat_minor": 4
}
